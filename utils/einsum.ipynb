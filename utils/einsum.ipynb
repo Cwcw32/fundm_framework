{
 "cells": [
  {
   "cell_type": "code",
   "execution_count": 1,
   "metadata": {
    "collapsed": true
   },
   "outputs": [
    {
     "name": "stderr",
     "output_type": "stream",
     "text": [
      "C:\\Users\\lenovo\\.conda\\envs\\CLMLF\\lib\\site-packages\\numpy\\_distributor_init.py:32: UserWarning: loaded more than 1 DLL from .libs:\n",
      "C:\\Users\\lenovo\\.conda\\envs\\CLMLF\\lib\\site-packages\\numpy\\.libs\\libopenblas.QVLO2T66WEPI7JZ63PS3HMOHFEY472BC.gfortran-win_amd64.dll\n",
      "C:\\Users\\lenovo\\.conda\\envs\\CLMLF\\lib\\site-packages\\numpy\\.libs\\libopenblas.WCDJNK7YVMPZQ2ME2ZZHJJRJ3JIKNDB7.gfortran-win_amd64.dll\n",
      "  stacklevel=1)\n"
     ]
    }
   ],
   "source": [
    "import torch"
   ]
  },
  {
   "cell_type": "markdown",
   "source": [
    "<https://rockt.github.io/2018/04/30/einsum>"
   ],
   "metadata": {
    "collapsed": false,
    "pycharm": {
     "name": "#%% md\n"
    }
   }
  },
  {
   "cell_type": "markdown",
   "source": [
    "    def einsum(*args: Any) -> Tensor:\n",
    "    r\"\"\"einsum(equation, *operands) -> Tensor\n",
    "\n",
    "    Sums the product of the elements of the input :attr:`operands` along dimensions specified using a notation\n",
    "    based on the Einstein summation convention.\n",
    "\n",
    "    Einsum allows computing many common multi-dimensional linear algebraic array operations by representing them\n",
    "    in a short-hand format based on the Einstein summation convention, given by :attr:`equation`. The details of\n",
    "    this format are described below, but the general idea is to label every dimension of the input :attr:`operands`\n",
    "    with some subscript and define which subscripts are part of the output. The output is then computed by summing\n",
    "    the product of the elements of the :attr:`operands` along the dimensions whose subscripts are not part of the\n",
    "    output. For example, matrix multiplication can be computed using einsum as `torch.einsum(\"ij,jk->ik\", A, B)`.\n",
    "    Here, j is the summation subscript and i and k the output subscripts (see section below for more details on why).\n",
    "\n",
    "    Equation:\n",
    "\n",
    "        The :attr:`equation` string specifies the subscripts (letters in `[a-zA-Z]`) for each dimension of\n",
    "        the input :attr:`operands` in the same order as the dimensions, separating subcripts for each operand by a\n",
    "        comma (','), e.g. `'ij,jk'` specify subscripts for two 2D operands. The dimensions labeled with the same subscript\n",
    "        must be broadcastable, that is, their size must either match or be `1`. The exception is if a subscript is\n",
    "        repeated for the same input operand, in which case the dimensions labeled with this subscript for this operand\n",
    "        must match in size and the operand will be replaced by its diagonal along these dimensions. The subscripts that\n",
    "        appear exactly once in the :attr:`equation` will be part of the output, sorted in increasing alphabetical order.\n",
    "        The output is computed by multiplying the input :attr:`operands` element-wise, with their dimensions aligned based\n",
    "        on the subscripts, and then summing out the dimensions whose subscripts are not part of the output.\n",
    "\n",
    "        Optionally, the output subscripts can be explicitly defined by adding an arrow ('->') at the end of the equation\n",
    "        followed by the subscripts for the output. For instance, the following equation computes the transpose of a\n",
    "        matrix multiplication: 'ij,jk->ki'. The output subscripts must appear at least once for some input operand and\n",
    "        at most once for the output.\n",
    "\n",
    "        Ellipsis ('...') can be used in place of subscripts to broadcast the dimensions covered by the ellipsis.\n",
    "        Each input operand may contain at most one ellipsis which will cover the dimensions not covered by subscripts,\n",
    "        e.g. for an input operand with 5 dimensions, the ellipsis in the equation `'ab...c'` cover the third and fourth\n",
    "        dimensions. The ellipsis does not need to cover the same number of dimensions across the :attr:`operands` but the\n",
    "        'shape' of the ellipsis (the size of the dimensions covered by them) must broadcast together. If the output is not\n",
    "        explicitly defined with the arrow ('->') notation, the ellipsis will come first in the output (left-most dimensions),\n",
    "        before the subscript labels that appear exactly once for the input operands. e.g. the following equation implements\n",
    "        batch matrix multiplication `'...ij,...jk'`.\n",
    "\n",
    "        A few final notes: the equation may contain whitespaces between the different elements (subscripts, ellipsis,\n",
    "        arrow and comma) but something like `'. . .'` is not valid. An empty string `''` is valid for scalar operands.\n",
    "\n",
    "    .. note::\n",
    "\n",
    "        ``torch.einsum`` handles ellipsis ('...') differently from NumPy in that it allows dimensions\n",
    "        covered by the ellipsis to be summed over, that is, ellipsis are not required to be part of the output.\n",
    "\n",
    "    .. note::\n",
    "\n",
    "        This function does not optimize the given expression, so a different formula for the same computation may\n",
    "        run faster or consume less memory. Projects like opt_einsum (https://optimized-einsum.readthedocs.io/en/stable/)\n",
    "        can optimize the formula for you.\n",
    "\n",
    "    .. note::\n",
    "\n",
    "        As of PyTorch 1.10 :func:`torch.einsum` also supports the sublist format (see examples below). In this format,\n",
    "        subscripts for each operand are specified by sublists, list of integers in the range [0, 52). These sublists\n",
    "        follow their operands, and an extra sublist can appear at the end of the input to specify the output's\n",
    "        subscripts., e.g. `torch.einsum(op1, sublist1, op2, sublist2, ..., [subslist_out])`. Python's `Ellipsis` object\n",
    "        may be provided in a sublist to enable broadcasting as described in the Equation section above.\n",
    "\n",
    "    Args:\n",
    "        equation (str): The subscripts for the Einstein summation.\n",
    "        operands (List[Tensor]): The tensors to compute the Einstein summation of.\n",
    "\n",
    "    Examples::\n",
    "\n",
    "        >>> # trace\n",
    "        >>> # xdoctest: +IGNORE_WANT(\"non-deterministic\")\n",
    "        >>> torch.einsum('ii', torch.randn(4, 4))\n",
    "        tensor(-1.2104)\n",
    "\n",
    "        >>> # diagonal\n",
    "        >>> # xdoctest: +IGNORE_WANT(\"non-deterministic\")\n",
    "        >>> torch.einsum('ii->i', torch.randn(4, 4))\n",
    "        tensor([-0.1034,  0.7952, -0.2433,  0.4545])\n",
    "\n",
    "        >>> # outer product\n",
    "        >>> # xdoctest: +IGNORE_WANT(\"non-deterministic\")\n",
    "        >>> x = torch.randn(5)\n",
    "        >>> y = torch.randn(4)\n",
    "        >>> torch.einsum('i,j->ij', x, y)\n",
    "        tensor([[ 0.1156, -0.2897, -0.3918,  0.4963],\n",
    "                [-0.3744,  0.9381,  1.2685, -1.6070],\n",
    "                [ 0.7208, -1.8058, -2.4419,  3.0936],\n",
    "                [ 0.1713, -0.4291, -0.5802,  0.7350],\n",
    "                [ 0.5704, -1.4290, -1.9323,  2.4480]])\n",
    "\n",
    "        >>> # batch matrix multiplication\n",
    "        >>> # xdoctest: +IGNORE_WANT(\"non-deterministic\")\n",
    "        >>> As = torch.randn(3,2,5)\n",
    "        >>> Bs = torch.randn(3,5,4)\n",
    "        >>> torch.einsum('bij,bjk->bik', As, Bs)\n",
    "        tensor([[[-1.0564, -1.5904,  3.2023,  3.1271],\n",
    "                [-1.6706, -0.8097, -0.8025, -2.1183]],\n",
    "\n",
    "                [[ 4.2239,  0.3107, -0.5756, -0.2354],\n",
    "                [-1.4558, -0.3460,  1.5087, -0.8530]],\n",
    "\n",
    "                [[ 2.8153,  1.8787, -4.3839, -1.2112],\n",
    "                [ 0.3728, -2.1131,  0.0921,  0.8305]]])\n",
    "\n",
    "        >>> # with sublist format and ellipsis\n",
    "        >>> # xdoctest: +IGNORE_WANT(\"non-deterministic\")\n",
    "        >>> torch.einsum(As, [..., 0, 1], Bs, [..., 1, 2], [..., 0, 2])\n",
    "        tensor([[[-1.0564, -1.5904,  3.2023,  3.1271],\n",
    "                [-1.6706, -0.8097, -0.8025, -2.1183]],\n",
    "\n",
    "                [[ 4.2239,  0.3107, -0.5756, -0.2354],\n",
    "                [-1.4558, -0.3460,  1.5087, -0.8530]],\n",
    "\n",
    "                [[ 2.8153,  1.8787, -4.3839, -1.2112],\n",
    "                [ 0.3728, -2.1131,  0.0921,  0.8305]]])\n",
    "\n",
    "        >>> # batch permute\n",
    "        >>> A = torch.randn(2, 3, 4, 5)\n",
    "        >>> torch.einsum('...ij->...ji', A).shape\n",
    "        torch.Size([2, 3, 5, 4])\n",
    "\n",
    "        >>> # equivalent to torch.nn.functional.bilinear\n",
    "        >>> A = torch.randn(3,5,4)\n",
    "        >>> l = torch.randn(2,5)\n",
    "        >>> r = torch.randn(2,4)\n",
    "        >>> torch.einsum('bn,anm,bm->ba', l, A, r)\n",
    "        tensor([[-0.3430, -5.2405,  0.4494],\n",
    "                [ 0.3311,  5.5201, -3.0356]])\n",
    "    \"\"\"\n",
    "    # This wrapper exists to support variadic args.\n",
    "    if len(args) < 2:\n",
    "        raise ValueError('einsum(): must specify the equation string and at least one operand, '\n",
    "                         'or at least one operand and its subscripts list')\n",
    "\n",
    "    equation = None\n",
    "    operands = None\n",
    "\n",
    "    if isinstance(args[0], torch.Tensor):\n",
    "        # Convert the subscript list format which is an interleaving of operand and its subscripts\n",
    "        # list with an optional output subscripts list at the end (see documentation for more details on this)\n",
    "        # to the equation string format by creating the equation string from the subscripts list and grouping the\n",
    "        # input operands into a tensorlist (List[Tensor]).\n",
    "        def parse_subscript(n: int) -> str:\n",
    "            if n == Ellipsis:\n",
    "                return '...'\n",
    "            if n >= 0 and n < 26:\n",
    "                return chr(ord('A') + n)\n",
    "            if n >= 26 and n < 52:\n",
    "                return chr(ord('a') + n - 26)\n",
    "            raise ValueError('einsum(): subscript in subscript list is not within the valid range [0, 52)')\n",
    "\n",
    "        # Parse subscripts for input operands\n",
    "        equation = ','.join(''.join(parse_subscript(s) for s in l) for l in args[1::2])\n",
    "\n",
    "        # Parse optional output subscripts (provided when the number of arguments is odd)\n",
    "        if len(args) % 2 == 1:\n",
    "            equation += '->' + ''.join(parse_subscript(s) for s in args[-1])\n",
    "            operands = args[:-1:2]\n",
    "        else:\n",
    "            operands = args[::2]\n",
    "    else:\n",
    "        equation = args[0]\n",
    "        operands = args[1:]\n",
    "\n",
    "    if has_torch_function(operands):\n",
    "        return handle_torch_function(einsum, operands, equation, *operands)\n",
    "\n",
    "    if len(operands) == 1 and isinstance(operands[0], (list, tuple)):\n",
    "        # the old interface of passing the operands as one list argument\n",
    "        _operands = operands[0]\n",
    "        # recurse incase operands contains value that has torch function\n",
    "        # in the original implementation this line is omitted\n",
    "        return einsum(equation, *_operands)\n",
    "\n",
    "    return _VF.einsum(equation, operands)  # type: ignore[attr-defined]\"\"\""
   ],
   "metadata": {
    "collapsed": false,
    "pycharm": {
     "name": "#%% md\n"
    }
   }
  },
  {
   "cell_type": "code",
   "execution_count": 3,
   "outputs": [],
   "source": [
    "from IPython import  display\n"
   ],
   "metadata": {
    "collapsed": false,
    "pycharm": {
     "name": "#%%\n"
    }
   }
  },
  {
   "cell_type": "code",
   "execution_count": 5,
   "outputs": [
    {
     "data": {
      "image/png": "[encoded data removed]",
      "text/plain": "<IPython.core.display.Image object>"
     },
     "execution_count": 5,
     "metadata": {},
     "output_type": "execute_result"
    }
   ],
   "source": [
    "display.Image('../pics/einsum1.png')"
   ],
   "metadata": {
    "collapsed": false,
    "pycharm": {
     "name": "#%%\n"
    }
   }
  },
  {
   "cell_type": "markdown",
   "source": [
    "# ①矩阵转置"
   ],
   "metadata": {
    "collapsed": false,
    "pycharm": {
     "name": "#%% md\n"
    }
   }
  },
  {
   "cell_type": "code",
   "execution_count": 6,
   "outputs": [
    {
     "data": {
      "image/png": "[encoded data removed]",
      "text/plain": "<IPython.core.display.Image object>"
     },
     "execution_count": 6,
     "metadata": {},
     "output_type": "execute_result"
    }
   ],
   "source": [
    "display.Image('../pics/einsum2.png')"
   ],
   "metadata": {
    "collapsed": false,
    "pycharm": {
     "name": "#%%\n"
    }
   }
  },
  {
   "cell_type": "code",
   "execution_count": 11,
   "outputs": [],
   "source": [
    "\n",
    "a = torch.arange(6).reshape(2, 3)\n"
   ],
   "metadata": {
    "collapsed": false,
    "pycharm": {
     "name": "#%%\n"
    }
   }
  },
  {
   "cell_type": "code",
   "execution_count": 12,
   "outputs": [
    {
     "data": {
      "text/plain": "tensor([[0, 1, 2],\n        [3, 4, 5]])"
     },
     "execution_count": 12,
     "metadata": {},
     "output_type": "execute_result"
    }
   ],
   "source": [
    "a"
   ],
   "metadata": {
    "collapsed": false,
    "pycharm": {
     "name": "#%%\n"
    }
   }
  },
  {
   "cell_type": "code",
   "execution_count": 13,
   "outputs": [
    {
     "data": {
      "text/plain": "tensor([[0, 3],\n        [1, 4],\n        [2, 5]])"
     },
     "execution_count": 13,
     "metadata": {},
     "output_type": "execute_result"
    }
   ],
   "source": [
    "torch.einsum('ij->ji', [a])"
   ],
   "metadata": {
    "collapsed": false,
    "pycharm": {
     "name": "#%%\n"
    }
   }
  },
  {
   "cell_type": "markdown",
   "source": [
    "# ②求和"
   ],
   "metadata": {
    "collapsed": false,
    "pycharm": {
     "name": "#%% md\n"
    }
   }
  },
  {
   "cell_type": "code",
   "execution_count": 9,
   "outputs": [
    {
     "data": {
      "image/png": "[encoded data removed]",
      "text/plain": "<IPython.core.display.Image object>"
     },
     "execution_count": 9,
     "metadata": {},
     "output_type": "execute_result"
    }
   ],
   "source": [
    "display.Image('../pics/einsum3.png')"
   ],
   "metadata": {
    "collapsed": false,
    "pycharm": {
     "name": "#%%\n"
    }
   }
  },
  {
   "cell_type": "code",
   "execution_count": 10,
   "outputs": [
    {
     "data": {
      "text/plain": "tensor(15)"
     },
     "execution_count": 10,
     "metadata": {},
     "output_type": "execute_result"
    }
   ],
   "source": [
    "\n",
    "a = torch.arange(6).reshape(2, 3)\n",
    "torch.einsum('ij->', [a])"
   ],
   "metadata": {
    "collapsed": false,
    "pycharm": {
     "name": "#%%\n"
    }
   }
  },
  {
   "cell_type": "markdown",
   "source": [
    "# ③列求和"
   ],
   "metadata": {
    "collapsed": false,
    "pycharm": {
     "name": "#%% md\n"
    }
   }
  },
  {
   "cell_type": "code",
   "execution_count": 16,
   "outputs": [
    {
     "data": {
      "image/png": "[encoded data removed]",
      "text/plain": "<IPython.core.display.Image object>"
     },
     "execution_count": 16,
     "metadata": {},
     "output_type": "execute_result"
    }
   ],
   "source": [
    "display.Image('../pics/einsum4.png')"
   ],
   "metadata": {
    "collapsed": false,
    "pycharm": {
     "name": "#%%\n"
    }
   }
  },
  {
   "cell_type": "code",
   "execution_count": 14,
   "outputs": [
    {
     "data": {
      "text/plain": "tensor([3, 5, 7])"
     },
     "execution_count": 14,
     "metadata": {},
     "output_type": "execute_result"
    }
   ],
   "source": [
    "a = torch.arange(6).reshape(2, 3)\n",
    "torch.einsum('ij->j', [a])"
   ],
   "metadata": {
    "collapsed": false,
    "pycharm": {
     "name": "#%%\n"
    }
   }
  },
  {
   "cell_type": "markdown",
   "source": [
    "# ④行求和"
   ],
   "metadata": {
    "collapsed": false,
    "pycharm": {
     "name": "#%% md\n"
    }
   }
  },
  {
   "cell_type": "code",
   "execution_count": 17,
   "outputs": [
    {
     "data": {
      "image/png": "[encoded data removed]",
      "text/plain": "<IPython.core.display.Image object>"
     },
     "execution_count": 17,
     "metadata": {},
     "output_type": "execute_result"
    }
   ],
   "source": [
    "display.Image('../pics/einsum5.png')"
   ],
   "metadata": {
    "collapsed": false,
    "pycharm": {
     "name": "#%%\n"
    }
   }
  },
  {
   "cell_type": "code",
   "execution_count": 15,
   "outputs": [
    {
     "data": {
      "text/plain": "tensor([ 3, 12])"
     },
     "execution_count": 15,
     "metadata": {},
     "output_type": "execute_result"
    }
   ],
   "source": [
    "a = torch.arange(6).reshape(2, 3)\n",
    "torch.einsum('ij->i', [a])"
   ],
   "metadata": {
    "collapsed": false,
    "pycharm": {
     "name": "#%%\n"
    }
   }
  },
  {
   "cell_type": "markdown",
   "source": [
    "# ⑤矩阵-向量相乘"
   ],
   "metadata": {
    "collapsed": false,
    "pycharm": {
     "name": "#%% md\n"
    }
   }
  },
  {
   "cell_type": "code",
   "execution_count": 20,
   "outputs": [
    {
     "data": {
      "image/jpeg": "[encoded data removed]",
      "text/plain": "<IPython.core.display.Image object>"
     },
     "execution_count": 20,
     "metadata": {},
     "output_type": "execute_result"
    }
   ],
   "source": [
    "display.Image('../pics/einsum6.jpg')"
   ],
   "metadata": {
    "collapsed": false,
    "pycharm": {
     "name": "#%%\n"
    }
   }
  },
  {
   "cell_type": "code",
   "execution_count": 66,
   "outputs": [
    {
     "name": "stdout",
     "output_type": "stream",
     "text": [
      "tensor([[0, 1, 2],\n",
      "        [3, 4, 5]])\n",
      "tensor([0, 1, 2])\n",
      "tensor([ 5, 14])\n"
     ]
    }
   ],
   "source": [
    "a = torch.arange(6).reshape(2, 3)\n",
    "b = torch.arange(3)\n",
    "print(a)\n",
    "print(b)\n",
    "print(torch.einsum('ik,k->i', [a, b]))"
   ],
   "metadata": {
    "collapsed": false,
    "pycharm": {
     "name": "#%%\n"
    }
   }
  },
  {
   "cell_type": "markdown",
   "source": [
    "# ⑥矩阵-矩阵相乘"
   ],
   "metadata": {
    "collapsed": false,
    "pycharm": {
     "name": "#%% md\n"
    }
   }
  },
  {
   "cell_type": "code",
   "execution_count": 25,
   "outputs": [
    {
     "data": {
      "image/png": "[encoded data removed]",
      "text/plain": "<IPython.core.display.Image object>"
     },
     "execution_count": 25,
     "metadata": {},
     "output_type": "execute_result"
    }
   ],
   "source": [
    "display.Image('../pics/einsum7.png')"
   ],
   "metadata": {
    "collapsed": false,
    "pycharm": {
     "name": "#%%\n"
    }
   }
  },
  {
   "cell_type": "code",
   "execution_count": 68,
   "outputs": [
    {
     "name": "stdout",
     "output_type": "stream",
     "text": [
      "tensor([[0, 1, 2],\n",
      "        [3, 4, 5]])\n",
      "tensor([[ 0,  1,  2,  3,  4],\n",
      "        [ 5,  6,  7,  8,  9],\n",
      "        [10, 11, 12, 13, 14]])\n",
      "tensor([[ 25,  28,  31,  34,  37],\n",
      "        [ 70,  82,  94, 106, 118]])\n"
     ]
    }
   ],
   "source": [
    "a = torch.arange(6).reshape(2, 3)\n",
    "b = torch.arange(15).reshape(3, 5)\n",
    "print(a)\n",
    "print(b)\n",
    "print(torch.einsum('ik,kj->ij', [a, b]))"
   ],
   "metadata": {
    "collapsed": false,
    "pycharm": {
     "name": "#%%\n"
    }
   }
  },
  {
   "cell_type": "markdown",
   "source": [
    "# ⑦点积"
   ],
   "metadata": {
    "collapsed": false,
    "pycharm": {
     "name": "#%% md\n"
    }
   }
  },
  {
   "cell_type": "markdown",
   "source": [
    "## 7.1 向量"
   ],
   "metadata": {
    "collapsed": false,
    "pycharm": {
     "name": "#%% md\n"
    }
   }
  },
  {
   "cell_type": "code",
   "execution_count": 26,
   "outputs": [
    {
     "data": {
      "image/png": "[encoded data removed]",
      "text/plain": "<IPython.core.display.Image object>"
     },
     "execution_count": 26,
     "metadata": {},
     "output_type": "execute_result"
    }
   ],
   "source": [
    "display.Image('../pics/einsum8.png')"
   ],
   "metadata": {
    "collapsed": false,
    "pycharm": {
     "name": "#%%\n"
    }
   }
  },
  {
   "cell_type": "code",
   "execution_count": 31,
   "outputs": [
    {
     "name": "stdout",
     "output_type": "stream",
     "text": [
      "tensor([0, 1, 2])\n",
      "tensor([3, 4, 5])\n",
      "tensor(14)\n"
     ]
    }
   ],
   "source": [
    "a = torch.arange(3)\n",
    "b = torch.arange(3,6)  # [3, 4, 5]\n",
    "print(a)\n",
    "print(b)\n",
    "print(torch.einsum('i,i->', [a, b]))\n"
   ],
   "metadata": {
    "collapsed": false,
    "pycharm": {
     "name": "#%%\n"
    }
   }
  },
  {
   "cell_type": "markdown",
   "source": [
    "## 7.2 矩阵"
   ],
   "metadata": {
    "collapsed": false,
    "pycharm": {
     "name": "#%% md\n"
    }
   }
  },
  {
   "cell_type": "code",
   "execution_count": 28,
   "outputs": [
    {
     "data": {
      "image/jpeg": "[encoded data removed]",
      "text/plain": "<IPython.core.display.Image object>"
     },
     "execution_count": 28,
     "metadata": {},
     "output_type": "execute_result"
    }
   ],
   "source": [
    "display.Image('../pics/einsum9.jpg')"
   ],
   "metadata": {
    "collapsed": false,
    "pycharm": {
     "name": "#%%\n"
    }
   }
  },
  {
   "cell_type": "code",
   "execution_count": 30,
   "outputs": [
    {
     "name": "stdout",
     "output_type": "stream",
     "text": [
      "tensor([[0, 1, 2],\n",
      "        [3, 4, 5]])\n",
      "tensor([[ 6,  7,  8],\n",
      "        [ 9, 10, 11]])\n",
      "tensor(145)\n"
     ]
    }
   ],
   "source": [
    "a = torch.arange(6).reshape(2, 3)\n",
    "b = torch.arange(6,12).reshape(2, 3)\n",
    "print(a)\n",
    "print(b)\n",
    "print(torch.einsum('ij,ij->', [a, b]))"
   ],
   "metadata": {
    "collapsed": false,
    "pycharm": {
     "name": "#%%\n"
    }
   }
  },
  {
   "cell_type": "markdown",
   "source": [
    "# 8 哈达玛积"
   ],
   "metadata": {
    "collapsed": false,
    "pycharm": {
     "name": "#%% md\n"
    }
   }
  },
  {
   "cell_type": "code",
   "execution_count": 34,
   "outputs": [
    {
     "data": {
      "image/png": "[encoded data removed]",
      "text/plain": "<IPython.core.display.Image object>"
     },
     "execution_count": 34,
     "metadata": {},
     "output_type": "execute_result"
    }
   ],
   "source": [
    "display.Image('../pics/einsum10.png')"
   ],
   "metadata": {
    "collapsed": false,
    "pycharm": {
     "name": "#%%\n"
    }
   }
  },
  {
   "cell_type": "code",
   "execution_count": 35,
   "outputs": [
    {
     "name": "stdout",
     "output_type": "stream",
     "text": [
      "tensor([[0, 1, 2],\n",
      "        [3, 4, 5]])\n",
      "tensor([[ 6,  7,  8],\n",
      "        [ 9, 10, 11]])\n",
      "tensor([[ 0,  7, 16],\n",
      "        [27, 40, 55]])\n"
     ]
    }
   ],
   "source": [
    "a = torch.arange(6).reshape(2, 3)\n",
    "b = torch.arange(6,12).reshape(2, 3)\n",
    "print(a)\n",
    "print(b)\n",
    "print(torch.einsum('ij,ij->ij', [a, b]))"
   ],
   "metadata": {
    "collapsed": false,
    "pycharm": {
     "name": "#%%\n"
    }
   }
  },
  {
   "cell_type": "markdown",
   "source": [
    "# 9 外积"
   ],
   "metadata": {
    "collapsed": false,
    "pycharm": {
     "name": "#%% md\n"
    }
   }
  },
  {
   "cell_type": "code",
   "execution_count": 36,
   "outputs": [
    {
     "data": {
      "image/png": "[encoded data removed]",
      "text/plain": "<IPython.core.display.Image object>"
     },
     "execution_count": 36,
     "metadata": {},
     "output_type": "execute_result"
    }
   ],
   "source": [
    "display.Image('../pics/einsum11.png')"
   ],
   "metadata": {
    "collapsed": false,
    "pycharm": {
     "name": "#%%\n"
    }
   }
  },
  {
   "cell_type": "code",
   "execution_count": 37,
   "outputs": [
    {
     "name": "stdout",
     "output_type": "stream",
     "text": [
      "tensor([0, 1, 2])\n",
      "tensor([3, 4, 5, 6])\n",
      "tensor([[ 0,  0,  0,  0],\n",
      "        [ 3,  4,  5,  6],\n",
      "        [ 6,  8, 10, 12]])\n"
     ]
    }
   ],
   "source": [
    "a = torch.arange(3)\n",
    "b = torch.arange(3,7)\n",
    "print(a)\n",
    "print(b)\n",
    "print(torch.einsum('i,j->ij', [a, b]))"
   ],
   "metadata": {
    "collapsed": false,
    "pycharm": {
     "name": "#%%\n"
    }
   }
  },
  {
   "cell_type": "markdown",
   "source": [
    "# 10 batch 矩阵相乘"
   ],
   "metadata": {
    "collapsed": false,
    "pycharm": {
     "name": "#%% md\n"
    }
   }
  },
  {
   "cell_type": "code",
   "execution_count": 49,
   "outputs": [
    {
     "data": {
      "image/png": "[encoded data removed]",
      "text/plain": "<IPython.core.display.Image object>"
     },
     "execution_count": 49,
     "metadata": {},
     "output_type": "execute_result"
    }
   ],
   "source": [
    "display.Image('../pics/einsum12.png')"
   ],
   "metadata": {
    "collapsed": false,
    "pycharm": {
     "name": "#%%\n"
    }
   }
  },
  {
   "cell_type": "code",
   "execution_count": 38,
   "outputs": [
    {
     "name": "stdout",
     "output_type": "stream",
     "text": [
      "tensor([[[-0.3893, -1.0058, -0.3050, -1.0966,  0.2573],\n",
      "         [ 0.6342, -0.8082, -0.8771, -1.4761, -0.3026]],\n",
      "\n",
      "        [[-0.3648, -2.0905, -0.3684,  0.7615, -1.3246],\n",
      "         [-1.0841,  0.1812, -1.0301, -0.6354,  0.2040]],\n",
      "\n",
      "        [[-1.6224,  0.2425, -0.9524, -0.9169,  0.4245],\n",
      "         [ 0.5603, -1.8815, -0.0223, -0.3514,  0.9413]]])\n",
      "tensor([[[ 4.5106e-01,  4.0105e-01, -4.6618e-01],\n",
      "         [ 1.6047e+00,  1.8497e-01, -4.9918e-01],\n",
      "         [-8.0321e-01, -2.0852e-01, -3.1246e-01],\n",
      "         [-9.5133e-04, -5.5783e-01, -1.0354e+00],\n",
      "         [-1.6840e+00,  3.2051e-01, -6.2637e-01]],\n",
      "\n",
      "        [[-6.3542e-01,  3.8398e-01,  5.0550e-02],\n",
      "         [ 4.3139e-01,  1.0855e+00, -8.3650e-01],\n",
      "         [ 5.7628e-01,  5.9280e-01, -6.9917e-01],\n",
      "         [ 2.8836e-01, -1.3910e+00, -1.0689e-01],\n",
      "         [-1.7564e+00,  4.9156e-01, -9.7612e-01]],\n",
      "\n",
      "        [[-7.9964e-01, -8.8853e-01, -2.4241e+00],\n",
      "         [ 1.9068e+00, -3.7850e-01,  2.9515e-01],\n",
      "         [-3.6818e-01,  2.2811e-01,  8.7562e-02],\n",
      "         [-1.7896e-01, -1.5450e+00,  3.4465e-01],\n",
      "         [ 3.5474e-01,  7.5864e-02,  8.3988e-01]]])\n",
      "tensor([[[-1.9768,  0.4156,  1.7531],\n",
      "         [ 0.2045,  1.0142,  2.0998]],\n",
      "\n",
      "        [[ 1.6637, -4.3380,  3.1994],\n",
      "         [-0.3682,  0.1538,  0.3827]],\n",
      "\n",
      "        [[ 2.4250,  2.5814,  3.9616],\n",
      "         [-3.6306,  0.8236, -1.2459]]])\n"
     ]
    }
   ],
   "source": [
    "a = torch.randn(3,2,5)\n",
    "b = torch.randn(3,5,3)\n",
    "print(a)\n",
    "print(b)\n",
    "print(torch.einsum('ijk,ikl->ijl', [a, b]))"
   ],
   "metadata": {
    "collapsed": false,
    "pycharm": {
     "name": "#%%\n"
    }
   }
  },
  {
   "cell_type": "code",
   "execution_count": null,
   "outputs": [],
   "source": [
    "a = torch.randn(3,2,5)\n",
    "b = torch.randn(3,5,3)\n",
    "print(a)\n",
    "print(b)\n",
    "print(torch.einsum('ijk,ikl->ijl', [a, b]))"
   ],
   "metadata": {
    "collapsed": false,
    "pycharm": {
     "name": "#%%\n"
    }
   }
  },
  {
   "cell_type": "markdown",
   "source": [
    "# 11 张量缩约"
   ],
   "metadata": {
    "collapsed": false,
    "pycharm": {
     "name": "#%% md\n"
    }
   }
  },
  {
   "cell_type": "code",
   "execution_count": 43,
   "outputs": [
    {
     "data": {
      "image/png": "[encoded data removed]",
      "text/plain": "<IPython.core.display.Image object>"
     },
     "execution_count": 43,
     "metadata": {},
     "output_type": "execute_result"
    }
   ],
   "source": [
    "display.Image('../pics/einsum14.png')"
   ],
   "metadata": {
    "collapsed": false,
    "pycharm": {
     "name": "#%%\n"
    }
   }
  },
  {
   "cell_type": "code",
   "execution_count": 41,
   "outputs": [
    {
     "data": {
      "image/png": "[encoded data removed]",
      "text/plain": "<IPython.core.display.Image object>"
     },
     "execution_count": 41,
     "metadata": {},
     "output_type": "execute_result"
    }
   ],
   "source": [
    "display.Image('../pics/einsum13.png')"
   ],
   "metadata": {
    "collapsed": false,
    "pycharm": {
     "name": "#%%\n"
    }
   }
  },
  {
   "cell_type": "code",
   "execution_count": 42,
   "outputs": [
    {
     "data": {
      "text/plain": "torch.Size([2, 7, 11, 13, 17])"
     },
     "execution_count": 42,
     "metadata": {},
     "output_type": "execute_result"
    }
   ],
   "source": [
    "a = torch.randn(2,3,5,7)\n",
    "b = torch.randn(11,13,3,17,5)\n",
    "torch.einsum('pqrs,tuqvr->pstuv', [a, b]).shape"
   ],
   "metadata": {
    "collapsed": false,
    "pycharm": {
     "name": "#%%\n"
    }
   }
  },
  {
   "cell_type": "code",
   "execution_count": 45,
   "outputs": [
    {
     "name": "stdout",
     "output_type": "stream",
     "text": [
      "tensor([[[[ 0.6421,  0.4565, -2.0551,  0.1162, -0.6242, -0.1485,  1.2832],\n",
      "          [-0.4422, -1.4173,  0.3307, -1.2796, -0.1012, -1.2226,  0.1948],\n",
      "          [ 0.4517,  0.1373,  0.9047,  0.9802,  0.2548, -1.9257, -0.9506],\n",
      "          [ 0.3954,  0.0068,  0.5322, -0.1777, -0.8817,  0.0213, -0.0390],\n",
      "          [ 0.0867,  0.8263,  0.7061,  0.2466,  0.0153, -0.9952, -0.8611]],\n",
      "\n",
      "         [[ 0.6691, -0.3349,  2.5743,  0.2782,  0.4757, -1.4331,  1.2617],\n",
      "          [-1.7092,  0.7892,  0.7798, -0.0216, -0.5984,  1.0237, -0.6381],\n",
      "          [ 0.5736,  0.6505,  1.7964, -0.0209,  0.4963, -0.5103,  0.0720],\n",
      "          [-1.5848, -0.1643, -0.5345,  0.1780,  0.2279,  0.1893, -1.2414],\n",
      "          [-0.1133,  1.9038,  0.1913,  0.4345,  0.4755, -0.7076, -0.2481]],\n",
      "\n",
      "         [[ 0.5501,  0.5690,  0.2136,  0.6243, -0.1244, -0.7709,  1.2568],\n",
      "          [-0.5628, -1.9301,  0.5841, -0.6487, -0.7844,  0.1880, -0.4972],\n",
      "          [ 1.3721,  0.7937,  0.2973,  0.1994, -0.4044,  0.0830,  0.4897],\n",
      "          [ 0.1674,  1.5655, -0.7315, -1.1917,  0.0494, -0.0850, -0.9755],\n",
      "          [-0.1235,  1.9857, -0.2987, -1.8145,  0.9847, -0.1553,  0.5249]]],\n",
      "\n",
      "\n",
      "        [[[-1.2030,  0.8624,  1.1718, -1.5526,  0.5776, -0.4345, -0.5959],\n",
      "          [-0.2337,  0.8576,  1.0210, -0.1634,  0.1991, -0.5777,  0.2439],\n",
      "          [ 2.3556,  1.8943, -0.8045, -1.0884,  0.7602, -0.9181, -0.4443],\n",
      "          [-1.0789, -0.2515,  0.0544, -1.5038,  0.3504,  1.1695, -0.6563],\n",
      "          [ 0.3609, -0.2812,  0.3004, -0.7783, -0.0780, -1.6657, -0.0219]],\n",
      "\n",
      "         [[ 1.1380,  0.5580,  0.6549, -1.5662, -0.9617,  0.7307, -2.1422],\n",
      "          [-0.9562, -0.8662, -2.0899, -1.3555, -0.1039, -1.3005,  0.9879],\n",
      "          [ 0.9040, -1.5657,  1.0609, -1.1248, -0.3664, -0.0090,  0.1902],\n",
      "          [-0.2473,  0.8508, -0.4444,  1.0954,  1.5300,  1.8304,  0.1509],\n",
      "          [ 2.0138, -1.3981, -1.4351, -1.6875,  0.5255, -1.2634, -2.1563]],\n",
      "\n",
      "         [[-0.3280, -0.2552,  0.6191,  0.7938,  0.7732,  0.7868,  0.7923],\n",
      "          [ 0.8219, -0.7974, -1.9925,  0.1461,  0.1573,  0.9756, -0.9861],\n",
      "          [ 0.8616, -0.1069,  0.3898, -1.4561, -0.8777, -1.1434, -1.5677],\n",
      "          [ 0.2397,  0.4943, -0.0304, -0.3142,  0.8827,  0.6257, -0.6263],\n",
      "          [-0.2165,  0.4137,  0.9590, -0.2554,  0.7702,  0.1610,  1.4556]]]])\n",
      "tensor([[[[[ 4.7073e-01,  2.4087e+00, -1.1688e-01,  5.4739e-01,  2.3823e-01],\n",
      "           [-4.0337e-01, -2.3470e-03, -1.5160e-01,  1.7114e+00, -1.1315e+00],\n",
      "           [ 4.9791e-01, -2.4460e-01, -9.5944e-02, -5.5435e-01,  1.4533e+00],\n",
      "           ...,\n",
      "           [-1.2597e+00, -5.9176e-01,  6.4053e-01, -6.3339e-01,  1.6916e-02],\n",
      "           [-2.5419e-01, -6.4582e-01,  5.0735e-01,  2.5258e-01, -2.9254e-01],\n",
      "           [-1.1150e+00,  8.8479e-01,  2.1340e-01, -3.3628e-01,  9.3945e-02]],\n",
      "\n",
      "          [[-8.5584e-01, -2.3269e+00,  8.4975e-01, -1.7806e-01,  4.1536e-01],\n",
      "           [ 1.8846e+00,  6.9254e-01, -7.1228e-01,  1.2376e+00,  3.1283e-01],\n",
      "           [ 2.7860e-01, -4.5517e-02, -6.3280e-01,  1.1729e+00, -1.0676e+00],\n",
      "           ...,\n",
      "           [-7.6811e-01, -7.2346e-01,  3.3042e-01, -4.9441e-01, -6.9715e-01],\n",
      "           [-4.4283e-01, -4.5790e-02,  9.7433e-01, -6.1727e-01, -3.2356e-01],\n",
      "           [ 1.3749e-02,  7.7847e-01, -1.0045e+00, -3.7220e-01, -1.1038e+00]],\n",
      "\n",
      "          [[-8.8639e-01, -8.5662e-01, -4.3395e-02,  1.0302e+00, -1.7889e+00],\n",
      "           [ 9.3021e-01,  1.0381e+00,  2.1081e+00, -6.1585e-01, -6.2867e-01],\n",
      "           [ 9.5213e-01,  5.2396e-01, -4.6449e-01, -7.1175e-01,  1.9983e+00],\n",
      "           ...,\n",
      "           [-2.5572e-01, -2.6284e-01,  1.7581e-01, -1.9898e+00,  1.0452e+00],\n",
      "           [ 4.2877e-01, -9.4105e-01,  7.2723e-01,  1.0643e+00, -6.1725e-01],\n",
      "           [ 2.4406e-01,  4.4305e-01,  4.0772e-01,  6.0787e-01,  3.5705e-01]]],\n",
      "\n",
      "\n",
      "         [[[-1.0682e-01, -7.2272e-02,  5.3995e-01, -4.3698e-01, -1.0443e+00],\n",
      "           [-4.5180e-01,  5.7774e-01,  6.3864e-01, -9.1828e-01,  1.0704e-01],\n",
      "           [-9.3405e-01,  7.3015e-01,  5.6250e-01, -2.0073e+00, -3.6855e-01],\n",
      "           ...,\n",
      "           [-3.5262e-01,  1.1163e+00,  9.0393e-01,  2.7875e-01,  2.1135e+00],\n",
      "           [ 1.2014e+00,  8.2960e-01, -3.3288e-01,  2.0000e+00,  5.9002e-01],\n",
      "           [-7.5947e-01,  1.5813e-01, -9.2602e-01, -7.4042e-01, -7.3412e-01]],\n",
      "\n",
      "          [[-1.8948e-01, -7.9357e-01, -4.5310e-01,  6.0460e-01, -8.3702e-01],\n",
      "           [-3.1771e-01,  2.3806e+00,  2.1040e-01,  1.4877e+00, -1.1114e+00],\n",
      "           [-2.1915e-01, -1.1450e+00,  5.7325e-01, -1.3950e+00,  2.0158e+00],\n",
      "           ...,\n",
      "           [-2.6302e-01, -7.8788e-01, -1.4482e+00,  1.8081e+00,  1.0569e+00],\n",
      "           [ 9.2625e-01, -6.2918e-01,  5.2773e-02,  7.8293e-01,  1.1729e+00],\n",
      "           [-1.4864e-01, -2.4501e+00,  3.7587e-01, -8.4460e-01, -1.1975e+00]],\n",
      "\n",
      "          [[-2.3827e+00,  1.4152e-02,  3.7487e-01, -7.2048e-01, -9.7735e-01],\n",
      "           [ 9.6632e-01,  8.4890e-01,  5.3095e-01, -1.3688e+00, -1.1744e+00],\n",
      "           [-1.4585e+00, -1.0113e+00,  2.4086e+00, -5.4404e-01, -1.1765e+00],\n",
      "           ...,\n",
      "           [-1.0609e+00, -1.0450e+00, -1.3357e+00, -7.7692e-01, -1.8405e+00],\n",
      "           [ 4.0047e-01, -1.3923e+00, -2.7128e-01,  5.8605e-02,  6.8739e-01],\n",
      "           [-1.0829e+00,  1.0368e+00, -1.4315e+00, -4.8969e-01, -7.8217e-01]]],\n",
      "\n",
      "\n",
      "         [[[-1.1738e-02,  7.2721e-01,  1.6625e+00,  1.0167e+00,  5.7527e-01],\n",
      "           [ 1.8488e+00, -3.4130e-02, -2.5031e-01, -1.9146e-02,  2.5908e+00],\n",
      "           [ 1.0170e+00,  1.1949e+00,  4.8041e-02, -3.0362e-01, -9.4942e-02],\n",
      "           ...,\n",
      "           [-2.4084e-01,  1.3437e+00,  5.3215e-02,  1.8166e+00,  3.5065e-02],\n",
      "           [-7.2597e-01, -6.9905e-01, -1.0327e-01,  3.2488e-02, -4.3208e-01],\n",
      "           [ 5.0476e-01, -5.9372e-01,  3.7962e-01,  6.8183e-01, -7.6208e-01]],\n",
      "\n",
      "          [[-2.5495e-01,  1.0798e+00, -6.0192e-01, -3.2684e-01,  9.8306e-01],\n",
      "           [ 5.4716e-01, -7.7239e-01,  7.8867e-01,  2.3135e+00, -6.6144e-01],\n",
      "           [ 3.7196e-01, -1.7603e+00,  4.4102e-01,  5.3443e-01, -1.0830e+00],\n",
      "           ...,\n",
      "           [ 3.2229e-02, -2.7416e-01,  1.7869e-01,  1.7702e+00, -6.5764e-01],\n",
      "           [ 2.8819e-01,  1.4664e+00, -7.2216e-01, -1.2638e+00,  2.2747e+00],\n",
      "           [ 4.0594e-01,  1.1402e+00, -7.0493e-01, -8.5066e-01,  2.0593e-01]],\n",
      "\n",
      "          [[ 7.7764e-01, -2.2969e+00,  2.2230e+00,  9.0369e-02,  1.9388e-01],\n",
      "           [ 7.1001e-01, -5.9065e-01,  3.7999e-01,  1.0835e+00, -2.8646e+00],\n",
      "           [-7.7459e-01, -2.5985e-01, -1.0240e+00,  1.1667e+00, -3.6049e-01],\n",
      "           ...,\n",
      "           [ 1.7038e-01,  1.1178e+00,  1.1967e+00,  4.7674e-01,  1.2529e+00],\n",
      "           [-1.2092e+00,  5.0796e-01, -2.8219e-01,  2.2002e+00, -8.8434e-01],\n",
      "           [ 4.4627e-01,  2.8193e+00,  2.7945e-01,  5.5126e-01,  4.5216e-01]]],\n",
      "\n",
      "\n",
      "         ...,\n",
      "\n",
      "\n",
      "         [[[-8.6907e-01,  1.1878e+00,  1.6942e+00,  4.1456e-02, -1.4954e-01],\n",
      "           [-3.8401e-01, -1.1476e+00, -3.0512e-01, -1.1623e+00, -1.7755e+00],\n",
      "           [-1.1609e-01,  1.2219e+00, -1.0837e+00, -1.2557e+00, -4.0714e-01],\n",
      "           ...,\n",
      "           [-2.4448e+00,  2.0137e+00, -1.3896e-01,  1.9097e+00,  1.0835e-01],\n",
      "           [ 1.8916e-01,  2.0992e+00, -1.1411e+00, -1.9438e-01,  1.0278e+00],\n",
      "           [-5.1854e-01, -9.0334e-01, -3.9383e-01,  5.0806e-01, -2.1952e-01]],\n",
      "\n",
      "          [[ 1.1615e+00, -1.4905e+00, -2.3512e-01,  3.0686e-01,  9.8366e-01],\n",
      "           [-1.4425e+00,  6.5951e-01, -5.8543e-02,  1.1268e+00,  1.8108e+00],\n",
      "           [-1.5563e+00,  6.3962e-01,  7.3730e-01,  1.2313e+00, -1.3584e+00],\n",
      "           ...,\n",
      "           [ 9.3553e-01,  9.2314e-01, -4.1926e-01, -6.6064e-01,  9.9962e-01],\n",
      "           [ 7.1051e-01,  1.2365e+00,  9.2198e-01, -1.7102e-01, -5.7158e-01],\n",
      "           [ 3.3687e-01, -6.0914e-01, -5.8260e-01, -1.5081e-01, -1.1851e+00]],\n",
      "\n",
      "          [[ 4.2844e-01,  4.2367e-02,  6.4305e-01,  8.7585e-01, -8.0713e-01],\n",
      "           [ 7.3804e-01, -1.2563e+00, -2.6752e+00, -1.2716e-01, -1.1692e+00],\n",
      "           [ 2.6506e-01,  3.5084e-01,  8.3838e-01,  4.9943e-01,  3.1514e+00],\n",
      "           ...,\n",
      "           [ 7.9625e-01,  7.4297e-01,  1.4213e+00, -1.1160e+00,  2.8332e-01],\n",
      "           [ 1.0918e+00,  1.9412e-01,  3.9227e-01, -1.8584e+00,  8.3691e-01],\n",
      "           [-8.9853e-02,  2.1029e+00, -8.1849e-02, -5.1565e-01, -6.7139e-01]]],\n",
      "\n",
      "\n",
      "         [[[-8.0229e-01, -8.0142e-01,  4.4429e-01, -9.9778e-01,  2.2627e+00],\n",
      "           [ 2.4138e+00, -7.6587e-01,  2.6733e-01,  2.1538e-01,  1.9734e+00],\n",
      "           [-1.8394e+00, -5.3512e-01, -6.9832e-01,  3.4602e-01, -1.7327e+00],\n",
      "           ...,\n",
      "           [ 1.9241e-01,  1.1952e+00,  5.8526e-01, -7.0902e-01,  1.4026e+00],\n",
      "           [ 5.2546e-01, -3.3313e-01,  2.1827e-01, -3.7557e-01,  2.9875e-01],\n",
      "           [-1.0945e-01,  1.7806e+00,  2.1297e+00,  1.7725e+00, -1.4119e+00]],\n",
      "\n",
      "          [[-2.0316e+00,  3.3355e-02, -9.7664e-01, -8.9709e-01, -2.3375e+00],\n",
      "           [-2.3775e+00,  1.4099e-01,  1.2907e-02,  2.0541e-01,  4.7219e-02],\n",
      "           [-3.2109e-01,  2.8488e-01,  7.6672e-01,  4.1828e-02,  1.0102e+00],\n",
      "           ...,\n",
      "           [-1.5617e+00,  6.7911e-01,  1.2705e+00,  8.9526e-01,  9.4103e-01],\n",
      "           [-7.2369e-01,  1.6589e+00,  3.8844e-01, -1.4858e+00, -4.3361e-02],\n",
      "           [ 1.2252e+00, -1.5293e+00, -1.4762e+00,  1.6330e+00,  3.5245e-01]],\n",
      "\n",
      "          [[ 1.2854e+00,  5.8402e-01, -1.1101e+00,  3.2046e-01,  1.3905e-01],\n",
      "           [-1.2005e+00, -5.8845e-01,  1.3570e+00, -8.0424e-01, -2.7306e-01],\n",
      "           [ 5.0100e-01, -8.6117e-01, -7.9240e-01, -2.5448e-01,  5.9646e-01],\n",
      "           ...,\n",
      "           [-3.7323e-01, -1.1133e+00,  5.8958e-01,  1.0933e+00, -1.6944e+00],\n",
      "           [ 8.1292e-01,  4.5351e-01,  7.7103e-01, -5.4374e-01, -1.6163e-01],\n",
      "           [ 4.3778e-01,  4.3276e-02, -3.0659e-01, -1.0717e+00,  1.1020e+00]]],\n",
      "\n",
      "\n",
      "         [[[ 4.0004e-01, -6.8677e-01, -4.1779e-01,  1.8035e-01, -9.7199e-01],\n",
      "           [-1.3144e-01, -1.3834e+00,  1.3506e-01, -1.1012e+00, -3.7386e-01],\n",
      "           [ 2.5971e-01,  3.3473e-01,  2.3888e+00,  2.6251e+00, -1.1126e+00],\n",
      "           ...,\n",
      "           [ 9.5964e-01, -1.5338e+00,  6.3105e-01, -6.4770e-02,  1.7486e+00],\n",
      "           [-5.4250e-01, -2.4047e+00,  1.6062e-01,  9.6160e-01, -1.2119e+00],\n",
      "           [ 3.3975e-01, -5.8817e-01, -1.3925e+00,  6.8213e-01,  2.3120e-01]],\n",
      "\n",
      "          [[-5.7779e-01, -2.8935e-01, -2.8014e-01,  4.5832e-01, -7.3629e-01],\n",
      "           [-1.1156e+00,  1.8246e+00,  4.7351e-02,  1.4327e-02, -2.1528e-01],\n",
      "           [-7.5067e-01, -1.5254e+00, -1.0175e-01,  9.3606e-01,  1.4849e+00],\n",
      "           ...,\n",
      "           [ 1.3047e+00, -7.3113e-01, -9.6091e-01,  6.0517e-01,  6.2639e-01],\n",
      "           [-9.8794e-01,  3.2168e-01,  8.0678e-01,  1.7701e+00,  7.9633e-01],\n",
      "           [-9.7486e-01,  9.2124e-01, -7.7482e-01,  1.1587e+00,  1.4450e-01]],\n",
      "\n",
      "          [[-1.2885e+00, -1.2159e+00, -7.6730e-02, -7.4552e-01, -1.8257e-01],\n",
      "           [ 6.3142e-02, -6.8915e-01, -1.6152e+00, -9.0100e-01, -5.3881e-01],\n",
      "           [ 6.6448e-01, -1.9995e-01,  3.6289e-01, -1.1586e-01, -1.1311e+00],\n",
      "           ...,\n",
      "           [ 5.2201e-01, -2.7095e-01,  1.6172e-01, -9.6787e-01,  8.5228e-01],\n",
      "           [-2.9630e-01,  2.6004e-01,  1.2146e+00, -4.6276e-01, -6.8542e-01],\n",
      "           [-1.1118e+00,  1.3196e-01,  1.2356e+00,  1.8474e+00, -6.1267e-01]]]],\n",
      "\n",
      "\n",
      "\n",
      "        [[[[-5.5550e-02,  8.8059e-01,  1.0881e+00, -9.7570e-01, -2.6206e-01],\n",
      "           [ 9.3238e-02, -2.3189e-01, -1.3913e+00,  2.9896e-01, -6.4388e-01],\n",
      "           [-5.8781e-01, -1.2394e-01, -1.0194e+00,  1.3814e-01, -2.3049e-01],\n",
      "           ...,\n",
      "           [ 9.7907e-01, -7.2372e-01, -2.6354e-01,  1.1542e+00,  6.8320e-01],\n",
      "           [-1.2794e+00,  8.3780e-01, -1.3264e+00,  1.5143e+00, -6.2723e-01],\n",
      "           [ 8.4429e-01, -5.8680e-01,  1.9057e+00,  3.1036e-01,  1.2770e+00]],\n",
      "\n",
      "          [[-1.3070e-01, -1.6973e+00,  1.3837e-01, -1.9596e-01, -7.1898e-01],\n",
      "           [-4.1336e-02, -9.2814e-02, -3.5479e-01,  6.6854e-01,  1.2286e+00],\n",
      "           [ 1.4494e+00, -1.1409e+00,  1.6572e+00,  6.7651e-03, -4.6930e-01],\n",
      "           ...,\n",
      "           [ 2.3398e-01, -1.0112e+00,  8.5941e-01, -8.9465e-01, -6.8681e-01],\n",
      "           [ 8.9837e-01, -2.9509e-01,  8.8999e-01, -1.8492e+00, -3.3145e+00],\n",
      "           [-6.1272e-01,  1.0260e+00, -5.2191e-01,  2.1702e+00, -5.9227e-01]],\n",
      "\n",
      "          [[ 3.6891e-02, -2.8427e-01,  1.2563e+00, -5.0987e-01, -1.0372e+00],\n",
      "           [ 8.5984e-01,  4.9490e-01, -9.2054e-01, -2.6667e-01, -3.1641e-01],\n",
      "           [-7.8336e-01,  2.9125e-01, -2.1546e-01, -1.0867e+00, -1.6971e-02],\n",
      "           ...,\n",
      "           [-9.3203e-01,  2.8955e-01, -1.5060e+00, -1.0057e+00, -4.2602e-02],\n",
      "           [ 1.3616e+00,  3.2485e-01, -2.2092e+00, -5.2991e-02, -9.2038e-01],\n",
      "           [-9.5151e-01, -1.4845e+00, -1.0353e-01, -1.1677e+00,  2.2051e+00]]],\n",
      "\n",
      "\n",
      "         [[[ 9.9654e-01, -1.8570e-01, -9.9417e-01,  7.5815e-02, -7.4496e-01],\n",
      "           [-1.2391e+00,  2.5043e-01,  1.8679e+00, -1.5341e+00,  6.3153e-01],\n",
      "           [-1.6120e+00, -1.1653e+00, -1.1876e+00,  1.4302e-01, -3.2855e-01],\n",
      "           ...,\n",
      "           [ 1.3879e+00,  1.2907e-01,  8.9699e-01,  1.3524e+00, -9.3572e-01],\n",
      "           [ 4.7736e-01, -1.8428e+00, -4.9081e-02,  1.0099e+00,  5.8415e-03],\n",
      "           [-9.8516e-01,  5.8530e-01,  9.0641e-01,  4.3078e-01,  5.7342e-01]],\n",
      "\n",
      "          [[-6.2481e-02, -1.6008e-01, -3.6078e-01,  1.0872e+00, -5.6095e-01],\n",
      "           [ 1.4259e+00, -2.4254e+00,  1.6809e+00,  9.8180e-01, -6.8186e-02],\n",
      "           [ 6.9834e-01, -1.4133e+00, -1.1751e+00,  9.2238e-01,  2.4517e-01],\n",
      "           ...,\n",
      "           [-8.6474e-01, -5.3435e-01,  9.1269e-01,  5.3196e-01, -8.7047e-02],\n",
      "           [-9.9909e-01,  8.5980e-03,  2.2499e+00, -4.3161e-01, -1.2820e-01],\n",
      "           [ 6.3603e-01,  7.2264e-01, -1.3690e+00, -5.7898e-01,  3.5329e-01]],\n",
      "\n",
      "          [[-1.3393e+00,  6.9851e-01,  7.3775e-01,  1.9708e-01,  3.6963e-01],\n",
      "           [ 8.1606e-01,  3.9478e-01,  8.8752e-01, -5.5354e-01,  6.0483e-01],\n",
      "           [ 5.1582e-01,  9.3457e-01, -7.3928e-01, -1.6320e-01,  9.0767e-02],\n",
      "           ...,\n",
      "           [-1.7259e-01,  1.7013e+00,  7.2850e-01,  3.6440e-01, -1.3017e-01],\n",
      "           [-9.9650e-02, -1.2572e+00, -3.2275e-01,  5.5591e-01, -5.2006e-01],\n",
      "           [-4.6682e-01,  1.3678e+00, -2.2060e-01, -7.5678e-01,  2.0751e-01]]],\n",
      "\n",
      "\n",
      "         [[[-1.0821e+00, -4.3559e-01, -2.5643e-01,  1.0577e+00,  8.4397e-01],\n",
      "           [ 2.3405e-01, -2.5599e-01,  3.4412e-01, -1.2072e+00,  1.0816e+00],\n",
      "           [ 3.3854e-01,  2.8855e+00,  6.9831e-01, -1.0396e+00, -4.7739e-01],\n",
      "           ...,\n",
      "           [ 1.5337e-01,  1.0645e+00, -3.7490e-01, -6.9279e-01, -7.1113e-01],\n",
      "           [-9.3387e-01,  4.8869e-01, -1.7116e+00,  2.3149e-01,  1.9331e+00],\n",
      "           [-8.0812e-01, -5.9568e-01,  2.1914e+00, -2.2680e+00,  1.5878e+00]],\n",
      "\n",
      "          [[-7.3084e-01,  7.9404e-02,  1.6511e+00,  9.3743e-01, -1.6128e+00],\n",
      "           [ 8.8094e-02,  8.5060e-01,  8.8884e-01,  1.2519e+00, -7.4008e-01],\n",
      "           [ 4.9600e-01, -1.2838e+00,  9.1791e-02,  8.2527e-01, -3.7072e-01],\n",
      "           ...,\n",
      "           [ 1.2874e+00, -1.6539e+00, -2.5026e-02,  3.0136e-01, -5.7953e-01],\n",
      "           [-1.0791e+00, -1.0693e+00, -3.1442e-01, -5.9845e-01, -1.0951e-02],\n",
      "           [ 1.7525e+00, -2.1429e-01, -2.6210e-01, -3.2152e-01,  2.5765e-01]],\n",
      "\n",
      "          [[ 1.3632e+00,  8.5709e-01, -1.2507e+00, -2.8924e-01,  2.7905e+00],\n",
      "           [-1.0712e-01,  6.1811e-01,  3.1512e-01, -4.7493e-01, -1.5111e+00],\n",
      "           [-1.0554e-01,  9.4913e-01,  1.3433e-01, -1.4145e+00, -1.5120e-01],\n",
      "           ...,\n",
      "           [ 1.8273e+00,  1.8230e+00, -4.3963e-01,  8.3377e-01, -9.5424e-01],\n",
      "           [ 3.3764e-01, -2.8869e-01,  5.5591e-01,  2.6176e-01,  4.9609e-01],\n",
      "           [ 1.4192e+00, -4.5767e-01, -1.5599e+00,  1.4888e+00,  1.6333e+00]]],\n",
      "\n",
      "\n",
      "         ...,\n",
      "\n",
      "\n",
      "         [[[-1.1188e+00,  7.4614e-01,  8.9840e-01, -1.6164e-01,  1.9302e+00],\n",
      "           [-8.8461e-01,  1.8994e+00,  7.4361e-01, -4.4642e-01,  8.2576e-01],\n",
      "           [ 1.8778e+00, -1.1037e+00, -1.0234e-01, -1.5363e+00, -1.2583e+00],\n",
      "           ...,\n",
      "           [-6.0335e-01, -4.9361e-01,  8.9064e-02,  1.3899e+00,  1.4756e+00],\n",
      "           [ 1.1016e+00,  1.1232e+00,  1.4498e+00, -1.3880e-01,  5.6751e-01],\n",
      "           [ 9.2712e-01,  1.3165e-01, -3.4725e-01,  1.8052e+00,  1.9356e+00]],\n",
      "\n",
      "          [[-1.8147e+00, -9.0411e-01,  7.0144e-01,  3.0891e-01, -2.1904e-01],\n",
      "           [-2.2231e+00,  1.0950e-01, -1.9139e+00, -3.4621e-01, -2.0281e-01],\n",
      "           [-1.0114e+00, -8.1147e-01, -3.1497e-01,  2.0429e-01, -1.3481e+00],\n",
      "           ...,\n",
      "           [-2.8457e-01,  4.9437e-01,  1.0087e+00,  7.8309e-02, -9.2541e-01],\n",
      "           [-6.5929e-01,  1.0587e-01,  4.2498e-01, -1.2207e+00,  5.6178e-01],\n",
      "           [ 3.1361e-01,  2.7440e+00, -3.3065e-01,  2.1155e+00,  1.4824e+00]],\n",
      "\n",
      "          [[-1.2816e+00, -6.4029e-01,  7.8685e-01,  5.4121e-01,  9.5579e-01],\n",
      "           [-2.7166e-01,  2.1503e-01, -1.8343e-01,  2.2613e-01, -1.3376e-02],\n",
      "           [-5.9033e-01,  1.6406e-01, -2.1035e-01, -1.0903e+00,  1.0153e+00],\n",
      "           ...,\n",
      "           [ 1.1767e+00,  5.8079e-01, -1.2692e+00, -1.3377e+00,  2.4439e-01],\n",
      "           [ 1.3436e+00, -5.2406e-01, -7.4926e-01, -1.7632e+00, -5.6892e-01],\n",
      "           [-8.8547e-01,  1.1224e+00,  3.0178e-01, -8.4925e-01, -4.6250e-01]]],\n",
      "\n",
      "\n",
      "         [[[ 8.4572e-01,  1.6294e-01, -1.6656e+00,  1.2868e-01,  2.9659e-01],\n",
      "           [-1.2338e+00,  1.8999e+00, -1.1521e+00, -2.9934e-01,  1.6736e+00],\n",
      "           [-3.0526e-01, -7.4125e-01,  3.5707e+00, -1.0690e+00,  8.5402e-01],\n",
      "           ...,\n",
      "           [ 1.7382e+00, -8.4076e-02, -7.2898e-01,  1.5592e-01, -4.0962e-01],\n",
      "           [-7.1936e-01, -1.2609e+00, -1.6986e+00,  1.0628e+00,  2.1425e-01],\n",
      "           [ 5.6558e-01, -2.1270e+00, -1.0046e+00,  4.1740e-01, -9.8702e-01]],\n",
      "\n",
      "          [[-4.0636e-01,  3.7879e-01,  9.9839e-01,  7.6830e-02, -5.0810e-01],\n",
      "           [ 3.4541e-01,  2.9899e-01,  1.3737e+00,  2.2491e-01, -2.8233e-01],\n",
      "           [ 9.8707e-01,  3.2259e-01, -2.2649e-02, -3.1448e-01, -4.1353e-01],\n",
      "           ...,\n",
      "           [ 2.5919e+00, -8.0484e-01,  5.1346e-01,  1.9654e+00, -1.7532e+00],\n",
      "           [-1.4007e+00, -1.3263e+00,  6.2263e-01,  6.4982e-01,  9.4967e-01],\n",
      "           [-7.0626e-01,  4.6216e-01, -3.5521e-01,  2.0648e-01,  3.3599e-01]],\n",
      "\n",
      "          [[-8.1454e-01,  2.7511e-01,  1.2547e-01,  2.3797e+00,  2.6353e-01],\n",
      "           [ 1.0795e-01,  5.3956e-01,  1.5479e+00,  9.2599e-01,  1.9530e-01],\n",
      "           [-5.1217e-02,  1.7709e+00,  4.3916e-01, -7.6855e-01,  2.1237e+00],\n",
      "           ...,\n",
      "           [-7.8341e-01, -8.1167e-01, -3.2322e-02, -7.7708e-01, -6.2388e-01],\n",
      "           [-4.8039e-01,  4.4185e-01,  1.1323e-01, -1.3529e+00,  6.4463e-01],\n",
      "           [ 1.5891e-01,  8.5373e-01,  5.0870e-01,  3.3805e+00, -8.9303e-01]]],\n",
      "\n",
      "\n",
      "         [[[ 4.4864e-01,  2.0790e-01,  8.1031e-01,  9.8747e-01, -1.6987e-01],\n",
      "           [ 3.4050e-01,  7.7097e-01,  1.0366e+00, -1.1286e+00,  3.6853e-01],\n",
      "           [ 1.6865e+00,  1.0877e+00,  1.1561e+00, -1.0098e+00,  5.1365e-01],\n",
      "           ...,\n",
      "           [-1.3780e+00,  3.4177e-01, -1.5867e-01, -3.0550e-01,  1.9540e+00],\n",
      "           [-7.8676e-03,  1.1446e+00,  3.4131e-01, -5.0105e-01, -2.0559e+00],\n",
      "           [-2.0415e-01, -4.5928e-01, -9.2295e-01,  2.9794e-02, -8.4456e-01]],\n",
      "\n",
      "          [[-1.1316e+00,  3.7489e-02,  2.3776e-01,  4.9161e-02, -2.3215e+00],\n",
      "           [-1.8987e-01, -2.6391e+00, -3.4153e-01, -1.5406e-01,  1.7800e+00],\n",
      "           [-3.9038e-01,  1.7732e-01,  2.5610e-01,  4.5914e-01, -1.7392e+00],\n",
      "           ...,\n",
      "           [-2.7315e-01,  2.3676e+00,  8.2959e-01,  1.1287e+00,  2.2868e+00],\n",
      "           [-1.6155e+00,  1.3084e+00, -1.6463e+00,  1.4152e-01,  4.5889e-01],\n",
      "           [ 6.4728e-01,  1.8841e-01, -1.5686e+00, -8.0864e-01,  1.0112e+00]],\n",
      "\n",
      "          [[-5.0541e-01, -4.9494e-01, -1.6621e+00, -1.5191e-01, -1.7163e-01],\n",
      "           [-7.7909e-01, -6.3764e-01, -8.1599e-01,  1.1354e+00,  1.1507e+00],\n",
      "           [-3.8877e-01, -1.8222e+00,  4.3233e-01,  1.0444e-01, -5.7224e-01],\n",
      "           ...,\n",
      "           [ 7.3623e-01,  9.1473e-01,  3.7366e-01,  2.2949e-01,  1.9677e-01],\n",
      "           [-1.5088e+00, -1.6021e+00,  3.7181e-01,  5.7308e-01, -1.2299e+00],\n",
      "           [-1.1588e+00, -5.4616e-01,  1.2679e+00,  1.9763e+00,  1.3014e+00]]]],\n",
      "\n",
      "\n",
      "\n",
      "        [[[[-7.9550e-01,  5.7401e-01, -9.3895e-01, -4.1919e-01, -4.4080e-02],\n",
      "           [-5.8572e-01,  9.3357e-01,  7.6149e-01,  4.5677e-01, -1.6896e-01],\n",
      "           [ 9.1407e-02,  8.9846e-01, -1.6431e+00,  1.8133e-01,  7.0556e-01],\n",
      "           ...,\n",
      "           [-1.3330e+00,  1.2366e+00,  4.7609e-01, -7.5296e-01,  3.8310e-01],\n",
      "           [ 2.3623e+00,  3.1768e-01, -8.9140e-01, -3.7012e-01, -4.1553e-01],\n",
      "           [ 4.8270e-01,  7.5225e-01,  1.3520e+00,  1.5862e+00, -1.6776e+00]],\n",
      "\n",
      "          [[-6.7780e-01,  6.8040e-01, -7.1040e-01, -8.7140e-02,  5.7855e-01],\n",
      "           [-1.4525e+00, -7.1161e-01, -2.8731e-01, -5.4807e-01,  2.8953e+00],\n",
      "           [-3.8311e-01, -2.0372e+00,  2.2365e-01,  2.3592e+00,  1.9508e+00],\n",
      "           ...,\n",
      "           [-2.6113e+00, -1.0420e-01, -1.1290e+00,  3.2727e-01, -3.7666e-03],\n",
      "           [ 4.5009e-01,  5.1570e-01, -8.1329e-01, -5.2185e-02,  4.8582e-01],\n",
      "           [-9.7235e-01,  5.8361e-01,  7.0706e-01, -2.0351e+00, -1.1497e+00]],\n",
      "\n",
      "          [[ 1.0382e+00, -2.1072e+00, -1.4497e-01, -6.4249e-01,  8.0389e-01],\n",
      "           [ 1.1861e+00,  6.7960e-02,  5.8325e-02,  2.5852e-01,  3.9910e-01],\n",
      "           [-2.0211e-01,  7.2756e-01, -1.1053e+00, -1.2384e+00,  5.3975e-01],\n",
      "           ...,\n",
      "           [-4.7008e-01,  1.8193e+00, -6.6208e-01,  1.4108e+00, -6.1105e-01],\n",
      "           [ 4.0388e-01, -1.6380e+00,  1.6790e+00, -4.0372e-01,  2.2350e-01],\n",
      "           [ 7.3751e-01,  1.3537e-01,  2.0987e+00, -8.3895e-01, -1.0838e+00]]],\n",
      "\n",
      "\n",
      "         [[[ 1.9682e+00,  8.1438e-01, -1.4809e+00,  2.3355e+00, -7.4930e-01],\n",
      "           [-2.1346e+00,  2.0811e-01,  5.2618e-01, -1.7947e-01,  9.4671e-01],\n",
      "           [-2.1551e-01, -2.2802e-01, -1.7568e+00,  1.0688e-01,  6.8472e-01],\n",
      "           ...,\n",
      "           [ 2.3877e-01,  1.1969e+00, -4.0580e-03, -4.4098e-01,  4.6195e-01],\n",
      "           [-1.3008e+00, -1.7525e-01,  1.9839e+00,  1.8417e+00, -1.1387e+00],\n",
      "           [-4.3528e-01,  1.1358e+00,  1.3160e-01,  7.8428e-01, -8.3578e-02]],\n",
      "\n",
      "          [[ 1.3683e+00,  6.2138e-01,  8.1088e-02,  5.7338e-02,  5.6739e-01],\n",
      "           [ 4.0867e-01,  5.4860e-01, -9.1310e-01, -6.1155e-01,  6.3344e-01],\n",
      "           [-6.8721e-01, -7.1635e-01,  2.1486e+00, -1.0209e+00, -1.1235e+00],\n",
      "           ...,\n",
      "           [-3.0343e-01,  5.0954e-02, -1.9831e+00, -3.8642e-01, -8.3083e-01],\n",
      "           [-9.5040e-01,  4.5734e-01,  6.8359e-01, -6.1271e-01,  1.5583e+00],\n",
      "           [-2.1351e-01,  9.4908e-01,  2.2523e+00, -1.1852e-01, -1.4710e+00]],\n",
      "\n",
      "          [[ 1.9260e+00, -1.0112e-01, -3.5358e-02, -2.3194e-01,  9.1747e-01],\n",
      "           [-8.2833e-01,  6.6563e-01, -6.2920e-01, -1.1074e+00, -5.4250e-01],\n",
      "           [-1.9217e+00, -9.1440e-01, -1.0197e+00, -2.1528e-01,  6.4304e-01],\n",
      "           ...,\n",
      "           [-6.2995e-01, -1.0601e+00, -4.3854e-01,  6.5453e-01, -3.1195e-01],\n",
      "           [-1.7878e+00, -5.6034e-01, -1.9626e-01, -5.6152e-01,  7.4963e-01],\n",
      "           [-1.6480e-01,  5.9971e-02,  1.1840e-01, -5.1956e-01, -1.4928e-01]]],\n",
      "\n",
      "\n",
      "         [[[-8.6909e-01, -1.0409e+00, -6.4407e-02,  6.0752e-01,  2.3897e+00],\n",
      "           [ 8.7985e-01, -1.1392e+00,  2.7778e-01, -8.4348e-01, -3.6611e-01],\n",
      "           [-6.5130e-01,  4.3761e-01, -5.0078e-01, -8.1568e-02, -1.5476e+00],\n",
      "           ...,\n",
      "           [ 1.1879e+00,  3.8950e-01,  1.0128e-01,  1.0917e+00,  1.0997e+00],\n",
      "           [-9.8667e-01,  1.2143e+00, -9.9607e-01,  7.1119e-01, -4.8027e-01],\n",
      "           [ 1.3764e-01, -1.3192e+00,  1.4737e+00,  1.8889e-01,  2.7234e-01]],\n",
      "\n",
      "          [[-6.6446e-02,  4.1740e-01, -4.6138e-01, -6.2342e-01, -5.3673e-01],\n",
      "           [ 7.0805e-01, -3.4561e-01,  1.0307e+00,  5.9868e-01, -3.3275e-01],\n",
      "           [ 8.9279e-01, -6.0410e-01,  1.1012e-01, -1.5201e+00,  6.8390e-02],\n",
      "           ...,\n",
      "           [ 1.0974e+00,  1.3659e+00, -3.4920e-01, -1.0483e+00,  2.6396e-01],\n",
      "           [ 1.6866e+00,  3.4035e-01,  1.5041e+00,  3.5240e-02, -1.4241e+00],\n",
      "           [-4.7342e-01, -1.4075e-01,  1.9048e+00,  4.9811e-01, -6.4907e-01]],\n",
      "\n",
      "          [[ 8.5720e-01, -4.1102e-01, -6.8348e-01,  1.8004e+00,  1.2098e+00],\n",
      "           [ 6.3341e-02, -8.8539e-01,  2.7553e-01,  3.4754e-01,  6.3253e-01],\n",
      "           [ 7.6000e-01,  7.1518e-01,  4.0439e-01,  4.5253e-02,  1.3292e+00],\n",
      "           ...,\n",
      "           [ 1.6266e-01, -1.7915e-02,  1.0944e+00, -1.5012e+00,  1.0482e+00],\n",
      "           [ 1.1209e+00,  6.0697e-01, -2.2832e-01, -6.6799e-02, -9.6430e-01],\n",
      "           [-1.8444e+00, -7.5806e-01, -1.3042e+00,  8.2115e-01,  2.4477e-01]]],\n",
      "\n",
      "\n",
      "         ...,\n",
      "\n",
      "\n",
      "         [[[ 1.3065e-01,  1.9302e+00,  1.8578e+00,  1.6735e+00,  1.7955e+00],\n",
      "           [-5.3477e-01,  5.4376e-01,  4.3897e-01,  1.5587e+00, -1.9031e-01],\n",
      "           [ 9.4707e-01, -1.2243e+00,  9.2554e-01,  2.0201e+00,  5.8395e-01],\n",
      "           ...,\n",
      "           [-2.8036e-01,  3.8032e-01, -2.7938e-01,  1.5151e-01, -7.6169e-01],\n",
      "           [ 1.2834e+00,  7.5172e-01,  6.3434e-01,  1.1149e-01,  5.5008e-01],\n",
      "           [-1.9201e+00,  5.2412e-01, -9.4998e-01,  3.2937e-02, -1.0209e+00]],\n",
      "\n",
      "          [[-4.1603e-01, -8.0812e-01,  7.6700e-01,  1.7052e-01, -2.9387e+00],\n",
      "           [ 1.8268e+00, -7.5621e-01, -1.9003e+00,  8.4088e-01, -1.3697e+00],\n",
      "           [-6.7583e-01,  1.1819e-01, -5.0821e-01,  8.2094e-01,  7.0668e-01],\n",
      "           ...,\n",
      "           [-7.4783e-01, -3.6300e-01,  4.2747e-01, -2.5242e-01, -8.0230e-01],\n",
      "           [-1.2437e+00,  4.4947e-01, -5.8589e-01,  9.4048e-01, -1.0310e+00],\n",
      "           [ 9.7473e-01, -7.0383e-02,  1.6560e+00, -8.9942e-01, -9.9748e-01]],\n",
      "\n",
      "          [[-8.8271e-01,  9.7792e-02,  5.0360e-01, -1.8603e+00, -1.2615e+00],\n",
      "           [ 2.6969e-01,  1.4143e-02,  1.1718e+00,  1.3258e+00, -1.8172e+00],\n",
      "           [-5.4195e-01,  1.2725e+00, -2.4340e-01,  1.5006e-01,  1.3764e+00],\n",
      "           ...,\n",
      "           [-1.5623e+00,  5.5258e-01,  9.3243e-01,  2.1937e+00,  1.5575e-01],\n",
      "           [ 6.7951e-01, -1.7570e+00,  1.5506e+00, -1.1568e+00, -3.2444e-01],\n",
      "           [ 9.3498e-01, -1.3314e-01, -6.3979e-01,  5.3556e-01, -2.4242e+00]]],\n",
      "\n",
      "\n",
      "         [[[-1.3597e-01, -1.4955e+00, -3.6179e-01,  1.2176e+00,  1.0386e+00],\n",
      "           [-1.7747e-01, -3.3721e-01, -8.1186e-01,  1.4484e+00, -6.5123e-01],\n",
      "           [-5.5245e-01,  1.0589e+00, -8.2844e-01,  4.5466e-01, -1.4962e+00],\n",
      "           ...,\n",
      "           [-2.9449e-02,  6.5789e-02,  7.8081e-01, -8.6910e-01,  4.9167e-01],\n",
      "           [ 1.1850e+00,  7.3511e-01,  1.8995e+00, -2.7515e-01,  9.2263e-01],\n",
      "           [ 5.3534e-01,  9.5895e-01,  1.2043e+00,  1.0957e+00,  7.1156e-01]],\n",
      "\n",
      "          [[-4.8807e-01, -6.4320e-01,  2.0246e-01,  4.5345e-01,  8.0224e-02],\n",
      "           [-3.6478e-01, -7.7795e-01, -1.1049e+00, -1.3212e+00,  1.2656e+00],\n",
      "           [ 1.2603e+00,  6.9283e-01,  2.2531e+00, -1.1800e+00,  8.0967e-01],\n",
      "           ...,\n",
      "           [ 5.1935e-01, -2.1844e-01,  2.8703e-02, -1.2379e+00,  9.2457e-01],\n",
      "           [-6.5874e-01, -4.0979e-01, -5.2104e-01, -2.2187e-01,  1.0143e-02],\n",
      "           [-1.1801e+00, -4.5120e-02,  1.2997e+00,  7.7812e-01,  1.5629e+00]],\n",
      "\n",
      "          [[-3.6655e-01, -3.4562e-01,  4.7657e-01,  1.2224e+00,  8.9055e-01],\n",
      "           [-9.7056e-01,  1.5293e+00,  3.7220e-02,  2.6859e+00, -1.9055e-01],\n",
      "           [-9.4551e-01, -1.4507e+00,  9.8946e-01,  1.4276e-01,  2.2886e+00],\n",
      "           ...,\n",
      "           [ 2.0058e+00, -1.0638e+00,  7.9910e-01, -1.6666e+00, -9.1127e-01],\n",
      "           [-4.1516e-01, -3.1756e-01, -1.1926e+00,  6.3640e-01, -7.0650e-01],\n",
      "           [ 9.5307e-01,  9.3674e-01,  7.6019e-01,  3.0767e-01, -1.4529e-01]]],\n",
      "\n",
      "\n",
      "         [[[ 5.6442e-01,  9.6191e-01, -4.6059e-01,  1.0522e+00,  1.7726e+00],\n",
      "           [-7.8221e-01,  1.4583e+00,  9.8871e-02, -8.3422e-02,  6.4945e-01],\n",
      "           [ 9.7745e-01, -2.1449e-01, -2.1856e-01, -1.4964e+00,  7.3418e-01],\n",
      "           ...,\n",
      "           [-1.4672e+00, -8.8615e-01, -4.1831e-01, -6.9128e-01, -1.4816e+00],\n",
      "           [-2.1639e+00,  3.3977e-01,  1.0767e-02, -6.5674e-01, -3.8422e-01],\n",
      "           [ 4.5766e-02, -7.8504e-01,  9.9736e-01,  1.0804e+00, -1.3205e+00]],\n",
      "\n",
      "          [[ 1.0238e+00,  4.2939e-01, -3.3695e-01, -2.6440e-02,  6.1325e-01],\n",
      "           [ 1.1869e+00, -2.5271e-01, -4.2330e-01, -8.2876e-01,  1.3519e+00],\n",
      "           [ 6.9338e-01, -1.7347e+00, -4.6291e-01,  7.7910e-01,  4.2041e-01],\n",
      "           ...,\n",
      "           [-7.5026e-01,  2.3963e-02,  5.2455e-01, -7.6736e-01,  1.2939e+00],\n",
      "           [-1.1430e+00,  7.2998e-01,  1.4519e+00,  9.1191e-01, -1.0508e+00],\n",
      "           [-1.5584e+00, -3.9156e-01,  1.0713e+00,  5.2857e-01, -3.0989e+00]],\n",
      "\n",
      "          [[ 1.3603e+00, -4.7980e-01, -2.2434e+00, -7.4719e-01, -3.1621e-01],\n",
      "           [ 6.4261e-01,  1.7426e+00,  9.0204e-01,  2.7194e-01,  8.2931e-01],\n",
      "           [-1.5273e+00, -1.0688e+00,  1.0873e+00, -1.7120e+00,  1.0804e+00],\n",
      "           ...,\n",
      "           [ 3.3983e-01,  3.0698e-01,  6.6716e-01, -8.0812e-01, -4.4681e-01],\n",
      "           [-6.3081e-03, -1.4103e-01,  1.7673e-01, -2.5199e-01, -2.4065e-02],\n",
      "           [ 6.2206e-01,  5.9637e-01, -7.7336e-01,  2.2186e-02, -2.8735e-01]]]],\n",
      "\n",
      "\n",
      "\n",
      "        ...,\n",
      "\n",
      "\n",
      "\n",
      "        [[[[-1.3378e+00,  1.6524e-02, -2.2730e-01,  9.4585e-01,  2.6363e+00],\n",
      "           [ 1.5891e+00,  4.8857e-01, -5.2005e-01,  3.5118e-01, -1.8272e-01],\n",
      "           [ 1.7492e-01,  4.4848e-01,  1.7122e-01, -2.6723e-01,  5.2614e-01],\n",
      "           ...,\n",
      "           [ 5.5440e-01,  8.4093e-01,  1.3270e+00, -2.2163e-01,  4.3150e-01],\n",
      "           [ 1.6777e+00, -7.5567e-01, -4.4835e-01, -1.9877e-01,  1.1513e+00],\n",
      "           [-3.6977e-01, -3.2484e-01,  2.5180e-01, -3.1876e-01,  2.2606e+00]],\n",
      "\n",
      "          [[-1.4498e+00, -8.4284e-01,  7.4271e-01, -4.3274e-01,  1.0266e+00],\n",
      "           [-2.2160e+00, -5.2770e-01,  3.2169e-01,  3.3423e-01, -4.2823e-01],\n",
      "           [-1.0805e+00, -1.3761e+00, -6.0672e-01,  5.5530e-01, -2.8751e+00],\n",
      "           ...,\n",
      "           [-1.0127e+00, -7.6927e-01, -9.8814e-01,  6.6810e-01,  1.2558e+00],\n",
      "           [-7.9509e-01, -6.0397e-01,  4.0769e-01, -1.3664e+00, -1.3139e+00],\n",
      "           [ 8.1387e-01, -2.3133e-01,  1.2453e+00, -2.9041e-01, -2.2959e-01]],\n",
      "\n",
      "          [[ 6.7511e-01,  1.1762e+00, -2.4045e+00,  6.9480e-01, -7.9995e-01],\n",
      "           [-3.7705e-01,  4.2577e-01,  3.6773e-01,  7.6247e-02,  9.6515e-01],\n",
      "           [-2.3757e-01,  3.4695e-01,  4.4844e-01, -2.0231e-01, -2.4933e-01],\n",
      "           ...,\n",
      "           [ 9.0189e-01,  6.7339e-01,  1.7464e+00, -1.0326e+00, -2.0809e-01],\n",
      "           [ 1.8676e-01, -1.1308e+00, -1.2025e+00,  1.0194e+00,  1.9933e+00],\n",
      "           [-7.5440e-01,  4.5000e-01, -3.3860e-01, -4.3911e-01,  1.0996e+00]]],\n",
      "\n",
      "\n",
      "         [[[ 4.7474e-01, -4.5769e-01,  1.2654e+00, -1.0553e+00, -6.7953e-01],\n",
      "           [ 3.0267e-01,  2.4910e+00,  1.0257e+00,  7.2879e-01,  6.5007e-02],\n",
      "           [ 5.4472e-01, -1.8874e-01,  6.5760e-01,  6.0424e-01, -1.0971e+00],\n",
      "           ...,\n",
      "           [-5.6428e-01,  2.3918e-01,  1.6292e+00, -1.5916e-01,  4.2256e-01],\n",
      "           [ 1.4282e+00,  1.7296e-01,  5.2115e-01,  1.4215e+00, -1.3918e+00],\n",
      "           [ 2.4171e+00,  5.7945e-01,  2.9965e-01,  8.1849e-01, -1.3161e+00]],\n",
      "\n",
      "          [[ 1.1486e+00,  1.2085e+00, -1.3078e-01, -2.7610e-01, -3.7218e-01],\n",
      "           [ 1.0172e+00,  1.4488e+00,  1.0202e+00, -1.5075e+00, -4.1160e-02],\n",
      "           [-4.9099e-01,  1.0782e+00, -2.6013e-02, -8.4209e-01, -8.5875e-01],\n",
      "           ...,\n",
      "           [-9.1041e-01,  1.3123e+00, -1.7950e-01,  1.4970e+00, -1.1627e+00],\n",
      "           [ 5.1671e-01, -3.4263e-01,  2.1385e-01,  1.2047e+00,  1.1085e+00],\n",
      "           [-2.0645e+00,  1.2720e+00, -1.5944e+00, -1.6850e+00, -1.0148e+00]],\n",
      "\n",
      "          [[ 3.4412e-01, -1.8970e+00, -1.0762e+00, -1.0234e+00,  7.7283e-01],\n",
      "           [-3.6934e-01, -5.1417e-01,  2.7207e-01,  1.6743e+00, -5.5044e-01],\n",
      "           [-8.4145e-01,  7.9831e-01, -2.8697e-01, -1.6225e+00,  6.0513e-01],\n",
      "           ...,\n",
      "           [-2.1420e+00,  1.7060e+00,  7.6806e-01,  9.2142e-02,  5.7172e-02],\n",
      "           [-1.1020e+00,  1.3929e+00,  9.0382e-01,  1.8602e-01,  1.1457e+00],\n",
      "           [ 3.9162e-01, -7.8440e-02, -3.8425e-01,  4.5021e-01, -5.4795e-03]]],\n",
      "\n",
      "\n",
      "         [[[ 5.1678e-01,  8.7391e-01,  4.3232e-02, -6.9907e-01, -3.0124e-01],\n",
      "           [-1.0613e+00, -8.3958e-01,  3.4209e-01, -7.9413e-01, -7.9968e-01],\n",
      "           [ 1.1151e+00, -8.5330e-01,  3.3645e-01,  4.6843e-01, -6.3794e-02],\n",
      "           ...,\n",
      "           [-3.2906e-01, -4.0076e-01,  4.1875e-02,  5.2025e-02,  7.2986e-01],\n",
      "           [ 9.2901e-02,  1.7184e-01, -7.9331e-01,  1.6443e-01,  5.4505e-01],\n",
      "           [-5.2255e-01, -8.1738e-02, -5.2244e-01, -3.8545e-01, -1.6230e+00]],\n",
      "\n",
      "          [[-2.7689e-01,  1.3399e-01, -4.7128e-01,  7.8558e-01, -3.5305e-01],\n",
      "           [ 2.2909e+00, -2.0552e+00, -1.4982e+00, -1.6755e+00, -6.1225e-01],\n",
      "           [-8.9785e-01,  1.5377e+00, -3.0321e-01,  1.5990e+00,  5.6723e-01],\n",
      "           ...,\n",
      "           [-1.7708e+00, -4.0253e-01,  1.1496e+00,  2.0188e+00, -1.3713e+00],\n",
      "           [-6.8276e-01, -6.1967e-01,  1.7667e+00,  1.0420e+00,  2.0817e+00],\n",
      "           [-1.8143e+00,  9.9683e-01,  1.6992e+00, -7.6166e-01,  5.5368e-01]],\n",
      "\n",
      "          [[ 6.4040e-01,  2.9684e-01, -8.1146e-01, -2.4547e-01,  6.7521e-01],\n",
      "           [ 1.0545e+00,  8.2350e-01,  2.8529e-01, -2.1212e+00,  1.4260e+00],\n",
      "           [-1.2487e+00,  3.3209e-01,  1.2579e-01, -5.6025e-03,  4.1005e-01],\n",
      "           ...,\n",
      "           [-1.4469e+00, -1.0046e-01, -5.0556e-02,  2.8910e-01,  4.9343e-01],\n",
      "           [-2.8787e-01, -2.1551e+00, -3.4441e-01, -1.3590e+00,  1.9282e-01],\n",
      "           [ 1.9948e-01, -4.0929e-01, -6.6792e-01, -5.9404e-01, -6.3184e-02]]],\n",
      "\n",
      "\n",
      "         ...,\n",
      "\n",
      "\n",
      "         [[[ 8.4341e-01, -8.7960e-01,  2.7305e+00, -7.7231e-01, -5.2426e-01],\n",
      "           [ 1.3415e+00, -3.9045e-01, -4.6490e-01,  4.9958e-01, -1.0296e+00],\n",
      "           [ 1.8867e+00, -7.3122e-01, -6.2000e-01,  1.4359e+00, -5.1300e-01],\n",
      "           ...,\n",
      "           [-7.6123e-01,  7.3393e-01, -3.8728e-01, -8.0091e-01, -8.4545e-01],\n",
      "           [-1.0709e+00,  7.0293e-01, -8.2561e-02,  1.0759e+00,  9.7580e-01],\n",
      "           [-9.7794e-01, -7.4072e-02,  9.9953e-01, -1.3837e+00, -2.9639e+00]],\n",
      "\n",
      "          [[ 1.8350e-01, -6.2850e-01, -4.5461e-01, -4.8701e-01, -3.5492e-01],\n",
      "           [ 3.0897e-02,  6.6405e-01, -1.1999e+00,  4.0123e-01,  2.2876e+00],\n",
      "           [ 3.4500e-02, -4.4522e-01,  3.7669e-01,  5.2650e-01, -3.5982e-01],\n",
      "           ...,\n",
      "           [ 7.6976e-01, -5.9069e-01, -7.6551e-01,  2.8542e-01,  2.9417e-02],\n",
      "           [ 1.8075e+00, -2.9560e-01, -1.7027e+00, -2.4667e-01, -2.0512e-01],\n",
      "           [-9.7099e-01, -5.3715e-01, -3.7529e-01,  1.2396e-02, -6.3308e-01]],\n",
      "\n",
      "          [[-7.2165e-01,  2.9400e-01,  9.5030e-02,  3.5691e-01, -2.6685e-01],\n",
      "           [-8.7263e-01,  1.2402e+00,  2.2449e+00, -4.2912e-01,  6.4683e-01],\n",
      "           [ 9.9647e-02,  1.7156e+00,  5.0557e-01,  9.7883e-02, -2.7629e-01],\n",
      "           ...,\n",
      "           [ 2.9424e-01,  8.9014e-01,  3.6292e-01,  1.2616e+00,  9.4769e-01],\n",
      "           [ 2.6571e+00, -7.7425e-02, -1.8120e+00,  7.2574e-01, -9.8486e-01],\n",
      "           [-4.5530e-03, -4.0727e-01,  1.8095e+00,  2.4292e-01, -1.1327e+00]]],\n",
      "\n",
      "\n",
      "         [[[-1.3094e+00,  4.6917e-02, -2.2393e-01, -1.0050e+00, -2.1040e+00],\n",
      "           [ 1.0826e+00, -1.1000e-01,  1.1676e+00,  3.7149e-01,  1.6337e+00],\n",
      "           [-4.6973e-02,  1.2828e+00,  6.2116e-01,  3.5813e-01, -8.0840e-01],\n",
      "           ...,\n",
      "           [ 1.0385e+00,  8.4366e-01, -5.7634e-01, -1.5154e-01, -1.2706e+00],\n",
      "           [ 8.1850e-01, -7.2679e-01, -2.5512e-02, -3.5119e-01,  2.3154e-01],\n",
      "           [ 1.5068e+00,  1.3640e+00,  2.4916e-01, -2.2454e+00,  2.9011e-01]],\n",
      "\n",
      "          [[-1.3781e+00,  2.9753e-01,  6.5919e-02,  8.7913e-01, -1.7689e+00],\n",
      "           [-2.7453e+00, -3.3757e-01,  2.5713e+00, -1.1675e-01, -1.8323e+00],\n",
      "           [ 6.4071e-01,  1.0109e+00,  9.3993e-01,  1.1922e+00,  6.9611e-01],\n",
      "           ...,\n",
      "           [ 1.0655e+00,  6.9116e-01,  3.1735e-02, -6.8248e-01, -2.6812e+00],\n",
      "           [ 3.8510e-01, -8.1366e-01,  4.7586e-01, -9.6586e-01, -1.6222e+00],\n",
      "           [-1.1954e-01,  3.1181e-01,  7.4320e-01, -2.2468e+00,  1.2623e+00]],\n",
      "\n",
      "          [[ 3.3094e-01,  4.9133e-01,  1.1222e+00,  9.6047e-01,  4.5717e-01],\n",
      "           [ 6.3270e-01, -1.1990e+00, -2.8128e-01, -2.4577e+00,  3.1200e-01],\n",
      "           [-1.1566e+00,  8.6963e-01,  4.7297e-01,  1.0283e+00,  8.4256e-01],\n",
      "           ...,\n",
      "           [-4.8646e-01,  8.5138e-01, -1.1624e+00,  4.5215e-01, -2.8178e-01],\n",
      "           [-1.1211e+00,  2.6023e-01, -2.9642e-01,  1.9270e+00,  5.4033e-01],\n",
      "           [ 1.1281e+00, -6.5736e-01,  4.9244e-01,  5.6191e-01,  8.9998e-02]]],\n",
      "\n",
      "\n",
      "         [[[ 7.7052e-02, -1.1727e+00,  1.6009e+00,  3.9998e-01,  2.0026e-01],\n",
      "           [-8.3364e-01, -1.4051e+00,  1.6094e+00,  7.8169e-01, -1.8612e-01],\n",
      "           [-3.2309e-01, -3.7420e-01,  9.3552e-02, -3.9518e-01, -1.1079e+00],\n",
      "           ...,\n",
      "           [-1.2113e-01,  2.0155e-01, -1.7457e+00,  7.6268e-01, -4.2119e-01],\n",
      "           [-1.2484e-01, -3.8351e-01,  8.1282e-01, -1.0969e+00,  4.4390e-01],\n",
      "           [ 4.8171e-01, -1.0714e+00, -3.5636e-01, -1.3683e+00,  9.1688e-01]],\n",
      "\n",
      "          [[-2.3024e-02,  9.1330e-01,  2.2079e-01, -9.3527e-01, -1.7425e+00],\n",
      "           [ 1.2411e+00,  7.2245e-01, -1.7330e-01,  1.5093e+00,  2.4136e-01],\n",
      "           [ 8.9159e-01,  2.0238e+00, -1.8332e+00, -1.4955e+00, -6.1619e-01],\n",
      "           ...,\n",
      "           [-5.4711e-01,  8.1278e-01,  3.5642e-01, -6.1929e-01,  6.5524e-02],\n",
      "           [-1.1916e+00,  7.4491e-01,  5.3259e-01, -7.1155e-01,  2.2555e+00],\n",
      "           [-9.6123e-01, -1.2601e+00, -1.7293e-01,  5.8990e-01,  1.6074e+00]],\n",
      "\n",
      "          [[-1.9949e+00,  8.1723e-01,  5.6351e-01, -9.8180e-01, -1.5965e-01],\n",
      "           [-4.4073e-01,  8.1021e-01,  9.0563e-01,  5.6289e-01,  1.1988e-01],\n",
      "           [-1.5224e+00,  5.0937e-01, -5.1156e-01,  6.5613e-01, -1.5092e+00],\n",
      "           ...,\n",
      "           [ 6.6018e-01, -8.2725e-01, -6.2781e-01,  6.8982e-01,  9.8682e-01],\n",
      "           [ 4.5681e-01,  5.7804e-01, -3.4055e-01,  3.4861e-01, -4.7046e-01],\n",
      "           [ 2.1523e-01, -8.1863e-01,  5.3778e-01,  3.2781e-01, -3.6053e-01]]]],\n",
      "\n",
      "\n",
      "\n",
      "        [[[[-9.9887e-01, -7.4960e-01, -1.3431e+00,  3.9314e-01, -2.5574e-01],\n",
      "           [ 7.3552e-01, -5.5760e-01,  1.2250e-01,  4.0481e-01, -3.2318e-01],\n",
      "           [ 2.0855e-01, -3.7741e-01,  1.4768e+00, -5.2394e-01,  6.4214e-01],\n",
      "           ...,\n",
      "           [-1.1094e+00,  6.5952e-01, -6.2964e-01,  1.4495e-01,  3.7684e-03],\n",
      "           [ 2.0363e-01, -3.3676e-01,  4.7415e-02,  2.5433e-01, -1.2865e+00],\n",
      "           [-3.9094e-01, -5.3165e-01,  1.4261e+00,  1.5051e+00, -1.4710e+00]],\n",
      "\n",
      "          [[-1.9246e+00,  9.4610e-01, -6.5760e-01, -1.4206e+00, -1.5321e-01],\n",
      "           [ 6.7965e-01, -1.8335e+00, -3.7986e-01, -8.6798e-01, -5.6083e-01],\n",
      "           [-1.0513e+00, -7.9733e-01, -8.3225e-01, -1.2694e+00,  7.2622e-01],\n",
      "           ...,\n",
      "           [-1.8551e-01,  7.7067e-01, -8.9135e-01,  1.9312e-01,  2.3059e-01],\n",
      "           [ 8.2333e-02,  5.8615e-01,  1.5031e+00,  7.0124e-01,  3.8831e-01],\n",
      "           [ 1.2384e+00, -1.0563e-01, -4.6832e-01,  6.1096e-01, -1.1572e+00]],\n",
      "\n",
      "          [[-6.7704e-01,  1.0473e+00, -3.3251e-02,  1.7819e-01,  9.7277e-01],\n",
      "           [ 1.0562e+00,  1.5741e-01,  1.0672e+00, -8.5128e-01,  2.0452e-01],\n",
      "           [-6.2538e-01, -3.6510e-02, -6.2623e-02, -1.3812e+00, -1.8647e+00],\n",
      "           ...,\n",
      "           [ 1.8124e-01,  9.1050e-01, -3.8687e-01, -2.1935e-01,  3.6241e-01],\n",
      "           [-2.5044e-02, -1.4955e+00,  2.6054e-02, -3.3547e-01,  1.1203e+00],\n",
      "           [ 9.6197e-01,  1.0247e+00, -4.0382e-01,  5.5707e-01, -6.3375e-01]]],\n",
      "\n",
      "\n",
      "         [[[ 1.8590e-01,  7.6608e-01, -1.5249e+00,  6.5047e-02, -3.5501e-02],\n",
      "           [-2.5634e-01,  8.3325e-01, -3.9495e-01, -1.9332e-01,  8.0104e-01],\n",
      "           [ 4.9410e-01, -9.2551e-01,  5.9796e-01,  3.6103e-01,  1.4866e+00],\n",
      "           ...,\n",
      "           [ 6.4562e-01, -7.5077e-01, -6.4424e-01,  8.1887e-01,  2.6948e-01],\n",
      "           [-7.0982e-02,  5.4298e-01,  4.9413e-01,  2.8916e-01,  1.1014e-01],\n",
      "           [ 1.3243e+00, -1.5303e-01,  5.1355e-01, -6.0366e-01, -7.4811e-01]],\n",
      "\n",
      "          [[ 1.4135e+00, -4.2686e-01, -7.1845e-01, -5.4038e-01, -1.4421e+00],\n",
      "           [-1.1703e-01, -7.1250e-02, -1.5953e-01,  1.5806e-01,  5.6753e-01],\n",
      "           [-1.2749e+00, -2.6091e-01, -1.5576e-02,  4.2519e-01,  7.3040e-01],\n",
      "           ...,\n",
      "           [ 7.3612e-01, -1.2570e+00, -9.8093e-01,  6.4086e-01, -1.4445e+00],\n",
      "           [ 1.2981e+00,  1.4500e-01,  3.1064e-01, -4.0221e-01, -3.9680e-01],\n",
      "           [-1.6250e-01,  2.9128e-01,  4.9109e-01, -1.0444e+00, -1.2937e+00]],\n",
      "\n",
      "          [[ 4.1210e-01,  4.0761e-02,  3.7107e-01, -3.9396e-01,  6.7533e-01],\n",
      "           [-4.0498e-02, -9.7898e-01,  9.9572e-01, -5.4099e-01,  1.2426e-02],\n",
      "           [ 1.0380e+00,  3.2071e-01,  1.4533e+00,  1.9271e-01,  1.6197e+00],\n",
      "           ...,\n",
      "           [-1.6772e+00,  1.1911e+00, -2.6587e-01, -2.8392e-01,  4.4090e-01],\n",
      "           [ 1.0162e+00,  9.7412e-01, -9.8281e-02, -2.4240e+00,  7.4334e-02],\n",
      "           [-2.4740e-02, -1.1603e+00, -4.4758e-01, -1.9394e-01,  8.2747e-01]]],\n",
      "\n",
      "\n",
      "         [[[-3.1316e-01,  1.0034e+00, -4.7033e-01, -2.0613e+00, -2.0664e+00],\n",
      "           [-1.3302e+00, -3.0555e-01,  5.3015e-01, -1.5190e-01,  7.4708e-02],\n",
      "           [ 1.1183e+00,  7.1213e-01,  1.4620e+00,  1.2832e+00,  2.8765e-01],\n",
      "           ...,\n",
      "           [ 4.4736e-01,  7.6212e-01,  8.6700e-01, -1.6355e+00, -1.4404e-01],\n",
      "           [ 1.9989e+00, -6.9874e-01, -4.4085e-01,  4.2010e-01,  1.6690e-01],\n",
      "           [-1.7424e+00,  6.3272e-01,  1.0932e+00, -3.0828e-01,  8.5755e-01]],\n",
      "\n",
      "          [[ 1.5651e+00,  3.2122e-01, -1.3185e-01,  1.7551e-02, -2.9806e-01],\n",
      "           [-3.0196e-01, -1.0672e+00,  1.7277e-01, -1.5839e+00, -7.5170e-01],\n",
      "           [ 2.3565e+00,  8.4337e-01,  1.0877e+00, -2.2168e-01,  1.1193e+00],\n",
      "           ...,\n",
      "           [ 1.0319e+00,  2.0695e+00,  4.4373e-01,  4.2790e-01,  2.5614e-01],\n",
      "           [-2.2516e-02, -3.8107e-01,  1.1014e+00,  5.9229e-01, -3.2831e-01],\n",
      "           [-3.0237e-01,  9.7234e-01, -1.0067e+00, -3.6863e-01,  1.0313e+00]],\n",
      "\n",
      "          [[-1.1193e+00,  7.5144e-02, -3.3328e-01, -9.1337e-01, -2.2285e+00],\n",
      "           [-3.8817e-02,  1.6483e+00,  9.3192e-01,  1.4247e-01, -1.5174e+00],\n",
      "           [ 1.4680e-01,  1.1161e+00,  2.9161e-01, -8.9360e-01, -9.3379e-02],\n",
      "           ...,\n",
      "           [ 6.7511e-01,  1.3044e+00, -2.0188e+00, -1.4243e-01, -3.7092e-01],\n",
      "           [-1.3097e-01, -6.7322e-01,  3.8337e-01, -8.5971e-01, -6.3586e-01],\n",
      "           [-7.5179e-01,  1.4282e-01,  1.3329e-01, -1.0723e+00,  2.7006e-01]]],\n",
      "\n",
      "\n",
      "         ...,\n",
      "\n",
      "\n",
      "         [[[ 1.4269e-01,  2.9482e-01, -7.9380e-01,  2.5345e-01,  8.9280e-01],\n",
      "           [-1.4045e+00,  8.1058e-01,  3.4797e-01,  5.6701e-01, -2.1976e+00],\n",
      "           [ 1.0763e+00, -5.6001e-01, -6.7780e-01,  1.2261e+00, -6.0713e-01],\n",
      "           ...,\n",
      "           [-1.7272e+00,  9.1593e-01, -8.2814e-01, -4.1476e-01, -1.7310e-01],\n",
      "           [ 8.4634e-01,  6.0937e-01, -1.7434e+00,  7.3977e-01,  3.4075e-01],\n",
      "           [ 8.0393e-01,  1.2870e-01, -2.0486e-02,  8.1925e-01, -8.1233e-01]],\n",
      "\n",
      "          [[-1.4638e-01,  1.2649e+00, -2.3213e-01, -3.8826e-01, -7.7161e-01],\n",
      "           [-8.2995e-02,  9.9738e-01,  3.7197e-01, -1.9548e+00,  1.6518e+00],\n",
      "           [ 1.1895e+00,  1.1583e+00,  1.4561e+00,  9.4879e-02, -6.6167e-01],\n",
      "           ...,\n",
      "           [ 1.0225e+00,  1.0228e+00,  1.3706e-01,  1.7608e-01, -1.0132e+00],\n",
      "           [-4.3979e-01, -1.2162e+00, -1.2275e+00, -1.0847e+00, -6.5726e-01],\n",
      "           [ 1.2895e+00,  3.3596e-02,  5.7963e-01,  7.8977e-03,  1.3754e+00]],\n",
      "\n",
      "          [[-1.9972e+00, -8.3588e-01, -1.6616e-01,  1.1337e+00, -1.6344e+00],\n",
      "           [-1.2039e+00,  2.1067e+00, -2.3348e-01,  1.3332e+00, -6.7387e-01],\n",
      "           [ 1.0150e+00, -1.4904e+00, -1.1661e+00, -9.2455e-01,  4.4093e-01],\n",
      "           ...,\n",
      "           [-8.2731e-01, -7.8145e-01, -1.1961e+00, -5.0231e-01,  2.0715e+00],\n",
      "           [-7.8674e-01,  3.2222e-01,  7.8689e-01,  9.2658e-01, -1.5691e+00],\n",
      "           [ 2.6347e-01,  1.4150e+00,  7.3428e-01, -1.6997e+00,  3.9691e-01]]],\n",
      "\n",
      "\n",
      "         [[[ 9.2333e-01, -5.5636e-01, -9.9945e-01,  5.8223e-01,  7.4545e-01],\n",
      "           [ 6.0655e-02, -1.0821e+00, -9.6902e-01, -3.7399e-01,  4.2382e-02],\n",
      "           [-2.3788e+00,  4.9519e-01,  1.1151e+00, -1.1996e+00,  6.7844e-01],\n",
      "           ...,\n",
      "           [ 5.5627e-01, -1.0663e-01,  9.2804e-01, -4.6665e-01,  9.6117e-02],\n",
      "           [-8.1627e-01,  1.8191e+00, -6.8137e-01, -3.4153e-01, -1.4832e+00],\n",
      "           [-6.6456e-01,  4.2515e-01,  1.5207e+00, -3.0486e-01,  1.4116e-01]],\n",
      "\n",
      "          [[ 7.0488e-01,  7.6516e-01,  1.2807e+00, -1.7026e+00,  1.8713e+00],\n",
      "           [-3.4674e-01, -9.5796e-02,  1.0969e-01,  8.4621e-01,  6.2348e-03],\n",
      "           [-1.1023e+00, -3.7350e-01, -2.6944e-01,  5.2748e-01,  6.1275e-01],\n",
      "           ...,\n",
      "           [-7.3561e-01, -5.1640e-01, -1.0879e+00,  1.5038e-01,  1.2197e+00],\n",
      "           [ 3.1617e-01, -9.3212e-02, -4.3033e-01,  1.0277e+00, -1.2284e-01],\n",
      "           [ 7.0324e-01,  7.5533e-01, -9.9887e-02, -2.1911e+00,  8.3493e-02]],\n",
      "\n",
      "          [[-7.7026e-01,  1.2170e+00, -1.5518e+00,  2.8424e-01,  7.2416e-01],\n",
      "           [ 1.5280e+00,  4.7820e-01,  8.4433e-01,  1.0736e+00, -1.2140e-01],\n",
      "           [ 8.7041e-02, -2.0617e+00, -1.3712e-01,  6.0157e-01, -2.2385e-01],\n",
      "           ...,\n",
      "           [ 4.9850e-01, -3.8748e-01, -4.0287e-01,  7.8689e-02, -1.8574e+00],\n",
      "           [-2.3268e-01,  1.6495e+00,  4.7007e-01, -1.8019e+00,  1.8939e+00],\n",
      "           [-2.1711e-01, -1.1544e-01, -8.2523e-01, -2.1320e+00, -5.4656e-01]]],\n",
      "\n",
      "\n",
      "         [[[ 8.5571e-01, -3.0004e-01, -5.5142e-01,  9.3521e-01, -3.9905e-01],\n",
      "           [-7.7147e-01,  7.9245e-01,  2.0132e-02,  6.0374e-01,  1.1960e+00],\n",
      "           [ 1.3573e+00,  2.4606e-01,  8.0974e-01, -1.5441e-01,  7.2133e-01],\n",
      "           ...,\n",
      "           [ 6.7772e-01, -4.6639e-01,  1.3841e+00, -4.3265e-01,  1.2636e+00],\n",
      "           [-1.0502e+00,  1.6689e+00, -2.0471e+00, -4.2050e-01, -6.4240e-01],\n",
      "           [ 1.7074e+00,  6.0404e-01,  4.2465e-01,  6.8981e-01, -2.9685e-01]],\n",
      "\n",
      "          [[-1.9739e+00,  3.2449e-01,  1.9314e-01,  8.2410e-01,  8.8882e-01],\n",
      "           [-1.7478e-01,  5.6126e-01,  3.5944e-01,  1.2308e+00,  1.0422e-02],\n",
      "           [-4.9715e-01, -5.8683e-01,  4.1406e-02,  3.8106e-01, -1.1305e-01],\n",
      "           ...,\n",
      "           [-2.6542e-02,  2.2683e+00,  8.0266e-01,  9.0156e-01, -7.4062e-01],\n",
      "           [ 1.5082e+00, -1.9994e-01, -4.1691e-02,  1.0806e+00,  1.5736e+00],\n",
      "           [ 3.8332e-01,  8.1717e-01, -1.2357e+00,  1.6141e+00,  1.0157e+00]],\n",
      "\n",
      "          [[-7.0263e-01, -1.2484e+00,  4.3200e-01, -1.4640e+00,  4.7903e-01],\n",
      "           [ 4.3351e-01, -1.0550e+00,  5.1477e-01, -1.2149e+00, -7.4613e-01],\n",
      "           [-2.7100e+00, -1.1283e+00, -1.7179e+00, -1.6240e+00, -4.6774e-01],\n",
      "           ...,\n",
      "           [ 7.9983e-01,  1.5741e+00, -1.2704e+00,  1.1356e+00,  1.0551e-01],\n",
      "           [-1.2940e+00, -3.8711e-01,  1.1674e+00,  1.4850e+00,  1.1367e-01],\n",
      "           [-5.1868e-01, -2.6960e+00,  6.6182e-01, -1.2481e-02,  1.9349e+00]]]],\n",
      "\n",
      "\n",
      "\n",
      "        [[[[ 1.7979e-01, -1.6249e-03,  6.1448e-01,  6.1396e-01, -2.5433e-01],\n",
      "           [-6.1475e-01, -1.7070e+00, -6.0452e-01, -2.7958e+00,  3.3834e-01],\n",
      "           [-1.0205e+00, -2.5401e-01,  2.7069e-01, -9.9726e-02,  1.0541e+00],\n",
      "           ...,\n",
      "           [ 6.5976e-01,  5.3951e-01,  1.2394e+00, -2.9793e-01,  2.5058e-01],\n",
      "           [ 3.5954e-01,  7.7489e-01, -1.2201e+00, -5.4175e-01,  1.9693e+00],\n",
      "           [-4.2523e-01,  1.5858e-01,  1.8815e+00, -1.0187e+00,  1.3303e-01]],\n",
      "\n",
      "          [[-2.6108e-01,  1.7317e+00,  2.6217e+00,  1.1160e+00, -6.8447e-01],\n",
      "           [-1.6370e+00,  3.5363e-03,  1.2904e-01,  1.1838e+00,  7.2189e-01],\n",
      "           [ 7.5267e-01, -1.5599e+00, -1.2398e+00,  7.8186e-02,  2.9517e-01],\n",
      "           ...,\n",
      "           [ 4.3486e-01, -2.0056e+00, -2.1928e+00, -1.4687e+00, -2.3893e+00],\n",
      "           [-1.7526e-01,  6.4764e-03, -6.8014e-01, -1.7285e-01,  3.6207e-01],\n",
      "           [ 3.0645e-01,  4.5506e-01, -1.6485e+00, -4.7192e-01, -6.2312e-01]],\n",
      "\n",
      "          [[-6.5687e-01, -1.6820e-01, -1.4717e+00,  7.4111e-01,  3.8095e-02],\n",
      "           [-1.1499e+00, -3.1278e-01,  2.2394e+00, -4.8522e-01, -9.6350e-01],\n",
      "           [-1.9761e+00, -1.2427e+00, -1.1154e+00,  7.0062e-01,  1.5654e+00],\n",
      "           ...,\n",
      "           [ 3.0825e-01,  1.8781e+00,  3.5682e-01, -1.5169e+00, -9.4284e-01],\n",
      "           [-1.2072e+00, -5.3577e-01,  3.3563e-01,  2.8554e-02, -2.0361e-01],\n",
      "           [ 1.0428e+00,  1.7675e+00,  1.2149e+00, -1.7918e+00,  4.7438e-01]]],\n",
      "\n",
      "\n",
      "         [[[ 6.0152e-01,  1.4402e-01,  6.7080e-02, -1.5304e-01,  1.7834e+00],\n",
      "           [-9.9608e-01,  5.6605e-01, -1.7385e+00,  1.4601e+00, -3.1007e-01],\n",
      "           [ 1.5837e+00,  1.5531e+00,  1.0642e+00, -7.9831e-01, -1.4791e+00],\n",
      "           ...,\n",
      "           [ 1.7714e+00, -8.5822e-01,  2.7690e-01, -1.1027e+00, -1.2394e+00],\n",
      "           [ 3.4136e-01,  1.2568e+00,  1.4701e+00, -7.3999e-01,  1.8191e+00],\n",
      "           [-6.4767e-01, -1.5737e-01,  9.7277e-01,  3.4969e-01, -4.1209e-02]],\n",
      "\n",
      "          [[-9.6400e-01,  3.4115e-01, -1.3060e+00, -9.9007e-01, -1.8860e+00],\n",
      "           [ 1.2029e+00,  1.0484e+00,  1.2891e+00,  5.7629e-01,  2.0907e+00],\n",
      "           [-1.0541e+00,  8.5761e-01,  1.2056e+00,  5.3890e-01,  1.8711e-02],\n",
      "           ...,\n",
      "           [-3.0106e-01, -1.2264e+00, -1.4398e-01, -2.1155e+00, -6.6336e-01],\n",
      "           [ 4.6796e-01, -1.3493e+00, -4.4917e-01, -5.7117e-01,  7.7671e-01],\n",
      "           [ 1.4766e+00, -1.3836e+00, -1.1689e+00,  2.4328e+00,  5.9348e-01]],\n",
      "\n",
      "          [[ 2.3565e-02, -2.1295e-01, -1.5425e+00,  9.4690e-01, -8.7414e-01],\n",
      "           [-3.3119e-01, -1.3025e+00,  1.2445e+00, -7.7806e-01, -8.8821e-01],\n",
      "           [-5.8790e-01,  7.2245e-01,  1.1081e+00,  3.2531e-01,  1.5756e-01],\n",
      "           ...,\n",
      "           [ 5.8446e-01, -1.7065e+00,  3.0480e-01,  1.5638e+00,  7.7518e-01],\n",
      "           [ 3.9079e-02, -1.0009e+00, -2.9530e-01, -2.1619e+00, -1.3337e+00],\n",
      "           [ 3.3202e-01,  4.5091e-01, -7.4749e-01,  1.1351e+00, -1.0253e+00]]],\n",
      "\n",
      "\n",
      "         [[[ 1.5426e+00, -1.4905e-01,  1.1675e+00, -5.5791e-01, -4.9184e-01],\n",
      "           [ 1.5255e+00,  8.8427e-01,  6.2778e-01, -2.3223e-01,  6.7134e-01],\n",
      "           [ 3.7236e-01, -3.0564e-01,  5.5194e-01, -2.2361e+00,  8.6006e-01],\n",
      "           ...,\n",
      "           [ 1.0399e+00, -1.3975e+00,  4.5977e-01, -5.4274e-01,  6.9855e-01],\n",
      "           [-1.2976e+00, -1.5590e-01, -3.8569e-01,  2.6023e-01,  2.2926e+00],\n",
      "           [-3.3420e-01,  6.8198e-01,  7.4393e-02, -4.1525e-01,  6.2184e-01]],\n",
      "\n",
      "          [[ 6.5577e-01,  4.8814e-01, -2.0898e-01, -8.9701e-01,  5.9772e-01],\n",
      "           [ 4.8813e-01, -1.2216e+00,  1.0751e+00, -2.2106e+00, -1.1146e-03],\n",
      "           [-6.0371e-01,  2.3495e+00,  4.5306e-01,  6.8652e-01,  7.3704e-01],\n",
      "           ...,\n",
      "           [-2.3036e-01, -8.7647e-01, -1.6306e-01,  2.3250e-01,  1.7596e+00],\n",
      "           [-1.2134e+00,  1.1044e+00,  9.8171e-02, -2.5975e-01,  1.3708e-01],\n",
      "           [ 5.3788e-02,  9.0993e-01, -3.3614e-01,  8.4287e-01,  5.6220e-01]],\n",
      "\n",
      "          [[ 1.2778e+00, -1.0651e+00, -1.2143e+00,  1.6516e+00, -1.6907e+00],\n",
      "           [-9.5207e-01,  3.1566e-05,  2.1214e-02,  4.7134e-01,  1.6363e+00],\n",
      "           [-7.4569e-01, -7.4815e-01, -2.0648e+00, -1.0784e+00,  5.7380e-01],\n",
      "           ...,\n",
      "           [-1.9104e+00, -8.8660e-01,  3.8227e-01, -1.2727e+00,  1.0085e+00],\n",
      "           [ 6.1463e-01,  5.7766e-01, -1.3560e+00,  6.0415e-01,  3.4891e-01],\n",
      "           [ 7.7898e-01,  4.8680e-01,  1.8574e+00,  5.1189e-01, -7.3315e-01]]],\n",
      "\n",
      "\n",
      "         ...,\n",
      "\n",
      "\n",
      "         [[[-3.4024e-01,  1.2691e-01, -1.3195e+00, -8.7713e-01,  4.0484e-01],\n",
      "           [ 9.1987e-01,  3.6791e-01, -1.0227e+00, -6.4557e-01, -5.4385e-01],\n",
      "           [-1.4472e+00, -4.0530e-02, -2.0335e+00, -3.2659e-02,  6.0645e-01],\n",
      "           ...,\n",
      "           [ 1.4128e+00,  2.6122e+00, -3.9258e-01,  3.6425e-01, -1.4460e+00],\n",
      "           [ 7.6472e-01,  1.4790e-01, -1.9965e+00, -1.6655e-01,  2.2458e-01],\n",
      "           [ 1.1832e+00,  1.1369e+00,  9.3254e-01,  7.5814e-01,  1.0735e+00]],\n",
      "\n",
      "          [[ 8.0865e-01,  1.5634e+00,  2.1548e+00, -3.5468e-01, -3.0937e-01],\n",
      "           [ 1.2954e-01,  7.2730e-01, -9.7694e-01,  9.3555e-01, -7.4327e-01],\n",
      "           [ 1.2045e+00,  2.8739e-01,  1.9091e-01,  7.6362e-01,  3.1430e-01],\n",
      "           ...,\n",
      "           [-3.2143e-01,  5.9059e-01,  1.6684e-02,  1.3885e+00,  4.9518e-01],\n",
      "           [-3.9607e-01, -2.8968e-02,  3.0581e-01,  6.0104e-01, -9.7188e-02],\n",
      "           [-8.4981e-01,  7.5047e-02,  8.0178e-01,  5.9148e-01, -1.0148e+00]],\n",
      "\n",
      "          [[ 1.2246e+00, -1.2218e+00, -3.3636e-01, -1.0636e+00,  1.3451e+00],\n",
      "           [-5.0715e-01, -6.0619e-01,  5.0126e-01, -8.6052e-02,  3.9038e-01],\n",
      "           [-1.7083e+00, -9.2773e-01,  4.1159e-02,  1.6508e+00, -1.4439e+00],\n",
      "           ...,\n",
      "           [ 5.0382e-02,  8.2683e-01,  3.8510e-01, -1.4874e+00,  9.5861e-01],\n",
      "           [ 6.4359e-01, -2.4148e-01, -2.4743e-01,  7.6002e-01, -8.4265e-01],\n",
      "           [-5.8198e-01, -2.4030e+00, -1.5185e+00,  8.3708e-01, -5.4360e-01]]],\n",
      "\n",
      "\n",
      "         [[[ 1.7037e+00,  8.7869e-01, -1.2924e-02,  6.8748e-02,  2.3022e-01],\n",
      "           [ 8.3498e-01,  6.8645e-01, -1.1479e+00, -1.9298e+00, -2.2774e+00],\n",
      "           [ 2.4168e-01,  9.8098e-01, -3.1639e-01,  1.3645e+00,  1.8164e-02],\n",
      "           ...,\n",
      "           [ 1.2034e+00, -4.1965e-02, -3.9686e-01,  2.0743e+00, -8.5916e-01],\n",
      "           [-1.3638e+00,  9.5353e-02, -1.3016e+00, -3.7614e-01, -5.6122e-01],\n",
      "           [ 7.1702e-01, -1.0010e+00,  2.8978e-01, -6.0827e-01, -1.0721e+00]],\n",
      "\n",
      "          [[-6.8600e-01,  1.8874e-01,  3.3326e-01,  9.3080e-01,  1.1839e+00],\n",
      "           [ 2.4762e-01, -8.7884e-01, -8.3734e-01,  1.0550e+00, -1.5391e-01],\n",
      "           [ 1.1393e+00, -1.5415e+00, -2.5388e+00, -1.1663e-01, -9.2574e-01],\n",
      "           ...,\n",
      "           [ 7.1942e-01, -2.3266e-01, -9.4727e-01,  3.3722e-01, -1.1512e+00],\n",
      "           [-8.4494e-01, -9.7506e-01,  8.0955e-01,  1.6927e-01,  2.6008e-02],\n",
      "           [ 2.9222e-01,  1.4836e+00,  6.1233e-01, -1.6579e-01, -9.4495e-01]],\n",
      "\n",
      "          [[-1.4973e+00, -4.6211e-01,  1.6102e+00, -1.3984e+00, -2.1989e-01],\n",
      "           [ 2.1522e-01,  1.1144e+00, -1.5214e+00,  4.1169e-01,  4.6096e-01],\n",
      "           [-2.6884e-01,  1.8524e+00,  1.1866e+00, -5.8880e-01, -2.2975e+00],\n",
      "           ...,\n",
      "           [-1.7617e-01,  4.7200e-01, -2.0277e+00, -5.8110e-01,  8.0796e-02],\n",
      "           [-1.3767e-01,  1.1392e+00, -6.9050e-01,  6.7835e-01,  1.8290e-01],\n",
      "           [ 8.7276e-01,  1.0443e+00, -2.6959e-01,  1.3136e+00, -7.4090e-01]]],\n",
      "\n",
      "\n",
      "         [[[-8.3023e-01,  1.2319e+00,  2.1852e+00,  7.9500e-01,  4.2252e-01],\n",
      "           [-1.1069e+00, -1.6929e-01,  1.2272e-01,  1.0485e+00,  1.1507e+00],\n",
      "           [ 4.0910e-01, -1.1426e+00, -8.1316e-01,  8.2958e-01, -9.5716e-02],\n",
      "           ...,\n",
      "           [-7.1887e-02,  1.1397e+00, -1.2044e+00,  2.0568e-01, -5.9969e-01],\n",
      "           [ 1.4017e+00, -3.5176e-01,  8.0489e-01, -1.8192e-01,  3.8181e-01],\n",
      "           [-8.9798e-01,  1.1741e+00,  2.3702e-01,  4.8535e-01, -1.2282e+00]],\n",
      "\n",
      "          [[ 1.1912e+00, -9.3917e-01,  1.3369e+00, -1.2015e+00,  1.5688e-01],\n",
      "           [-2.5733e+00,  1.1107e+00,  1.1436e+00,  1.8850e+00, -1.2216e+00],\n",
      "           [-1.7553e+00,  2.9617e-01, -1.9279e+00,  5.7326e-01, -2.1638e-01],\n",
      "           ...,\n",
      "           [-1.3290e+00, -2.4079e+00,  1.0980e+00,  1.5895e+00, -9.2227e-02],\n",
      "           [ 2.7936e-02,  4.5017e-01,  9.6180e-01, -8.4528e-02,  3.0639e-01],\n",
      "           [ 2.6295e-01, -1.5199e+00, -2.5111e-01, -7.0149e-01,  1.0235e+00]],\n",
      "\n",
      "          [[-6.0125e-01, -6.0996e-01,  2.2145e-02,  2.4889e-01,  1.4500e+00],\n",
      "           [ 1.2573e+00, -8.9212e-01, -3.7067e-02, -4.6263e-01,  9.2923e-01],\n",
      "           [ 8.0532e-01, -1.8392e+00,  1.4784e+00,  1.0414e+00,  1.3450e-01],\n",
      "           ...,\n",
      "           [ 2.6494e-01, -1.0796e+00,  6.5762e-01, -4.9009e-01, -1.2186e+00],\n",
      "           [-3.3496e-01,  7.9856e-01, -1.2524e-01, -2.6399e-01, -6.0158e-01],\n",
      "           [-9.0428e-01,  7.0249e-01, -1.5519e-01,  5.3003e-01, -3.1506e-01]]]]])\n",
      "tensor([[[[[ 3.8768e+00,  7.1897e-01, -2.3198e+00,  ...,  1.0539e+00,\n",
      "             3.7996e+00, -1.8164e+00],\n",
      "           [-7.5398e-01, -6.3052e+00,  5.7534e+00,  ..., -4.3947e+00,\n",
      "             2.0046e+00,  1.3169e+00],\n",
      "           [ 3.6809e+00,  1.6331e+00,  1.3593e+00,  ..., -1.1101e+00,\n",
      "            -2.0715e+00, -7.1633e-01],\n",
      "           ...,\n",
      "           [ 3.6181e+00, -7.0419e+00, -4.3524e+00,  ..., -2.6884e-01,\n",
      "            -1.4682e+00,  2.7451e-02],\n",
      "           [-1.5570e+00,  1.5421e+00, -2.1593e+00,  ..., -1.6791e+00,\n",
      "             9.0251e-01,  1.2212e-01],\n",
      "           [-5.6893e-01, -5.5938e+00,  3.5307e+00,  ...,  2.6412e+00,\n",
      "            -1.2164e+00, -2.9907e+00]],\n",
      "\n",
      "          [[ 4.8898e+00, -2.7490e+00,  2.0942e+00,  ...,  2.3135e+00,\n",
      "             1.3149e+00, -4.2373e+00],\n",
      "           [-1.5266e+00,  5.1782e+00, -1.6041e+00,  ...,  1.7423e+00,\n",
      "             3.1722e+00, -2.4608e+00],\n",
      "           [-2.9490e+00, -2.6171e+00, -5.0871e-01,  ...,  2.0183e+00,\n",
      "             1.6385e+00,  7.8961e-01],\n",
      "           ...,\n",
      "           [ 4.3699e-01, -3.8606e+00,  2.7587e-01,  ..., -1.6027e+00,\n",
      "             2.1336e+00, -7.7182e+00],\n",
      "           [-6.8063e-01,  6.7953e-02,  1.2242e+00,  ...,  1.2670e+00,\n",
      "            -3.4717e-01,  7.9108e-02],\n",
      "           [-1.8463e+00,  3.0205e+00,  1.3144e+00,  ..., -6.4435e+00,\n",
      "            -4.4416e+00,  1.5517e+00]],\n",
      "\n",
      "          [[-1.9585e+00,  1.0295e+00, -3.8651e+00,  ..., -6.0667e+00,\n",
      "             3.1249e+00,  6.3855e+00],\n",
      "           [ 1.7540e+00, -3.3165e+00,  9.5531e-01,  ..., -1.4368e+00,\n",
      "            -5.8712e-01, -5.6856e-01],\n",
      "           [ 2.6377e-01,  2.4648e+00,  3.5039e+00,  ...,  2.2147e+00,\n",
      "             2.0386e-01, -5.3405e-01],\n",
      "           ...,\n",
      "           [ 2.4871e+00,  2.6564e+00, -1.4029e+00,  ...,  8.3260e-01,\n",
      "             8.9649e-01,  1.3921e+00],\n",
      "           [ 1.8846e+00,  1.7166e+00,  2.9778e+00,  ...,  5.2304e+00,\n",
      "             8.4067e-02,  6.9116e-01],\n",
      "           [-2.1169e+00,  1.6181e+00,  2.8098e+00,  ...,  5.3601e-01,\n",
      "            -4.0545e+00, -1.2129e-01]],\n",
      "\n",
      "          ...,\n",
      "\n",
      "          [[-2.2752e+00, -2.3398e-01,  9.4412e-01,  ...,  1.7690e+00,\n",
      "             3.2920e+00,  8.8815e-01],\n",
      "           [-7.7616e-01,  1.8411e+00, -1.5327e+00,  ..., -6.0306e+00,\n",
      "             2.7630e-01, -2.3564e-01],\n",
      "           [-3.2799e+00,  6.3488e+00, -5.3290e+00,  ..., -3.6343e+00,\n",
      "            -2.0326e-01, -2.2952e+00],\n",
      "           ...,\n",
      "           [ 3.2220e+00, -1.4767e-02,  1.8181e+00,  ..., -4.9539e-01,\n",
      "            -1.1146e-01,  2.0475e+00],\n",
      "           [-2.5787e+00,  2.3542e+00, -3.3822e+00,  ..., -1.4328e+00,\n",
      "             3.4383e+00,  4.5945e+00],\n",
      "           [ 7.6776e-01, -1.1935e+00, -3.2560e+00,  ..., -1.3063e+00,\n",
      "            -1.2563e+00,  1.8714e+00]],\n",
      "\n",
      "          [[-2.8945e+00,  7.5049e+00,  2.5175e+00,  ..., -4.5407e+00,\n",
      "            -2.8062e-01,  5.6927e-01],\n",
      "           [ 1.9610e+00,  7.2155e-01,  2.3125e+00,  ..., -3.0831e-02,\n",
      "             1.0037e+00,  2.2139e+00],\n",
      "           [-2.4159e+00,  4.3242e+00,  2.2946e+00,  ..., -6.7274e+00,\n",
      "             2.7080e+00, -3.4506e+00],\n",
      "           ...,\n",
      "           [-2.3747e+00, -1.5672e+00,  2.2860e-01,  ..., -5.2134e+00,\n",
      "             3.4968e+00,  1.6958e+00],\n",
      "           [-2.1259e-01,  5.1310e-01, -1.6691e+00,  ...,  2.1942e-01,\n",
      "            -4.3377e+00,  1.0730e+00],\n",
      "           [-1.7985e+00, -1.8888e+00, -2.1942e+00,  ..., -5.5861e+00,\n",
      "            -1.7804e+00, -1.3550e+00]],\n",
      "\n",
      "          [[-4.8740e+00, -1.3205e+00, -6.1913e-02,  ...,  5.1730e+00,\n",
      "            -8.6413e-01,  3.0297e-01],\n",
      "           [-1.4648e+00, -2.8443e-01, -1.1433e+00,  ...,  8.2047e+00,\n",
      "             3.3539e+00, -1.7926e+00],\n",
      "           [ 2.2807e+00,  6.7554e+00, -8.5910e+00,  ...,  1.6569e+00,\n",
      "            -4.6735e+00, -8.2498e-01],\n",
      "           ...,\n",
      "           [-9.2474e-01, -2.7644e+00, -2.5183e+00,  ..., -4.1547e+00,\n",
      "            -1.1224e+00, -8.3236e-01],\n",
      "           [-1.4077e-02, -4.2979e+00,  2.9731e+00,  ..., -1.9626e+00,\n",
      "            -1.9823e+00, -1.0847e+00],\n",
      "           [ 5.2212e+00, -4.9289e+00,  7.1412e-01,  ...,  2.0069e+00,\n",
      "             5.0524e-01,  1.7440e+00]]],\n",
      "\n",
      "\n",
      "         [[[-4.0161e+00, -3.2941e+00,  1.0075e+00,  ..., -1.5218e+00,\n",
      "             3.9382e+00, -2.4744e+00],\n",
      "           [-7.4427e+00, -6.2355e+00,  1.7529e+00,  ..., -4.1491e+00,\n",
      "             5.3168e+00, -1.1163e+01],\n",
      "           [ 9.3122e+00, -1.0669e+00, -4.3209e+00,  ..., -1.4959e+00,\n",
      "             5.2134e+00, -1.8687e+00],\n",
      "           ...,\n",
      "           [-1.4259e+00,  2.3627e+00,  3.6173e+00,  ..., -2.7698e+00,\n",
      "            -2.6095e+00, -8.7075e+00],\n",
      "           [-2.0368e+00,  4.5568e+00,  3.2451e+00,  ...,  3.9098e+00,\n",
      "             1.9790e+00, -5.1776e+00],\n",
      "           [-1.3744e+00,  6.3843e-01, -6.4996e-01,  ...,  4.7227e+00,\n",
      "             2.7305e+00,  3.3962e+00]],\n",
      "\n",
      "          [[-5.1805e+00, -6.5299e-01, -4.5383e+00,  ..., -3.4125e+00,\n",
      "            -1.1939e+01,  6.5195e+00],\n",
      "           [-2.1024e+00, -1.0008e+00, -3.4884e+00,  ..., -2.4733e+00,\n",
      "             6.4176e+00, -4.2970e+00],\n",
      "           [ 2.1668e+00, -3.7401e+00, -1.0502e+01,  ..., -8.4052e+00,\n",
      "             2.2210e+00,  7.7163e+00],\n",
      "           ...,\n",
      "           [ 3.9080e+00, -3.4453e+00, -2.2597e+00,  ..., -2.0355e+00,\n",
      "            -1.2797e+00,  1.4423e+00],\n",
      "           [ 3.6307e+00,  4.9211e-01,  1.1886e+00,  ..., -5.7148e+00,\n",
      "             1.0644e+00,  5.6632e+00],\n",
      "           [-5.2069e+00,  4.8769e+00, -4.7871e-01,  ...,  6.8451e+00,\n",
      "            -9.4441e-01,  7.7819e+00]],\n",
      "\n",
      "          [[ 5.2060e+00,  5.5049e+00, -2.1438e+00,  ..., -5.2965e+00,\n",
      "             5.3562e+00, -4.2853e+00],\n",
      "           [ 2.8153e+00, -4.4739e+00,  4.4313e-01,  ..., -2.1307e+00,\n",
      "             3.7077e+00, -3.5749e+00],\n",
      "           [ 8.1400e+00,  4.9383e+00, -5.0661e-01,  ...,  2.8054e+00,\n",
      "            -7.4691e+00,  3.4801e+00],\n",
      "           ...,\n",
      "           [-1.2256e+01, -6.7682e+00,  4.0009e+00,  ..., -4.9647e-02,\n",
      "             8.8901e-01, -7.3432e+00],\n",
      "           [ 7.2588e+00,  1.5252e+00,  8.0407e+00,  ...,  1.4472e+00,\n",
      "            -8.4200e-01,  3.2297e+00],\n",
      "           [-6.2622e-01, -2.4583e-01,  1.6086e+00,  ...,  4.7865e-01,\n",
      "            -2.0703e+00, -6.8369e+00]],\n",
      "\n",
      "          ...,\n",
      "\n",
      "          [[-4.4636e-01,  7.6922e-01, -8.0437e+00,  ..., -4.6122e-01,\n",
      "             7.3916e+00,  2.0870e+00],\n",
      "           [ 3.2265e+00,  9.6923e-01, -4.3799e+00,  ..., -4.9048e+00,\n",
      "             9.1420e-01, -9.9245e-01],\n",
      "           [-2.0558e+00, -5.4199e+00,  3.4030e+00,  ..., -1.2946e-01,\n",
      "             6.8000e+00,  1.4586e+00],\n",
      "           ...,\n",
      "           [-7.5471e-01,  3.7810e+00, -2.7396e+00,  ..., -7.6354e-01,\n",
      "            -3.5752e+00, -3.8622e+00],\n",
      "           [-2.6713e+00,  2.4246e-01,  1.2259e+00,  ..., -9.3291e+00,\n",
      "             9.1204e-01,  5.9149e+00],\n",
      "           [-4.3257e+00,  1.9600e+00, -5.5690e+00,  ...,  4.8730e+00,\n",
      "             5.1872e+00,  6.5425e+00]],\n",
      "\n",
      "          [[ 8.9619e-01, -1.7505e+00, -4.0675e+00,  ..., -2.6107e+00,\n",
      "             6.1446e+00, -5.6778e+00],\n",
      "           [-3.9988e+00,  2.0766e+00,  9.0249e+00,  ..., -6.2666e+00,\n",
      "            -6.4758e+00,  1.7914e+00],\n",
      "           [-1.1179e+01, -7.0941e+00, -7.2376e-01,  ..., -3.5888e+00,\n",
      "             6.0465e-01, -3.3797e-01],\n",
      "           ...,\n",
      "           [-1.3568e+00, -3.2191e+00,  2.8431e+00,  ..., -3.3521e-01,\n",
      "            -5.2241e+00, -1.7659e+00],\n",
      "           [ 4.6001e+00,  3.5018e+00,  4.3140e+00,  ..., -8.1582e-01,\n",
      "            -7.1374e+00, -4.7467e+00],\n",
      "           [ 4.0283e+00, -6.1922e-01, -3.7694e+00,  ...,  1.3604e+00,\n",
      "             1.9566e+00,  1.0378e+01]],\n",
      "\n",
      "          [[ 1.6544e+00,  3.1848e+00,  3.6550e+00,  ..., -1.4964e+01,\n",
      "             1.1151e+00, -5.6990e+00],\n",
      "           [-3.1862e+00,  3.7384e+00, -8.2594e-01,  ...,  7.0109e+00,\n",
      "            -4.1796e+00, -3.1209e+00],\n",
      "           [ 3.0280e+00,  3.4774e+00,  3.8477e+00,  ...,  6.6208e+00,\n",
      "             2.9145e+00,  1.1388e+00],\n",
      "           ...,\n",
      "           [ 5.4400e+00, -4.4965e-01,  6.0735e-01,  ..., -4.6908e+00,\n",
      "             2.2731e-01,  2.1178e+00],\n",
      "           [ 1.1100e+00, -6.1081e+00, -1.4562e+01,  ..., -6.7990e+00,\n",
      "            -2.7409e+00, -5.5259e-01],\n",
      "           [ 2.8769e+00,  4.0852e+00,  7.7613e+00,  ..., -3.9158e+00,\n",
      "            -3.0720e-01, -4.2297e+00]]],\n",
      "\n",
      "\n",
      "         [[[-3.0555e+00,  6.3835e+00, -1.4510e+00,  ...,  1.8178e+00,\n",
      "             7.0229e-01,  1.3712e+00],\n",
      "           [-2.2600e+00,  3.9052e+00,  2.6084e+00,  ..., -1.2212e+00,\n",
      "            -2.7705e-01, -9.9217e-01],\n",
      "           [ 1.5444e+00, -1.3755e+00, -3.3633e+00,  ...,  1.4193e+00,\n",
      "             1.1877e+00,  1.3835e+00],\n",
      "           ...,\n",
      "           [ 4.9653e+00, -6.2278e+00, -5.1904e+00,  ...,  1.1335e+01,\n",
      "             5.8996e+00,  1.4881e+00],\n",
      "           [-4.0639e+00, -9.0792e+00,  2.2523e+00,  ..., -1.2129e+00,\n",
      "             1.0466e+00,  1.6735e+00],\n",
      "           [-5.0281e+00, -2.3772e+00, -6.1587e-01,  ...,  6.0496e-01,\n",
      "            -5.2287e-01, -6.3624e+00]],\n",
      "\n",
      "          [[ 1.3923e-01, -2.2722e+00,  6.6194e+00,  ...,  5.8188e-01,\n",
      "             6.2426e+00, -3.0321e+00],\n",
      "           [-5.0300e+00,  9.1026e+00,  3.6439e-01,  ..., -2.2975e+00,\n",
      "            -5.1347e-01,  4.9162e+00],\n",
      "           [ 3.1418e+00,  2.7737e+00,  1.5801e+00,  ...,  1.5341e+00,\n",
      "            -2.1093e+00,  5.4503e+00],\n",
      "           ...,\n",
      "           [-7.8346e-01, -5.6134e+00, -9.7905e+00,  ...,  5.3037e+00,\n",
      "             8.7251e-01,  2.9730e+00],\n",
      "           [-3.8040e+00,  6.6224e+00,  7.5694e+00,  ...,  1.2192e+00,\n",
      "            -2.4597e+00, -6.9132e+00],\n",
      "           [-3.3705e+00, -4.5408e+00, -4.1443e+00,  ...,  7.0623e+00,\n",
      "            -8.2977e+00, -3.5507e+00]],\n",
      "\n",
      "          [[-2.4346e+00, -1.6361e+00, -3.0456e+00,  ..., -5.6423e+00,\n",
      "            -5.9688e+00,  2.0275e+00],\n",
      "           [ 6.6668e-02,  6.7891e+00, -1.0135e-01,  ..., -5.5330e+00,\n",
      "             3.7690e+00,  6.2256e+00],\n",
      "           [ 1.0118e+00, -4.8488e-01,  3.0148e+00,  ...,  4.1448e+00,\n",
      "             9.4485e+00,  7.1144e-01],\n",
      "           ...,\n",
      "           [ 4.9879e+00,  2.3463e+00, -2.8564e+00,  ..., -2.8518e+00,\n",
      "            -5.4480e+00,  8.5400e+00],\n",
      "           [-2.0812e+00, -3.9631e+00,  6.9959e+00,  ...,  4.2659e+00,\n",
      "            -3.6828e+00,  1.3318e+00],\n",
      "           [ 3.0339e+00,  6.3697e+00, -2.9887e+00,  ...,  1.7918e+00,\n",
      "             3.6552e+00, -2.7559e+00]],\n",
      "\n",
      "          ...,\n",
      "\n",
      "          [[ 2.1334e+00, -9.3821e+00, -5.1106e+00,  ..., -2.6503e+00,\n",
      "            -7.0219e+00,  6.5635e+00],\n",
      "           [ 1.8804e+00,  6.5838e+00, -1.6778e-02,  ...,  9.4371e-01,\n",
      "            -1.2487e+00, -1.1883e+01],\n",
      "           [-3.2142e+00,  5.5244e+00, -4.6220e+00,  ..., -3.7658e+00,\n",
      "            -9.1653e-02, -1.0462e+00],\n",
      "           ...,\n",
      "           [-1.1127e+00, -3.7766e+00, -3.0255e+00,  ..., -8.2723e-02,\n",
      "             4.8236e+00, -3.2002e+00],\n",
      "           [-3.6697e+00, -1.7976e+00,  3.7223e+00,  ..., -3.6217e-01,\n",
      "            -2.2978e+00, -1.1319e+00],\n",
      "           [ 3.4571e+00,  5.8764e+00,  6.8530e-01,  ..., -2.2742e+00,\n",
      "             9.6155e-02, -5.9275e+00]],\n",
      "\n",
      "          [[-4.0132e+00, -4.0745e-01, -1.6549e+00,  ...,  9.7905e-01,\n",
      "             8.4823e-01,  3.8626e+00],\n",
      "           [ 8.3824e-01,  3.9589e-01, -2.9233e+00,  ..., -2.6637e+00,\n",
      "             7.6638e+00, -3.0766e+00],\n",
      "           [ 3.0096e+00,  4.0684e+00,  1.0608e+01,  ...,  4.5538e+00,\n",
      "            -2.6408e+00,  4.4523e+00],\n",
      "           ...,\n",
      "           [-1.2014e+00,  4.9428e+00,  3.1616e+00,  ...,  4.9084e+00,\n",
      "            -6.2672e+00,  5.1060e+00],\n",
      "           [ 3.4913e+00, -2.6419e+00,  5.2447e-01,  ..., -4.3594e+00,\n",
      "             1.6348e+00,  7.5902e+00],\n",
      "           [-6.7159e+00,  3.7500e+00, -3.8578e+00,  ...,  2.7366e+00,\n",
      "             2.2804e+00, -6.0894e+00]],\n",
      "\n",
      "          [[ 3.7640e+00, -4.6912e+00, -1.0017e+00,  ..., -1.4334e+00,\n",
      "            -2.4217e+00,  3.2811e+00],\n",
      "           [-5.3527e+00,  7.9143e+00, -3.0703e+00,  ..., -8.2787e+00,\n",
      "             3.0497e+00,  1.3398e+00],\n",
      "           [-1.9334e+00,  4.6169e-01, -6.7647e-01,  ..., -3.5187e+00,\n",
      "             1.6220e+00,  1.9465e+00],\n",
      "           ...,\n",
      "           [ 6.4928e+00, -5.2852e+00,  3.1809e+00,  ..., -2.7964e+00,\n",
      "            -4.4729e+00, -3.6789e+00],\n",
      "           [-3.3370e+00, -7.5020e+00, -1.6974e-01,  ..., -2.7440e+00,\n",
      "            -6.2653e-01,  2.7081e-01],\n",
      "           [ 9.1265e+00, -1.4475e+00, -1.0944e+01,  ..., -4.7288e+00,\n",
      "             8.8896e-01,  1.3280e+00]]],\n",
      "\n",
      "\n",
      "         ...,\n",
      "\n",
      "\n",
      "         [[[-3.9366e-01, -3.1852e+00,  1.3969e+00,  ...,  2.4534e+00,\n",
      "            -3.2627e-02, -7.6987e-01],\n",
      "           [-3.8378e-01, -2.6879e+00,  2.7378e+00,  ...,  3.0715e-01,\n",
      "             7.3813e-01,  7.8967e-01],\n",
      "           [-2.0216e-01, -2.3775e+00,  9.9554e-01,  ..., -1.3391e+00,\n",
      "            -7.3890e-01, -3.6134e+00],\n",
      "           ...,\n",
      "           [ 1.5823e+00,  2.1014e+00,  2.1318e+00,  ..., -1.4185e+00,\n",
      "            -4.0360e-01, -2.7905e+00],\n",
      "           [-1.1939e+00, -2.9071e+00,  2.7484e+00,  ..., -2.4602e-01,\n",
      "            -2.3610e+00,  1.2192e+00],\n",
      "           [-1.8491e-02,  1.3442e-01, -1.6864e+00,  ...,  1.6916e+00,\n",
      "            -1.0794e+00, -3.1490e+00]],\n",
      "\n",
      "          [[ 3.7842e-01, -5.1398e-01,  1.8534e+00,  ..., -5.9350e-01,\n",
      "            -2.3603e+00,  2.2508e+00],\n",
      "           [-1.3727e+00,  5.5397e+00,  1.1951e+00,  ..., -3.1342e+00,\n",
      "             1.0705e-01, -1.1162e+00],\n",
      "           [ 2.0031e+00, -1.1546e+00,  6.4086e-01,  ..., -6.9429e-01,\n",
      "             2.1274e-01,  6.5233e+00],\n",
      "           ...,\n",
      "           [ 2.3272e+00, -1.3555e+00,  4.7819e-01,  ..., -1.0204e+00,\n",
      "            -5.7846e-01, -4.1020e+00],\n",
      "           [-1.0145e+00,  3.3340e-01,  2.6211e+00,  ...,  2.7225e-01,\n",
      "             4.8152e-01, -2.9665e+00],\n",
      "           [-1.5565e+00,  5.2210e+00, -1.1282e-01,  ...,  5.3893e-01,\n",
      "            -1.6206e+00,  1.0517e+00]],\n",
      "\n",
      "          [[ 2.0834e+00,  1.0851e+00,  2.2690e+00,  ..., -1.8025e+00,\n",
      "            -9.3723e-01, -5.0838e+00],\n",
      "           [-2.4107e+00,  4.3949e-01,  2.0187e+00,  ..., -7.0521e-01,\n",
      "             1.3606e+00, -1.0277e+00],\n",
      "           [ 9.9715e-01,  2.6235e+00,  1.3020e+00,  ..., -1.7734e+00,\n",
      "            -1.1951e+00,  2.5030e+00],\n",
      "           ...,\n",
      "           [-3.4483e+00, -3.3102e+00, -1.5944e+00,  ..., -7.9980e-01,\n",
      "            -1.9428e+00, -6.0661e-01],\n",
      "           [ 5.4241e-01, -2.4535e+00,  4.1383e+00,  ...,  8.1611e-01,\n",
      "            -3.2730e-01, -1.3371e+00],\n",
      "           [-3.5310e-01,  4.2759e-01,  3.7701e+00,  ...,  7.8254e-01,\n",
      "             1.3443e+00, -2.5104e+00]],\n",
      "\n",
      "          ...,\n",
      "\n",
      "          [[-2.3301e-01, -1.6742e+00, -1.7790e+00,  ..., -1.2561e+00,\n",
      "             1.7205e+00,  2.5508e+00],\n",
      "           [ 3.1017e+00, -1.1813e+00, -2.0844e+00,  ..., -1.9506e+00,\n",
      "            -8.7576e-01, -5.4490e+00],\n",
      "           [ 4.4544e-01,  2.8329e+00, -1.5541e+00,  ...,  7.7836e-01,\n",
      "             3.7242e+00,  4.6457e-01],\n",
      "           ...,\n",
      "           [ 4.6477e-01, -2.3278e+00, -3.9466e+00,  ...,  1.5281e+00,\n",
      "            -7.9052e-01, -9.2828e-02],\n",
      "           [-2.1492e-01, -2.3398e-01,  6.4963e-01,  ..., -2.4800e+00,\n",
      "             4.6658e-01,  1.4750e+00],\n",
      "           [-2.1869e+00,  1.1047e-01, -3.1926e+00,  ...,  7.8268e-02,\n",
      "             6.4109e-01,  2.1060e+00]],\n",
      "\n",
      "          [[-1.9550e+00, -4.9288e-01, -1.3967e+00,  ..., -7.3478e-01,\n",
      "             2.7064e+00, -2.0359e+00],\n",
      "           [-4.6525e-01,  7.2717e-01,  2.6426e-01,  ..., -1.3322e+00,\n",
      "            -6.3056e-01,  8.7887e-01],\n",
      "           [ 8.4557e-02, -2.1584e+00, -1.0343e+00,  ...,  3.3326e-01,\n",
      "            -1.1936e+00,  9.0873e-01],\n",
      "           ...,\n",
      "           [-2.5103e+00, -1.7680e+00,  3.2714e-01,  ...,  3.8529e+00,\n",
      "            -4.3041e+00, -8.5061e-01],\n",
      "           [ 2.3415e-01, -6.7540e-01,  4.2349e+00,  ..., -1.0741e+00,\n",
      "             9.1973e-01,  2.1144e-01],\n",
      "           [-6.1053e-01, -2.9199e-01,  1.0256e+00,  ..., -1.4012e+00,\n",
      "             2.3146e+00,  2.1157e+00]],\n",
      "\n",
      "          [[ 4.5182e-01,  1.2789e+00,  4.9177e+00,  ..., -3.6954e+00,\n",
      "            -1.6245e-01, -1.3482e+00],\n",
      "           [-2.6703e+00,  1.8614e-01, -1.2485e+00,  ...,  1.7096e+00,\n",
      "             1.2403e+00,  1.0996e+00],\n",
      "           [-5.8587e-01,  2.0701e+00,  2.9888e+00,  ...,  3.0311e+00,\n",
      "            -2.5806e-01, -1.6187e+00],\n",
      "           ...,\n",
      "           [ 3.1477e+00, -5.9380e-01,  8.2992e-01,  ..., -1.4758e+00,\n",
      "            -1.3622e+00,  4.1016e-01],\n",
      "           [-1.0997e+00,  1.3673e+00, -5.9868e+00,  ..., -2.6267e+00,\n",
      "             1.0837e+00, -2.1678e+00],\n",
      "           [ 3.8334e+00, -1.8944e-01, -2.0926e+00,  ...,  4.2763e-01,\n",
      "            -1.2599e+00,  6.3222e-01]]],\n",
      "\n",
      "\n",
      "         [[[-4.2230e+00, -2.9549e-01, -1.1175e+00,  ...,  4.0722e-01,\n",
      "            -9.2234e-02,  3.9443e-01],\n",
      "           [ 2.5751e+00,  1.6153e+00, -2.9912e+00,  ..., -4.3844e+00,\n",
      "            -4.4813e+00,  1.6921e+00],\n",
      "           [-4.5041e+00, -3.6749e+00, -2.8890e+00,  ..., -1.3804e+00,\n",
      "             2.1544e+00,  1.4235e+00],\n",
      "           ...,\n",
      "           [-8.3624e+00,  4.6593e+00,  4.0911e+00,  ..., -3.2182e+00,\n",
      "            -2.0198e+00,  2.7761e+00],\n",
      "           [ 1.8766e+00,  2.6925e+00,  2.9726e+00,  ..., -1.9418e+00,\n",
      "             1.4841e+00, -7.7623e+00],\n",
      "           [ 4.6885e+00,  5.2449e+00, -5.5264e+00,  ..., -4.1705e+00,\n",
      "             5.5666e+00,  6.9097e+00]],\n",
      "\n",
      "          [[-3.8462e+00,  2.4242e+00, -5.8760e-01,  ..., -1.6063e-01,\n",
      "             1.3035e+00, -1.1148e+00],\n",
      "           [ 4.5999e+00, -1.0058e+01,  2.1507e+00,  ..., -2.3973e-01,\n",
      "             2.4410e+00, -2.0782e+00],\n",
      "           [ 5.7223e-01,  6.5049e-02, -5.7086e+00,  ..., -3.9925e+00,\n",
      "             1.0573e+00, -9.5302e+00],\n",
      "           ...,\n",
      "           [-2.1315e+00,  1.1603e-01,  4.6627e+00,  ..., -6.7592e-01,\n",
      "            -5.6467e+00,  1.4246e+00],\n",
      "           [ 3.8719e+00, -2.2029e+00, -7.4923e+00,  ..., -9.1696e-01,\n",
      "             4.9894e+00,  6.8415e+00],\n",
      "           [ 1.6979e+00, -6.7862e+00, -2.3383e+00,  ..., -1.2861e+00,\n",
      "             5.2115e+00,  2.9331e+00]],\n",
      "\n",
      "          [[ 1.5851e+00, -3.9764e+00, -1.0084e+00,  ...,  2.2729e+00,\n",
      "             8.4688e-01,  3.7536e-02],\n",
      "           [-1.0271e+00, -1.1290e+00,  3.9150e+00,  ...,  2.9631e-01,\n",
      "            -7.8994e-01, -1.1535e-01],\n",
      "           [-9.5547e-01, -7.9226e-01, -8.5386e-01,  ..., -2.3734e+00,\n",
      "            -1.3622e+00, -3.3313e-01],\n",
      "           ...,\n",
      "           [-5.1241e+00, -2.4409e+00,  4.5034e-01,  ...,  3.0527e+00,\n",
      "            -4.0835e-03,  2.4391e-01],\n",
      "           [ 1.5193e+00,  2.6656e+00, -9.9093e-01,  ..., -5.3553e+00,\n",
      "            -4.6983e+00, -4.7317e+00],\n",
      "           [-4.6216e+00, -5.6073e+00, -1.8634e+00,  ...,  3.3270e+00,\n",
      "             2.8322e+00,  3.5595e+00]],\n",
      "\n",
      "          ...,\n",
      "\n",
      "          [[-2.3933e+00,  3.4401e+00,  1.4971e+00,  ..., -3.9977e+00,\n",
      "             5.1994e-01, -3.7158e+00],\n",
      "           [-2.1692e+00, -5.7126e+00,  3.0761e+00,  ...,  2.0950e+00,\n",
      "            -7.7580e-01,  4.7705e+00],\n",
      "           [-3.5969e-01, -3.8778e+00,  4.1923e+00,  ...,  3.6156e+00,\n",
      "            -1.1947e+00,  4.7823e+00],\n",
      "           ...,\n",
      "           [-3.6873e+00,  2.9420e+00,  2.3281e+00,  ..., -7.8195e-01,\n",
      "            -5.5373e+00,  2.9469e+00],\n",
      "           [ 6.0825e+00, -9.1754e-01, -1.6991e+00,  ...,  2.5617e+00,\n",
      "             5.5651e-01, -4.9289e+00],\n",
      "           [ 1.9065e+00, -1.3907e+00,  4.7074e+00,  ...,  3.9108e+00,\n",
      "            -1.3033e+00, -1.1395e-01]],\n",
      "\n",
      "          [[ 8.3657e+00, -2.4131e+00, -1.8255e+00,  ...,  1.9150e+00,\n",
      "             7.4370e-01, -1.7831e+00],\n",
      "           [ 4.8031e-01, -1.2431e+00, -1.3207e+00,  ...,  2.5646e+00,\n",
      "            -3.7879e+00,  3.8323e-01],\n",
      "           [ 1.3784e+00, -4.0246e-01, -7.8025e+00,  ..., -2.6191e+00,\n",
      "             8.5189e-01, -1.6705e+00],\n",
      "           ...,\n",
      "           [ 3.8855e+00,  1.4540e+00,  5.3531e-01,  ...,  1.2693e+00,\n",
      "             3.3319e+00, -2.2858e+00],\n",
      "           [-2.3128e-01,  2.5382e+00, -2.5815e+00,  ..., -1.8076e+00,\n",
      "             1.0181e+00, -3.8106e+00],\n",
      "           [ 4.7011e+00, -1.4740e+00, -5.9497e-01,  ..., -1.3560e+00,\n",
      "             3.1163e-01, -1.3468e+00]],\n",
      "\n",
      "          [[ 8.4652e-01,  6.1476e+00, -2.4528e+00,  ..., -3.1241e+00,\n",
      "             5.8017e-01, -2.9807e+00],\n",
      "           [ 1.2407e+00,  7.8222e-01, -2.3728e-01,  ..., -2.1794e-01,\n",
      "            -8.5767e+00, -4.6022e+00],\n",
      "           [-3.9075e+00, -5.6644e+00,  1.2650e+00,  ..., -4.3353e-01,\n",
      "             9.3998e-01, -1.0520e+00],\n",
      "           ...,\n",
      "           [ 1.8829e-01,  3.9361e+00,  3.1985e+00,  ..., -1.0552e-01,\n",
      "             3.3918e+00, -2.8140e+00],\n",
      "           [ 1.6862e-01,  2.7648e+00, -8.3653e-01,  ...,  1.7218e+00,\n",
      "             3.1332e+00,  2.5427e+00],\n",
      "           [-9.5794e+00,  3.2296e+00,  6.1257e+00,  ...,  6.6150e-01,\n",
      "            -1.5008e+00, -2.3674e+00]]],\n",
      "\n",
      "\n",
      "         [[[-1.1113e+00,  2.7601e+00,  1.0486e+00,  ...,  3.5767e-01,\n",
      "            -3.0424e-01, -1.4644e+00],\n",
      "           [-2.6846e+00, -2.8353e+00,  2.9384e-01,  ..., -7.0415e+00,\n",
      "             3.1109e+00,  8.3586e-01],\n",
      "           [ 3.4041e-01, -2.2828e+00,  1.4232e-01,  ..., -1.5680e+00,\n",
      "            -4.7395e+00,  5.3513e-01],\n",
      "           ...,\n",
      "           [-1.0384e+00, -3.1927e+00, -2.5504e-01,  ...,  9.1713e-01,\n",
      "             5.1068e+00, -9.2693e-02],\n",
      "           [-3.9365e+00, -2.2795e+00,  7.4711e-02,  ..., -6.4966e+00,\n",
      "             1.6903e+00,  1.6316e+00],\n",
      "           [ 2.3471e-01, -2.5072e+00, -1.8967e+00,  ...,  2.2280e+00,\n",
      "            -3.9153e+00, -4.9104e+00]],\n",
      "\n",
      "          [[ 1.4353e+00,  1.2644e+00,  2.9841e+00,  ...,  1.9219e+00,\n",
      "             4.8038e+00, -4.1786e+00],\n",
      "           [-5.4693e-02,  5.8681e-01, -3.6847e-01,  ..., -7.4651e-01,\n",
      "            -7.5397e-01, -2.1762e+00],\n",
      "           [-1.1934e+00, -3.3165e+00,  2.0652e+00,  ...,  3.7082e+00,\n",
      "            -2.6082e-01, -1.1981e+00],\n",
      "           ...,\n",
      "           [-6.7246e+00, -5.4639e+00,  3.4054e+00,  ..., -7.4736e-01,\n",
      "             3.2821e+00, -5.5025e+00],\n",
      "           [-1.4941e+00, -1.5880e+00, -1.9582e+00,  ...,  4.9033e+00,\n",
      "            -8.0836e-01, -3.1935e+00],\n",
      "           [-2.1107e+00, -1.0673e+00,  3.7539e-01,  ..., -6.4530e+00,\n",
      "            -3.7255e+00,  7.7947e-01]],\n",
      "\n",
      "          [[ 1.9922e+00, -1.1604e+00, -1.0061e+00,  ..., -9.4542e+00,\n",
      "             7.0926e+00,  4.2635e+00],\n",
      "           [ 8.9311e+00, -4.1897e+00,  1.3379e-01,  ..., -9.9117e-01,\n",
      "            -4.8714e+00, -3.7225e-01],\n",
      "           [-2.9887e+00,  2.1665e+00,  5.9025e+00,  ...,  5.0020e+00,\n",
      "             3.1859e+00, -5.8030e+00],\n",
      "           ...,\n",
      "           [-2.0291e+00, -2.8954e-01, -3.5007e+00,  ..., -3.3787e+00,\n",
      "             1.3474e+00,  1.3101e+00],\n",
      "           [-2.6177e+00, -2.4168e+00,  5.2091e+00,  ...,  5.5361e+00,\n",
      "            -3.1992e+00, -2.9188e+00],\n",
      "           [ 2.0688e+00,  1.5050e+00,  3.1049e+00,  ...,  5.0750e-01,\n",
      "            -4.6570e+00, -1.5396e+00]],\n",
      "\n",
      "          ...,\n",
      "\n",
      "          [[-6.7711e+00, -4.5623e-02, -9.8333e-01,  ..., -1.9621e-01,\n",
      "             3.1423e+00, -1.3616e+00],\n",
      "           [ 3.3000e+00,  1.3049e-01,  1.2127e+00,  ..., -9.3769e+00,\n",
      "             4.1406e-01,  2.7443e+00],\n",
      "           [ 5.7635e-01,  9.0685e+00, -4.7324e+00,  ..., -7.0474e+00,\n",
      "             2.5020e-01, -9.8433e-02],\n",
      "           ...,\n",
      "           [-1.4053e+00,  1.5614e+00,  2.3234e+00,  ...,  5.9664e-01,\n",
      "             1.9285e+00, -1.2971e-01],\n",
      "           [-2.1595e+00,  1.8823e-01, -3.3559e+00,  ...,  3.3701e+00,\n",
      "             1.0865e-01,  5.4649e+00],\n",
      "           [-2.6056e+00, -4.5843e+00, -1.7456e+00,  ...,  2.2241e+00,\n",
      "            -3.4307e+00, -1.1083e+00]],\n",
      "\n",
      "          [[-2.2751e+00,  6.9076e+00, -1.6542e+00,  ..., -1.8027e+00,\n",
      "             1.7599e+00, -2.2725e-03],\n",
      "           [ 6.3162e+00,  5.3350e-01, -1.0420e+00,  ..., -6.8228e-02,\n",
      "             4.7527e+00,  4.0613e+00],\n",
      "           [ 2.0267e+00, -1.2110e+00,  2.9922e+00,  ..., -1.3396e+00,\n",
      "             3.1908e+00, -4.5138e+00],\n",
      "           ...,\n",
      "           [-4.2585e+00, -3.1316e+00,  5.8832e+00,  ..., -6.4996e-02,\n",
      "             1.6909e+00,  4.8934e+00],\n",
      "           [ 1.2744e+00,  3.3084e-01, -6.1691e+00,  ..., -1.8498e+00,\n",
      "             2.2966e+00,  1.9457e+00],\n",
      "           [-4.2767e-01, -1.8766e+00, -2.6376e+00,  ..., -5.4184e+00,\n",
      "            -4.6287e-01,  1.7914e+00]],\n",
      "\n",
      "          [[-4.7854e+00, -4.6616e+00, -3.1084e+00,  ...,  4.2694e+00,\n",
      "            -1.2733e+00,  1.3636e+00],\n",
      "           [-2.6269e+00,  1.5355e+00, -6.2626e-01,  ...,  6.7499e+00,\n",
      "             1.4943e+00, -4.0887e+00],\n",
      "           [ 1.7944e+00,  4.3944e+00, -4.2462e+00,  ..., -4.2565e-01,\n",
      "            -5.8381e+00, -1.8465e+00],\n",
      "           ...,\n",
      "           [ 4.9484e+00,  1.5679e+00, -4.1627e+00,  ...,  3.0929e+00,\n",
      "             1.1638e+00, -3.0276e+00],\n",
      "           [ 1.4254e-01,  2.6859e+00,  2.0362e+00,  ...,  2.5874e+00,\n",
      "            -2.2416e+00,  7.8364e-02],\n",
      "           [ 4.3053e-01, -5.5672e+00, -3.6980e-01,  ...,  8.0165e-01,\n",
      "            -4.4800e-01, -4.5404e-01]]]],\n",
      "\n",
      "\n",
      "\n",
      "        [[[[ 1.1738e+00,  1.3895e+00, -3.1817e+00,  ...,  2.0029e+00,\n",
      "             1.2966e+00, -1.0298e+00],\n",
      "           [ 9.6520e-01, -1.3470e+00,  1.1925e+01,  ...,  2.1311e+00,\n",
      "            -2.1405e+00, -4.3422e-01],\n",
      "           [ 2.8171e+00, -1.1912e+00, -1.3884e+00,  ..., -1.4111e+00,\n",
      "             5.0586e+00,  1.2205e+00],\n",
      "           ...,\n",
      "           [ 9.9325e+00, -1.6895e+00, -5.8857e+00,  ...,  3.3467e+00,\n",
      "            -3.9616e+00, -9.2118e-01],\n",
      "           [-4.4713e+00, -3.4542e+00,  2.8513e-02,  ...,  2.8788e+00,\n",
      "            -6.3038e-01,  3.2707e+00],\n",
      "           [-4.8625e+00, -3.6338e+00,  5.4214e+00,  ...,  3.1474e+00,\n",
      "             1.9765e+00, -4.7770e+00]],\n",
      "\n",
      "          [[ 4.5211e+00, -2.5242e+00,  1.4483e+00,  ..., -2.7658e+00,\n",
      "            -9.6462e+00, -1.8974e+00],\n",
      "           [-3.8744e+00,  1.3354e+01,  3.9396e-01,  ...,  8.5946e-01,\n",
      "            -1.6422e+00,  3.4365e+00],\n",
      "           [-4.4253e+00,  1.6001e+00,  3.0610e+00,  ...,  1.8833e+00,\n",
      "            -2.8522e+00,  9.6718e+00],\n",
      "           ...,\n",
      "           [ 3.5695e+00, -1.3711e+00, -4.7977e+00,  ..., -3.0593e+00,\n",
      "             1.3313e+00, -1.9472e+00],\n",
      "           [-4.8605e+00,  1.8994e+00,  1.1659e+01,  ..., -4.4271e+00,\n",
      "            -1.7671e+00, -2.2059e+00],\n",
      "           [-7.2746e+00,  7.8751e+00, -3.1321e+00,  ...,  5.5851e+00,\n",
      "            -3.4421e+00,  4.3228e-01]],\n",
      "\n",
      "          [[-4.3554e+00,  6.1530e+00,  2.2624e-01,  ...,  9.5496e-01,\n",
      "            -4.6687e+00, -1.0148e+00],\n",
      "           [-7.6712e+00,  4.9646e+00, -5.0497e+00,  ..., -4.5166e+00,\n",
      "             5.9296e+00, -2.2424e+00],\n",
      "           [-1.5126e+00,  1.3250e+00,  1.6480e+00,  ..., -1.3564e+00,\n",
      "            -2.1794e+00,  2.3980e+00],\n",
      "           ...,\n",
      "           [-1.7261e+00, -4.3831e-01, -1.1235e-02,  ..., -2.5692e-01,\n",
      "            -5.3687e+00,  1.1874e-01],\n",
      "           [-6.3896e-01,  1.0799e+00,  1.6750e+00,  ...,  4.9225e+00,\n",
      "             1.9063e+00,  5.0910e+00],\n",
      "           [-3.6768e+00,  7.1790e+00,  2.8371e+00,  ...,  4.2096e+00,\n",
      "             7.4454e-02, -6.2790e+00]],\n",
      "\n",
      "          ...,\n",
      "\n",
      "          [[ 2.0161e+00, -5.7674e+00, -5.0684e+00,  ...,  5.2707e+00,\n",
      "            -6.7485e+00,  4.1384e+00],\n",
      "           [-2.4990e-01,  2.1449e+00, -3.0793e+00,  ...,  2.3962e+00,\n",
      "             2.5581e+00, -1.0744e+01],\n",
      "           [-2.7233e+00,  5.0059e+00, -2.1963e+00,  ..., -2.7456e+00,\n",
      "             1.0047e+00, -2.0372e+00],\n",
      "           ...,\n",
      "           [ 6.7748e+00,  2.2917e+00, -3.4466e+00,  ...,  2.1733e+00,\n",
      "            -1.5400e+00,  3.2920e+00],\n",
      "           [-2.8176e+00, -4.5673e+00,  3.8266e+00,  ..., -7.7223e+00,\n",
      "            -1.1229e+00,  3.9471e+00],\n",
      "           [ 1.2263e+00,  6.5893e+00, -1.7645e+00,  ..., -7.2665e+00,\n",
      "             6.8465e+00,  3.5609e+00]],\n",
      "\n",
      "          [[-5.0636e+00,  7.0322e-01,  4.8968e+00,  ..., -1.5703e+00,\n",
      "            -8.1415e-01,  8.5429e-01],\n",
      "           [-5.5034e+00,  5.0973e-01,  2.1987e+00,  ..., -3.6831e+00,\n",
      "             1.5557e+00, -3.8897e+00],\n",
      "           [ 1.6678e+00,  5.3552e+00,  6.7455e+00,  ...,  2.2026e+00,\n",
      "            -3.3945e+00,  5.3129e+00],\n",
      "           ...,\n",
      "           [-4.6551e+00,  6.4035e+00, -6.9756e+00,  ..., -3.4468e+00,\n",
      "            -5.6826e+00,  3.7207e+00],\n",
      "           [ 1.5510e+00, -1.1814e+00,  5.2257e+00,  ...,  2.7641e+00,\n",
      "            -6.6150e-01,  4.2325e+00],\n",
      "           [-5.0851e+00, -8.1881e-01, -1.4519e+00,  ...,  4.7508e-01,\n",
      "             2.4880e+00, -3.7596e+00]],\n",
      "\n",
      "          [[-1.7814e+00,  4.4062e+00,  2.7097e+00,  ..., -1.6103e-02,\n",
      "            -1.9454e+00,  4.9643e+00],\n",
      "           [-7.0431e+00,  9.9921e-01,  1.3259e+00,  ..., -1.7734e+00,\n",
      "             6.0161e+00,  5.3671e+00],\n",
      "           [ 1.2908e+00,  3.2589e+00, -9.5026e-02,  ...,  4.6148e+00,\n",
      "            -1.5980e+00,  2.9277e+00],\n",
      "           ...,\n",
      "           [-3.0397e+00, -6.2659e+00, -5.3148e-01,  ..., -3.9805e+00,\n",
      "            -6.1457e+00, -5.2012e+00],\n",
      "           [ 4.2869e-01, -3.2811e+00, -1.1015e+00,  ..., -8.5957e+00,\n",
      "            -2.1853e-02, -1.2561e+00],\n",
      "           [ 8.6890e+00, -6.4281e+00, -7.9527e+00,  ..., -2.5129e+00,\n",
      "             2.4600e+00,  5.0927e+00]]],\n",
      "\n",
      "\n",
      "         [[[ 2.2041e+00, -4.2173e-01,  3.3085e+00,  ..., -2.8641e-01,\n",
      "            -7.6492e-01,  2.3812e+00],\n",
      "           [ 4.0441e+00, -3.7556e-01, -2.3730e+00,  ...,  4.6664e+00,\n",
      "             1.8039e+00, -4.3750e-01],\n",
      "           [ 3.0782e+00,  2.5997e+00,  6.0484e+00,  ...,  2.6712e+00,\n",
      "            -4.8866e+00, -1.9133e+00],\n",
      "           ...,\n",
      "           [ 4.5904e+00, -3.4064e+00,  8.0857e-01,  ..., -4.1182e+00,\n",
      "            -2.9506e+00, -1.0554e+00],\n",
      "           [ 1.4894e+00,  8.2093e-02, -5.2064e+00,  ..., -1.1598e+00,\n",
      "            -4.0481e+00,  1.0447e+01],\n",
      "           [ 1.8412e+00, -2.5880e+00,  3.8969e+00,  ...,  2.6768e+00,\n",
      "            -4.6011e+00, -1.7245e+00]],\n",
      "\n",
      "          [[ 4.5086e+00, -3.9626e+00, -3.2035e+00,  ..., -1.2448e+00,\n",
      "            -1.4551e+00,  7.4313e+00],\n",
      "           [ 1.3415e+00,  3.4467e+00, -1.5280e+00,  ...,  7.9132e-01,\n",
      "            -4.6707e+00,  7.4938e-01],\n",
      "           [-2.1915e+00, -7.0505e-01,  5.4444e+00,  ...,  2.1104e+00,\n",
      "            -3.4884e+00,  5.5885e+00],\n",
      "           ...,\n",
      "           [ 1.5326e+00,  3.8286e+00,  3.8328e+00,  ..., -3.5331e+00,\n",
      "             6.3411e-01, -4.0129e+00],\n",
      "           [-2.4838e+00, -3.7282e+00,  5.5636e+00,  ...,  5.7930e+00,\n",
      "            -7.2732e+00, -3.0729e+00],\n",
      "           [ 4.7062e+00,  5.0256e+00,  8.0574e+00,  ..., -8.1700e+00,\n",
      "             3.7444e+00,  5.7487e-01]],\n",
      "\n",
      "          [[-1.1470e+00, -2.6579e+00, -2.8261e+00,  ...,  7.6352e-01,\n",
      "             2.1018e+00,  3.2619e-02],\n",
      "           [-1.5744e+00, -2.1342e+00, -4.8653e+00,  ...,  6.1774e+00,\n",
      "            -1.3972e+00, -2.1747e+00],\n",
      "           [-4.7258e-01,  1.7722e+00, -1.4544e+00,  ..., -7.7108e-01,\n",
      "            -2.6056e+00,  1.5832e+00],\n",
      "           ...,\n",
      "           [ 6.5340e+00,  7.4766e+00,  6.6775e-01,  ...,  8.7323e-01,\n",
      "             5.2019e+00, -4.8879e+00],\n",
      "           [-1.1509e+00, -2.5814e+00, -4.0821e+00,  ..., -1.2711e+00,\n",
      "             6.1696e+00, -2.0671e+00],\n",
      "           [-7.0177e-01, -1.6221e+00,  3.8306e+00,  ..., -6.9369e+00,\n",
      "            -2.6188e+00,  3.2702e+00]],\n",
      "\n",
      "          ...,\n",
      "\n",
      "          [[-6.4350e+00,  5.2176e-01,  6.3431e+00,  ...,  2.5582e+00,\n",
      "             2.1024e+00, -1.7896e+00],\n",
      "           [ 4.3082e+00,  1.7041e+00,  8.4197e-02,  ...,  3.4347e+00,\n",
      "             1.7663e+00,  3.7651e+00],\n",
      "           [ 3.0114e+00,  2.8570e+00,  1.8375e-01,  ...,  1.2308e+00,\n",
      "            -4.8674e+00, -6.8884e+00],\n",
      "           ...,\n",
      "           [ 6.9330e+00, -2.3817e+00, -1.1385e+00,  ...,  2.2118e+00,\n",
      "             2.5142e+00,  3.3587e+00],\n",
      "           [ 1.4900e+00, -5.6572e-01,  8.3267e-01,  ...,  3.7131e+00,\n",
      "             2.9646e+00, -1.2537e+00],\n",
      "           [ 1.6730e+00,  1.9627e+00,  9.2935e-01,  ..., -4.1901e+00,\n",
      "            -5.2119e+00, -1.4583e+00]],\n",
      "\n",
      "          [[-6.1019e+00,  2.1398e+00,  6.5800e-01,  ..., -1.8444e+00,\n",
      "            -9.9333e-01,  4.5907e+00],\n",
      "           [ 1.6694e+00, -4.2177e-01, -7.7463e-01,  ...,  3.5596e+00,\n",
      "            -6.3144e-01,  3.3799e+00],\n",
      "           [ 9.1988e-01, -2.1602e+00, -3.7019e-01,  ...,  7.2461e-03,\n",
      "            -4.6585e-01, -5.9764e-01],\n",
      "           ...,\n",
      "           [-4.2986e-01, -5.8142e+00, -1.8079e+00,  ...,  4.8716e-01,\n",
      "             6.2687e-02, -3.2962e+00],\n",
      "           [-8.4377e+00, -2.5811e+00,  2.1600e+00,  ...,  1.8949e+00,\n",
      "             6.3184e-01, -4.2167e-01],\n",
      "           [-2.3102e+00, -7.8322e-01,  4.1783e+00,  ...,  4.0730e-01,\n",
      "            -1.9713e+00,  7.1045e+00]],\n",
      "\n",
      "          [[-1.7682e+00, -3.9868e+00,  5.1179e+00,  ...,  8.1336e+00,\n",
      "            -8.1660e-01,  3.8848e+00],\n",
      "           [ 3.7473e+00, -8.3968e+00,  2.2254e+00,  ...,  4.4622e+00,\n",
      "             3.5922e+00,  5.9381e+00],\n",
      "           [ 3.1342e+00,  2.0513e+00, -1.3909e+00,  ...,  7.4589e-02,\n",
      "            -4.9230e+00, -7.6939e-01],\n",
      "           ...,\n",
      "           [-5.9950e+00,  2.9719e+00, -3.5727e+00,  ...,  1.7498e+00,\n",
      "            -2.9624e+00,  5.8128e+00],\n",
      "           [-1.8829e-02,  3.1964e+00,  4.4663e+00,  ...,  3.5839e+00,\n",
      "            -4.4828e+00, -8.2116e-01],\n",
      "           [ 3.6650e+00, -1.7811e+00,  1.8973e+00,  ..., -1.6642e-01,\n",
      "            -9.2754e-01,  5.5236e-01]]],\n",
      "\n",
      "\n",
      "         [[[ 7.2875e+00, -3.8225e+00,  2.7367e+00,  ...,  1.4512e+00,\n",
      "             1.9382e+00, -1.7480e+00],\n",
      "           [-1.2572e+00, -6.4683e+00,  5.0239e-01,  ..., -2.5697e+00,\n",
      "             6.3288e+00,  3.2418e+00],\n",
      "           [ 1.3993e+00,  4.8250e+00,  7.2929e+00,  ...,  1.6285e+00,\n",
      "            -1.0739e+01, -8.1097e+00],\n",
      "           ...,\n",
      "           [ 4.9760e-01, -6.6572e+00,  4.4198e+00,  ..., -3.5907e+00,\n",
      "             4.6378e+00, -3.5138e+00],\n",
      "           [-8.5068e-01,  1.1597e+00, -1.8051e+00,  ..., -9.2586e-01,\n",
      "            -2.8751e+00,  2.0039e+00],\n",
      "           [ 2.0462e+00, -5.7449e+00, -1.5558e+00,  ...,  1.5404e+00,\n",
      "            -6.7961e+00, -4.1969e+00]],\n",
      "\n",
      "          [[ 4.6538e+00, -2.5630e+00,  4.5729e+00,  ...,  3.6986e+00,\n",
      "             6.4985e+00,  5.2234e-01],\n",
      "           [ 2.0605e-01,  5.5160e+00, -2.5507e+00,  ..., -1.1126e+00,\n",
      "             2.6666e+00, -6.7645e+00],\n",
      "           [ 3.1430e+00, -2.8858e+00,  3.8452e+00,  ...,  2.6747e+00,\n",
      "             4.3197e+00,  8.2976e-01],\n",
      "           ...,\n",
      "           [ 2.6105e+00, -3.4301e+00,  3.4698e+00,  ..., -2.6846e-01,\n",
      "             2.0603e+00, -9.8522e+00],\n",
      "           [ 2.4669e+00,  3.0255e+00, -4.4365e+00,  ...,  8.5346e+00,\n",
      "            -2.5267e-01, -5.7171e+00],\n",
      "           [ 2.6967e+00,  4.4835e+00,  7.1999e+00,  ..., -9.6375e+00,\n",
      "            -4.8142e+00, -8.9037e-01]],\n",
      "\n",
      "          [[ 2.5375e+00, -3.0556e+00,  1.5134e+00,  ..., -8.2417e+00,\n",
      "             5.7397e+00,  1.2673e+00],\n",
      "           [ 5.3419e+00, -7.4932e+00,  7.3901e+00,  ...,  1.8072e+00,\n",
      "            -5.6889e+00,  2.6883e+00],\n",
      "           [ 5.5232e-01,  4.4863e+00,  2.6350e+00,  ...,  1.2926e+00,\n",
      "             3.2691e+00,  5.0600e-01],\n",
      "           ...,\n",
      "           [ 5.9327e+00,  7.6840e-01, -4.8577e+00,  ...,  4.2785e-01,\n",
      "             4.8684e+00,  1.3719e+00],\n",
      "           [ 1.3702e+00, -4.9281e+00,  6.6871e+00,  ...,  2.4050e+00,\n",
      "             4.3435e-02, -2.1065e+00],\n",
      "           [ 1.7943e+00, -1.9678e+00,  6.5760e+00,  ..., -4.8161e+00,\n",
      "            -1.6492e+00,  1.8773e+00]],\n",
      "\n",
      "          ...,\n",
      "\n",
      "          [[-3.8566e+00,  3.1870e+00,  5.1757e+00,  ..., -1.9159e+00,\n",
      "             9.3375e+00,  2.0626e+00],\n",
      "           [ 1.8997e+00,  1.9048e+00, -2.9698e+00,  ..., -8.5092e+00,\n",
      "            -1.7671e+00, -4.3483e-01],\n",
      "           [ 6.7428e-01,  3.7250e+00, -6.4691e+00,  ...,  1.1145e+00,\n",
      "             4.5747e+00, -2.0726e+00],\n",
      "           ...,\n",
      "           [-1.8911e+00, -6.3396e+00,  9.4572e-02,  ...,  4.9220e-02,\n",
      "             4.0649e-01, -1.5795e+00],\n",
      "           [-1.2273e+00,  8.0895e+00, -3.1809e+00,  ...,  2.8555e+00,\n",
      "             4.6343e+00,  4.4378e+00],\n",
      "           [-3.8533e+00, -7.0539e+00, -8.8556e+00,  ...,  2.6234e+00,\n",
      "            -7.2742e+00,  8.2812e-01]],\n",
      "\n",
      "          [[-5.5861e+00,  6.1615e+00, -3.6330e+00,  ..., -4.7041e+00,\n",
      "             3.0979e+00, -2.8125e+00],\n",
      "           [ 6.5631e+00,  2.4585e+00,  1.9323e-01,  ...,  1.4065e+00,\n",
      "             5.4209e-01,  5.7729e+00],\n",
      "           [-2.1451e+00, -2.6891e+00, -1.6370e+00,  ..., -6.5830e+00,\n",
      "             5.0406e+00, -7.0551e+00],\n",
      "           ...,\n",
      "           [-1.5544e+00, -1.0694e+01,  5.5239e+00,  ...,  2.1367e+00,\n",
      "             3.1806e+00, -1.6355e+00],\n",
      "           [-2.9546e+00, -3.8418e-01, -5.0593e-01,  ..., -3.4341e+00,\n",
      "            -7.2689e-01, -2.5976e+00],\n",
      "           [ 3.8788e-01,  7.0539e-01,  1.8377e+00,  ..., -6.7535e+00,\n",
      "             1.0166e+00,  4.4462e+00]],\n",
      "\n",
      "          [[-1.4818e+00, -4.6570e+00,  2.9153e+00,  ...,  2.3470e+00,\n",
      "             1.7184e+00, -5.1542e+00],\n",
      "           [ 7.1271e-01, -4.4891e-01, -6.0282e-01,  ...,  9.2264e+00,\n",
      "             3.4858e+00, -3.0121e+00],\n",
      "           [ 3.5211e-02,  8.3455e+00, -5.5633e+00,  ...,  2.2008e-01,\n",
      "            -4.7292e+00, -3.4778e+00],\n",
      "           ...,\n",
      "           [ 5.4000e+00,  1.7234e+00, -9.4813e-01,  ...,  9.6729e-01,\n",
      "             2.6616e+00,  6.7805e+00],\n",
      "           [ 8.2700e-01,  4.2530e-01, -1.3067e+00,  ...,  1.2512e+00,\n",
      "            -8.8137e-01, -3.9957e+00],\n",
      "           [ 5.4018e+00,  4.0270e-01,  1.0621e+00,  ...,  8.0497e+00,\n",
      "            -1.9798e+00, -7.9982e-01]]],\n",
      "\n",
      "\n",
      "         ...,\n",
      "\n",
      "\n",
      "         [[[ 2.8471e-01, -1.2218e+00,  3.1977e+00,  ..., -2.3565e+00,\n",
      "            -8.0992e-01, -5.9413e-01],\n",
      "           [-2.3792e+00, -1.5493e-02, -6.3838e+00,  ...,  2.9102e+00,\n",
      "             3.1403e+00, -3.4276e+00],\n",
      "           [ 6.0147e-01,  1.9916e+00,  1.6863e+00,  ...,  3.7408e+00,\n",
      "            -8.4153e-01,  6.9460e-01],\n",
      "           ...,\n",
      "           [ 1.0842e+00,  4.7729e+00,  3.6668e+00,  ..., -3.0654e+00,\n",
      "            -2.6656e+00, -2.1235e+00],\n",
      "           [ 1.3461e+00,  8.4072e-01,  3.3178e-01,  ...,  1.9450e+00,\n",
      "            -2.2479e+00,  5.3642e+00],\n",
      "           [-1.0004e+00,  3.1702e-01,  5.3600e+00,  ...,  1.0191e+00,\n",
      "             1.3185e+00,  1.4516e+00]],\n",
      "\n",
      "          [[-2.1450e+00,  2.0243e+00, -4.5348e+00,  ..., -1.8662e+00,\n",
      "            -4.4440e+00,  5.3012e+00],\n",
      "           [ 3.3059e-01, -2.1032e-01,  5.7622e-01,  ...,  3.0933e+00,\n",
      "            -2.6871e-01, -1.0029e+00],\n",
      "           [ 4.2549e+00, -9.7925e-01,  2.4919e-01,  ...,  1.0142e+00,\n",
      "            -1.1293e+00,  3.2049e+00],\n",
      "           ...,\n",
      "           [ 1.3495e+00,  2.5775e+00,  6.9701e-01,  ...,  6.0165e-01,\n",
      "             3.8348e-01,  2.4504e+00],\n",
      "           [ 7.1969e-01, -2.3390e+00,  1.0873e+00,  ..., -1.8633e+00,\n",
      "             4.8752e-02,  2.7235e+00],\n",
      "           [ 1.8524e+00,  3.8977e+00,  4.1219e-01,  ...,  2.2724e+00,\n",
      "             7.5985e-01, -9.5567e-01]],\n",
      "\n",
      "          [[ 4.6022e-01,  4.2709e+00,  4.3746e+00,  ...,  4.2576e+00,\n",
      "            -9.6337e-01, -3.7850e+00],\n",
      "           [ 2.0320e+00, -3.0255e+00, -4.1553e+00,  ...,  2.3659e-01,\n",
      "             7.3715e-01, -2.1123e+00],\n",
      "           [ 1.9411e+00,  4.0580e-01, -2.2947e+00,  ..., -2.7525e+00,\n",
      "            -3.3408e+00,  1.6877e+00],\n",
      "           ...,\n",
      "           [-2.4846e+00, -7.6796e-01,  5.3079e+00,  ..., -2.7655e-01,\n",
      "             1.2477e+00, -5.2038e+00],\n",
      "           [ 1.9012e+00,  9.3331e-01, -3.8905e+00,  ..., -3.1395e+00,\n",
      "             3.3328e+00,  4.7960e+00],\n",
      "           [ 1.8161e+00, -8.2580e-01, -2.1124e+00,  ..., -2.7679e+00,\n",
      "            -4.6298e-01,  2.4890e+00]],\n",
      "\n",
      "          ...,\n",
      "\n",
      "          [[ 3.0852e+00,  3.3749e+00,  3.5745e-02,  ...,  2.6820e+00,\n",
      "             1.6724e+00, -1.9109e+00],\n",
      "           [-3.6798e-01, -1.6810e+00, -1.5349e+00,  ...,  1.4193e+00,\n",
      "             3.3687e+00,  2.4760e+00],\n",
      "           [ 3.2828e+00, -5.1415e+00,  3.7456e+00,  ...,  2.9600e+00,\n",
      "             9.5115e-01, -4.7651e-01],\n",
      "           ...,\n",
      "           [ 7.9628e-01,  4.2548e-01,  1.2844e+00,  ...,  1.1436e+00,\n",
      "             1.7056e+00, -1.5736e+00],\n",
      "           [ 1.1288e+00,  7.0365e-01,  2.3973e+00,  ..., -2.2254e+00,\n",
      "            -1.0713e+00, -1.5402e+00],\n",
      "           [-4.2458e+00,  1.5627e+00, -4.4812e+00,  ...,  6.4157e-01,\n",
      "             1.7088e+00,  1.6862e+00]],\n",
      "\n",
      "          [[-1.2730e+00, -2.0617e+00, -2.3171e+00,  ...,  6.1236e-01,\n",
      "             1.1515e+00,  1.9760e+00],\n",
      "           [-3.3384e+00, -1.2214e+00,  3.8546e+00,  ..., -7.8391e-01,\n",
      "            -2.7230e+00, -7.0269e-01],\n",
      "           [-5.6036e+00, -4.5971e+00, -1.0047e+00,  ...,  2.0142e+00,\n",
      "            -5.8649e-01, -1.1021e+00],\n",
      "           ...,\n",
      "           [-3.1363e+00, -2.0350e+00, -4.3109e-01,  ..., -1.5404e+00,\n",
      "            -3.1273e+00, -1.3092e+00],\n",
      "           [-1.2733e+00,  1.9195e+00,  1.6476e+00,  ...,  2.1823e+00,\n",
      "             2.7506e-01, -5.0524e+00],\n",
      "           [ 1.8538e+00, -2.1731e-01, -1.7315e-01,  ...,  4.6512e+00,\n",
      "            -1.5497e+00,  4.7701e+00]],\n",
      "\n",
      "          [[ 2.7048e+00, -2.5178e+00,  6.9559e-01,  ..., -3.4468e+00,\n",
      "            -2.0101e+00, -1.1366e+00],\n",
      "           [ 5.9986e-01, -3.9306e+00,  2.2810e+00,  ..., -4.4893e-01,\n",
      "            -2.2508e+00,  4.8419e+00],\n",
      "           [ 1.9706e+00, -1.7969e+00,  1.9391e+00,  ..., -2.1897e-01,\n",
      "             2.0876e+00,  3.0301e-01],\n",
      "           ...,\n",
      "           [-2.8013e+00,  1.3923e-01, -3.5313e+00,  ...,  3.1609e+00,\n",
      "             7.1652e-01,  3.5131e+00],\n",
      "           [-3.2784e-01,  3.3365e+00, -3.3462e+00,  ...,  2.0364e+00,\n",
      "             4.6203e-01,  5.6043e-01],\n",
      "           [-8.6473e-01,  5.0520e+00,  2.8746e+00,  ...,  9.8463e-01,\n",
      "             1.4368e-01, -6.0443e-01]]],\n",
      "\n",
      "\n",
      "         [[[-8.2993e-01,  5.4025e+00,  2.3759e+00,  ..., -1.8507e+00,\n",
      "            -1.0392e+00, -4.5647e-01],\n",
      "           [ 9.8495e-01, -1.2428e+00, -1.1460e+01,  ..., -2.8054e+00,\n",
      "             1.5205e+00,  5.8509e+00],\n",
      "           [-9.2189e+00,  1.3404e+00,  4.5100e+00,  ...,  6.1512e+00,\n",
      "            -4.2041e+00,  2.0445e+00],\n",
      "           ...,\n",
      "           [ 6.0277e-01,  2.7181e+00,  1.9554e+00,  ..., -1.8324e+00,\n",
      "            -3.3027e+00,  5.9770e+00],\n",
      "           [-1.6666e+00, -9.1087e+00,  3.6257e+00,  ..., -7.7055e+00,\n",
      "            -6.6932e+00,  7.1734e+00],\n",
      "           [ 1.5541e+00, -2.2492e+00,  3.3555e+00,  ..., -1.3765e+00,\n",
      "             3.9388e+00,  8.1665e-01]],\n",
      "\n",
      "          [[-1.6987e+00,  4.5523e+00,  4.1730e+00,  ...,  1.7899e+00,\n",
      "             9.6733e+00, -3.0526e+00],\n",
      "           [ 3.7479e+00,  1.6601e+00,  8.9913e+00,  ...,  3.6754e+00,\n",
      "             1.2155e-02, -2.3831e+00],\n",
      "           [ 7.4967e+00, -1.6886e+00,  9.1420e-01,  ...,  8.4993e+00,\n",
      "            -2.1389e+00, -2.3183e+00],\n",
      "           ...,\n",
      "           [-5.5286e+00, -5.0749e+00,  2.0283e+00,  ...,  2.2318e+00,\n",
      "            -6.9256e+00, -3.1627e+00],\n",
      "           [ 1.7234e+00, -2.5696e+00, -4.0953e+00,  ...,  7.6174e+00,\n",
      "             3.3528e+00,  5.2247e+00],\n",
      "           [ 3.4213e+00, -2.1195e+00, -4.5443e+00,  ..., -5.9547e+00,\n",
      "            -4.3352e+00, -1.3209e+00]],\n",
      "\n",
      "          [[-3.1504e+00, -3.8037e+00,  5.3342e+00,  ..., -3.0302e-01,\n",
      "            -4.5926e+00, -3.3713e+00],\n",
      "           [ 5.0522e+00, -3.8520e+00, -4.8561e-01,  ..., -2.6734e+00,\n",
      "            -3.4496e+00,  1.4384e-01],\n",
      "           [-9.0581e-01,  1.3081e+00,  2.6162e+00,  ..., -6.5242e+00,\n",
      "             6.4514e+00,  5.2177e-01],\n",
      "           ...,\n",
      "           [-1.6884e+00,  6.6832e+00,  2.2113e+00,  ...,  1.7192e+00,\n",
      "            -4.5526e+00,  4.8277e+00],\n",
      "           [ 1.8934e+00,  2.8694e+00, -2.6031e+00,  ..., -6.9107e+00,\n",
      "            -3.8931e+00, -2.1982e+00],\n",
      "           [-8.1541e-02, -2.3200e+00, -3.7963e+00,  ..., -1.2039e+00,\n",
      "             1.2990e+00,  9.1474e+00]],\n",
      "\n",
      "          ...,\n",
      "\n",
      "          [[ 1.7031e-01,  3.3806e-01,  3.4452e+00,  ..., -4.3272e+00,\n",
      "            -1.2938e+00, -3.2435e+00],\n",
      "           [-2.8375e+00, -5.7700e+00, -8.8729e-01,  ..., -1.2724e+00,\n",
      "             4.1665e+00, -2.5092e+00],\n",
      "           [ 2.1032e+00,  3.3115e+00, -8.2912e-01,  ...,  2.9096e+00,\n",
      "            -3.3129e+00, -1.5848e+00],\n",
      "           ...,\n",
      "           [-2.0920e+00, -2.8250e+00,  5.9154e+00,  ...,  4.1836e+00,\n",
      "             5.6787e+00,  1.1835e+00],\n",
      "           [ 5.6573e+00, -5.0924e+00,  1.0986e+00,  ...,  5.5619e+00,\n",
      "             1.9113e+00, -1.0938e+01],\n",
      "           [-3.4654e+00,  3.1265e+00, -2.2171e+00,  ...,  1.4770e+00,\n",
      "            -7.0335e+00, -3.5009e+00]],\n",
      "\n",
      "          [[-1.2564e+00,  2.1707e+00, -7.4958e+00,  ...,  1.1691e+00,\n",
      "             1.0421e+00,  9.4696e+00],\n",
      "           [ 3.2411e+00, -4.4488e+00, -3.1705e+00,  ...,  6.4725e+00,\n",
      "             2.9803e-01, -1.8253e+00],\n",
      "           [ 7.9883e-01, -4.6122e-01, -2.1261e+00,  ..., -6.2182e-01,\n",
      "             2.8277e-01, -7.0870e+00],\n",
      "           ...,\n",
      "           [-3.9306e+00, -7.7912e-01,  3.4532e+00,  ...,  1.7766e+00,\n",
      "             4.1745e-01,  8.2489e-01],\n",
      "           [-3.0452e+00,  3.7473e+00, -4.3808e+00,  ..., -2.6347e+00,\n",
      "             4.4591e+00, -7.2900e+00],\n",
      "           [-2.5179e+00, -2.2053e+00, -3.9776e+00,  ...,  4.7825e-02,\n",
      "             1.5189e+00, -2.7712e+00]],\n",
      "\n",
      "          [[ 2.4130e+00, -6.2013e+00,  2.7671e-02,  ...,  1.3399e+00,\n",
      "            -6.1728e+00, -3.3658e+00],\n",
      "           [-2.0952e+00, -1.7407e+00, -2.7619e+00,  ..., -1.8615e+00,\n",
      "            -8.2210e+00,  8.6497e+00],\n",
      "           [-1.9240e+00, -5.4641e+00, -7.2527e+00,  ..., -6.1287e+00,\n",
      "            -2.4469e+00, -2.9807e+00],\n",
      "           ...,\n",
      "           [-2.4269e+00,  7.3213e-01,  1.4804e+00,  ...,  1.6145e+00,\n",
      "             2.7085e+00, -1.9193e+00],\n",
      "           [-6.4612e+00,  8.6160e+00,  4.5011e+00,  ...,  8.9209e+00,\n",
      "             5.3942e+00,  2.9604e+00],\n",
      "           [-3.1533e+00,  1.4555e+00, -1.4699e-01,  ...,  4.7948e+00,\n",
      "            -2.7124e+00,  2.1339e+00]]],\n",
      "\n",
      "\n",
      "         [[[-4.2704e+00, -8.8886e+00,  6.0557e+00,  ...,  5.7079e+00,\n",
      "            -1.3498e-01,  3.1329e+00],\n",
      "           [-1.9132e+00,  4.6641e+00, -8.6058e+00,  ..., -2.5535e+00,\n",
      "            -3.6186e+00,  1.3607e+00],\n",
      "           [-2.2832e+00, -5.3520e+00, -1.7831e-01,  ..., -6.8410e-01,\n",
      "            -7.7876e+00, -4.0464e+00],\n",
      "           ...,\n",
      "           [-8.4831e+00,  5.2773e+00,  1.1727e+01,  ..., -3.8916e+00,\n",
      "             4.5337e+00, -1.6373e+00],\n",
      "           [ 1.1979e+01,  8.4375e-01,  3.5458e+00,  ..., -5.5798e-01,\n",
      "             1.9742e+00, -3.4487e+00],\n",
      "           [ 2.7376e+00,  8.1214e+00, -7.2310e+00,  ..., -3.9074e+00,\n",
      "            -2.9047e+00, -2.4625e+00]],\n",
      "\n",
      "          [[-2.2896e+00, -9.5234e-01, -2.1308e+00,  ...,  4.9896e-01,\n",
      "             8.3126e+00,  6.9203e+00],\n",
      "           [-1.4420e+00, -3.7802e+00, -1.5074e+00,  ..., -3.6691e+00,\n",
      "             1.9747e+00, -2.3232e+00],\n",
      "           [ 1.1956e+01, -7.1342e-02, -1.0692e+00,  ..., -3.8682e+00,\n",
      "             2.6097e+00,  1.6625e+00],\n",
      "           ...,\n",
      "           [ 3.5949e+00,  5.5257e+00,  5.7969e+00,  ...,  6.0952e+00,\n",
      "             2.2864e+00, -4.9171e+00],\n",
      "           [ 5.0662e-01, -8.3901e-01, -7.6106e-01,  ..., -3.1899e+00,\n",
      "             8.2465e-01, -4.3838e+00],\n",
      "           [ 8.8375e+00, -3.6150e+00,  4.1906e+00,  ..., -1.3080e+00,\n",
      "             1.6302e+00, -5.0936e+00]],\n",
      "\n",
      "          [[ 6.7359e+00, -2.8294e+00, -1.8232e+00,  ...,  3.8025e+00,\n",
      "            -2.4659e+00, -6.3447e-01],\n",
      "           [-2.1874e+00, -1.2017e+00,  6.2588e+00,  ...,  2.8568e+00,\n",
      "            -1.2810e+00,  4.6754e+00],\n",
      "           [ 4.1612e+00, -2.3970e-02, -8.9109e-01,  ..., -2.2968e+00,\n",
      "             2.4150e-01,  2.6965e+00],\n",
      "           ...,\n",
      "           [ 2.7748e+00, -7.8168e+00, -1.9378e+00,  ..., -1.0738e+00,\n",
      "             4.5059e+00, -1.2175e-01],\n",
      "           [-7.6668e-01, -7.9727e+00, -4.4877e-01,  ..., -2.1543e+00,\n",
      "             6.8342e-02, -3.6413e+00],\n",
      "           [ 1.2898e+00, -6.6812e+00, -2.8636e+00,  ..., -1.0688e+00,\n",
      "             7.6360e+00,  9.2605e+00]],\n",
      "\n",
      "          ...,\n",
      "\n",
      "          [[ 1.9044e+00,  4.4998e+00,  5.7467e+00,  ..., -4.3078e+00,\n",
      "             8.3428e+00,  2.7011e-01],\n",
      "           [ 4.8161e+00, -3.2627e+00,  3.6944e+00,  ...,  1.1537e+00,\n",
      "            -7.6684e+00,  6.0694e+00],\n",
      "           [ 4.4905e+00, -2.3607e+00,  1.6118e-01,  ...,  6.4749e+00,\n",
      "             6.4286e-01,  6.5867e+00],\n",
      "           ...,\n",
      "           [-3.4432e+00, -9.7274e+00, -4.4138e+00,  ..., -1.6740e+00,\n",
      "            -8.2997e-01, -3.0105e-01],\n",
      "           [ 6.8848e+00,  1.2618e+01, -3.6016e+00,  ...,  3.9589e+00,\n",
      "             2.8519e-01, -1.0150e+00],\n",
      "           [ 4.1243e-01, -6.0865e+00, -2.3274e+00,  ...,  5.5411e+00,\n",
      "            -1.8284e+00, -2.7031e+00]],\n",
      "\n",
      "          [[ 5.5927e+00, -3.3090e+00, -3.2047e+00,  ...,  2.0448e+00,\n",
      "             2.8488e+00, -2.6316e+00],\n",
      "           [ 1.0876e+00, -6.7997e-01,  3.6910e-01,  ..., -1.8856e+00,\n",
      "            -3.9554e-01,  5.8715e+00],\n",
      "           [-3.4871e+00, -3.8271e+00, -9.4635e+00,  ...,  2.0038e+00,\n",
      "            -1.1945e+00,  1.4714e-01],\n",
      "           ...,\n",
      "           [-3.0869e-01, -6.5479e+00,  4.3689e+00,  ...,  8.2741e+00,\n",
      "            -4.3522e+00, -7.2374e+00],\n",
      "           [-3.9444e+00, -2.7549e-01,  4.1291e+00,  ..., -3.5587e+00,\n",
      "             2.3958e+00,  5.0627e-01],\n",
      "           [ 3.4619e+00,  1.6337e+00,  1.7663e+00,  ...,  3.8227e+00,\n",
      "            -7.6724e+00,  3.3377e-01]],\n",
      "\n",
      "          [[ 5.1791e+00, -1.0090e+00, -2.9749e-01,  ..., -1.6112e+00,\n",
      "            -9.9365e-01, -1.3484e-01],\n",
      "           [ 6.5608e+00, -6.8992e+00,  4.5550e-03,  ...,  1.6970e+00,\n",
      "            -3.3926e+00, -7.1915e+00],\n",
      "           [-3.0130e+00, -1.9147e+00,  8.0162e+00,  ..., -3.9602e+00,\n",
      "             6.2325e+00, -3.9365e+00],\n",
      "           ...,\n",
      "           [ 7.5488e+00,  2.4628e+00, -4.6974e+00,  ...,  1.1271e+00,\n",
      "             1.1834e+00,  5.9350e+00],\n",
      "           [-4.2374e+00,  2.2992e+00, -1.0003e+01,  ...,  1.7439e+00,\n",
      "             2.3351e+00,  7.7436e-01],\n",
      "           [-2.4064e+00,  1.3173e+01,  3.2133e+00,  ...,  6.2662e-01,\n",
      "            -2.8401e+00, -5.9572e+00]]]]])\n"
     ]
    }
   ],
   "source": [
    "print(a)\n",
    "print(b)\n",
    "print(torch.einsum('pqrs,tuqvr->pstuv', [a, b]))"
   ],
   "metadata": {
    "collapsed": false,
    "pycharm": {
     "name": "#%%\n"
    }
   }
  },
  {
   "cell_type": "markdown",
   "source": [
    "# 12 双线性变换"
   ],
   "metadata": {
    "collapsed": false,
    "pycharm": {
     "name": "#%% md\n"
    }
   }
  },
  {
   "cell_type": "code",
   "execution_count": 47,
   "outputs": [
    {
     "data": {
      "image/png": "[encoded data removed]",
      "text/plain": "<IPython.core.display.Image object>"
     },
     "execution_count": 47,
     "metadata": {},
     "output_type": "execute_result"
    }
   ],
   "source": [
    "display.Image('../pics/einsum15.png')"
   ],
   "metadata": {
    "collapsed": false,
    "pycharm": {
     "name": "#%%\n"
    }
   }
  },
  {
   "cell_type": "code",
   "execution_count": 46,
   "outputs": [
    {
     "data": {
      "text/plain": "tensor([[ 4.1433,  2.0107,  1.9187, -0.9490,  1.7407],\n        [-1.3875, -1.7918,  2.3426, -3.5069,  2.3975]])"
     },
     "execution_count": 46,
     "metadata": {},
     "output_type": "execute_result"
    }
   ],
   "source": [
    "a = torch.randn(2,3)\n",
    "b = torch.randn(5,3,7)\n",
    "c = torch.randn(2,7)\n",
    "torch.einsum('ik,jkl,il->ij', [a, b, c])"
   ],
   "metadata": {
    "collapsed": false,
    "pycharm": {
     "name": "#%%\n"
    }
   }
  },
  {
   "cell_type": "markdown",
   "source": [
    "# 其他案例"
   ],
   "metadata": {
    "collapsed": false,
    "pycharm": {
     "name": "#%% md\n"
    }
   }
  },
  {
   "cell_type": "markdown",
   "source": [
    "### 1TreeQN"
   ],
   "metadata": {
    "collapsed": false,
    "pycharm": {
     "name": "#%% md\n"
    }
   }
  },
  {
   "cell_type": "code",
   "execution_count": 52,
   "outputs": [
    {
     "data": {
      "image/png": "[encoded data removed]",
      "text/plain": "<IPython.core.display.Image object>"
     },
     "execution_count": 52,
     "metadata": {},
     "output_type": "execute_result"
    }
   ],
   "source": [
    "display.Image('../pics/einsum16.png')"
   ],
   "metadata": {
    "collapsed": false,
    "pycharm": {
     "name": "#%%\n"
    }
   }
  },
  {
   "cell_type": "code",
   "execution_count": 58,
   "outputs": [
    {
     "name": "stdout",
     "output_type": "stream",
     "text": [
      "tensor([[ 0.5067,  0.4069, -0.3420],\n",
      "        [ 2.0574,  0.1345, -0.8172],\n",
      "        [-0.9697, -1.5646,  0.1608],\n",
      "        [ 0.0345,  1.2746, -0.2727],\n",
      "        [ 1.5565, -1.4613, -2.5061]], requires_grad=True)\n",
      "tensor([[[-1.7318, -0.6358,  1.3388],\n",
      "         [ 0.3961,  0.5775, -0.5143],\n",
      "         [ 1.4265, -0.7228,  2.0698]],\n",
      "\n",
      "        [[-1.4761, -0.4734,  1.8108],\n",
      "         [ 0.6462,  1.2241,  1.8250],\n",
      "         [ 0.2475, -0.0878,  0.7653]],\n",
      "\n",
      "        [[ 1.1218,  0.1753, -1.6901],\n",
      "         [-0.6145,  0.6567, -0.6905],\n",
      "         [-1.2470, -0.2146, -0.0072]],\n",
      "\n",
      "        [[ 0.8404,  1.2881,  0.2292],\n",
      "         [-0.6125, -0.9216, -3.0053],\n",
      "         [ 2.1503,  0.2595,  0.8016]],\n",
      "\n",
      "        [[-1.7368,  1.2153,  1.8230],\n",
      "         [ 0.7876,  2.5342,  2.5809],\n",
      "         [ 0.8107, -0.2047,  1.3096]]], requires_grad=True)\n",
      "tensor([[ 0.5397,  0.2780, -0.3953],\n",
      "        [-0.6196,  0.5969,  0.0854]])\n"
     ]
    }
   ],
   "source": [
    "import torch.nn.functional as F\n",
    "\n",
    "def random_tensors(shape, num=1, requires_grad=False):\n",
    "  tensors = [torch.randn(shape, requires_grad=requires_grad) for i in range(0, num)]\n",
    "  return tensors[0] if num == 1 else tensors\n",
    "\n",
    "# 参数\n",
    "# -- [激活数 x 隐藏层维度]\n",
    "b = random_tensors([5, 3], requires_grad=True)\n",
    "# -- [激活数 x 隐藏层维度 x 隐藏层维度]\n",
    "W = random_tensors([5, 3, 3], requires_grad=True)\n",
    "print(b)\n",
    "print(W)\n",
    "zl = random_tensors([2, 3])\n",
    "print(zl)"
   ],
   "metadata": {
    "collapsed": false,
    "pycharm": {
     "name": "#%%\n"
    }
   }
  },
  {
   "cell_type": "code",
   "execution_count": 70,
   "outputs": [
    {
     "data": {
      "text/plain": "torch.Size([2, 5, 3])"
     },
     "execution_count": 70,
     "metadata": {},
     "output_type": "execute_result"
    }
   ],
   "source": [
    "torch.einsum(\"bk,aki->bai\", [zl, W]).shape"
   ],
   "metadata": {
    "collapsed": false,
    "pycharm": {
     "name": "#%%\n"
    }
   }
  },
  {
   "cell_type": "code",
   "execution_count": 64,
   "outputs": [
    {
     "data": {
      "text/plain": "tensor([[[-0.1676,  0.7480, -0.9185],\n         [ 1.4120,  0.5267, -0.0458],\n         [ 0.4977, -0.5565, -1.1308],\n         [ 0.0527,  1.2013, -1.2574],\n         [ 1.0155,  0.2580, -1.2627]],\n\n        [[ 0.3398,  1.3915, -0.7767],\n         [ 0.3781,  1.4150, -0.5698],\n         [-1.5921, -0.2647,  0.7467],\n         [-1.2033,  0.5456, -0.8873],\n         [ 0.3769, -0.0193, -0.8774]]], grad_fn=<AddBackward0>)"
     },
     "execution_count": 64,
     "metadata": {},
     "output_type": "execute_result"
    }
   ],
   "source": [
    "\n",
    "def transition(zl):\n",
    "    # -- [batch大小 x 激活数 x 隐藏层维度]\n",
    "    return zl.unsqueeze(1) + F.tanh(torch.einsum(\"bk,aki->bai\", [zl, W]) + b)\n",
    "\n",
    "# 随机取样仿造输入\n",
    "# -- [batch大小 x 隐藏层维度]\n",
    "\n",
    "\n",
    "transition(zl)"
   ],
   "metadata": {
    "collapsed": false,
    "pycharm": {
     "name": "#%%\n"
    }
   }
  },
  {
   "cell_type": "markdown",
   "source": [
    "### 2 Attention"
   ],
   "metadata": {
    "collapsed": false,
    "pycharm": {
     "name": "#%% md\n"
    }
   }
  },
  {
   "cell_type": "code",
   "execution_count": 53,
   "outputs": [
    {
     "data": {
      "image/png": "[encoded data removed]",
      "text/plain": "<IPython.core.display.Image object>"
     },
     "execution_count": 53,
     "metadata": {},
     "output_type": "execute_result"
    }
   ],
   "source": [
    "display.Image('../pics/einsum17.png')"
   ],
   "metadata": {
    "collapsed": false,
    "pycharm": {
     "name": "#%%\n"
    }
   }
  },
  {
   "cell_type": "code",
   "execution_count": 54,
   "outputs": [
    {
     "name": "stderr",
     "output_type": "stream",
     "text": [
      "C:\\Users\\lenovo\\.conda\\envs\\CLMLF\\lib\\site-packages\\ipykernel_launcher.py:13: UserWarning: Implicit dimension choice for softmax has been deprecated. Change the call to include dim=X as an argument.\n",
      "  del sys.path[0]\n"
     ]
    }
   ],
   "source": [
    "# 参数\n",
    "# -- [隐藏层维度]\n",
    "bM, br, w = random_tensors([7], num=3, requires_grad=True)\n",
    "# -- [隐藏层维度 x 隐藏层维度]\n",
    "WY, Wh, Wr, Wt = random_tensors([7, 7], num=4, requires_grad=True)\n",
    "\n",
    "# 注意力机制的单次应用\n",
    "def attention(Y, ht, rt1):\n",
    "    # -- [batch大小 x 隐藏层维度]\n",
    "    tmp = torch.einsum(\"ik,kl->il\", [ht, Wh]) + torch.einsum(\"ik,kl->il\", [rt1, Wr])\n",
    "    Mt = F.tanh(torch.einsum(\"ijk,kl->ijl\", [Y, WY]) + tmp.unsqueeze(1).expand_as(Y) + bM)\n",
    "    # -- [batch大小 x 序列长度]\n",
    "    at = F.softmax(torch.einsum(\"ijk,k->ij\", [Mt, w]))\n",
    "    # -- [batch大小 x 隐藏层维度]\n",
    "    rt = torch.einsum(\"ijk,ij->ik\", [Y, at]) + F.tanh(torch.einsum(\"ij,jk->ik\", [rt1, Wt]) + br)\n",
    "    # -- [batch大小 x 隐藏层维度], [batch大小 x 序列维度]\n",
    "    return rt, at\n",
    "\n",
    "# 取样仿造输入\n",
    "# -- [batch大小 x 序列长度 x 隐藏层维度]\n",
    "Y = random_tensors([3, 5, 7])\n",
    "# -- [batch大小 x 隐藏层维度]\n",
    "ht, rt1 = random_tensors([3, 7], num=2)\n",
    "\n",
    "rt, at = attention(Y, ht, rt1)"
   ],
   "metadata": {
    "collapsed": false,
    "pycharm": {
     "name": "#%%\n"
    }
   }
  },
  {
   "cell_type": "code",
   "execution_count": null,
   "outputs": [],
   "source": [],
   "metadata": {
    "collapsed": false,
    "pycharm": {
     "name": "#%%\n"
    }
   }
  }
 ],
 "metadata": {
  "kernelspec": {
   "display_name": "Python 3",
   "language": "python",
   "name": "python3"
  },
  "language_info": {
   "codemirror_mode": {
    "name": "ipython",
    "version": 2
   },
   "file_extension": ".py",
   "mimetype": "text/x-python",
   "name": "python",
   "nbconvert_exporter": "python",
   "pygments_lexer": "ipython2",
   "version": "2.7.6"
  }
 },
 "nbformat": 4,
 "nbformat_minor": 0
}