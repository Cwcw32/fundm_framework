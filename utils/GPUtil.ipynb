{
 "cells": [
  {
   "cell_type": "code",
   "execution_count": 1,
   "metadata": {
    "collapsed": true
   },
   "outputs": [
    {
     "name": "stdout",
     "output_type": "stream",
     "text": [
      "8192.0\n",
      "NVIDIA GeForce RTX 3070 Laptop GPU\n"
     ]
    }
   ],
   "source": [
    "# 安装\n",
    "#!pip install gputil\n",
    "# 使用\n",
    "import GPUtil as GPU\n",
    "import sys\n",
    "'''\n",
    "# 操作系统\n",
    "print('OS: ' + sys.platform)\n",
    "# python版本\n",
    "print(sys.version)\n",
    "# GPUtil版本\n",
    "print(GPU.__name__ + ' ' + GPU.__version__)\n",
    "'''\n",
    "Gpus = GPU.getGPUs()\n",
    "for gpu in Gpus:\n",
    "    print(gpu.memoryTotal) # GPU显存大小\n",
    "    print(gpu.name) # GPU名称\n",
    "# 更多参考https://github.com/anderskm/gputil#helper-functions"
   ]
  },
  {
   "cell_type": "code",
   "execution_count": null,
   "outputs": [],
   "source": [],
   "metadata": {
    "collapsed": false,
    "pycharm": {
     "name": "#%%\n"
    }
   }
  }
 ],
 "metadata": {
  "kernelspec": {
   "display_name": "Python 3",
   "language": "python",
   "name": "python3"
  },
  "language_info": {
   "codemirror_mode": {
    "name": "ipython",
    "version": 2
   },
   "file_extension": ".py",
   "mimetype": "text/x-python",
   "name": "python",
   "nbconvert_exporter": "python",
   "pygments_lexer": "ipython2",
   "version": "2.7.6"
  }
 },
 "nbformat": 4,
 "nbformat_minor": 0
}