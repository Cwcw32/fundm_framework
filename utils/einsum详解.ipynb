{
 "cells": [
  {
   "cell_type": "code",
   "execution_count": 2,
   "metadata": {
    "collapsed": true
   },
   "outputs": [],
   "source": [
    "import torch"
   ]
  },
  {
   "cell_type": "markdown",
   "source": [
    "<https://rockt.github.io/2018/04/30/einsum>"
   ],
   "metadata": {
    "collapsed": false,
    "pycharm": {
     "name": "#%% md\n"
    }
   }
  },
  {
   "cell_type": "markdown",
   "source": [
    "    def einsum(*args: Any) -> Tensor:\n",
    "    r\"\"\"einsum(equation, *operands) -> Tensor\n",
    "\n",
    "    Sums the product of the elements of the input :attr:`operands` along dimensions specified using a notation\n",
    "    based on the Einstein summation convention.\n",
    "\n",
    "    Einsum allows computing many common multi-dimensional linear algebraic array operations by representing them\n",
    "    in a short-hand format based on the Einstein summation convention, given by :attr:`equation`. The details of\n",
    "    this format are described below, but the general idea is to label every dimension of the input :attr:`operands`\n",
    "    with some subscript and define which subscripts are part of the output. The output is then computed by summing\n",
    "    the product of the elements of the :attr:`operands` along the dimensions whose subscripts are not part of the\n",
    "    output. For example, matrix multiplication can be computed using einsum as `torch.einsum(\"ij,jk->ik\", A, B)`.\n",
    "    Here, j is the summation subscript and i and k the output subscripts (see section below for more details on why).\n",
    "\n",
    "    Equation:\n",
    "\n",
    "        The :attr:`equation` string specifies the subscripts (letters in `[a-zA-Z]`) for each dimension of\n",
    "        the input :attr:`operands` in the same order as the dimensions, separating subcripts for each operand by a\n",
    "        comma (','), e.g. `'ij,jk'` specify subscripts for two 2D operands. The dimensions labeled with the same subscript\n",
    "        must be broadcastable, that is, their size must either match or be `1`. The exception is if a subscript is\n",
    "        repeated for the same input operand, in which case the dimensions labeled with this subscript for this operand\n",
    "        must match in size and the operand will be replaced by its diagonal along these dimensions. The subscripts that\n",
    "        appear exactly once in the :attr:`equation` will be part of the output, sorted in increasing alphabetical order.\n",
    "        The output is computed by multiplying the input :attr:`operands` element-wise, with their dimensions aligned based\n",
    "        on the subscripts, and then summing out the dimensions whose subscripts are not part of the output.\n",
    "\n",
    "        Optionally, the output subscripts can be explicitly defined by adding an arrow ('->') at the end of the equation\n",
    "        followed by the subscripts for the output. For instance, the following equation computes the transpose of a\n",
    "        matrix multiplication: 'ij,jk->ki'. The output subscripts must appear at least once for some input operand and\n",
    "        at most once for the output.\n",
    "\n",
    "        Ellipsis ('...') can be used in place of subscripts to broadcast the dimensions covered by the ellipsis.\n",
    "        Each input operand may contain at most one ellipsis which will cover the dimensions not covered by subscripts,\n",
    "        e.g. for an input operand with 5 dimensions, the ellipsis in the equation `'ab...c'` cover the third and fourth\n",
    "        dimensions. The ellipsis does not need to cover the same number of dimensions across the :attr:`operands` but the\n",
    "        'shape' of the ellipsis (the size of the dimensions covered by them) must broadcast together. If the output is not\n",
    "        explicitly defined with the arrow ('->') notation, the ellipsis will come first in the output (left-most dimensions),\n",
    "        before the subscript labels that appear exactly once for the input operands. e.g. the following equation implements\n",
    "        batch matrix multiplication `'...ij,...jk'`.\n",
    "\n",
    "        A few final notes: the equation may contain whitespaces between the different elements (subscripts, ellipsis,\n",
    "        arrow and comma) but something like `'. . .'` is not valid. An empty string `''` is valid for scalar operands.\n",
    "\n",
    "    .. note::\n",
    "\n",
    "        ``torch.einsum`` handles ellipsis ('...') differently from NumPy in that it allows dimensions\n",
    "        covered by the ellipsis to be summed over, that is, ellipsis are not required to be part of the output.\n",
    "\n",
    "    .. note::\n",
    "\n",
    "        This function does not optimize the given expression, so a different formula for the same computation may\n",
    "        run faster or consume less memory. Projects like opt_einsum (https://optimized-einsum.readthedocs.io/en/stable/)\n",
    "        can optimize the formula for you.\n",
    "\n",
    "    .. note::\n",
    "\n",
    "        As of PyTorch 1.10 :func:`torch.einsum` also supports the sublist format (see examples below). In this format,\n",
    "        subscripts for each operand are specified by sublists, list of integers in the range [0, 52). These sublists\n",
    "        follow their operands, and an extra sublist can appear at the end of the input to specify the output's\n",
    "        subscripts., e.g. `torch.einsum(op1, sublist1, op2, sublist2, ..., [subslist_out])`. Python's `Ellipsis` object\n",
    "        may be provided in a sublist to enable broadcasting as described in the Equation section above.\n",
    "\n",
    "    Args:\n",
    "        equation (str): The subscripts for the Einstein summation.\n",
    "        operands (List[Tensor]): The tensors to compute the Einstein summation of.\n",
    "\n",
    "    Examples::\n",
    "\n",
    "        >>> # trace\n",
    "        >>> # xdoctest: +IGNORE_WANT(\"non-deterministic\")\n",
    "        >>> torch.einsum('ii', torch.randn(4, 4))\n",
    "        tensor(-1.2104)\n",
    "\n",
    "        >>> # diagonal\n",
    "        >>> # xdoctest: +IGNORE_WANT(\"non-deterministic\")\n",
    "        >>> torch.einsum('ii->i', torch.randn(4, 4))\n",
    "        tensor([-0.1034,  0.7952, -0.2433,  0.4545])\n",
    "\n",
    "        >>> # outer product\n",
    "        >>> # xdoctest: +IGNORE_WANT(\"non-deterministic\")\n",
    "        >>> x = torch.randn(5)\n",
    "        >>> y = torch.randn(4)\n",
    "        >>> torch.einsum('i,j->ij', x, y)\n",
    "        tensor([[ 0.1156, -0.2897, -0.3918,  0.4963],\n",
    "                [-0.3744,  0.9381,  1.2685, -1.6070],\n",
    "                [ 0.7208, -1.8058, -2.4419,  3.0936],\n",
    "                [ 0.1713, -0.4291, -0.5802,  0.7350],\n",
    "                [ 0.5704, -1.4290, -1.9323,  2.4480]])\n",
    "\n",
    "        >>> # batch matrix multiplication\n",
    "        >>> # xdoctest: +IGNORE_WANT(\"non-deterministic\")\n",
    "        >>> As = torch.randn(3,2,5)\n",
    "        >>> Bs = torch.randn(3,5,4)\n",
    "        >>> torch.einsum('bij,bjk->bik', As, Bs)\n",
    "        tensor([[[-1.0564, -1.5904,  3.2023,  3.1271],\n",
    "                [-1.6706, -0.8097, -0.8025, -2.1183]],\n",
    "\n",
    "                [[ 4.2239,  0.3107, -0.5756, -0.2354],\n",
    "                [-1.4558, -0.3460,  1.5087, -0.8530]],\n",
    "\n",
    "                [[ 2.8153,  1.8787, -4.3839, -1.2112],\n",
    "                [ 0.3728, -2.1131,  0.0921,  0.8305]]])\n",
    "\n",
    "        >>> # with sublist format and ellipsis\n",
    "        >>> # xdoctest: +IGNORE_WANT(\"non-deterministic\")\n",
    "        >>> torch.einsum(As, [..., 0, 1], Bs, [..., 1, 2], [..., 0, 2])\n",
    "        tensor([[[-1.0564, -1.5904,  3.2023,  3.1271],\n",
    "                [-1.6706, -0.8097, -0.8025, -2.1183]],\n",
    "\n",
    "                [[ 4.2239,  0.3107, -0.5756, -0.2354],\n",
    "                [-1.4558, -0.3460,  1.5087, -0.8530]],\n",
    "\n",
    "                [[ 2.8153,  1.8787, -4.3839, -1.2112],\n",
    "                [ 0.3728, -2.1131,  0.0921,  0.8305]]])\n",
    "\n",
    "        >>> # batch permute\n",
    "        >>> A = torch.randn(2, 3, 4, 5)\n",
    "        >>> torch.einsum('...ij->...ji', A).shape\n",
    "        torch.Size([2, 3, 5, 4])\n",
    "\n",
    "        >>> # equivalent to torch.nn.functional.bilinear\n",
    "        >>> A = torch.randn(3,5,4)\n",
    "        >>> l = torch.randn(2,5)\n",
    "        >>> r = torch.randn(2,4)\n",
    "        >>> torch.einsum('bn,anm,bm->ba', l, A, r)\n",
    "        tensor([[-0.3430, -5.2405,  0.4494],\n",
    "                [ 0.3311,  5.5201, -3.0356]])\n",
    "    \"\"\"\n",
    "    # This wrapper exists to support variadic args.\n",
    "    if len(args) < 2:\n",
    "        raise ValueError('einsum(): must specify the equation string and at least one operand, '\n",
    "                         'or at least one operand and its subscripts list')\n",
    "\n",
    "    equation = None\n",
    "    operands = None\n",
    "\n",
    "    if isinstance(args[0], torch.Tensor):\n",
    "        # Convert the subscript list format which is an interleaving of operand and its subscripts\n",
    "        # list with an optional output subscripts list at the end (see documentation for more details on this)\n",
    "        # to the equation string format by creating the equation string from the subscripts list and grouping the\n",
    "        # input operands into a tensorlist (List[Tensor]).\n",
    "        def parse_subscript(n: int) -> str:\n",
    "            if n == Ellipsis:\n",
    "                return '...'\n",
    "            if n >= 0 and n < 26:\n",
    "                return chr(ord('A') + n)\n",
    "            if n >= 26 and n < 52:\n",
    "                return chr(ord('a') + n - 26)\n",
    "            raise ValueError('einsum(): subscript in subscript list is not within the valid range [0, 52)')\n",
    "\n",
    "        # Parse subscripts for input operands\n",
    "        equation = ','.join(''.join(parse_subscript(s) for s in l) for l in args[1::2])\n",
    "\n",
    "        # Parse optional output subscripts (provided when the number of arguments is odd)\n",
    "        if len(args) % 2 == 1:\n",
    "            equation += '->' + ''.join(parse_subscript(s) for s in args[-1])\n",
    "            operands = args[:-1:2]\n",
    "        else:\n",
    "            operands = args[::2]\n",
    "    else:\n",
    "        equation = args[0]\n",
    "        operands = args[1:]\n",
    "\n",
    "    if has_torch_function(operands):\n",
    "        return handle_torch_function(einsum, operands, equation, *operands)\n",
    "\n",
    "    if len(operands) == 1 and isinstance(operands[0], (list, tuple)):\n",
    "        # the old interface of passing the operands as one list argument\n",
    "        _operands = operands[0]\n",
    "        # recurse incase operands contains value that has torch function\n",
    "        # in the original implementation this line is omitted\n",
    "        return einsum(equation, *_operands)\n",
    "\n",
    "    return _VF.einsum(equation, operands)  # type: ignore[attr-defined]\"\"\""
   ],
   "metadata": {
    "collapsed": false,
    "pycharm": {
     "name": "#%% md\n"
    }
   }
  },
  {
   "cell_type": "code",
   "execution_count": 3,
   "outputs": [],
   "source": [
    "from IPython import  display\n"
   ],
   "metadata": {
    "collapsed": false,
    "pycharm": {
     "name": "#%%\n"
    }
   }
  },
  {
   "cell_type": "code",
   "execution_count": 4,
   "outputs": [
    {
     "data": {
      "image/png": "[encoded data removed]",
      "text/plain": "<IPython.core.display.Image object>"
     },
     "execution_count": 4,
     "metadata": {},
     "output_type": "execute_result"
    }
   ],
   "source": [
    "display.Image('../pics/einsum1.png')"
   ],
   "metadata": {
    "collapsed": false,
    "pycharm": {
     "name": "#%%\n"
    }
   }
  },
  {
   "cell_type": "markdown",
   "source": [
    "# ①矩阵转置"
   ],
   "metadata": {
    "collapsed": false,
    "pycharm": {
     "name": "#%% md\n"
    }
   }
  },
  {
   "cell_type": "code",
   "execution_count": 5,
   "outputs": [
    {
     "data": {
      "image/png": "[encoded data removed]",
      "text/plain": "<IPython.core.display.Image object>"
     },
     "execution_count": 5,
     "metadata": {},
     "output_type": "execute_result"
    }
   ],
   "source": [
    "display.Image('../pics/einsum2.png')"
   ],
   "metadata": {
    "collapsed": false,
    "pycharm": {
     "name": "#%%\n"
    }
   }
  },
  {
   "cell_type": "code",
   "execution_count": 6,
   "outputs": [],
   "source": [
    "\n",
    "a = torch.arange(6).reshape(2, 3)\n"
   ],
   "metadata": {
    "collapsed": false,
    "pycharm": {
     "name": "#%%\n"
    }
   }
  },
  {
   "cell_type": "code",
   "execution_count": 7,
   "outputs": [
    {
     "data": {
      "text/plain": "tensor([[0, 1, 2],\n        [3, 4, 5]])"
     },
     "execution_count": 7,
     "metadata": {},
     "output_type": "execute_result"
    }
   ],
   "source": [
    "a"
   ],
   "metadata": {
    "collapsed": false,
    "pycharm": {
     "name": "#%%\n"
    }
   }
  },
  {
   "cell_type": "code",
   "execution_count": 8,
   "outputs": [
    {
     "data": {
      "text/plain": "tensor([[0, 3],\n        [1, 4],\n        [2, 5]])"
     },
     "execution_count": 8,
     "metadata": {},
     "output_type": "execute_result"
    }
   ],
   "source": [
    "torch.einsum('ij->ji', [a])"
   ],
   "metadata": {
    "collapsed": false,
    "pycharm": {
     "name": "#%%\n"
    }
   }
  },
  {
   "cell_type": "markdown",
   "source": [
    "# ②求和"
   ],
   "metadata": {
    "collapsed": false,
    "pycharm": {
     "name": "#%% md\n"
    }
   }
  },
  {
   "cell_type": "code",
   "execution_count": 9,
   "outputs": [
    {
     "data": {
      "image/png": "[encoded data removed]",
      "text/plain": "<IPython.core.display.Image object>"
     },
     "execution_count": 9,
     "metadata": {},
     "output_type": "execute_result"
    }
   ],
   "source": [
    "display.Image('../pics/einsum3.png')"
   ],
   "metadata": {
    "collapsed": false,
    "pycharm": {
     "name": "#%%\n"
    }
   }
  },
  {
   "cell_type": "code",
   "execution_count": 10,
   "outputs": [
    {
     "data": {
      "text/plain": "tensor(15)"
     },
     "execution_count": 10,
     "metadata": {},
     "output_type": "execute_result"
    }
   ],
   "source": [
    "\n",
    "a = torch.arange(6).reshape(2, 3)\n",
    "torch.einsum('ij->', [a])"
   ],
   "metadata": {
    "collapsed": false,
    "pycharm": {
     "name": "#%%\n"
    }
   }
  },
  {
   "cell_type": "markdown",
   "source": [
    "# ③列求和"
   ],
   "metadata": {
    "collapsed": false,
    "pycharm": {
     "name": "#%% md\n"
    }
   }
  },
  {
   "cell_type": "code",
   "execution_count": 11,
   "outputs": [
    {
     "data": {
      "image/png": "[encoded data removed]",
      "text/plain": "<IPython.core.display.Image object>"
     },
     "execution_count": 11,
     "metadata": {},
     "output_type": "execute_result"
    }
   ],
   "source": [
    "display.Image('../pics/einsum4.png')"
   ],
   "metadata": {
    "collapsed": false,
    "pycharm": {
     "name": "#%%\n"
    }
   }
  },
  {
   "cell_type": "code",
   "execution_count": 12,
   "outputs": [
    {
     "data": {
      "text/plain": "tensor([3, 5, 7])"
     },
     "execution_count": 12,
     "metadata": {},
     "output_type": "execute_result"
    }
   ],
   "source": [
    "a = torch.arange(6).reshape(2, 3)\n",
    "torch.einsum('ij->j', [a])"
   ],
   "metadata": {
    "collapsed": false,
    "pycharm": {
     "name": "#%%\n"
    }
   }
  },
  {
   "cell_type": "markdown",
   "source": [
    "# ④行求和"
   ],
   "metadata": {
    "collapsed": false,
    "pycharm": {
     "name": "#%% md\n"
    }
   }
  },
  {
   "cell_type": "code",
   "execution_count": 13,
   "outputs": [
    {
     "data": {
      "image/png": "[encoded data removed]",
      "text/plain": "<IPython.core.display.Image object>"
     },
     "execution_count": 13,
     "metadata": {},
     "output_type": "execute_result"
    }
   ],
   "source": [
    "display.Image('../pics/einsum5.png')"
   ],
   "metadata": {
    "collapsed": false,
    "pycharm": {
     "name": "#%%\n"
    }
   }
  },
  {
   "cell_type": "code",
   "execution_count": 14,
   "outputs": [
    {
     "data": {
      "text/plain": "tensor([ 3, 12])"
     },
     "execution_count": 14,
     "metadata": {},
     "output_type": "execute_result"
    }
   ],
   "source": [
    "a = torch.arange(6).reshape(2, 3)\n",
    "torch.einsum('ij->i', [a])"
   ],
   "metadata": {
    "collapsed": false,
    "pycharm": {
     "name": "#%%\n"
    }
   }
  },
  {
   "cell_type": "markdown",
   "source": [
    "# ⑤矩阵-向量相乘"
   ],
   "metadata": {
    "collapsed": false,
    "pycharm": {
     "name": "#%% md\n"
    }
   }
  },
  {
   "cell_type": "code",
   "execution_count": 15,
   "outputs": [
    {
     "data": {
      "image/jpeg": "[encoded data removed]",
      "text/plain": "<IPython.core.display.Image object>"
     },
     "execution_count": 15,
     "metadata": {},
     "output_type": "execute_result"
    }
   ],
   "source": [
    "display.Image('../pics/einsum6.jpg')"
   ],
   "metadata": {
    "collapsed": false,
    "pycharm": {
     "name": "#%%\n"
    }
   }
  },
  {
   "cell_type": "code",
   "execution_count": 16,
   "outputs": [
    {
     "name": "stdout",
     "output_type": "stream",
     "text": [
      "tensor([[0, 1, 2],\n",
      "        [3, 4, 5]])\n",
      "tensor([0, 1, 2])\n",
      "tensor([ 5, 14])\n"
     ]
    }
   ],
   "source": [
    "a = torch.arange(6).reshape(2, 3)\n",
    "b = torch.arange(3)\n",
    "print(a)\n",
    "print(b)\n",
    "print(torch.einsum('ik,k->i', [a, b]))"
   ],
   "metadata": {
    "collapsed": false,
    "pycharm": {
     "name": "#%%\n"
    }
   }
  },
  {
   "cell_type": "markdown",
   "source": [
    "# ⑥矩阵-矩阵相乘"
   ],
   "metadata": {
    "collapsed": false,
    "pycharm": {
     "name": "#%% md\n"
    }
   }
  },
  {
   "cell_type": "code",
   "execution_count": 17,
   "outputs": [
    {
     "data": {
      "image/png": "[encoded data removed]",
      "text/plain": "<IPython.core.display.Image object>"
     },
     "execution_count": 17,
     "metadata": {},
     "output_type": "execute_result"
    }
   ],
   "source": [
    "display.Image('../pics/einsum7.png')"
   ],
   "metadata": {
    "collapsed": false,
    "pycharm": {
     "name": "#%%\n"
    }
   }
  },
  {
   "cell_type": "code",
   "execution_count": 18,
   "outputs": [
    {
     "name": "stdout",
     "output_type": "stream",
     "text": [
      "tensor([[0, 1, 2],\n",
      "        [3, 4, 5]])\n",
      "tensor([[ 0,  1,  2,  3,  4],\n",
      "        [ 5,  6,  7,  8,  9],\n",
      "        [10, 11, 12, 13, 14]])\n",
      "tensor([[ 25,  28,  31,  34,  37],\n",
      "        [ 70,  82,  94, 106, 118]])\n"
     ]
    }
   ],
   "source": [
    "a = torch.arange(6).reshape(2, 3)\n",
    "b = torch.arange(15).reshape(3, 5)\n",
    "print(a)\n",
    "print(b)\n",
    "print(torch.einsum('ik,kj->ij', [a, b]))"
   ],
   "metadata": {
    "collapsed": false,
    "pycharm": {
     "name": "#%%\n"
    }
   }
  },
  {
   "cell_type": "markdown",
   "source": [
    "# ⑦点积"
   ],
   "metadata": {
    "collapsed": false,
    "pycharm": {
     "name": "#%% md\n"
    }
   }
  },
  {
   "cell_type": "markdown",
   "source": [
    "## 7.1 向量"
   ],
   "metadata": {
    "collapsed": false,
    "pycharm": {
     "name": "#%% md\n"
    }
   }
  },
  {
   "cell_type": "code",
   "execution_count": 19,
   "outputs": [
    {
     "data": {
      "image/png": "[encoded data removed]",
      "text/plain": "<IPython.core.display.Image object>"
     },
     "execution_count": 19,
     "metadata": {},
     "output_type": "execute_result"
    }
   ],
   "source": [
    "display.Image('../pics/einsum8.png')"
   ],
   "metadata": {
    "collapsed": false,
    "pycharm": {
     "name": "#%%\n"
    }
   }
  },
  {
   "cell_type": "code",
   "execution_count": 20,
   "outputs": [
    {
     "name": "stdout",
     "output_type": "stream",
     "text": [
      "tensor([0, 1, 2])\n",
      "tensor([3, 4, 5])\n",
      "tensor(14)\n"
     ]
    }
   ],
   "source": [
    "a = torch.arange(3)\n",
    "b = torch.arange(3,6)  # [3, 4, 5]\n",
    "print(a)\n",
    "print(b)\n",
    "print(torch.einsum('i,i->', [a, b]))\n"
   ],
   "metadata": {
    "collapsed": false,
    "pycharm": {
     "name": "#%%\n"
    }
   }
  },
  {
   "cell_type": "markdown",
   "source": [
    "## 7.2 矩阵"
   ],
   "metadata": {
    "collapsed": false,
    "pycharm": {
     "name": "#%% md\n"
    }
   }
  },
  {
   "cell_type": "code",
   "execution_count": 21,
   "outputs": [
    {
     "data": {
      "image/jpeg": "[encoded data removed]",
      "text/plain": "<IPython.core.display.Image object>"
     },
     "execution_count": 21,
     "metadata": {},
     "output_type": "execute_result"
    }
   ],
   "source": [
    "display.Image('../pics/einsum9.jpg')"
   ],
   "metadata": {
    "collapsed": false,
    "pycharm": {
     "name": "#%%\n"
    }
   }
  },
  {
   "cell_type": "code",
   "execution_count": 22,
   "outputs": [
    {
     "name": "stdout",
     "output_type": "stream",
     "text": [
      "tensor([[0, 1, 2],\n",
      "        [3, 4, 5]])\n",
      "tensor([[ 6,  7,  8],\n",
      "        [ 9, 10, 11]])\n",
      "tensor(145)\n"
     ]
    }
   ],
   "source": [
    "a = torch.arange(6).reshape(2, 3)\n",
    "b = torch.arange(6,12).reshape(2, 3)\n",
    "print(a)\n",
    "print(b)\n",
    "print(torch.einsum('ij,ij->', [a, b]))"
   ],
   "metadata": {
    "collapsed": false,
    "pycharm": {
     "name": "#%%\n"
    }
   }
  },
  {
   "cell_type": "code",
   "execution_count": 64,
   "outputs": [
    {
     "name": "stdout",
     "output_type": "stream",
     "text": [
      "tensor([[0., 1., 2.],\n",
      "        [3., 4., 5.]])\n",
      "tensor([[ 6.,  7.,  8.],\n",
      "        [ 9., 10., 11.]])\n",
      "tensor([[27., 30., 33.],\n",
      "        [42., 47., 52.],\n",
      "        [57., 64., 71.]])\n",
      "tensor([[ 23.,  32.],\n",
      "        [ 86., 122.]])\n",
      "tensor([[ 23.,  32.],\n",
      "        [ 86., 122.]])\n"
     ]
    }
   ],
   "source": [
    "a = torch.arange(6).reshape(2, 3).float()\n",
    "b = torch.arange(6,12).reshape(2, 3).float()\n",
    "print(a)\n",
    "print(b)\n",
    "c=torch.einsum('ki,kj->ij',a,b).float()\n",
    "e=torch.einsum('ik,jk->ij',a,b).float()\n",
    "\n",
    "print(c)\n",
    "print(e)\n",
    "f=torch.einsum('ik,kj->ij',a,b.T).float()\n",
    "print(f)\n"
   ],
   "metadata": {
    "collapsed": false,
    "pycharm": {
     "name": "#%%\n"
    }
   }
  },
  {
   "cell_type": "code",
   "execution_count": 61,
   "outputs": [
    {
     "name": "stdout",
     "output_type": "stream",
     "text": [
      "tensor([[ 23.,  32.],\n",
      "        [ 86., 122.]])\n",
      "tensor([[27., 30., 33.],\n",
      "        [42., 47., 52.],\n",
      "        [57., 64., 71.]])\n",
      "tensor([[2.3556e-03, 4.7314e-02, 9.5033e-01],\n",
      "        [4.5094e-05, 6.6925e-03, 9.9326e-01],\n",
      "        [8.3077e-07, 9.1105e-04, 9.9909e-01]])\n"
     ]
    }
   ],
   "source": [
    "print(torch.mm(a,b.T))\n",
    "print(torch.mm(a.T,b))\n",
    "print(c.softmax(dim=-1))"
   ],
   "metadata": {
    "collapsed": false,
    "pycharm": {
     "name": "#%%\n"
    }
   }
  },
  {
   "cell_type": "code",
   "execution_count": 57,
   "outputs": [
    {
     "data": {
      "text/plain": "tensor([[1.9480, 1.9932, 1.9991],\n        [4.9480, 4.9932, 4.9991]])"
     },
     "execution_count": 57,
     "metadata": {},
     "output_type": "execute_result"
    }
   ],
   "source": [
    "d= torch.einsum(\"ts,cs->ct\", c.softmax(dim=-1), a)\n",
    "d"
   ],
   "metadata": {
    "collapsed": false,
    "pycharm": {
     "name": "#%%\n"
    }
   }
  },
  {
   "cell_type": "code",
   "execution_count": null,
   "outputs": [],
   "source": [],
   "metadata": {
    "collapsed": false,
    "pycharm": {
     "name": "#%%\n"
    }
   }
  },
  {
   "cell_type": "code",
   "execution_count": 52,
   "outputs": [
    {
     "ename": "RuntimeError",
     "evalue": "The size of tensor a (2) must match the size of tensor b (3) at non-singleton dimension 0",
     "output_type": "error",
     "traceback": [
      "\u001B[1;31m---------------------------------------------------------------------------\u001B[0m",
      "\u001B[1;31mRuntimeError\u001B[0m                              Traceback (most recent call last)",
      "\u001B[1;32m<ipython-input-52-e200917bc55f>\u001B[0m in \u001B[0;36m<module>\u001B[1;34m\u001B[0m\n\u001B[1;32m----> 1\u001B[1;33m \u001B[0ma\u001B[0m\u001B[1;33m+\u001B[0m\u001B[0mc\u001B[0m\u001B[1;33m\u001B[0m\u001B[1;33m\u001B[0m\u001B[0m\n\u001B[0m",
      "\u001B[1;31mRuntimeError\u001B[0m: The size of tensor a (2) must match the size of tensor b (3) at non-singleton dimension 0"
     ]
    }
   ],
   "source": [
    "a+c"
   ],
   "metadata": {
    "collapsed": false,
    "pycharm": {
     "name": "#%%\n"
    }
   }
  },
  {
   "cell_type": "markdown",
   "source": [
    "# 8 哈达玛积"
   ],
   "metadata": {
    "collapsed": false,
    "pycharm": {
     "name": "#%% md\n"
    }
   }
  },
  {
   "cell_type": "code",
   "execution_count": 23,
   "outputs": [
    {
     "data": {
      "image/png": "[encoded data removed]",
      "text/plain": "<IPython.core.display.Image object>"
     },
     "execution_count": 23,
     "metadata": {},
     "output_type": "execute_result"
    }
   ],
   "source": [
    "display.Image('../pics/einsum10.png')"
   ],
   "metadata": {
    "collapsed": false,
    "pycharm": {
     "name": "#%%\n"
    }
   }
  },
  {
   "cell_type": "code",
   "execution_count": 24,
   "outputs": [
    {
     "name": "stdout",
     "output_type": "stream",
     "text": [
      "tensor([[0, 1, 2],\n",
      "        [3, 4, 5]])\n",
      "tensor([[ 6,  7,  8],\n",
      "        [ 9, 10, 11]])\n",
      "tensor([[ 0,  7, 16],\n",
      "        [27, 40, 55]])\n"
     ]
    }
   ],
   "source": [
    "a = torch.arange(6).reshape(2, 3)\n",
    "b = torch.arange(6,12).reshape(2, 3)\n",
    "print(a)\n",
    "print(b)\n",
    "print(torch.einsum('ij,ij->ij', [a, b]))"
   ],
   "metadata": {
    "collapsed": false,
    "pycharm": {
     "name": "#%%\n"
    }
   }
  },
  {
   "cell_type": "markdown",
   "source": [
    "# 9 外积"
   ],
   "metadata": {
    "collapsed": false,
    "pycharm": {
     "name": "#%% md\n"
    }
   }
  },
  {
   "cell_type": "code",
   "execution_count": 25,
   "outputs": [
    {
     "data": {
      "image/png": "[encoded data removed]",
      "text/plain": "<IPython.core.display.Image object>"
     },
     "execution_count": 25,
     "metadata": {},
     "output_type": "execute_result"
    }
   ],
   "source": [
    "display.Image('../pics/einsum11.png')"
   ],
   "metadata": {
    "collapsed": false,
    "pycharm": {
     "name": "#%%\n"
    }
   }
  },
  {
   "cell_type": "code",
   "execution_count": 26,
   "outputs": [
    {
     "name": "stdout",
     "output_type": "stream",
     "text": [
      "tensor([0, 1, 2])\n",
      "tensor([3, 4, 5, 6])\n",
      "tensor([[ 0,  0,  0,  0],\n",
      "        [ 3,  4,  5,  6],\n",
      "        [ 6,  8, 10, 12]])\n"
     ]
    }
   ],
   "source": [
    "a = torch.arange(3)\n",
    "b = torch.arange(3,7)\n",
    "print(a)\n",
    "print(b)\n",
    "print(torch.einsum('i,j->ij', [a, b]))"
   ],
   "metadata": {
    "collapsed": false,
    "pycharm": {
     "name": "#%%\n"
    }
   }
  },
  {
   "cell_type": "markdown",
   "source": [
    "# 10 batch 矩阵相乘"
   ],
   "metadata": {
    "collapsed": false,
    "pycharm": {
     "name": "#%% md\n"
    }
   }
  },
  {
   "cell_type": "code",
   "execution_count": 27,
   "outputs": [
    {
     "data": {
      "image/png": "[encoded data removed]",
      "text/plain": "<IPython.core.display.Image object>"
     },
     "execution_count": 27,
     "metadata": {},
     "output_type": "execute_result"
    }
   ],
   "source": [
    "display.Image('../pics/einsum12.png')"
   ],
   "metadata": {
    "collapsed": false,
    "pycharm": {
     "name": "#%%\n"
    }
   }
  },
  {
   "cell_type": "code",
   "execution_count": 28,
   "outputs": [
    {
     "name": "stdout",
     "output_type": "stream",
     "text": [
      "tensor([[[ 1.7472, -1.2841,  1.0421,  0.6256,  0.4265],\n",
      "         [-1.2643,  0.9666, -0.5454,  0.0822,  1.0358]],\n",
      "\n",
      "        [[-0.0775, -1.2047,  1.5029, -0.3362,  0.7608],\n",
      "         [ 2.1545, -1.4327,  0.5353,  0.5834, -1.1785]],\n",
      "\n",
      "        [[-1.1164,  0.4177, -1.9266,  1.2698,  0.6060],\n",
      "         [-1.2696,  0.6566,  0.9307,  0.1137, -0.6567]]])\n",
      "tensor([[[ 0.6725,  0.4079, -0.4548],\n",
      "         [ 0.6524, -0.3525,  1.2395],\n",
      "         [-0.9683,  0.1404, -0.4171],\n",
      "         [ 0.5207,  0.3088,  0.0460],\n",
      "         [ 1.2499,  0.4482,  0.9566]],\n",
      "\n",
      "        [[-0.5624,  0.4729,  0.6844],\n",
      "         [ 0.3450,  0.6867, -1.2037],\n",
      "         [ 0.0215, -1.4017, -0.7371],\n",
      "         [ 2.1671, -0.2785,  0.8387],\n",
      "         [-0.8384,  0.0952, -0.8133]],\n",
      "\n",
      "        [[ 1.4210, -2.2699,  0.4636],\n",
      "         [ 2.0214,  0.5295,  0.8563],\n",
      "         [ 0.3191,  0.0552,  0.4357],\n",
      "         [ 0.5550,  0.7018, -1.3192],\n",
      "         [-0.7441, -0.5553, -0.3388]]])\n",
      "tensor([[[ 0.1870,  1.6959, -2.3841],\n",
      "         [ 1.6458, -0.4433,  2.9953]],\n",
      "\n",
      "        [[-1.7060, -2.8045, -0.6115],\n",
      "         [ 0.5580, -0.9899,  4.2524]],\n",
      "\n",
      "        [[-1.1031,  3.2035, -2.8796],\n",
      "         [ 0.3719,  3.7255,  0.4517]]])\n"
     ]
    }
   ],
   "source": [
    "a = torch.randn(3,2,5)\n",
    "b = torch.randn(3,5,3)\n",
    "print(a)\n",
    "print(b)\n",
    "print(torch.einsum('ijk,ikl->ijl', [a, b]))"
   ],
   "metadata": {
    "collapsed": false,
    "pycharm": {
     "name": "#%%\n"
    }
   }
  },
  {
   "cell_type": "code",
   "execution_count": 29,
   "outputs": [
    {
     "name": "stdout",
     "output_type": "stream",
     "text": [
      "tensor([[[-0.6598,  0.4136, -0.4351,  0.4289, -0.2109],\n",
      "         [ 0.9673,  0.6882,  0.0891,  1.0107, -0.7718]],\n",
      "\n",
      "        [[ 0.6230, -0.8627, -0.3057,  0.2273,  0.0072],\n",
      "         [-1.2046,  0.3446, -0.7899, -2.6244,  1.2953]],\n",
      "\n",
      "        [[-0.4206, -0.5502, -1.9856, -2.2151,  0.5195],\n",
      "         [ 1.3084,  0.7056, -0.0604, -0.0984,  0.0334]]])\n",
      "tensor([[[ 0.4559, -2.4534,  0.2964],\n",
      "         [-0.8747,  1.1481,  0.4832],\n",
      "         [-0.1080,  0.0811, -0.7059],\n",
      "         [ 2.7496, -1.0097, -1.3815],\n",
      "         [ 0.1072,  0.5245, -1.4894]],\n",
      "\n",
      "        [[ 0.5069,  0.5378, -1.1083],\n",
      "         [-1.1594, -0.8331,  0.1087],\n",
      "         [-1.2776,  0.4482, -1.1194],\n",
      "         [ 2.1996,  2.1670,  1.0803],\n",
      "         [-0.3683, -0.1466,  0.7310]],\n",
      "\n",
      "        [[ 0.5516, -1.4926,  1.9509],\n",
      "         [-0.9681,  1.9026,  0.4313],\n",
      "         [-0.6476, -0.7795, -1.0361],\n",
      "         [ 0.6921, -0.5724, -0.0467],\n",
      "         [-0.9715,  0.7135,  1.7061]]])\n",
      "tensor([[[ 0.5410,  1.5146,  0.0330],\n",
      "         [ 2.5255, -3.0012,  0.3096]],\n",
      "\n",
      "        [[ 2.2039,  1.4082, -0.1912],\n",
      "         [-6.2507, -7.1658,  0.3684]],\n",
      "\n",
      "        [[-0.4512,  2.7673,  1.9893],\n",
      "         [-0.0229, -0.4832,  2.9811]]])\n"
     ]
    }
   ],
   "source": [
    "a = torch.randn(3,2,5)\n",
    "b = torch.randn(3,5,3)\n",
    "print(a)\n",
    "print(b)\n",
    "print(torch.einsum('ijk,ikl->ijl', [a, b]))"
   ],
   "metadata": {
    "collapsed": false,
    "pycharm": {
     "name": "#%%\n"
    }
   }
  },
  {
   "cell_type": "markdown",
   "source": [
    "# 11 张量缩约"
   ],
   "metadata": {
    "collapsed": false,
    "pycharm": {
     "name": "#%% md\n"
    }
   }
  },
  {
   "cell_type": "code",
   "execution_count": 30,
   "outputs": [
    {
     "data": {
      "image/png": "[encoded data removed]",
      "text/plain": "<IPython.core.display.Image object>"
     },
     "execution_count": 30,
     "metadata": {},
     "output_type": "execute_result"
    }
   ],
   "source": [
    "display.Image('../pics/einsum14.png')"
   ],
   "metadata": {
    "collapsed": false,
    "pycharm": {
     "name": "#%%\n"
    }
   }
  },
  {
   "cell_type": "code",
   "execution_count": 31,
   "outputs": [
    {
     "data": {
      "image/png": "[encoded data removed]",
      "text/plain": "<IPython.core.display.Image object>"
     },
     "execution_count": 31,
     "metadata": {},
     "output_type": "execute_result"
    }
   ],
   "source": [
    "display.Image('../pics/einsum13.png')"
   ],
   "metadata": {
    "collapsed": false,
    "pycharm": {
     "name": "#%%\n"
    }
   }
  },
  {
   "cell_type": "code",
   "execution_count": 32,
   "outputs": [
    {
     "data": {
      "text/plain": "torch.Size([2, 7, 11, 13, 17])"
     },
     "execution_count": 32,
     "metadata": {},
     "output_type": "execute_result"
    }
   ],
   "source": [
    "a = torch.randn(2,3,5,7)\n",
    "b = torch.randn(11,13,3,17,5)\n",
    "torch.einsum('pqrs,tuqvr->pstuv', [a, b]).shape"
   ],
   "metadata": {
    "collapsed": false,
    "pycharm": {
     "name": "#%%\n"
    }
   }
  },
  {
   "cell_type": "code",
   "execution_count": 33,
   "outputs": [
    {
     "name": "stdout",
     "output_type": "stream",
     "text": [
      "tensor([[[[ 0.4608, -0.8503,  1.1434, -1.1495,  1.4854, -0.8429, -1.3225],\n",
      "          [ 2.5518,  0.0903, -0.9389,  0.0859, -1.3519,  0.3024, -1.1633],\n",
      "          [-0.9915, -0.5155, -1.4514,  0.0169,  0.6782, -0.9647, -1.7101],\n",
      "          [-1.2767,  1.2952,  1.7812, -0.2219,  0.4122,  1.3793,  2.6374],\n",
      "          [ 0.2444,  1.3675, -0.2009, -0.0707, -0.7891, -0.2379,  0.5683]],\n",
      "\n",
      "         [[-0.1220, -0.5547, -0.0541, -0.8322,  1.0198,  0.9513, -0.0207],\n",
      "          [-0.9297,  1.0220, -0.1353,  2.0853, -1.6905, -0.1176,  0.8796],\n",
      "          [-0.0086, -0.9456,  0.0843, -1.5267, -0.0704, -1.5941,  0.5542],\n",
      "          [-1.4131,  0.0913,  1.1642,  0.0628, -0.0856, -0.0325,  0.2939],\n",
      "          [-0.1794,  0.6374,  0.4415, -0.9586, -1.2431,  1.1689,  1.0638]],\n",
      "\n",
      "         [[-0.3529, -0.2976, -0.0831,  0.3683, -0.6957,  0.0177, -0.7162],\n",
      "          [ 0.2178,  0.3760,  2.2024,  0.0239,  0.2308, -0.2095,  1.1229],\n",
      "          [ 2.0577,  0.9173,  0.5474,  0.3160,  0.4068, -0.7924, -1.6030],\n",
      "          [ 0.1607, -1.4236,  0.9978, -1.2708,  1.6042, -1.2297, -0.2990],\n",
      "          [-1.9044, -0.0591, -0.1994, -0.1696, -0.2065, -0.5574, -0.1136]]],\n",
      "\n",
      "\n",
      "        [[[ 0.1140,  0.9354, -0.4518,  1.7469,  0.5727,  1.1465,  0.1846],\n",
      "          [-0.7824,  1.4295, -0.3845, -0.2425, -0.2980,  0.6836, -0.0871],\n",
      "          [-0.2303, -0.9697, -0.0399, -0.0123, -1.0522, -0.1775,  0.9797],\n",
      "          [-0.0730, -1.1942,  0.0663,  1.1582, -0.3639,  1.5349, -1.3894],\n",
      "          [-0.7638,  1.4850,  0.0786, -1.1816,  0.9308, -0.9173, -0.5444]],\n",
      "\n",
      "         [[ 0.4060,  0.4075,  2.2264, -0.6918, -1.5823,  0.5236,  0.5349],\n",
      "          [ 0.9927, -0.2519,  0.2510, -0.9855,  0.1575, -0.6459, -2.5495],\n",
      "          [-0.6591,  1.9410, -0.6206, -0.8106, -0.1518, -0.7498, -1.1421],\n",
      "          [-0.3804,  0.4160,  0.1805, -0.2523, -0.4117, -1.2875, -0.4163],\n",
      "          [-1.0106, -0.3968,  0.6149,  0.2888, -0.3219, -0.0780, -1.5589]],\n",
      "\n",
      "         [[ 0.7972,  0.0738,  0.9615,  0.1206, -0.3835, -2.6460,  1.1271],\n",
      "          [-1.3957,  1.5365,  1.3842,  0.6641, -0.8522,  1.1685, -1.0145],\n",
      "          [-1.3040, -0.3291,  0.2640, -0.4041,  0.2505, -0.1342,  0.1864],\n",
      "          [-0.0940,  0.9790, -0.0694,  0.6737,  0.7995, -1.1531,  0.2093],\n",
      "          [ 1.4214,  0.5206, -0.3757,  0.3753, -0.9026, -0.3962, -0.7525]]]])\n",
      "tensor([[[[[-5.7139e-01, -1.5283e+00,  9.4070e-01, -5.8403e-01, -7.5395e-01],\n",
      "           [ 6.3988e-01, -5.5387e-01,  1.0747e+00,  3.4999e-01, -1.3936e+00],\n",
      "           [ 1.8174e+00,  6.9818e-02, -3.6748e-02,  4.3996e-01, -3.9672e-01],\n",
      "           ...,\n",
      "           [-9.8770e-01, -2.2507e+00,  2.9901e+00, -3.3096e-01, -6.6146e-01],\n",
      "           [ 1.0095e+00,  1.9196e+00,  1.8855e-01,  8.6485e-01, -4.8760e-01],\n",
      "           [-1.4135e+00,  3.8205e-01, -3.6559e-01,  1.1795e+00, -1.1423e+00]],\n",
      "\n",
      "          [[-6.6444e-01, -4.0371e-01,  7.9867e-01, -2.5250e-01, -8.5496e-01],\n",
      "           [ 1.6284e+00,  2.4421e-01,  7.2425e-02,  1.9596e+00,  7.4551e-01],\n",
      "           [ 5.7102e-02, -9.3449e-01, -1.6349e+00,  5.7522e-01, -2.8183e-01],\n",
      "           ...,\n",
      "           [-9.8017e-01,  7.5185e-01, -3.5168e-01,  9.1474e-01, -1.4750e+00],\n",
      "           [-2.1649e-01,  7.6919e-01,  1.5456e+00,  1.3523e+00,  7.9351e-01],\n",
      "           [ 4.3206e-01, -7.8368e-01, -1.2615e+00, -6.1510e-01,  1.8827e+00]],\n",
      "\n",
      "          [[ 9.7910e-01, -1.4778e+00,  1.2202e+00, -2.0615e+00,  5.2612e-01],\n",
      "           [ 7.0808e-01, -8.0330e-02, -2.0617e-01,  8.3734e-02,  4.0490e-02],\n",
      "           [-1.7012e+00,  1.4846e-01, -5.2653e-01,  5.6283e-01, -1.5000e+00],\n",
      "           ...,\n",
      "           [ 9.5668e-01, -1.5120e-01,  1.1718e+00, -7.5063e-01,  1.5359e+00],\n",
      "           [-7.1632e-01,  1.2597e+00,  5.6755e-01, -7.9474e-01, -1.6132e-01],\n",
      "           [-4.5122e-02,  1.1364e+00, -1.0990e+00, -1.9055e+00, -8.7920e-01]]],\n",
      "\n",
      "\n",
      "         [[[ 1.2334e+00, -3.2963e-01,  4.5350e-01,  1.9981e-01,  5.3335e-01],\n",
      "           [ 1.5343e+00,  5.4272e-01,  2.5386e-03, -2.4447e-01,  2.2591e+00],\n",
      "           [-8.2434e-01, -5.6702e-01, -6.8963e-01,  8.6674e-01, -3.3021e-01],\n",
      "           ...,\n",
      "           [-2.0280e+00,  1.2014e+00, -1.0966e+00, -1.1542e-01,  9.9384e-01],\n",
      "           [ 1.1644e-01, -7.8743e-02,  3.0762e-01, -5.3302e-02,  5.0570e-01],\n",
      "           [-5.9444e-01, -4.0667e-01,  5.7059e-01, -3.1325e-01, -2.5335e-02]],\n",
      "\n",
      "          [[-7.0243e-01, -5.9012e-01, -8.3360e-01,  7.4314e-01, -1.4162e+00],\n",
      "           [-2.3127e-01, -1.1714e+00, -1.6281e+00,  1.8591e+00, -7.4557e-01],\n",
      "           [-1.4786e-01, -2.8223e-01, -1.2099e+00,  3.4312e-01, -6.4452e-01],\n",
      "           ...,\n",
      "           [ 1.3610e+00,  1.0935e+00, -2.6295e-01,  1.4051e+00, -4.9397e-01],\n",
      "           [ 1.0156e+00, -2.3460e-01,  1.9053e+00,  8.5646e-01,  7.1053e-01],\n",
      "           [ 7.3959e-01,  6.4306e-01, -4.7925e-01, -3.7928e-02, -9.3179e-01]],\n",
      "\n",
      "          [[ 1.7714e+00,  2.8671e-01, -2.1389e-02, -1.3899e+00,  1.1687e+00],\n",
      "           [ 2.8478e-01,  1.3246e-01,  4.7855e-01,  2.5396e-01,  1.3338e+00],\n",
      "           [-8.4504e-01,  6.4285e-01,  1.2504e+00,  5.7886e-02,  1.4618e+00],\n",
      "           ...,\n",
      "           [ 3.5198e-01, -4.0448e-01,  1.2890e+00, -3.0839e-01, -7.0542e-01],\n",
      "           [-2.7227e-01,  1.8248e-01, -6.4171e-01, -8.9931e-01,  1.1920e+00],\n",
      "           [ 1.1632e+00,  1.2733e+00, -3.1799e-01, -2.2762e+00,  1.8773e+00]]],\n",
      "\n",
      "\n",
      "         [[[ 5.1618e-01, -4.1644e-01, -2.5812e-01,  5.2145e-01,  3.7100e-01],\n",
      "           [-3.3455e-01,  6.0983e-01,  1.4882e+00,  1.7194e+00, -2.3096e+00],\n",
      "           [-1.4374e+00, -4.6110e-01, -1.8551e+00, -7.3515e-03,  1.2210e+00],\n",
      "           ...,\n",
      "           [-1.7493e-01, -1.4584e+00, -1.0915e+00, -4.3196e-01, -4.7710e-01],\n",
      "           [-6.5251e-01,  1.5622e+00, -2.1472e+00, -6.1373e-02, -1.1841e+00],\n",
      "           [-1.1272e-02, -8.4965e-01,  1.0500e+00,  6.6440e-01, -4.2293e-01]],\n",
      "\n",
      "          [[ 1.1397e+00,  2.1778e+00, -2.2983e+00, -6.7257e-01,  1.2249e-01],\n",
      "           [-7.9389e-01, -6.6874e-01,  8.9938e-01,  1.4979e+00,  1.8873e-01],\n",
      "           [-5.7596e-01, -1.9837e+00, -1.0871e+00,  6.5510e-02,  2.4172e-01],\n",
      "           ...,\n",
      "           [ 1.0402e-01, -3.0471e-01,  4.3437e-01,  7.8650e-01,  2.0230e-01],\n",
      "           [ 1.8531e-01,  1.8836e+00,  7.4065e-01,  1.0717e+00,  1.9626e+00],\n",
      "           [-2.9682e-02,  7.7251e-01,  1.8047e+00, -1.1164e+00,  6.1378e-01]],\n",
      "\n",
      "          [[ 6.0632e-01,  2.2200e-02,  2.9951e-01,  1.1279e+00, -1.9944e+00],\n",
      "           [-1.0548e-01,  5.9977e-01,  2.8797e-01, -8.2301e-01,  1.2821e+00],\n",
      "           [ 3.6302e-01,  1.2097e+00, -1.3470e+00,  1.0599e+00, -2.2230e+00],\n",
      "           ...,\n",
      "           [ 1.1570e+00, -6.6976e-02,  1.1417e+00, -4.9811e-01, -8.5603e-01],\n",
      "           [-5.5539e-03, -9.3799e-01, -3.2546e-01, -1.9277e+00,  2.8626e-01],\n",
      "           [-6.5212e-01, -1.3473e+00,  7.8072e-01, -3.7998e-01, -1.3382e+00]]],\n",
      "\n",
      "\n",
      "         ...,\n",
      "\n",
      "\n",
      "         [[[-3.7828e-03, -6.0166e-01,  1.4552e-02, -3.3816e-01, -4.5955e-01],\n",
      "           [-9.7352e-01,  9.7747e-01, -4.9779e-01,  4.7505e-01, -1.1869e+00],\n",
      "           [ 1.9576e+00,  1.2610e+00,  5.6935e-02,  1.4049e+00,  1.0893e-01],\n",
      "           ...,\n",
      "           [ 8.3370e-01,  4.6578e-01, -1.5410e+00,  5.1003e-01, -1.3992e+00],\n",
      "           [-8.5217e-01,  1.2168e+00, -6.4472e-01,  3.0034e-01, -4.0742e-01],\n",
      "           [ 8.0886e-01,  3.4813e-01, -6.9606e-01, -5.5377e-01,  1.7875e+00]],\n",
      "\n",
      "          [[-2.8085e-02, -8.1084e-01,  1.2218e+00,  1.8652e-01,  9.3902e-01],\n",
      "           [-4.2912e-01,  8.6227e-01, -9.5178e-01, -1.5140e-01,  1.5284e+00],\n",
      "           [ 9.7373e-01,  9.9770e-01, -4.3627e-01, -1.4179e+00,  9.8850e-02],\n",
      "           ...,\n",
      "           [-1.1827e+00, -9.6234e-01, -1.4357e+00,  1.2816e+00, -9.3215e-02],\n",
      "           [-8.3671e-01, -1.9416e-01, -6.4872e-01, -4.7237e-01, -1.1608e+00],\n",
      "           [-1.1603e+00, -1.1101e+00,  6.7695e-01, -4.2848e-01,  2.2058e-02]],\n",
      "\n",
      "          [[ 2.0901e-01,  3.2318e-01,  9.6808e-01, -1.2593e-01,  2.1393e-01],\n",
      "           [-1.9405e+00,  3.1678e-01,  1.3791e+00,  3.8742e-01,  3.5020e-01],\n",
      "           [-1.9180e+00,  2.1081e-01,  1.7314e-01, -1.3345e+00, -1.3686e+00],\n",
      "           ...,\n",
      "           [ 9.5880e-02,  1.4532e+00,  1.7688e-01,  1.0401e+00,  1.1153e+00],\n",
      "           [-1.4031e+00, -1.2313e+00, -1.1004e+00,  1.1358e+00, -6.2046e-01],\n",
      "           [ 1.7332e+00,  1.0002e+00,  1.3869e+00,  5.8425e-02,  5.4527e-01]]],\n",
      "\n",
      "\n",
      "         [[[-4.0901e-01,  1.6099e+00,  1.5095e-01, -6.0203e-01, -9.4072e-01],\n",
      "           [-3.5207e-01, -1.6696e+00, -1.6567e+00, -1.1385e+00,  1.0159e+00],\n",
      "           [ 4.0249e-01, -7.2215e-01, -1.0136e+00, -8.5339e-02,  6.3612e-01],\n",
      "           ...,\n",
      "           [-9.4463e-01,  3.2212e-01,  2.0630e-01,  7.6909e-01,  5.0915e-01],\n",
      "           [ 1.3904e-01,  1.8450e-01,  5.8403e-01,  1.6887e+00, -4.5998e-01],\n",
      "           [-3.8761e-01,  5.4866e-01, -1.4387e+00, -1.4648e-01, -1.1307e+00]],\n",
      "\n",
      "          [[-7.5600e-01,  7.3672e-01,  2.7876e-01, -7.1975e-01, -4.3836e-01],\n",
      "           [ 8.9189e-01,  8.7433e-02, -2.6229e-01, -1.7923e+00,  2.1429e+00],\n",
      "           [ 4.6008e-01,  1.4233e+00,  1.0920e+00, -9.6286e-01, -7.5113e-01],\n",
      "           ...,\n",
      "           [ 8.0151e-01, -4.3581e-01, -2.0955e-01, -2.6171e+00,  3.4512e-01],\n",
      "           [ 4.9823e-02,  7.7804e-01, -9.7971e-01,  1.4651e+00, -1.4862e+00],\n",
      "           [ 1.2576e+00,  1.5729e+00, -1.0986e+00, -2.4270e-01,  2.5057e-02]],\n",
      "\n",
      "          [[ 1.9585e+00,  1.1469e+00,  1.2607e+00, -5.5581e-01, -2.8261e-01],\n",
      "           [-1.6724e+00,  8.1238e-01, -1.1985e+00, -1.1159e+00, -3.6642e-01],\n",
      "           [ 6.2612e-01,  8.9020e-02, -9.0257e-01,  2.0559e+00,  3.8561e-01],\n",
      "           ...,\n",
      "           [ 7.1127e-01, -1.3719e-01,  1.3694e+00, -7.7955e-03, -5.6466e-01],\n",
      "           [ 5.2713e-01,  1.0141e-01, -2.2994e+00, -4.1493e-01,  2.0984e-01],\n",
      "           [ 9.7740e-01,  6.7462e-01, -2.6575e-01,  4.1715e-02,  6.8583e-01]]],\n",
      "\n",
      "\n",
      "         [[[ 2.2050e-01, -2.3584e+00, -1.9852e-02, -3.2534e-01,  8.7648e-01],\n",
      "           [ 5.1344e-01, -1.9185e+00,  8.6256e-01, -2.6159e-01,  1.4567e-02],\n",
      "           [ 1.1012e-01,  1.0393e+00, -1.2621e+00,  5.3368e-01,  2.2637e-02],\n",
      "           ...,\n",
      "           [-6.7842e-02, -1.2104e+00,  2.0836e-01, -3.0674e-01, -1.4280e+00],\n",
      "           [ 3.7495e-01, -3.4574e-01,  1.3722e+00, -1.2002e+00, -1.8465e-01],\n",
      "           [-9.2529e-01,  9.9583e-01,  4.1821e-01, -4.4154e-01, -3.1587e-01]],\n",
      "\n",
      "          [[ 1.4826e+00, -6.2345e-02,  1.3229e+00,  3.6984e-01, -4.6267e-01],\n",
      "           [-6.3011e-02,  3.2688e-01,  5.1259e-01, -4.7674e-01,  1.9522e-01],\n",
      "           [-3.1872e-01,  2.3647e+00,  2.0857e-01,  2.3498e-01, -9.7954e-01],\n",
      "           ...,\n",
      "           [-1.4799e+00, -3.6526e-01,  9.0055e-01, -9.8631e-01,  7.3913e-01],\n",
      "           [-2.4085e+00, -1.0705e+00,  9.2780e-01, -1.1550e-01, -2.4500e+00],\n",
      "           [-2.7951e-01, -1.9721e+00, -7.6773e-01,  1.5019e+00, -1.0437e+00]],\n",
      "\n",
      "          [[ 7.0385e-01, -6.8168e-01,  1.9899e-01, -3.3736e-01,  9.7700e-01],\n",
      "           [-1.0744e+00, -1.3557e-01,  4.8015e-01,  2.0676e-01,  3.4104e+00],\n",
      "           [ 8.9612e-02, -5.1329e-01, -7.6614e-01,  9.7131e-01, -2.4535e+00],\n",
      "           ...,\n",
      "           [-1.4792e+00, -1.2551e-01,  1.3115e+00,  8.8034e-01, -2.1400e-01],\n",
      "           [ 1.1555e+00,  1.8188e-01,  3.0087e-02, -4.0580e-01,  4.9400e-01],\n",
      "           [-2.4382e+00,  4.4044e-01, -1.8939e+00,  3.4728e-02, -6.9119e-01]]]],\n",
      "\n",
      "\n",
      "\n",
      "        [[[[ 2.5454e+00, -2.8873e-01, -7.7778e-01,  1.3662e+00,  1.5012e+00],\n",
      "           [-6.5716e-01,  1.1167e+00, -4.5879e-01,  1.9699e-01, -1.1438e+00],\n",
      "           [-4.2039e-01, -1.0510e+00,  1.5936e+00, -1.0616e+00,  1.0960e+00],\n",
      "           ...,\n",
      "           [-5.1581e-01, -2.8832e-02, -4.9147e-02, -5.2066e-01,  2.0656e-01],\n",
      "           [ 2.1489e+00, -1.3025e+00,  9.2703e-01, -1.9669e-02,  5.8437e-01],\n",
      "           [ 2.6068e+00, -5.8616e-01,  1.0612e+00, -3.8454e-01,  1.3052e-01]],\n",
      "\n",
      "          [[-1.2693e+00,  1.3615e+00, -1.0225e+00,  8.2706e-01, -4.3767e-01],\n",
      "           [ 8.5833e-02,  5.8592e-01,  6.5821e-01,  2.0105e-01,  8.2900e-01],\n",
      "           [ 1.4341e-01, -1.0882e+00,  1.5222e+00,  7.2689e-01, -3.1065e-01],\n",
      "           ...,\n",
      "           [-2.6854e-02, -4.4544e-01,  4.5534e-01,  7.3101e-01,  7.8637e-02],\n",
      "           [-1.1590e+00, -3.3577e-02, -2.6639e-02, -1.2827e+00, -6.8957e-02],\n",
      "           [ 1.9967e+00, -1.1888e+00, -6.4525e-03, -2.3767e-01,  1.2499e+00]],\n",
      "\n",
      "          [[ 1.0114e+00, -4.1715e-01, -1.2473e+00, -4.0454e-01,  1.0081e+00],\n",
      "           [-6.6865e-02,  1.3600e+00, -1.4915e-01,  2.7447e-01,  1.4916e+00],\n",
      "           [ 8.8541e-02, -1.7012e-01, -6.9181e-01, -1.3258e+00, -1.8905e+00],\n",
      "           ...,\n",
      "           [ 5.6617e-01, -2.6142e-02,  9.3584e-01, -1.5685e+00,  6.1391e-01],\n",
      "           [-1.0685e+00, -1.3024e+00,  1.3687e+00, -4.8488e-01,  9.9319e-01],\n",
      "           [ 1.0405e+00,  1.9484e+00, -1.0131e+00, -2.0364e+00,  1.1823e-01]]],\n",
      "\n",
      "\n",
      "         [[[-6.8901e-01,  1.0986e+00,  8.1178e-01,  1.0700e+00, -2.5015e-01],\n",
      "           [ 6.8737e-01,  9.0559e-01,  9.4955e-03, -1.4620e+00, -7.0038e-01],\n",
      "           [ 5.5350e-01,  2.2046e-01,  3.0613e+00, -6.5747e-01,  5.2771e-01],\n",
      "           ...,\n",
      "           [ 3.1950e-01,  2.1670e-01, -6.9852e-01, -6.7188e-01, -2.1038e-01],\n",
      "           [-1.1907e+00,  3.6285e-01,  2.3167e-01,  1.0568e-01, -5.2554e-01],\n",
      "           [ 6.8024e-01,  3.3132e-01, -4.7245e-01,  1.1400e+00, -1.8531e-01]],\n",
      "\n",
      "          [[-1.9087e+00, -2.4755e-01, -2.2815e+00,  1.4941e+00,  2.4647e+00],\n",
      "           [-1.0933e-02, -4.2491e-01, -1.0392e+00, -2.3344e+00, -1.0001e+00],\n",
      "           [-9.4733e-01, -1.0629e-01, -1.3613e+00,  5.9096e-01, -7.9556e-01],\n",
      "           ...,\n",
      "           [-1.2792e+00, -1.9843e-01,  3.2619e-02,  4.6775e-01, -4.4569e-01],\n",
      "           [ 1.5509e-01,  6.5681e-01,  2.1211e+00, -4.2015e-01,  7.7072e-01],\n",
      "           [ 2.5350e+00,  1.2633e+00,  6.3193e-01,  2.2063e+00, -5.0048e-02]],\n",
      "\n",
      "          [[-6.6197e-01,  2.7059e-01,  4.8875e-01, -2.1124e-01, -1.1858e-01],\n",
      "           [-1.5960e-01, -8.2386e-01,  2.5835e-01,  1.9899e+00,  6.6826e-01],\n",
      "           [-8.2305e-01, -3.0630e-01,  5.5684e-01, -1.0687e+00, -4.2298e-01],\n",
      "           ...,\n",
      "           [-9.6873e-01, -3.2524e-01, -2.7529e+00,  3.5098e-01,  2.4423e+00],\n",
      "           [ 6.6727e-01,  8.8760e-01, -2.6688e-01, -1.3542e+00, -3.8505e-01],\n",
      "           [-2.2553e+00, -7.1651e-01,  9.2939e-02,  7.4387e-01, -2.8770e-01]]],\n",
      "\n",
      "\n",
      "         [[[-4.9443e-01,  9.3155e-01, -5.5081e-01,  1.1221e+00,  7.3303e-02],\n",
      "           [ 3.5082e-01, -1.5251e+00,  1.2039e+00, -1.7138e+00, -8.4766e-01],\n",
      "           [-3.6907e-01,  1.2423e-01, -2.7706e-01,  4.0022e-01, -1.8746e-01],\n",
      "           ...,\n",
      "           [-1.9925e-01, -2.8812e+00, -1.6190e+00,  1.5433e+00, -2.0679e+00],\n",
      "           [ 4.4030e-02,  9.2246e-02,  3.6809e-01,  1.8550e+00,  1.2697e+00],\n",
      "           [ 4.8301e-01, -4.2155e-01, -6.6835e-02,  3.0243e-01,  8.6599e-01]],\n",
      "\n",
      "          [[-3.5951e-01, -1.4081e+00,  5.6953e-01, -7.5116e-02,  5.0782e-01],\n",
      "           [-1.6037e+00, -1.9818e+00, -2.0153e+00,  8.2308e-02,  2.5120e-01],\n",
      "           [ 3.2820e-01, -1.3838e+00, -2.5921e+00, -3.4022e-01,  1.6156e+00],\n",
      "           ...,\n",
      "           [ 5.4904e-01,  1.2658e+00, -1.2088e+00, -5.6391e-01,  1.8022e-01],\n",
      "           [-1.3674e+00, -1.1661e+00,  1.0358e+00, -4.4484e-01,  1.2028e+00],\n",
      "           [ 9.0008e-01, -1.0379e+00,  5.6020e-01, -1.9043e-01,  9.7387e-01]],\n",
      "\n",
      "          [[ 2.2789e+00,  1.3492e+00,  2.2299e-01,  3.7377e-01,  1.2394e-01],\n",
      "           [-1.0108e-01, -1.8813e-01,  1.8988e+00, -8.1954e-01, -5.8038e-01],\n",
      "           [-1.5110e+00,  1.0679e-01, -1.3779e+00, -2.9552e-01,  6.1652e-01],\n",
      "           ...,\n",
      "           [-2.9329e-01, -1.0659e+00, -4.2219e-01, -1.7624e-01, -5.0664e-01],\n",
      "           [-1.1977e+00,  8.2094e-01,  1.2024e+00,  1.1491e+00,  7.9648e-01],\n",
      "           [-2.8254e-01, -1.2851e+00,  6.1078e-01, -1.1749e+00, -2.7579e-01]]],\n",
      "\n",
      "\n",
      "         ...,\n",
      "\n",
      "\n",
      "         [[[-1.0221e-01, -1.1159e+00, -2.5617e-01,  4.4742e-01, -5.3813e-01],\n",
      "           [-1.6696e+00, -6.7615e-01, -8.2931e-01,  1.6777e+00,  2.4600e-01],\n",
      "           [-8.2370e-01, -9.1298e-01, -1.5731e+00,  6.8390e-01, -1.2286e+00],\n",
      "           ...,\n",
      "           [ 3.0597e+00, -3.6515e-01,  8.4941e-01,  8.5261e-01,  7.1846e-01],\n",
      "           [-7.3178e-01,  1.4269e+00, -2.2113e-01,  8.6037e-01,  1.5629e+00],\n",
      "           [ 2.6965e-01,  6.4031e-01, -2.8603e-01, -1.5895e-01, -6.7130e-01]],\n",
      "\n",
      "          [[ 8.3206e-01,  8.5112e-01, -1.1436e-01,  1.2376e+00, -7.2920e-01],\n",
      "           [ 1.8705e-01,  1.2303e+00,  2.9361e-01,  1.2298e+00, -1.0627e+00],\n",
      "           [-4.2208e-01,  9.0664e-01,  2.2739e-01,  3.8063e-01, -1.4948e+00],\n",
      "           ...,\n",
      "           [-1.1947e+00, -1.1348e-01,  4.1929e-01, -1.3996e-01, -6.0079e-01],\n",
      "           [-1.3846e+00, -1.3492e-01, -6.6272e-02,  4.1864e-03, -2.3824e-02],\n",
      "           [ 1.3441e+00,  6.9558e-01,  1.1957e+00,  1.3121e+00,  1.0576e-01]],\n",
      "\n",
      "          [[ 6.1351e-01, -1.3563e+00,  3.9825e-01,  9.9469e-01,  7.5505e-01],\n",
      "           [ 1.2564e+00,  8.6213e-02,  2.1500e+00,  1.2619e-03, -5.4010e-01],\n",
      "           [-1.7848e+00, -2.1728e+00,  1.9585e+00, -2.0500e+00,  1.9100e+00],\n",
      "           ...,\n",
      "           [ 1.3568e+00, -2.1679e+00,  1.3949e+00,  8.7787e-01,  5.4511e-01],\n",
      "           [-2.7615e+00,  1.3842e-01,  4.5704e-01,  8.0950e-02,  1.6716e+00],\n",
      "           [-1.8880e+00,  2.4718e-01,  9.0458e-01,  6.5944e-01, -2.0200e-01]]],\n",
      "\n",
      "\n",
      "         [[[ 2.0854e+00, -6.2186e-01,  1.0136e+00,  6.6267e-01,  1.6601e+00],\n",
      "           [-1.0164e+00,  2.2604e-01, -7.4646e-01, -1.1864e+00, -3.1439e-01],\n",
      "           [-1.5027e+00,  1.5414e+00, -9.8447e-01,  6.1018e-01,  7.2026e-01],\n",
      "           ...,\n",
      "           [-6.4365e-01,  1.1819e-01,  1.0994e+00, -5.6283e-01, -2.6654e+00],\n",
      "           [-6.1348e-01,  1.2423e+00,  2.5933e-01,  5.3431e-01, -4.8336e-01],\n",
      "           [ 1.9348e+00,  3.4276e-01, -3.6375e-01, -4.6018e-01, -1.1689e+00]],\n",
      "\n",
      "          [[ 5.9516e-01, -1.3810e+00,  1.1948e+00,  1.7142e+00,  1.1137e-01],\n",
      "           [ 2.8883e-01, -1.3343e+00,  1.2483e-01,  4.7239e-01, -4.6095e-01],\n",
      "           [ 2.3188e-01,  6.2431e-01, -9.8725e-02, -1.6026e+00,  9.9934e-01],\n",
      "           ...,\n",
      "           [-2.0264e+00, -7.5342e-01, -6.0816e-01, -4.1911e-01, -1.3588e+00],\n",
      "           [ 8.4546e-02, -7.9912e-03,  4.8883e-01,  1.2170e+00,  9.8270e-02],\n",
      "           [-7.0356e-01, -3.2814e-01, -2.1677e-01,  3.3883e-01,  7.7512e-01]],\n",
      "\n",
      "          [[ 1.0920e+00, -1.5757e-01,  9.5470e-01, -1.7186e+00, -7.5344e-01],\n",
      "           [-5.4072e-01,  1.7095e+00, -9.1127e-01,  6.8822e-01, -1.0543e+00],\n",
      "           [-8.4605e-01, -1.0532e+00, -1.1422e+00, -3.5170e+00, -1.2537e+00],\n",
      "           ...,\n",
      "           [-1.1135e+00, -5.4914e-01,  9.2934e-01,  1.0369e+00,  1.5278e+00],\n",
      "           [-1.1322e+00, -1.1151e+00, -8.1303e-02, -5.4539e-01,  1.2886e+00],\n",
      "           [ 3.1090e-01, -1.7243e+00,  4.5636e-01,  6.4853e-01,  8.9860e-01]]],\n",
      "\n",
      "\n",
      "         [[[ 1.9276e-01, -3.4579e-01, -6.1169e-01, -7.1305e-01,  5.1282e-01],\n",
      "           [ 1.3946e+00, -6.1551e-01, -6.8792e-01, -9.1657e-01, -4.9935e-01],\n",
      "           [-1.1613e+00,  9.1588e-02,  7.0265e-01,  1.5156e+00, -1.5367e+00],\n",
      "           ...,\n",
      "           [-2.5940e-01,  9.8752e-01, -5.0960e-01, -3.2642e+00,  2.0024e+00],\n",
      "           [ 6.8673e-02, -9.2727e-01, -3.5229e-02,  3.6634e-02,  2.7354e+00],\n",
      "           [-2.6247e+00,  4.6681e-01,  5.6642e-02,  3.5058e-02, -5.8313e-01]],\n",
      "\n",
      "          [[-2.5083e-01, -1.2838e+00, -2.4425e+00, -1.1535e+00,  1.4517e+00],\n",
      "           [ 9.9577e-01,  3.8891e+00, -3.1883e-01,  8.1780e-01,  4.6157e-01],\n",
      "           [-9.5881e-01, -1.4527e-01, -1.0177e-01,  1.0440e+00, -1.9495e+00],\n",
      "           ...,\n",
      "           [-1.5779e-01, -1.1455e+00,  4.4729e-01, -1.9995e+00, -5.3156e-01],\n",
      "           [ 1.2190e+00, -9.1411e-01,  5.5245e-01,  5.3667e-01,  3.6101e-01],\n",
      "           [-1.3777e+00,  1.3688e+00, -1.6843e+00,  1.5495e+00, -1.9548e+00]],\n",
      "\n",
      "          [[ 4.9207e-01,  1.5954e+00,  6.1116e-01, -2.2350e-01,  2.2649e+00],\n",
      "           [ 2.6368e-02, -5.8078e-01, -8.1772e-01,  1.8286e+00, -1.5401e+00],\n",
      "           [ 5.0251e-01, -5.7351e-01, -2.2546e-01,  1.7266e-02, -1.4078e+00],\n",
      "           ...,\n",
      "           [ 4.2608e-02, -1.8501e-01,  6.5880e-01,  8.7732e-01,  7.0710e-01],\n",
      "           [ 1.3533e+00, -7.6533e-01,  1.0210e+00,  2.9901e-01, -4.3280e-02],\n",
      "           [ 1.7988e-01,  9.6369e-01, -1.7182e-01,  9.0787e-01, -3.0175e-01]]]],\n",
      "\n",
      "\n",
      "\n",
      "        [[[[-1.5141e+00,  8.2427e-02, -9.7842e-02,  8.6900e-01,  1.9057e+00],\n",
      "           [-6.6766e-01,  1.3582e+00, -2.0509e+00,  5.3935e-01, -9.2935e-01],\n",
      "           [-4.6691e-01, -1.9422e-01,  1.0357e+00, -7.4905e-01,  8.3398e-01],\n",
      "           ...,\n",
      "           [-3.4841e-01,  1.1448e+00, -1.4797e+00,  1.1365e+00,  5.2485e-01],\n",
      "           [ 8.9275e-01,  5.4312e-01,  4.5664e-01, -5.0315e-02, -4.9775e-02],\n",
      "           [ 1.2637e+00, -1.7236e+00, -1.1694e+00,  5.9764e-02,  1.1609e+00]],\n",
      "\n",
      "          [[-4.8646e-01, -2.1545e-01, -5.0066e-01, -3.4484e-01, -5.6428e-01],\n",
      "           [-3.6329e-01, -1.6108e-01,  7.9141e-01, -2.3562e-01,  1.3402e-01],\n",
      "           [-7.6909e-01, -1.4251e-01,  8.7803e-01,  1.5512e+00, -9.5272e-01],\n",
      "           ...,\n",
      "           [-1.4945e+00, -2.8359e-01,  1.0998e+00, -1.1162e+00, -2.0310e+00],\n",
      "           [ 7.4508e-01, -9.0485e-01, -2.4663e-01,  1.3287e+00,  7.3797e-01],\n",
      "           [-1.6966e-01, -8.8849e-01,  3.1447e-01, -9.9245e-01, -6.2439e-01]],\n",
      "\n",
      "          [[-7.3408e-01, -3.6901e-02, -3.1361e-01,  1.3798e+00, -1.3429e+00],\n",
      "           [-2.9467e-01,  5.0389e-01, -1.5951e+00,  4.6747e-01,  4.2500e-01],\n",
      "           [ 4.7244e-01, -1.3962e+00,  1.1709e+00, -9.1241e-02, -4.3014e-02],\n",
      "           ...,\n",
      "           [ 1.0706e+00, -1.5736e-01,  6.3215e-01,  1.8749e+00, -4.2211e-01],\n",
      "           [-7.1762e-02,  1.2431e+00,  5.3969e-01,  9.0631e-01, -1.9213e+00],\n",
      "           [ 1.3552e+00, -1.2163e+00,  1.5852e+00,  2.9500e-01,  3.7433e-01]]],\n",
      "\n",
      "\n",
      "         [[[ 8.1573e-02,  7.9136e-01,  1.7456e+00,  1.3706e-01,  5.4755e-01],\n",
      "           [ 1.5804e+00, -4.0915e-01,  4.1713e-01, -5.4439e-01,  1.4971e+00],\n",
      "           [ 1.4706e+00,  3.8334e-02,  2.2275e-01, -4.3005e-01, -1.4373e+00],\n",
      "           ...,\n",
      "           [ 3.7029e-01, -3.2979e-01, -2.3886e-01, -1.0719e+00,  9.1036e-01],\n",
      "           [-3.2900e-01, -2.5366e-01, -2.6768e-01, -3.9423e-01, -8.0346e-01],\n",
      "           [ 8.5596e-01,  1.9471e-01, -5.1856e-01, -1.3393e+00, -7.0139e-01]],\n",
      "\n",
      "          [[ 1.4175e+00, -2.0817e-03, -1.4904e+00, -9.5566e-01,  4.6780e-01],\n",
      "           [-1.1352e-01, -9.3211e-01,  1.8814e-01, -7.8453e-01,  1.7444e+00],\n",
      "           [-1.0871e+00, -7.3886e-01, -2.3059e+00, -1.3440e+00, -3.8947e-01],\n",
      "           ...,\n",
      "           [ 1.5289e+00, -5.5816e-01, -1.1003e+00, -2.4321e+00, -9.9506e-01],\n",
      "           [-1.3905e+00,  6.4020e-01, -7.3352e-01,  9.5177e-01,  2.3827e-01],\n",
      "           [-1.9584e+00, -1.0518e+00,  6.6751e-01,  1.0889e+00, -2.8028e-01]],\n",
      "\n",
      "          [[-1.2591e+00, -5.8846e-01, -1.0419e-01,  1.2696e+00,  3.8269e-01],\n",
      "           [-1.0205e+00,  4.7516e-02, -3.4276e-01, -7.8670e-01,  5.0460e-02],\n",
      "           [ 9.3627e-01, -2.3454e+00,  9.2618e-01, -4.5457e-01, -5.6869e-01],\n",
      "           ...,\n",
      "           [-1.1363e-02, -2.1211e+00, -3.0170e-01, -1.2147e+00,  5.4171e-01],\n",
      "           [-1.3440e+00,  9.5694e-01,  1.6930e+00, -4.8405e-01, -4.5097e-01],\n",
      "           [-1.2689e+00, -2.7752e-02,  2.1418e-01, -7.9773e-01, -2.4599e-01]]],\n",
      "\n",
      "\n",
      "         [[[-5.2456e-01, -1.5197e-01, -1.5819e+00, -9.2782e-01, -4.1377e-01],\n",
      "           [ 1.4236e+00, -6.1667e-01,  1.0479e+00,  5.6461e-02, -2.6930e-01],\n",
      "           [ 5.3150e-01, -4.4398e-01,  1.0452e+00,  5.6678e-01,  2.4403e-01],\n",
      "           ...,\n",
      "           [ 5.3488e-01, -9.1382e-01,  1.0216e+00,  4.1270e-01, -1.3570e+00],\n",
      "           [ 1.3022e+00, -2.3841e-01, -2.6983e-01,  8.6381e-01,  1.3811e-01],\n",
      "           [-4.8377e-01,  6.5391e-01, -6.5298e-01, -3.6359e-01,  1.6447e+00]],\n",
      "\n",
      "          [[-9.5184e-01,  3.8889e-01, -1.5842e+00, -1.5373e+00,  1.3103e+00],\n",
      "           [ 6.4281e-01, -5.5309e-01,  7.2604e-01, -1.8715e-01, -3.3589e-02],\n",
      "           [-1.0463e-01,  2.0248e+00,  3.3108e-01,  4.5174e-01,  1.2254e+00],\n",
      "           ...,\n",
      "           [-5.5542e-02,  1.5931e+00,  9.2230e-01,  5.6865e-01, -1.0296e+00],\n",
      "           [-1.0113e+00, -1.3455e+00, -1.3818e+00,  1.2027e+00, -2.4016e+00],\n",
      "           [-8.1072e-01,  1.0680e+00,  4.2316e-01, -1.3080e+00, -4.2652e-01]],\n",
      "\n",
      "          [[ 4.7098e-01,  7.6206e-01, -9.2236e-02,  8.5501e-02,  5.6120e-01],\n",
      "           [-3.9329e-01, -6.3536e-01,  5.5785e-01,  8.1757e-01,  7.5456e-01],\n",
      "           [-1.4763e+00,  2.5721e+00,  1.1682e+00,  1.7582e+00, -1.1392e+00],\n",
      "           ...,\n",
      "           [ 9.1669e-01, -1.3373e+00,  8.5783e-01,  7.1662e-01,  1.7449e+00],\n",
      "           [-8.5226e-01, -8.8057e-03,  1.3681e+00,  6.4886e-01,  6.5021e-01],\n",
      "           [-5.9397e-01,  1.1096e+00,  1.5061e-01, -1.0967e-01,  2.0502e+00]]],\n",
      "\n",
      "\n",
      "         ...,\n",
      "\n",
      "\n",
      "         [[[ 4.4404e-01, -7.1874e-01, -1.1797e+00, -9.2743e-01,  2.2343e+00],\n",
      "           [ 4.2866e-01,  5.4760e-01,  1.3371e+00,  2.1155e+00, -7.8274e-01],\n",
      "           [-6.8248e-01,  1.6458e+00,  6.9291e-03,  1.5787e-01,  3.4048e-01],\n",
      "           ...,\n",
      "           [ 1.7018e+00,  2.2819e+00,  1.8829e-01,  4.3950e-01, -2.5986e-01],\n",
      "           [-1.5462e+00, -5.0526e-02,  2.0929e-01, -1.0602e+00, -7.7452e-01],\n",
      "           [-9.6725e-02,  1.7217e-04,  9.0523e-01,  5.9846e-01,  6.6845e-01]],\n",
      "\n",
      "          [[-2.8083e-01,  1.7545e+00, -2.2934e-01, -6.3365e-01,  2.2689e+00],\n",
      "           [-1.1860e+00, -7.2521e-01, -2.3319e-01, -1.4045e+00,  5.5882e-01],\n",
      "           [ 2.6980e+00, -1.3134e+00,  4.5179e-01, -2.5608e-01,  3.9418e-01],\n",
      "           ...,\n",
      "           [ 1.8155e+00,  5.8513e-01, -8.2888e-01, -5.4791e-01,  3.2585e-01],\n",
      "           [-8.7655e-01,  9.4845e-01, -2.3076e-01, -9.1523e-01, -1.2918e+00],\n",
      "           [ 1.2049e+00, -1.2679e-01,  5.7616e-01,  1.5465e+00,  9.0558e-01]],\n",
      "\n",
      "          [[-6.1571e-01,  1.9624e+00, -1.9900e+00, -1.0132e+00,  1.4328e+00],\n",
      "           [-5.7739e-04,  2.1614e-01,  4.4803e-01, -8.6834e-01, -1.2299e+00],\n",
      "           [ 5.5019e-01,  2.4060e-01,  2.0701e+00,  4.8816e-01,  1.5046e-01],\n",
      "           ...,\n",
      "           [ 1.4459e+00,  9.7457e-01,  1.6780e-01,  1.9165e-01,  1.1802e-01],\n",
      "           [-2.1127e-01, -5.5985e-01, -2.5215e-01,  6.6290e-01, -2.9485e-01],\n",
      "           [ 9.3858e-01,  2.7333e-01,  6.8646e-01, -1.2849e+00,  1.0379e+00]]],\n",
      "\n",
      "\n",
      "         [[[ 1.0177e+00,  7.9696e-01,  1.4918e+00,  1.1489e-01, -7.7153e-01],\n",
      "           [ 9.2196e-02, -1.1613e+00, -1.4305e+00, -1.2482e-01, -8.0146e-01],\n",
      "           [-1.4381e+00, -1.2123e-01,  1.0761e+00,  1.0825e+00,  5.8609e-01],\n",
      "           ...,\n",
      "           [-1.1277e+00, -9.9596e-01,  1.4697e+00,  2.7055e-01, -8.0838e-02],\n",
      "           [-2.0094e+00,  6.6843e-01, -3.4733e-01,  4.2913e-01, -5.3441e-02],\n",
      "           [-1.0195e+00,  1.4878e+00, -5.1755e-01,  1.4258e+00, -1.5524e+00]],\n",
      "\n",
      "          [[ 2.6015e-01,  5.2992e-01, -9.0576e-01, -9.8962e-01,  1.3940e+00],\n",
      "           [-2.2439e-01, -1.1454e+00,  1.3413e+00, -5.4348e-01, -1.4580e+00],\n",
      "           [ 5.8373e-01,  1.8092e-01, -2.4790e-01,  3.6828e-01,  7.4127e-01],\n",
      "           ...,\n",
      "           [ 1.9761e-01,  1.5446e+00, -1.6317e+00,  1.0094e+00,  4.9353e-01],\n",
      "           [ 9.2746e-01,  1.3918e+00,  1.0991e+00,  4.1466e-02,  3.8333e-01],\n",
      "           [-5.6703e-02,  1.6213e-01,  4.6965e-01,  8.6366e-01,  2.2867e-01]],\n",
      "\n",
      "          [[-3.2269e-01, -3.7554e-01,  4.2085e-01, -9.6260e-01,  1.9106e+00],\n",
      "           [-1.1072e+00,  8.0481e-01, -2.6861e-01,  5.9709e-01,  4.1649e-02],\n",
      "           [-1.3042e+00, -9.0827e-01,  9.5988e-01,  9.4614e-01,  1.7724e+00],\n",
      "           ...,\n",
      "           [-2.7768e-01, -9.4504e-02, -9.9056e-01,  1.3876e+00,  3.7073e-01],\n",
      "           [ 3.8308e-01, -9.1825e-01,  1.3071e-02, -1.1550e-01, -9.7124e-01],\n",
      "           [ 1.3340e-01,  6.0196e-01,  4.4950e-01, -7.4354e-01, -5.6403e-01]]],\n",
      "\n",
      "\n",
      "         [[[ 1.4338e+00, -1.3440e-01,  1.0235e+00,  8.5061e-01,  6.0914e-01],\n",
      "           [-1.7609e-01, -3.5214e-01,  4.5604e-01,  8.2752e-01, -6.8630e-02],\n",
      "           [-4.6992e-01,  4.3089e-01, -1.5873e-01,  7.5962e-02,  5.7471e-01],\n",
      "           ...,\n",
      "           [-2.1020e-01,  1.6363e-01, -2.0505e-01, -2.4847e-01,  1.9417e+00],\n",
      "           [ 5.0641e-01, -8.3816e-01, -2.9454e-01, -2.7691e-01,  5.0147e-01],\n",
      "           [ 1.7957e+00, -8.3652e-01, -1.0553e+00, -1.5003e+00, -8.1440e-01]],\n",
      "\n",
      "          [[-2.0758e-02, -3.2907e-01,  1.2037e+00, -2.1314e+00,  2.3089e+00],\n",
      "           [-3.1922e-01, -1.1854e+00, -6.0251e-01, -1.5609e+00, -1.6467e-01],\n",
      "           [-8.4256e-01, -1.0897e+00,  1.5255e+00,  1.0100e+00,  4.1876e-01],\n",
      "           ...,\n",
      "           [ 9.7797e-01,  2.1823e+00,  5.7165e-02,  4.7632e-03, -2.1878e+00],\n",
      "           [-1.4873e+00,  6.6444e-03,  8.0703e-02, -9.4438e-01, -9.5042e-01],\n",
      "           [ 2.0135e-02, -4.4498e-01, -5.0527e-01, -5.5854e-01, -2.0906e-02]],\n",
      "\n",
      "          [[ 1.1332e+00,  1.3677e+00,  6.2159e-01, -6.2839e-01,  1.9540e+00],\n",
      "           [ 3.6459e-01, -1.6534e+00,  8.9672e-02, -1.3377e+00, -3.3171e-01],\n",
      "           [-3.6997e-01, -9.4098e-01, -5.8191e-01,  1.1447e+00, -9.7277e-02],\n",
      "           ...,\n",
      "           [ 2.9334e-01, -1.3300e+00, -3.4264e+00, -4.0839e-02,  7.4376e-01],\n",
      "           [-1.1944e-02, -3.2005e-01,  1.5129e+00, -9.2476e-01,  6.3693e-01],\n",
      "           [-1.2945e-01, -6.3871e-01, -4.6202e-01,  7.0250e-01, -1.5582e-01]]]],\n",
      "\n",
      "\n",
      "\n",
      "        ...,\n",
      "\n",
      "\n",
      "\n",
      "        [[[[-5.9649e-01,  5.9437e-01, -1.6911e+00, -1.0212e+00, -3.2033e-01],\n",
      "           [-1.6223e-01, -4.2374e-01,  1.8977e+00,  1.6208e+00, -1.2221e+00],\n",
      "           [-1.4809e+00, -2.6553e-01, -1.5014e-01, -1.2777e+00, -6.5334e-01],\n",
      "           ...,\n",
      "           [-1.7071e+00, -6.4184e-01, -1.7293e+00,  1.1001e+00, -1.6958e+00],\n",
      "           [ 1.5798e-01, -1.0153e+00, -7.8610e-01, -3.6299e-01,  5.1845e-01],\n",
      "           [ 1.4988e+00,  8.0002e-01, -8.3958e-01,  6.5261e-01,  1.2390e+00]],\n",
      "\n",
      "          [[ 1.2667e+00,  2.4446e-01, -1.0476e+00, -2.5138e-01,  2.5648e-01],\n",
      "           [-2.0463e+00,  1.1193e-01,  4.6606e-01, -2.5661e+00, -4.3090e-01],\n",
      "           [ 3.5203e-01, -2.3554e-01,  5.2455e-01,  1.0081e+00,  1.9435e+00],\n",
      "           ...,\n",
      "           [ 3.7691e-01, -1.8719e-01,  5.6405e-01, -2.4742e-01,  8.0410e-01],\n",
      "           [-3.2726e-01, -9.0552e-01, -6.7950e-01, -9.6460e-01,  4.1293e-01],\n",
      "           [-5.7235e-01, -1.5877e+00,  2.3746e+00,  8.5989e-01, -1.9606e+00]],\n",
      "\n",
      "          [[-4.8877e-01, -8.2569e-01, -4.9470e-01,  8.0282e-01,  1.7642e-01],\n",
      "           [-1.3850e+00,  4.1745e-01,  1.3807e-01,  1.0317e+00,  1.8881e+00],\n",
      "           [ 1.5878e+00,  6.0517e-02, -9.7808e-01,  2.8272e+00, -7.5133e-01],\n",
      "           ...,\n",
      "           [ 7.0848e-01, -8.8005e-01,  2.7887e+00,  1.0196e+00,  1.9046e+00],\n",
      "           [-1.4172e+00,  1.7748e+00,  1.4227e+00,  4.8703e-01,  8.6941e-01],\n",
      "           [-1.3585e+00,  8.0591e-02, -8.9718e-02,  8.8631e-01, -3.2551e-01]]],\n",
      "\n",
      "\n",
      "         [[[-1.1454e+00,  4.6962e-01,  1.3163e+00,  2.4494e+00,  3.6871e-01],\n",
      "           [ 1.6244e+00,  1.8823e+00, -9.2869e-01,  9.0423e-01, -1.0528e-01],\n",
      "           [ 7.8628e-01, -1.1461e-01, -7.9079e-01,  8.0053e-01, -1.3132e+00],\n",
      "           ...,\n",
      "           [ 1.4293e+00, -4.1167e-01, -1.4890e+00, -6.0530e-01, -1.1786e+00],\n",
      "           [ 1.1240e-01, -1.1743e+00,  7.4203e-02,  8.8677e-01,  8.7969e-01],\n",
      "           [ 9.9819e-01,  7.5674e-01,  1.6380e+00,  5.1597e-01, -9.3809e-01]],\n",
      "\n",
      "          [[-3.1100e-01, -2.9792e-01,  8.7253e-01,  9.3727e-01,  4.3292e-02],\n",
      "           [ 1.5424e-01,  1.1276e+00, -4.7220e-01,  6.5614e-01,  6.6161e-01],\n",
      "           [-4.4201e-01, -1.1265e+00, -7.9357e-01, -2.2818e-01,  4.8761e-01],\n",
      "           ...,\n",
      "           [ 1.1676e+00, -8.1116e-01, -2.4098e+00, -2.9450e-01,  3.0376e-01],\n",
      "           [ 6.5562e-01, -9.9137e-01,  5.3207e-01, -7.5365e-01,  1.1604e-01],\n",
      "           [ 1.1025e+00, -1.0907e+00,  1.9488e-01,  1.1107e+00, -1.8186e-01]],\n",
      "\n",
      "          [[-1.1855e+00,  1.0882e+00, -1.5350e+00,  2.0973e-01,  1.6625e+00],\n",
      "           [-7.4515e-01, -2.2284e+00, -5.5187e-01,  3.7412e-01, -8.5495e-01],\n",
      "           [ 5.8585e-01,  1.2221e+00, -1.3765e+00,  1.4762e+00, -5.7686e-01],\n",
      "           ...,\n",
      "           [ 5.6494e-01, -2.1194e+00, -1.3295e+00, -4.7493e-01, -9.2143e-01],\n",
      "           [ 6.8643e-01, -8.3452e-01,  8.0569e-02,  1.2057e-01,  7.1292e-02],\n",
      "           [ 5.9828e-01, -5.2185e-01,  2.4392e-01, -9.4063e-02,  6.1351e-01]]],\n",
      "\n",
      "\n",
      "         [[[-1.2629e+00, -2.0800e+00,  3.0120e-01, -1.4052e-01, -1.4967e+00],\n",
      "           [ 1.1577e+00, -2.3303e-01, -1.6260e-01,  1.9384e+00, -8.8360e-01],\n",
      "           [-2.4201e-01,  2.2335e-02, -1.3737e-01,  1.7270e-01, -3.1755e-01],\n",
      "           ...,\n",
      "           [ 5.4314e-01,  2.4800e-01,  7.9603e-01, -6.8917e-01, -4.7327e-01],\n",
      "           [-6.8233e-01,  7.9353e-01,  1.2970e+00,  1.3457e+00, -7.6063e-02],\n",
      "           [-1.2559e+00, -1.9501e+00, -6.5667e-01, -6.0241e-01, -2.4245e+00]],\n",
      "\n",
      "          [[ 9.2571e-01,  8.8448e-04, -6.3343e-01,  7.2465e-01, -3.1088e-01],\n",
      "           [-4.7530e-01, -1.0779e+00, -5.7031e-01, -5.7418e-01,  1.5311e-01],\n",
      "           [-3.3759e-02, -5.5323e-01,  2.1757e-01,  1.6138e+00,  2.3641e-01],\n",
      "           ...,\n",
      "           [ 1.1050e+00,  1.0550e+00, -1.0279e+00, -1.8574e-01, -1.2890e-01],\n",
      "           [-7.0866e-01,  4.2896e-01, -1.5515e+00, -1.5347e-01,  1.1525e-01],\n",
      "           [-1.0708e+00, -4.5067e-01,  3.4722e-01, -2.6297e-02, -1.2968e+00]],\n",
      "\n",
      "          [[-2.0730e+00,  1.2918e+00, -1.8479e+00,  5.0749e-01, -7.0411e-01],\n",
      "           [-3.6970e-01, -8.2282e-01, -3.8522e-01,  2.5670e-01,  2.2324e-01],\n",
      "           [ 1.0030e-01,  1.3190e+00,  4.6366e-01, -5.6284e-01,  8.9560e-01],\n",
      "           ...,\n",
      "           [-5.8509e-01, -5.5184e-01, -9.7136e-01, -1.1683e+00, -6.8317e-01],\n",
      "           [-3.3796e-01,  5.1969e-01,  1.0678e+00,  1.3573e+00, -1.7773e-01],\n",
      "           [-1.8042e-01,  2.5296e-01,  4.2836e-01, -3.6471e-01, -2.9384e-01]]],\n",
      "\n",
      "\n",
      "         ...,\n",
      "\n",
      "\n",
      "         [[[-9.2842e-01, -9.0347e-01,  4.9568e-01, -1.4534e+00, -9.0309e-01],\n",
      "           [ 4.5196e-01,  4.9520e-01,  2.0010e+00, -1.9414e+00, -5.8391e-01],\n",
      "           [-1.5851e+00, -9.3115e-02, -3.3360e-01,  1.2592e+00,  3.4630e-01],\n",
      "           ...,\n",
      "           [ 6.2404e-01,  1.9954e+00, -3.0995e-01,  2.0021e-01, -1.3091e+00],\n",
      "           [-5.5148e-01, -6.7195e-02, -7.2946e-01,  6.4589e-01, -8.0098e-01],\n",
      "           [ 1.0605e-01, -1.0557e+00, -3.5236e-03,  1.0714e-02,  1.0502e+00]],\n",
      "\n",
      "          [[-4.1364e-02,  4.6100e-01,  1.2715e+00,  5.2960e-01, -4.4999e-01],\n",
      "           [-1.2753e-01,  1.0260e+00, -8.0595e-02,  2.6808e-01, -4.5804e-01],\n",
      "           [ 4.9992e-01, -1.3327e+00,  1.3111e-01,  5.1584e-01,  6.7501e-01],\n",
      "           ...,\n",
      "           [ 3.5319e-01,  9.8533e-01, -5.9951e-02,  7.5675e-01,  2.9204e-01],\n",
      "           [-1.5744e+00,  1.1168e+00, -2.6062e-01, -5.5266e-01,  1.7911e-01],\n",
      "           [ 5.7673e-02, -1.2871e-01,  2.4716e-01, -1.0601e+00,  6.1364e-01]],\n",
      "\n",
      "          [[ 6.1537e-01, -5.2477e-01,  1.3004e-01,  1.4672e+00,  2.0372e+00],\n",
      "           [ 4.7656e-01,  7.2713e-01,  1.3234e+00,  2.6675e-02, -2.0822e-01],\n",
      "           [-6.0511e-01, -1.2150e+00,  1.9579e-01, -4.3744e-01,  6.0777e-01],\n",
      "           ...,\n",
      "           [-8.2573e-01, -1.5877e-01,  2.3363e-01,  1.6237e+00, -7.9125e-01],\n",
      "           [-6.2085e-01, -8.1337e-01,  2.1913e+00, -9.1921e-01, -1.3250e+00],\n",
      "           [ 3.7409e-02,  8.9194e-02,  1.4713e+00,  1.1971e+00,  1.2114e+00]]],\n",
      "\n",
      "\n",
      "         [[[-5.4943e-01, -6.5023e-01, -3.1037e-02, -3.4552e-01,  3.3561e-01],\n",
      "           [ 7.7627e-01,  1.9880e+00,  1.9405e+00,  1.3162e+00,  8.3891e-03],\n",
      "           [-1.1248e+00,  3.7896e-01,  6.8907e-02,  7.1921e-01, -8.1190e-01],\n",
      "           ...,\n",
      "           [ 1.2525e+00, -1.4210e+00,  9.9572e-01, -5.2252e-01, -5.5185e-01],\n",
      "           [-1.8810e-01, -3.2367e-01, -4.2549e-01, -9.5512e-02,  9.3494e-01],\n",
      "           [-1.0553e+00, -1.5027e-01, -1.4889e+00, -1.2740e-01, -9.2120e-01]],\n",
      "\n",
      "          [[-8.1181e-02, -9.6978e-01, -1.2250e+00, -5.3085e-01,  9.2479e-01],\n",
      "           [ 9.0104e-01,  1.0814e+00, -6.7818e-01,  3.0527e-01,  1.6044e-01],\n",
      "           [-1.1307e+00, -1.1817e+00,  1.4558e+00,  1.0327e+00,  1.7842e+00],\n",
      "           ...,\n",
      "           [ 1.9568e-01, -8.2834e-01,  5.1121e-01, -1.8097e+00,  1.4538e-01],\n",
      "           [ 4.2596e-01, -1.2802e-01, -6.7391e-02, -1.2977e+00,  9.9313e-01],\n",
      "           [-1.3390e-01,  2.3029e+00,  7.2780e-01,  9.0933e-01, -1.9296e+00]],\n",
      "\n",
      "          [[ 4.6365e-02,  1.6727e+00, -7.6311e-01,  1.3436e+00, -2.9079e-01],\n",
      "           [ 1.4228e+00,  5.0044e-01, -1.3219e+00, -1.9298e+00,  1.6995e-01],\n",
      "           [ 9.9476e-01,  7.8818e-01,  7.5477e-01, -4.1043e-03, -1.0631e+00],\n",
      "           ...,\n",
      "           [-4.2976e-03, -2.1882e-01, -6.6234e-01, -9.1092e-01, -1.9994e-01],\n",
      "           [-7.2101e-01, -7.3528e-01,  3.2705e-01, -9.5356e-02, -1.1056e+00],\n",
      "           [-4.6929e-01, -3.7324e-01, -2.5114e+00, -1.3716e-01,  8.1021e-03]]],\n",
      "\n",
      "\n",
      "         [[[-2.7892e-01,  1.1767e+00,  1.0053e+00, -6.7165e-01,  8.0546e-01],\n",
      "           [ 9.9921e-01, -4.9277e-01,  4.7666e-01, -5.3536e-01, -5.3155e-01],\n",
      "           [ 9.1338e-01,  1.3745e+00, -2.9235e-01,  9.4901e-01, -1.3741e-01],\n",
      "           ...,\n",
      "           [ 2.1928e-01,  5.1347e-02,  1.1174e+00,  9.0721e-01,  4.5555e-01],\n",
      "           [ 1.9427e-01,  1.4742e+00, -1.0577e+00,  8.3188e-01,  7.0016e-01],\n",
      "           [-1.1383e-01, -7.8401e-01, -1.6643e+00,  6.2841e-01,  4.6738e-01]],\n",
      "\n",
      "          [[-1.0295e-01,  1.6332e-01,  7.8155e-01,  3.9809e-02,  1.8275e+00],\n",
      "           [-3.1464e-01, -2.6685e+00,  1.4294e-03,  2.5651e-01,  1.4862e+00],\n",
      "           [ 5.2060e-01,  1.6865e+00,  1.7766e+00, -5.6773e-01,  8.2576e-02],\n",
      "           ...,\n",
      "           [ 1.9601e+00,  2.6856e+00, -6.5231e-01, -8.5230e-01,  7.6449e-01],\n",
      "           [-1.7235e-02,  1.8077e+00,  1.1950e+00, -4.7483e-01, -1.6006e+00],\n",
      "           [-6.0386e-01,  3.2851e-01,  1.3703e+00, -2.0359e-01, -1.3060e+00]],\n",
      "\n",
      "          [[ 3.9018e-01,  1.1951e+00,  3.9670e-01, -3.2704e-01, -1.2021e+00],\n",
      "           [ 1.1502e+00,  2.0002e+00,  6.9070e-01,  8.1488e-02, -3.5682e-01],\n",
      "           [ 1.5618e+00,  5.4923e-01, -6.9977e-01, -7.0033e-01, -3.7057e-01],\n",
      "           ...,\n",
      "           [ 1.2558e+00, -9.4073e-01, -1.9971e-01, -1.2412e+00,  3.9866e-02],\n",
      "           [-6.0696e-01,  2.5639e-01, -6.2974e-02, -2.0645e+00,  2.0855e-01],\n",
      "           [-7.9600e-01,  5.3603e-01, -7.5314e-01, -7.6549e-02,  7.1402e-01]]]],\n",
      "\n",
      "\n",
      "\n",
      "        [[[[ 7.4993e-01,  1.8812e+00,  1.3201e+00, -1.1671e-01,  4.7872e-01],\n",
      "           [-1.3186e-01,  1.2139e+00,  1.5194e-01, -3.6268e-01, -8.1271e-01],\n",
      "           [ 2.2435e-01,  1.6806e+00,  1.2186e+00, -5.9501e-01, -1.2359e+00],\n",
      "           ...,\n",
      "           [-2.4189e-02,  5.2413e-01,  6.6781e-01, -9.3658e-01, -1.7246e+00],\n",
      "           [-2.8234e-01, -1.3139e+00, -3.7427e-01, -8.3951e-01,  1.1116e-01],\n",
      "           [ 3.5451e-01,  1.9952e-01,  2.4186e-01, -2.7284e-01, -2.0595e-01]],\n",
      "\n",
      "          [[ 1.0794e+00,  2.1162e-01, -1.7639e+00,  1.8980e-01,  1.1765e-01],\n",
      "           [ 3.3365e-04,  5.3625e-01,  1.9123e+00,  1.1476e-01, -4.1795e-01],\n",
      "           [-1.8944e-01, -1.8993e+00,  6.4376e-01, -4.3676e-01, -4.5777e-01],\n",
      "           ...,\n",
      "           [-1.1062e+00, -1.3421e-01,  1.5571e-01, -1.2121e-01, -6.4011e-01],\n",
      "           [ 1.5653e+00,  4.2777e-01,  9.0548e-01,  1.4226e+00, -1.4923e-01],\n",
      "           [ 1.2016e+00, -2.6951e-01, -7.3263e-01,  2.3770e-01,  5.3944e-02]],\n",
      "\n",
      "          [[-9.0547e-01, -5.5219e-01,  3.8035e-01, -1.4907e+00, -1.5851e-01],\n",
      "           [-1.2224e+00,  1.6023e+00, -3.2210e+00, -1.0879e+00, -8.4503e-01],\n",
      "           [ 5.7318e-01,  1.7771e-01, -1.5670e+00, -8.8505e-01, -2.6312e-01],\n",
      "           ...,\n",
      "           [ 1.6902e+00,  2.9824e-01,  1.6474e+00,  1.6562e-01,  6.1124e-03],\n",
      "           [ 1.2209e+00, -8.9572e-01, -2.5896e-01,  9.1755e-01, -3.4388e-01],\n",
      "           [ 1.9303e+00,  3.5434e-01, -3.5526e-01,  1.2655e+00,  3.6736e-01]]],\n",
      "\n",
      "\n",
      "         [[[ 1.3467e+00,  1.2190e+00, -3.2248e-01,  3.7391e-01,  1.6120e+00],\n",
      "           [-4.0956e-01,  1.6250e-01,  3.1772e-01,  1.1924e+00, -1.6249e-01],\n",
      "           [ 1.2021e+00,  1.1028e+00,  1.6614e-01,  9.7140e-01, -9.9821e-01],\n",
      "           ...,\n",
      "           [ 1.1024e+00,  1.9833e+00, -1.1331e+00,  4.4519e-01,  7.8239e-01],\n",
      "           [ 3.4552e-01, -2.9789e-01,  1.1555e+00, -2.6305e-01, -5.2149e-01],\n",
      "           [ 8.4051e-01, -1.5941e-01, -1.4749e+00, -1.2167e+00,  1.0830e+00]],\n",
      "\n",
      "          [[-7.0611e-01, -1.1889e+00, -6.1144e-02,  6.5039e-01,  8.2730e-01],\n",
      "           [ 1.8153e+00, -1.6429e+00,  1.1076e+00,  4.4259e-01,  1.0681e+00],\n",
      "           [-1.2280e+00,  1.7521e+00, -3.9180e-01,  3.0193e-01,  5.1292e-01],\n",
      "           ...,\n",
      "           [ 2.8546e-02,  5.3637e-01, -9.9371e-01,  9.9385e-01, -1.2938e-01],\n",
      "           [-1.3301e+00, -2.2433e-01,  9.8032e-01,  3.5680e-02, -5.4042e-01],\n",
      "           [-6.0026e-01, -8.3647e-01,  1.5410e+00, -8.5836e-01, -1.7784e+00]],\n",
      "\n",
      "          [[ 1.9416e+00,  1.1051e+00, -1.8365e+00, -9.4925e-01, -1.0999e-02],\n",
      "           [ 4.6258e-01,  4.0609e-01,  1.1668e+00,  5.7368e-01,  1.9113e-01],\n",
      "           [ 1.1325e+00, -5.0138e-01,  5.6680e-01,  2.7702e+00, -6.9504e-01],\n",
      "           ...,\n",
      "           [-9.1230e-01,  5.9989e-01,  9.3472e-01, -2.4815e-02, -8.3523e-01],\n",
      "           [-5.7873e-01,  6.7915e-01, -6.8634e-01,  5.1339e-01,  3.5441e-01],\n",
      "           [-2.0026e+00, -6.2992e-01, -1.2350e+00,  9.1164e-01, -4.0120e-01]]],\n",
      "\n",
      "\n",
      "         [[[ 2.2224e+00,  1.6733e+00,  1.3158e+00, -9.1343e-01, -7.5212e-01],\n",
      "           [ 1.7879e+00,  1.0487e+00, -1.4738e+00,  9.0746e-01, -2.5425e+00],\n",
      "           [ 1.8357e+00,  9.3151e-01,  9.7303e-01,  1.6955e-01, -8.2456e-01],\n",
      "           ...,\n",
      "           [ 2.5473e-01, -1.9963e-01, -1.6680e+00,  6.2566e-02,  9.0305e-01],\n",
      "           [ 1.0904e+00, -2.9372e-01, -1.6489e+00,  4.3010e-02,  4.9695e-01],\n",
      "           [ 2.2621e+00,  4.2811e-03,  1.4010e+00, -1.7009e+00, -1.9477e-01]],\n",
      "\n",
      "          [[ 2.2122e-01,  5.2079e-01, -8.9472e-02, -6.2209e-01, -9.2823e-01],\n",
      "           [ 5.3191e-01, -4.9521e-01, -1.0083e+00, -6.6632e-01, -4.6647e-01],\n",
      "           [ 9.5788e-01,  1.2516e+00, -8.2209e-02, -2.9387e-01, -1.2342e+00],\n",
      "           ...,\n",
      "           [ 1.3965e+00, -7.7827e-01, -1.0227e+00,  1.7085e-01,  7.8301e-01],\n",
      "           [ 1.0636e+00,  2.1165e+00, -1.2718e-01,  2.7899e-01, -2.1981e+00],\n",
      "           [ 2.0984e-01, -6.0763e-01,  1.7672e-01, -2.2175e+00, -6.0364e-01]],\n",
      "\n",
      "          [[ 3.9211e-01,  6.1564e-01, -2.8365e-02,  1.7918e-01, -1.5960e-01],\n",
      "           [ 6.9361e-01, -1.9804e+00,  5.7044e-01, -1.3965e+00, -2.5414e-02],\n",
      "           [ 2.6625e-01,  1.1675e+00, -4.4096e-02, -6.9053e-01, -1.2675e-01],\n",
      "           ...,\n",
      "           [ 1.4207e+00,  6.0909e-01, -4.8807e-01, -1.0072e+00, -1.3438e+00],\n",
      "           [-5.5321e-01,  7.7748e-01, -1.0676e+00, -7.3782e-01,  4.5012e-01],\n",
      "           [ 1.4278e-01, -6.5379e-01, -2.0305e-02,  2.6374e-01, -1.0410e+00]]],\n",
      "\n",
      "\n",
      "         ...,\n",
      "\n",
      "\n",
      "         [[[ 4.3193e-01,  1.4276e+00, -1.6636e+00,  4.9647e-01, -3.7479e-02],\n",
      "           [-8.7019e-01, -5.6218e-01, -2.9244e-01,  5.5089e-01, -3.9046e-01],\n",
      "           [ 1.5072e-01,  4.5332e-01,  7.0216e-01,  1.7944e+00,  1.2896e+00],\n",
      "           ...,\n",
      "           [-5.8737e-02,  2.6030e+00,  1.6258e-01, -1.1293e+00,  5.3314e-01],\n",
      "           [ 7.4650e-01,  8.6071e-01,  4.4927e-01,  2.7688e-01,  1.2832e-01],\n",
      "           [ 1.9332e-01,  4.3563e-02,  5.3058e-01,  1.6775e+00, -5.1764e-02]],\n",
      "\n",
      "          [[ 9.5052e-01, -9.6707e-01,  9.9584e-01,  9.1864e-01,  1.3052e+00],\n",
      "           [ 2.6114e-01,  6.9072e-01, -8.0956e-01,  3.0455e-01,  5.6135e-01],\n",
      "           [-3.6394e-02, -1.7127e+00, -1.5411e-01, -4.6535e-02,  2.3858e-01],\n",
      "           ...,\n",
      "           [-9.6136e-01, -6.4511e-01, -1.3338e+00,  2.0079e+00,  7.9231e-01],\n",
      "           [-6.3715e-01, -3.5730e-01,  4.0845e-01, -1.2390e-01, -6.1560e-01],\n",
      "           [-1.1668e+00,  8.1424e-01, -2.6716e-01, -4.7145e-01,  1.6093e-01]],\n",
      "\n",
      "          [[-1.4009e+00, -2.6398e-01,  2.1335e-01,  2.0153e+00,  2.0534e+00],\n",
      "           [ 1.1743e+00,  7.8096e-01, -2.5246e-01,  2.1516e+00,  3.1620e-01],\n",
      "           [-3.0550e-01, -4.5349e-01,  1.8507e+00, -2.7417e+00,  9.0146e-01],\n",
      "           ...,\n",
      "           [ 2.0702e+00, -1.4460e+00, -5.2928e-01, -3.7563e-01, -7.2485e-01],\n",
      "           [-1.2606e+00, -9.5935e-01,  6.8413e-01, -1.5877e+00, -4.7563e-03],\n",
      "           [ 3.4313e-01,  4.6788e-01, -7.8331e-01,  7.9079e-02,  3.2566e-01]]],\n",
      "\n",
      "\n",
      "         [[[-1.3207e+00, -2.1241e+00,  1.2323e-01,  8.0040e-01, -1.3677e+00],\n",
      "           [-1.5330e+00, -6.7130e-01, -1.3088e+00,  6.2649e-01,  3.3397e-02],\n",
      "           [-1.1221e-02, -8.1016e-01,  4.3362e-01, -1.0639e+00, -1.3647e+00],\n",
      "           ...,\n",
      "           [ 1.1729e+00, -1.0352e-01,  2.8387e-01, -1.4684e-01, -1.3357e+00],\n",
      "           [ 1.5476e-01,  1.9137e+00, -8.3940e-01,  7.4095e-01, -7.6778e-01],\n",
      "           [-1.2399e+00,  2.0050e-01, -4.9566e-01, -1.3091e-01,  1.0256e+00]],\n",
      "\n",
      "          [[-1.6822e+00, -1.7866e+00,  8.7216e-01, -8.2429e-01, -3.0738e-01],\n",
      "           [-1.1269e+00, -8.7314e-02,  1.0744e+00, -7.7443e-01,  2.8107e-01],\n",
      "           [-2.4725e+00, -1.0000e+00, -7.9018e-01,  5.3232e-01,  5.3302e-01],\n",
      "           ...,\n",
      "           [-1.2591e+00, -1.6668e+00, -1.1047e+00, -9.3161e-01,  1.1635e+00],\n",
      "           [-1.2988e-01, -1.2328e+00, -1.0674e+00, -1.6848e+00, -1.5078e-01],\n",
      "           [-3.9809e-01,  1.2888e+00,  2.9614e-02,  1.1174e+00,  4.1913e-01]],\n",
      "\n",
      "          [[ 9.8920e-01, -1.0673e-01, -1.6755e+00,  1.2988e-01, -7.8613e-01],\n",
      "           [ 3.7828e-02, -3.1559e-01,  2.6156e-01, -1.6643e-01, -8.3065e-01],\n",
      "           [ 7.6654e-01,  6.1377e-01, -2.7423e-01, -8.4661e-01, -1.4060e+00],\n",
      "           ...,\n",
      "           [-3.9308e-01, -2.6386e-01, -5.6048e-02,  2.2332e-01,  9.2591e-01],\n",
      "           [-7.3674e-01,  2.0887e-01,  1.2003e+00, -1.0065e+00,  1.4443e+00],\n",
      "           [-9.1689e-01, -1.3007e+00, -1.6303e+00, -1.8880e+00, -1.6765e+00]]],\n",
      "\n",
      "\n",
      "         [[[ 2.5467e+00,  9.6592e-01,  7.4713e-01,  2.2490e-01, -1.6793e+00],\n",
      "           [ 2.5277e-01,  6.5723e-02, -4.7418e-01,  1.3931e-01,  7.3911e-01],\n",
      "           [-4.5913e-01,  3.4035e-01,  4.7276e-01,  6.3092e-02,  4.8165e-02],\n",
      "           ...,\n",
      "           [ 5.5007e-01, -1.5163e+00, -8.8984e-02,  1.1499e+00,  1.9692e-01],\n",
      "           [-1.3139e+00,  2.0169e+00,  5.1172e-01,  1.4582e+00, -3.5518e-01],\n",
      "           [-1.1128e+00, -4.7207e-01, -2.0031e+00, -1.2933e+00,  2.0076e+00]],\n",
      "\n",
      "          [[-8.9108e-01,  2.9659e+00,  1.8663e+00,  7.5296e-01, -6.7205e-01],\n",
      "           [ 1.0462e-01, -1.3010e+00, -3.8262e-02, -2.6299e+00,  2.0888e+00],\n",
      "           [-3.4134e-01,  2.8261e-01,  8.9511e-02, -2.6440e-01,  1.0994e+00],\n",
      "           ...,\n",
      "           [-1.6504e-01, -2.5143e+00, -9.4670e-01, -8.2284e-01, -5.5115e-01],\n",
      "           [-4.3070e-01,  9.0632e-01,  8.6235e-01,  1.5438e+00, -7.3092e-01],\n",
      "           [-1.4923e-01,  5.8556e-02,  8.6870e-01, -6.6275e-01,  2.0004e-01]],\n",
      "\n",
      "          [[ 6.6468e-01,  1.3104e+00,  2.5725e-01, -5.7091e-01,  2.0013e+00],\n",
      "           [-7.6139e-01, -4.4529e-01,  1.4262e+00, -9.9778e-01,  8.1555e-01],\n",
      "           [ 1.2441e+00, -1.2982e-01,  1.3936e-01, -1.4680e-01, -1.4047e+00],\n",
      "           ...,\n",
      "           [-3.6874e-01,  9.7652e-03, -5.1161e-01, -1.4558e+00, -2.4240e-01],\n",
      "           [ 1.4268e-02, -6.8984e-01,  3.0421e-01,  2.4627e-01, -8.9561e-01],\n",
      "           [ 7.1099e-02,  6.7057e-01,  1.3529e-01, -8.6617e-02, -4.7860e-01]]]],\n",
      "\n",
      "\n",
      "\n",
      "        [[[[-2.1996e-01,  1.3883e+00, -5.2270e-01, -4.2219e-01, -3.9909e-01],\n",
      "           [-3.1222e-01, -1.9690e+00, -9.5073e-01,  1.0543e+00,  8.9030e-01],\n",
      "           [ 2.2829e+00, -6.8391e-01,  2.9817e-01, -7.5473e-01, -2.3464e+00],\n",
      "           ...,\n",
      "           [ 9.3763e-02,  3.7554e-01,  9.6885e-01, -5.1978e-02, -8.8096e-01],\n",
      "           [-1.0018e+00, -1.3884e+00, -4.6267e-01, -2.1931e+00,  1.4300e-01],\n",
      "           [-4.0275e-01, -1.0089e+00,  1.7490e-01,  5.4748e-01,  7.1557e-01]],\n",
      "\n",
      "          [[-7.2919e-01, -1.1274e+00, -6.6933e-01,  4.6728e-01, -2.5704e-01],\n",
      "           [-1.8576e+00, -3.1761e-01,  5.6805e-01, -1.2511e+00, -9.7958e-01],\n",
      "           [ 1.1485e+00,  1.1541e-01, -1.5641e+00, -1.4249e-01,  3.3863e-01],\n",
      "           ...,\n",
      "           [ 5.1391e-01, -3.0199e-01, -6.4800e-02, -1.4187e+00,  4.7715e-01],\n",
      "           [ 7.2063e-01,  5.4822e-01,  2.2998e-01, -6.2374e-01, -6.1458e-01],\n",
      "           [-6.2182e-01,  2.0744e+00, -2.3864e-01,  7.9080e-01, -2.0565e+00]],\n",
      "\n",
      "          [[-1.0666e-01, -1.8991e-01, -1.4698e+00, -1.2371e-01, -5.0614e-01],\n",
      "           [-1.7804e+00, -9.1590e-01, -2.5794e-01,  5.9460e-01,  4.3432e-01],\n",
      "           [ 1.1114e+00, -5.6144e-01,  2.1934e-01, -8.0062e-01, -1.8058e+00],\n",
      "           ...,\n",
      "           [ 4.9168e-01,  5.3034e-01,  3.3397e-01,  5.8349e-01,  1.0716e+00],\n",
      "           [ 8.3964e-01, -1.3570e+00,  3.4218e-01, -7.5274e-01, -5.4877e-01],\n",
      "           [ 1.7899e-01,  1.2005e+00, -1.7281e+00,  1.7313e-01,  5.2899e-01]]],\n",
      "\n",
      "\n",
      "         [[[-6.2087e-01, -7.7442e-01,  2.0975e-01, -2.4395e-01, -2.6454e-01],\n",
      "           [ 1.7591e+00,  9.4274e-01,  8.2765e-01,  1.1600e+00, -2.6772e+00],\n",
      "           [-6.0045e-01, -1.6145e+00,  8.0818e-01, -8.8100e-02,  1.3599e+00],\n",
      "           ...,\n",
      "           [ 9.2731e-02, -1.7217e+00,  4.5941e-01, -1.5080e+00, -3.1023e-01],\n",
      "           [ 2.0901e-01, -1.6512e+00, -8.4079e-01, -7.3615e-01, -1.9375e-01],\n",
      "           [-4.1680e-01,  8.3748e-01, -2.9083e-01,  6.2822e-01,  1.3738e-01]],\n",
      "\n",
      "          [[-5.6809e-01, -1.1073e+00, -1.1122e+00, -1.2113e+00, -7.6625e-01],\n",
      "           [ 9.1016e-01,  5.0082e-01, -1.1323e+00, -7.3930e-01,  1.2015e+00],\n",
      "           [-5.4398e-02,  2.1038e+00, -1.2339e+00,  1.3610e+00, -4.8795e-02],\n",
      "           ...,\n",
      "           [ 1.2560e+00, -1.2095e+00,  8.6584e-03,  3.9796e-01, -1.9833e-01],\n",
      "           [-1.7695e-01, -1.0901e+00,  1.9585e+00,  1.6463e+00,  1.7591e+00],\n",
      "           [ 9.6772e-01,  4.5402e-01, -3.7985e-01, -6.3980e-01,  1.0429e+00]],\n",
      "\n",
      "          [[-1.2125e+00,  3.1090e-02, -1.0146e+00,  8.7749e-01,  8.8900e-01],\n",
      "           [-5.7526e-01, -4.2269e-01,  1.0750e+00,  1.7033e+00,  5.9593e-01],\n",
      "           [-2.6209e-01,  7.5259e-01,  1.2019e-01,  1.5713e+00, -2.0022e+00],\n",
      "           ...,\n",
      "           [-7.5717e-01,  5.9738e-01, -1.3608e+00,  1.3239e+00,  8.9431e-02],\n",
      "           [ 1.4754e-01, -2.9159e-01, -8.7856e-01,  6.4674e-01, -3.6288e-01],\n",
      "           [ 1.0727e+00,  7.7127e-01,  7.0330e-01, -5.2249e-01, -2.5678e-01]]],\n",
      "\n",
      "\n",
      "         [[[ 1.9542e+00, -5.8453e-01, -2.0556e+00,  6.4485e-01, -7.8925e-01],\n",
      "           [-3.8523e-01, -1.4094e-01, -3.4969e-01, -1.9766e-01,  4.8031e-01],\n",
      "           [ 6.3116e-02,  4.0367e-01,  2.2571e-01, -3.6398e-01, -6.7703e-01],\n",
      "           ...,\n",
      "           [-6.8965e-01,  2.0971e-01,  2.4795e-02, -1.5307e+00,  4.5257e-01],\n",
      "           [ 1.3934e+00, -9.9112e-01,  1.2445e+00, -1.4607e+00, -6.2506e-01],\n",
      "           [ 1.6005e+00, -4.4697e-01,  5.2125e-01, -2.1575e+00, -1.5427e-01]],\n",
      "\n",
      "          [[-4.8526e-01,  2.3314e-01,  5.9163e-01, -2.6065e-01,  1.2767e+00],\n",
      "           [ 8.3444e-01, -2.7426e-01,  1.7777e-01,  1.2971e+00,  1.0452e+00],\n",
      "           [ 4.9300e-01,  1.6820e-01, -1.7454e+00, -2.1176e-01,  9.0847e-01],\n",
      "           ...,\n",
      "           [-1.2664e+00, -3.8168e+00,  3.1293e-01, -8.5349e-01, -4.3372e-01],\n",
      "           [-8.2528e-01,  1.1906e-01, -8.3665e-01,  9.1244e-01,  4.5050e-01],\n",
      "           [-2.8646e-01,  7.3418e-01,  2.3286e+00,  1.1526e+00, -7.1718e-01]],\n",
      "\n",
      "          [[-1.5032e+00, -7.7546e-01,  1.2858e+00,  6.7003e-01,  1.2403e+00],\n",
      "           [-2.1176e+00, -8.6785e-01,  1.2621e-01,  5.7216e-01, -5.2825e-01],\n",
      "           [ 1.1970e+00,  3.9719e-02,  8.1738e-01, -7.2960e-01,  8.6583e-01],\n",
      "           ...,\n",
      "           [ 4.1606e-01,  6.4083e-01,  7.2449e-02, -8.7756e-01,  1.4404e-01],\n",
      "           [-8.2385e-01,  1.1712e+00, -7.5473e-01,  5.0017e-01, -2.1127e+00],\n",
      "           [-1.7428e-01, -9.9290e-01,  2.9002e-01,  1.3317e+00,  1.8450e-01]]],\n",
      "\n",
      "\n",
      "         ...,\n",
      "\n",
      "\n",
      "         [[[-4.1380e-01, -6.4212e-01,  5.6221e-01, -8.7470e-01, -9.5379e-01],\n",
      "           [ 3.3707e-01,  1.4739e+00, -2.0537e-01, -5.9539e-01, -5.3762e-01],\n",
      "           [-4.8502e-01,  1.2464e+00,  5.1121e-01, -1.2230e+00,  7.3273e-01],\n",
      "           ...,\n",
      "           [-1.8516e+00, -1.8581e+00,  1.0317e+00,  2.1068e-01, -9.4069e-01],\n",
      "           [-4.6509e-01, -3.3096e-01, -7.2163e-01, -2.0861e-01,  2.0032e+00],\n",
      "           [-6.4191e-01, -4.2817e-01, -9.6879e-01, -2.8910e-01,  6.6270e-01]],\n",
      "\n",
      "          [[-2.4983e-01, -7.9002e-01, -1.2853e+00, -8.3545e-01,  1.3143e+00],\n",
      "           [ 1.2431e+00, -9.8470e-01, -8.5876e-01, -2.6961e+00,  5.5222e-02],\n",
      "           [-5.6205e-01, -1.5792e+00, -7.2639e-01, -2.6940e-01, -2.0805e+00],\n",
      "           ...,\n",
      "           [ 1.2292e+00, -2.0050e-01, -1.6570e+00, -1.4048e+00,  7.3562e-01],\n",
      "           [ 5.3725e-01,  8.6047e-01, -1.8148e+00,  1.0777e+00, -6.7805e-01],\n",
      "           [-1.0903e+00,  1.3515e-01,  4.8561e-01, -1.4568e-01, -6.9836e-01]],\n",
      "\n",
      "          [[-6.6437e-02, -1.2872e+00, -3.0558e+00,  6.3956e-01, -6.3208e-01],\n",
      "           [-2.0436e+00,  1.6120e+00,  6.0185e-01,  3.6432e-01, -7.8305e-01],\n",
      "           [-1.6720e-02, -1.2636e+00, -3.7670e-01,  6.3513e-01, -1.7764e-02],\n",
      "           ...,\n",
      "           [ 7.6747e-01,  1.9231e+00,  9.1805e-01, -4.1004e-01, -3.6984e-01],\n",
      "           [-3.7437e-01,  1.8907e-01,  1.3260e+00, -9.3286e-01,  2.4116e+00],\n",
      "           [ 1.8699e+00, -3.9103e-01, -1.2076e+00,  3.6390e-01, -3.2542e-01]]],\n",
      "\n",
      "\n",
      "         [[[ 6.7263e-01,  1.0946e+00, -6.0177e-01,  1.3917e+00,  1.9109e+00],\n",
      "           [ 1.6612e+00, -2.0274e-01, -1.5187e-01, -1.3459e-02, -1.2061e+00],\n",
      "           [-1.2594e+00, -4.8808e-01,  8.8131e-01,  1.2193e-01,  3.9163e-01],\n",
      "           ...,\n",
      "           [ 1.1037e-01,  4.0620e-01,  1.7814e-02,  3.6038e-01,  1.1967e-01],\n",
      "           [ 9.0832e-01, -2.0787e-01, -1.7583e+00, -2.3499e-01, -3.6554e-01],\n",
      "           [-1.2586e+00, -4.8462e-01,  2.5462e-01, -1.2653e+00,  6.7779e-01]],\n",
      "\n",
      "          [[ 1.1611e-01,  1.2000e+00, -5.9470e-02, -6.3801e-01, -6.4563e-01],\n",
      "           [-5.0675e-01, -1.3515e+00, -1.0017e+00,  1.0217e+00,  2.1368e-01],\n",
      "           [-7.6369e-01, -1.0344e+00,  2.4255e+00, -6.0177e-01,  4.7767e-01],\n",
      "           ...,\n",
      "           [ 1.1801e+00, -1.7002e-01, -6.2208e-02,  3.3309e-01, -1.5522e+00],\n",
      "           [ 8.0826e-02, -8.3746e-01,  1.0378e+00, -4.1583e-01, -1.1215e+00],\n",
      "           [ 2.9807e-01,  1.1427e+00,  1.0072e-01, -7.0466e-01,  3.1230e-01]],\n",
      "\n",
      "          [[-4.3155e-01,  1.0992e+00, -4.9480e-01, -2.4901e-01,  8.4600e-01],\n",
      "           [ 9.2049e-01, -7.2837e-01, -4.8290e-01,  1.2138e-01, -4.5984e-01],\n",
      "           [ 2.4095e-01, -4.5093e-01, -1.0527e-01, -8.0872e-01, -3.4990e-01],\n",
      "           ...,\n",
      "           [ 2.0158e-01, -1.0853e+00, -1.2360e-01,  2.9935e-01,  1.4937e+00],\n",
      "           [-6.2512e-01,  1.1643e+00,  3.5039e-01, -2.9343e-01,  8.9962e-01],\n",
      "           [ 1.9074e+00,  4.0742e-01,  5.9583e-01, -9.8109e-01, -5.2035e-01]]],\n",
      "\n",
      "\n",
      "         [[[ 6.2442e-01, -1.9316e+00, -9.5588e-01, -3.4340e-01,  6.5397e-01],\n",
      "           [ 1.0273e+00,  2.1139e+00,  2.0145e-01, -4.3820e-01, -5.4920e-01],\n",
      "           [-5.5943e-01,  8.2083e-02, -5.7147e-01, -7.6188e-01, -1.5278e+00],\n",
      "           ...,\n",
      "           [-1.0193e-01, -8.4450e-01, -9.3103e-01,  2.1547e-01,  2.2973e-01],\n",
      "           [ 1.9651e-01,  4.1783e-01, -1.3728e-01, -2.6828e-01, -8.4701e-02],\n",
      "           [ 1.5909e+00, -6.9804e-01, -1.5857e-01,  1.2795e+00, -1.3716e+00]],\n",
      "\n",
      "          [[ 1.7419e+00,  4.5107e-01,  5.7154e-01,  1.1333e-02, -1.1459e+00],\n",
      "           [ 1.6854e+00,  8.5822e-01,  7.2314e-01, -2.2759e-01, -4.1111e-02],\n",
      "           [-6.2979e-01, -5.4746e-01,  3.6864e-01, -1.4139e+00, -1.9710e+00],\n",
      "           ...,\n",
      "           [ 6.4422e-01,  3.7671e-01,  2.9010e-01,  9.9075e-01, -8.6953e-02],\n",
      "           [-4.3205e-01, -3.4641e-01, -2.5514e-01,  4.0546e-01, -1.1001e+00],\n",
      "           [ 7.3703e-01,  6.5817e-01, -5.6403e-01, -1.2245e+00, -7.8225e-01]],\n",
      "\n",
      "          [[-4.0658e-01, -9.0503e-01, -5.9325e-01, -4.6832e-01,  2.7617e-01],\n",
      "           [-1.1388e+00, -1.1219e+00,  2.6192e+00,  3.9611e-01, -1.0256e-01],\n",
      "           [-1.4240e-01,  6.4909e-01,  4.2269e-01,  1.7361e-01, -1.1952e+00],\n",
      "           ...,\n",
      "           [-4.0238e-01, -5.6606e-01, -6.7968e-01, -5.8912e-01,  5.9204e-01],\n",
      "           [-1.1517e-01,  5.9874e-01, -1.2191e+00, -3.0953e-01, -6.9411e-01],\n",
      "           [-1.2079e+00,  5.0836e-01,  9.0553e-01,  9.4689e-01, -1.8766e+00]]]]])\n",
      "tensor([[[[[-3.0648e+00, -7.0559e+00,  3.0035e+00,  ..., -1.1512e+01,\n",
      "             3.0723e+00, -5.1047e-01],\n",
      "           [-4.0575e+00,  5.3847e-03, -2.1721e+00,  ...,  4.2652e+00,\n",
      "            -5.1197e+00, -6.6754e+00],\n",
      "           [ 2.0271e+00, -6.0861e+00,  3.8636e+00,  ...,  3.1053e-01,\n",
      "             2.2993e-01,  6.0195e-01],\n",
      "           ...,\n",
      "           [ 6.4361e-01,  3.8284e+00,  6.7105e+00,  ...,  5.4311e-02,\n",
      "             3.3594e+00,  6.2953e+00],\n",
      "           [ 7.4109e+00, -2.9830e-01, -2.7442e+00,  ...,  6.8812e+00,\n",
      "            -1.0199e+01, -7.5356e-01],\n",
      "           [-7.7434e+00, -9.9624e+00,  4.0692e+00,  ...,  2.2320e+00,\n",
      "            -1.1301e-02,  5.0706e-01]],\n",
      "\n",
      "          [[-7.3617e+00, -1.3068e+00, -9.2757e-01,  ...,  1.1795e-01,\n",
      "            -1.4628e-01, -2.4305e+00],\n",
      "           [-3.2669e-01,  7.6527e+00,  2.8786e-01,  ..., -8.0298e+00,\n",
      "            -3.8401e-01, -2.9728e+00],\n",
      "           [ 2.4164e+00,  3.8266e+00, -2.1755e+00,  ..., -8.8444e+00,\n",
      "             1.2314e+00,  1.3965e+00],\n",
      "           ...,\n",
      "           [-6.8237e+00, -1.4426e+00, -3.1663e+00,  ...,  2.9851e-01,\n",
      "             1.8750e+00,  2.4587e+00],\n",
      "           [-6.0920e-01,  3.7120e+00,  4.6329e+00,  ...,  2.1382e-01,\n",
      "            -2.4666e+00,  1.0504e+00],\n",
      "           [ 5.4571e-01, -2.7624e+00, -2.2635e+00,  ...,  1.1658e+01,\n",
      "            -2.1750e-01, -2.6772e+00]],\n",
      "\n",
      "          [[ 2.2035e+00,  9.6932e-01, -3.7417e-01,  ...,  7.2772e+00,\n",
      "             5.3502e+00,  1.7626e+00],\n",
      "           [ 9.7072e-01,  1.4488e+00,  5.6355e+00,  ...,  2.8084e+00,\n",
      "             2.9140e+00,  3.8892e+00],\n",
      "           [ 2.4829e+00, -1.5517e+00,  6.1789e-01,  ..., -8.1155e+00,\n",
      "             1.2877e+00,  8.2549e-01],\n",
      "           ...,\n",
      "           [-6.1778e+00,  3.2543e+00,  8.8492e+00,  ...,  5.6066e+00,\n",
      "             9.6929e-01, -4.9665e+00],\n",
      "           [-1.5750e+00,  6.0103e-01, -5.1539e+00,  ..., -1.0288e+01,\n",
      "             5.4201e-01,  2.1943e+00],\n",
      "           [-1.3835e+00,  9.8890e-01, -2.1815e-01,  ..., -9.3140e+00,\n",
      "             2.2282e+00,  2.0296e+00]],\n",
      "\n",
      "          ...,\n",
      "\n",
      "          [[ 2.8483e+00, -4.1264e+00, -2.0158e+00,  ..., -3.6689e-01,\n",
      "             3.2649e+00,  4.7709e+00],\n",
      "           [-1.0332e+01,  3.5139e+00, -5.8315e-01,  ...,  8.4511e-01,\n",
      "            -2.4286e+00, -1.7865e+00],\n",
      "           [-8.8182e+00, -1.9668e+00, -2.6128e+00,  ..., -7.6235e-01,\n",
      "             1.5715e+00, -2.4097e+00],\n",
      "           ...,\n",
      "           [-6.3999e+00,  3.7034e+00, -2.7092e+00,  ...,  5.5362e+00,\n",
      "             6.1088e+00,  1.9241e-02],\n",
      "           [-3.0468e-01, -3.4885e+00,  2.1060e+00,  ..., -1.4057e+00,\n",
      "             4.4405e+00, -7.6469e+00],\n",
      "           [ 5.5772e+00,  3.3178e+00,  8.3522e-01,  ..., -4.9203e+00,\n",
      "             2.6895e+00, -3.3368e+00]],\n",
      "\n",
      "          [[ 4.5449e+00, -1.8648e+00,  3.0948e+00,  ...,  4.8561e+00,\n",
      "            -4.9494e+00, -1.3359e+00],\n",
      "           [-2.6306e-01,  8.8254e-01,  2.1510e+00,  ...,  8.4032e+00,\n",
      "            -2.7819e+00,  4.5693e+00],\n",
      "           [ 5.7769e+00,  4.9325e+00,  1.3969e+00,  ...,  2.6068e+00,\n",
      "            -3.4502e+00,  7.3582e+00],\n",
      "           ...,\n",
      "           [ 1.3801e+00, -4.5626e+00,  1.8353e+00,  ...,  4.9604e+00,\n",
      "             3.8622e+00, -4.6935e+00],\n",
      "           [-6.7304e+00,  1.3512e+00,  7.5314e-01,  ...,  9.1504e-01,\n",
      "             8.0956e+00, -2.3795e+00],\n",
      "           [-4.7312e+00,  6.6888e+00,  2.5449e+00,  ..., -2.0128e+00,\n",
      "             1.4535e+00,  4.5641e+00]],\n",
      "\n",
      "          [[ 2.8455e+00, -3.7268e+00,  2.5549e+00,  ...,  7.1210e-01,\n",
      "             7.1749e-01, -1.0394e+01],\n",
      "           [-2.4708e+00,  1.9845e+00, -4.0368e+00,  ..., -4.8725e+00,\n",
      "            -5.1431e+00,  3.2866e+00],\n",
      "           [ 1.1607e+00,  2.2659e-01,  5.7139e-01,  ...,  6.9683e+00,\n",
      "             3.1482e-01, -6.6374e-02],\n",
      "           ...,\n",
      "           [-5.0203e+00,  1.3180e+01,  5.5791e+00,  ..., -2.5370e+00,\n",
      "            -3.6794e+00, -2.1142e+00],\n",
      "           [ 4.1497e-04, -6.1587e-01, -8.2435e-01,  ..., -2.8970e+00,\n",
      "             2.8254e+00,  1.0268e+00],\n",
      "           [-5.4183e+00,  1.1218e+01,  7.4171e+00,  ..., -5.9156e+00,\n",
      "             5.5061e-01,  4.4402e+00]]],\n",
      "\n",
      "\n",
      "         [[[-1.1586e-01, -3.2202e+00, -1.6941e+00,  ...,  2.6111e-01,\n",
      "             2.0933e+00,  4.8841e+00],\n",
      "           [ 8.8624e-01,  1.6445e+00,  3.7058e+00,  ...,  5.4388e+00,\n",
      "            -9.4506e-01,  2.8073e+00],\n",
      "           [ 3.2376e+00, -5.7865e-01,  1.0111e+00,  ...,  2.2616e-01,\n",
      "             4.6525e+00,  8.6259e-02],\n",
      "           ...,\n",
      "           [-1.3639e+00,  4.5340e+00,  4.0039e+00,  ..., -9.0414e-01,\n",
      "            -1.5403e+00,  1.2905e+00],\n",
      "           [ 7.2552e-01,  3.2764e+00, -3.4561e+00,  ...,  2.7450e+00,\n",
      "             3.8628e-01,  9.4658e-01],\n",
      "           [-1.8720e+00, -1.1950e+00,  1.0061e+00,  ..., -2.1766e+00,\n",
      "            -4.7716e+00, -2.8598e+00]],\n",
      "\n",
      "          [[ 3.8059e+00, -2.1821e-02, -1.9235e+00,  ...,  2.1922e+00,\n",
      "             5.3890e-01, -2.2916e+00],\n",
      "           [ 7.0359e+00, -6.5528e+00,  1.2793e+00,  ..., -3.8187e+00,\n",
      "             1.2174e+00, -1.7983e-01],\n",
      "           [ 3.7487e-01, -5.9589e-01,  2.1936e+00,  ...,  1.6905e+00,\n",
      "             3.3183e+00,  1.5253e+00],\n",
      "           ...,\n",
      "           [-1.6615e+00,  6.2672e+00,  4.9784e+00,  ..., -2.4527e+00,\n",
      "             5.8736e+00, -1.5682e+00],\n",
      "           [ 1.1154e+00, -3.5391e+00,  8.6823e+00,  ..., -4.9470e+00,\n",
      "             7.3102e-01, -4.1350e+00],\n",
      "           [ 3.0530e+00, -2.1527e+00, -6.8603e-01,  ..., -3.7134e+00,\n",
      "             1.6334e+00,  3.0205e+00]],\n",
      "\n",
      "          [[ 3.2408e+00, -1.3490e+00, -4.5825e-01,  ..., -9.8726e-01,\n",
      "            -1.7846e+00, -4.1105e-01],\n",
      "           [-9.1165e-01,  8.4324e-01, -1.8570e+00,  ..., -9.7278e-01,\n",
      "             4.1720e+00, -2.1221e+00],\n",
      "           [ 2.5054e+00, -4.5670e+00,  2.7160e+00,  ..., -3.3149e+00,\n",
      "            -6.7470e-02,  4.1019e+00],\n",
      "           ...,\n",
      "           [ 6.0272e+00,  2.8317e+00, -5.2084e-01,  ..., -7.8151e-01,\n",
      "            -1.7684e+00,  2.9016e+00],\n",
      "           [ 1.1817e+00, -4.4637e+00,  2.9377e+00,  ...,  9.1101e-01,\n",
      "             2.3221e+00,  2.6605e+00],\n",
      "           [ 1.5160e+00,  1.4247e+00, -2.7264e+00,  ..., -8.4399e-01,\n",
      "             2.5859e+00, -5.7841e+00]],\n",
      "\n",
      "          ...,\n",
      "\n",
      "          [[-1.4218e+00, -1.0353e+00, -6.1642e+00,  ...,  1.3994e+00,\n",
      "             2.1412e+00, -3.8420e+00],\n",
      "           [ 2.1276e+00,  6.8519e-01, -3.9409e+00,  ..., -3.3658e+00,\n",
      "            -3.8318e-01, -4.2172e+00],\n",
      "           [-2.8169e+00, -8.0416e-01,  1.2534e+00,  ..., -2.7230e-01,\n",
      "             3.3339e+00, -2.8110e+00],\n",
      "           ...,\n",
      "           [-6.0822e+00, -2.4362e+00,  2.8197e+00,  ..., -2.4629e+00,\n",
      "             6.1809e+00,  7.5960e-01],\n",
      "           [-7.9128e-01,  2.9017e+00,  8.1217e-01,  ..., -4.0290e+00,\n",
      "             2.1553e+00, -1.2905e+00],\n",
      "           [ 1.9440e+00, -3.1949e+00,  4.1371e-01,  ...,  4.5779e+00,\n",
      "             5.3575e+00,  6.7505e-01]],\n",
      "\n",
      "          [[ 3.2754e+00, -3.3438e+00, -6.1699e+00,  ..., -3.0535e+00,\n",
      "            -4.0971e+00, -3.8266e+00],\n",
      "           [ 1.1461e+00, -1.2333e+00, -1.8267e+00,  ...,  4.3918e+00,\n",
      "            -3.6837e+00, -5.3027e+00],\n",
      "           [-4.9398e+00, -1.6113e+00, -1.5646e+00,  ...,  2.7248e+00,\n",
      "             1.4507e+00, -7.2272e+00],\n",
      "           ...,\n",
      "           [-2.8075e+00, -6.3751e-01,  7.6697e+00,  ...,  2.2357e-01,\n",
      "             1.8464e+00,  2.6829e+00],\n",
      "           [-3.9645e+00,  2.7991e+00, -1.0069e+00,  ..., -2.8798e+00,\n",
      "             2.7016e+00,  5.5152e+00],\n",
      "           [-1.8425e+00,  3.7061e+00,  1.3960e+00,  ...,  9.2151e-01,\n",
      "             2.1810e+00,  2.9012e+00]],\n",
      "\n",
      "          [[-1.9286e+00,  1.6674e+00, -4.2741e+00,  ..., -2.7096e+00,\n",
      "            -1.5278e+00,  1.8359e+00],\n",
      "           [-2.5515e+00, -3.6816e+00,  3.4865e+00,  ..., -7.5679e+00,\n",
      "            -4.5668e+00,  3.8492e+00],\n",
      "           [ 1.4707e-01,  4.0573e-01,  1.9739e+00,  ..., -3.1952e+00,\n",
      "            -3.5155e+00, -8.2822e+00],\n",
      "           ...,\n",
      "           [-5.2654e+00, -1.3547e+00, -4.0055e+00,  ...,  2.8247e+00,\n",
      "             7.7547e+00, -9.4652e-01],\n",
      "           [ 5.3935e+00, -4.0792e+00, -5.7747e-01,  ..., -2.2603e+00,\n",
      "            -2.0142e+00,  2.7848e+00],\n",
      "           [-1.6512e+00, -1.1318e+00, -3.7448e+00,  ...,  9.5905e-01,\n",
      "            -1.4364e+00, -1.2216e+00]]],\n",
      "\n",
      "\n",
      "         [[[-6.8164e+00,  2.8174e+00,  4.5010e+00,  ..., -4.3037e+00,\n",
      "             5.0631e+00,  1.1567e+00],\n",
      "           [ 4.5037e-01,  2.7385e+00,  4.1968e+00,  ..., -1.4681e+00,\n",
      "            -4.9609e-02, -2.4139e+00],\n",
      "           [ 2.6167e+00,  2.8584e+00,  5.0122e+00,  ...,  3.2119e+00,\n",
      "            -1.2802e+00, -3.0484e+00],\n",
      "           ...,\n",
      "           [ 1.9314e+00,  2.0319e+00,  1.2807e+00,  ...,  9.5710e+00,\n",
      "            -3.5502e+00,  2.8113e+00],\n",
      "           [-1.5934e+00,  3.4658e-01,  2.3759e+00,  ..., -2.8177e+00,\n",
      "             1.5624e+00,  1.6149e+00],\n",
      "           [ 2.3080e-02, -2.1914e-01,  1.3850e+00,  ...,  1.3660e+00,\n",
      "            -4.3842e+00, -1.5094e+00]],\n",
      "\n",
      "          [[ 4.7200e+00,  2.9139e+00, -4.6479e+00,  ..., -1.7543e+00,\n",
      "            -1.9888e+00,  3.2014e+00],\n",
      "           [ 2.4625e+00, -5.5378e+00, -6.2901e+00,  ..., -1.8117e+00,\n",
      "            -1.3332e+00,  4.9718e+00],\n",
      "           [ 4.9906e+00, -2.4734e+00,  7.1082e-02,  ...,  4.4825e+00,\n",
      "             6.3645e+00, -1.8327e+00],\n",
      "           ...,\n",
      "           [ 1.1786e+00,  5.0505e+00, -2.6253e+00,  ...,  3.1340e-01,\n",
      "            -2.2769e-02,  3.3770e+00],\n",
      "           [ 3.1643e+00,  2.3889e+00, -8.4580e+00,  ..., -3.7153e+00,\n",
      "            -2.9048e+00, -4.7112e-01],\n",
      "           [ 2.4719e+00,  2.5903e+00, -1.3795e-01,  ..., -8.3779e+00,\n",
      "             4.7231e-01,  3.2586e-01]],\n",
      "\n",
      "          [[ 3.1386e-01,  2.6213e+00, -4.3922e+00,  ...,  2.4746e+00,\n",
      "             6.0292e+00,  1.6544e+00],\n",
      "           [-4.2150e+00, -4.7280e-01, -6.0037e+00,  ..., -1.0539e+01,\n",
      "             3.6028e+00,  1.6704e-01],\n",
      "           [ 4.8565e-01,  3.1308e-01,  9.7031e+00,  ..., -1.1178e+00,\n",
      "             5.3937e+00, -9.1614e-01],\n",
      "           ...,\n",
      "           [ 2.8037e+00,  8.1513e-01, -1.0269e-01,  ...,  1.9097e+00,\n",
      "            -6.1266e+00,  1.1185e+00],\n",
      "           [-4.0001e+00,  4.5193e+00, -1.3788e+00,  ..., -3.7002e-01,\n",
      "            -3.5429e+00,  3.0986e+00],\n",
      "           [ 2.5996e+00, -5.6992e+00, -2.0791e-01,  ..., -7.2511e+00,\n",
      "            -1.1587e+00,  3.0174e-01]],\n",
      "\n",
      "          ...,\n",
      "\n",
      "          [[-2.1925e+00, -6.8922e-01,  1.1548e+00,  ...,  3.7471e+00,\n",
      "             5.7844e+00,  4.8667e+00],\n",
      "           [ 3.4014e+00, -6.7909e-01,  7.3805e+00,  ..., -2.7575e+00,\n",
      "             9.8621e-02, -8.0363e-01],\n",
      "           [ 3.3773e+00,  3.1507e+00,  4.7614e+00,  ..., -5.1900e+00,\n",
      "             1.8735e+00,  8.0817e-01],\n",
      "           ...,\n",
      "           [-2.9534e+00, -3.8677e+00, -1.0807e+00,  ...,  2.3869e+00,\n",
      "            -4.2730e-02,  1.9493e+00],\n",
      "           [ 3.8281e+00, -2.9778e+00,  4.3104e+00,  ..., -3.1102e+00,\n",
      "            -1.9904e+00, -1.2791e+00],\n",
      "           [-6.0805e-01,  6.2398e+00,  1.2368e+00,  ..., -4.6061e+00,\n",
      "            -1.2092e+00,  3.9526e+00]],\n",
      "\n",
      "          [[-5.4801e+00, -1.0060e+00, -5.6354e+00,  ..., -1.5613e+00,\n",
      "             2.2840e-01,  1.2475e+00],\n",
      "           [ 2.8442e+00,  4.3077e+00,  4.4179e+00,  ...,  4.6714e+00,\n",
      "             2.3149e-01, -1.5496e+00],\n",
      "           [-2.1213e+00, -1.1979e+00,  1.0258e+00,  ...,  3.5369e+00,\n",
      "             3.2400e+00, -6.1961e+00],\n",
      "           ...,\n",
      "           [ 5.5225e+00,  5.0116e+00, -9.3914e-01,  ..., -6.0278e+00,\n",
      "            -3.6549e+00,  2.4482e+00],\n",
      "           [ 3.6840e-01,  7.1673e-01,  1.2864e-01,  ...,  1.2194e-01,\n",
      "            -9.8550e-01, -5.2205e+00],\n",
      "           [ 4.0453e+00, -2.2521e+00, -1.4420e+00,  ...,  1.6263e+00,\n",
      "            -9.5166e-01,  3.1520e-01]],\n",
      "\n",
      "          [[-2.1384e+00,  1.3693e+00,  7.2931e-02,  ..., -1.3221e+00,\n",
      "            -7.7097e+00,  2.5602e+00],\n",
      "           [-2.0182e+00,  3.2724e+00,  4.1156e+00,  ...,  8.4086e-01,\n",
      "             4.3349e+00,  1.3447e+00],\n",
      "           [ 6.9210e+00,  7.3940e-01, -1.6540e+00,  ..., -3.9005e+00,\n",
      "             2.6156e+00, -1.9028e+00],\n",
      "           ...,\n",
      "           [-6.1709e+00, -2.0443e-01, -8.1922e+00,  ...,  1.5432e+00,\n",
      "             4.7088e-01, -1.2200e+00],\n",
      "           [ 3.2772e+00,  2.2061e+00, -4.0343e+00,  ..., -2.4807e+00,\n",
      "             4.9934e+00, -4.3987e+00],\n",
      "           [-2.3471e-01, -2.7290e+00, -1.2302e+00,  ...,  1.1277e+00,\n",
      "             9.6272e-02,  6.3464e+00]]],\n",
      "\n",
      "\n",
      "         ...,\n",
      "\n",
      "\n",
      "         [[[-6.9911e-01,  3.3513e+00,  7.3452e+00,  ...,  1.7533e+00,\n",
      "            -3.1801e+00, -4.9384e+00],\n",
      "           [ 6.3778e-01,  2.4495e+00,  1.9115e+00,  ..., -6.3231e+00,\n",
      "            -1.3097e+00, -3.8766e+00],\n",
      "           [ 5.5104e-01,  8.5784e-01,  4.3822e-01,  ...,  4.6345e-01,\n",
      "            -1.2703e+01,  4.4774e-01],\n",
      "           ...,\n",
      "           [ 1.1904e+00, -3.1546e+00,  6.6557e-01,  ...,  3.1850e+00,\n",
      "             2.9583e-01, -1.1549e+00],\n",
      "           [-5.0352e+00, -3.2416e+00,  1.7882e+00,  ..., -2.8516e-01,\n",
      "            -4.8710e-02, -3.4778e+00],\n",
      "           [ 3.4352e+00,  3.5060e+00, -3.4625e+00,  ...,  3.8777e+00,\n",
      "             2.4469e+00,  3.1280e+00]],\n",
      "\n",
      "          [[-2.1930e+00, -3.3781e+00,  6.5863e-01,  ..., -3.2671e+00,\n",
      "             4.2009e+00,  3.6580e+00],\n",
      "           [-5.4713e+00,  5.0568e+00,  1.2620e+00,  ..., -1.3226e+00,\n",
      "            -6.1283e+00,  3.8309e+00],\n",
      "           [-1.2234e+00,  4.5037e+00,  2.0026e-01,  ...,  2.7068e+00,\n",
      "             2.1904e+00,  4.4269e-01],\n",
      "           ...,\n",
      "           [ 2.8723e+00, -2.1909e+00, -2.1043e+00,  ...,  5.5204e+00,\n",
      "            -3.2708e+00,  2.5101e+00],\n",
      "           [ 3.1518e+00,  2.2333e+00, -1.2720e+01,  ...,  4.8498e+00,\n",
      "            -2.6178e+00,  2.1827e+00],\n",
      "           [-5.3080e-01, -9.6050e-01,  1.8190e+00,  ..., -9.5850e-01,\n",
      "             1.2288e+00, -3.7734e+00]],\n",
      "\n",
      "          [[-7.2725e-02, -3.2288e+00, -5.6127e-01,  ...,  1.0543e+00,\n",
      "             4.6028e+00,  4.5076e+00],\n",
      "           [ 3.5693e+00,  4.3213e-01,  2.7148e+00,  ...,  1.0342e+00,\n",
      "            -1.5208e+00,  3.8169e-01],\n",
      "           [-4.8843e+00,  7.0014e+00,  2.1762e+00,  ...,  2.5720e+00,\n",
      "             8.5977e+00, -5.3818e+00],\n",
      "           ...,\n",
      "           [-9.1659e+00,  8.4470e-01,  2.3011e+00,  ...,  8.9783e-02,\n",
      "            -1.6696e+00, -2.2526e+00],\n",
      "           [-1.7425e+00,  6.5857e+00,  3.3509e-01,  ..., -2.3332e-01,\n",
      "            -6.3272e+00, -3.6345e+00],\n",
      "           [-9.9351e-01,  3.0188e-01,  1.1783e-01,  ..., -4.4075e+00,\n",
      "            -1.6088e-01,  4.9028e+00]],\n",
      "\n",
      "          ...,\n",
      "\n",
      "          [[-1.1498e+00,  4.0787e+00, -5.3370e-01,  ...,  3.1405e-01,\n",
      "             3.9055e+00,  6.5796e+00],\n",
      "           [-2.8934e-01, -2.3438e+00,  4.8773e+00,  ...,  2.7352e+00,\n",
      "             3.2446e+00,  4.8938e+00],\n",
      "           [ 5.5234e+00,  4.9332e+00, -3.7212e-01,  ..., -1.1556e+00,\n",
      "             9.4274e-01,  3.0839e+00],\n",
      "           ...,\n",
      "           [ 1.3317e+00,  1.6751e-01, -9.4591e-01,  ...,  8.0664e-01,\n",
      "            -4.0408e+00,  2.6081e+00],\n",
      "           [ 2.4322e+00, -5.3125e+00, -2.7538e+00,  ...,  4.4778e+00,\n",
      "            -8.3525e-01, -4.4625e+00],\n",
      "           [-5.0577e+00,  5.1399e+00, -4.9907e+00,  ..., -5.5154e+00,\n",
      "            -6.6577e+00,  1.2654e-01]],\n",
      "\n",
      "          [[-1.9565e+00, -3.4338e+00,  8.3561e-01,  ...,  4.0458e-01,\n",
      "             1.9240e+00,  2.6646e+00],\n",
      "           [-4.1374e+00,  4.3192e+00,  6.5983e-01,  ..., -1.6919e+00,\n",
      "             2.6557e+00,  4.3760e+00],\n",
      "           [ 2.8853e+00,  1.7637e+00,  2.2589e+00,  ..., -1.7304e+00,\n",
      "            -3.9814e-01,  6.3054e+00],\n",
      "           ...,\n",
      "           [ 2.4600e+00,  8.8294e-01, -1.3382e+00,  ..., -7.7769e+00,\n",
      "            -6.4805e-01, -1.7768e+00],\n",
      "           [ 3.0745e+00, -3.4740e+00, -1.0434e+00,  ...,  3.6697e+00,\n",
      "            -5.2059e-01, -9.5234e+00],\n",
      "           [-2.2658e+00, -1.3857e+00, -3.7939e+00,  ...,  5.7949e+00,\n",
      "            -4.1709e+00, -4.8745e+00]],\n",
      "\n",
      "          [[-1.5895e+00,  2.9990e+00,  5.0107e+00,  ...,  2.1607e+00,\n",
      "            -2.1847e+00, -1.4719e+00],\n",
      "           [ 4.4642e+00,  6.5706e+00,  4.8767e-01,  ...,  8.1540e+00,\n",
      "             1.6038e+00, -3.8610e+00],\n",
      "           [ 2.9007e+00,  1.1637e+00, -2.5248e+00,  ...,  1.9222e+00,\n",
      "             4.2979e+00,  3.7715e+00],\n",
      "           ...,\n",
      "           [ 2.9836e-01,  4.4875e+00,  2.2053e+00,  ...,  1.9072e+00,\n",
      "            -3.5787e+00, -3.3991e+00],\n",
      "           [-3.0934e+00,  4.3550e+00, -2.1548e+00,  ...,  2.8081e+00,\n",
      "             3.6739e+00, -6.5179e+00],\n",
      "           [ 3.6545e+00,  1.6005e+00,  3.3366e+00,  ..., -9.0503e-01,\n",
      "             4.5529e-01,  8.7973e+00]]],\n",
      "\n",
      "\n",
      "         [[[-2.7612e+00,  1.3504e+00,  2.1481e+00,  ..., -6.0587e+00,\n",
      "            -6.7929e-01,  1.1758e+01],\n",
      "           [-1.3316e+00, -1.8826e+00,  1.4932e+00,  ...,  3.5393e+00,\n",
      "            -9.4645e-01,  1.4642e+00],\n",
      "           [ 4.4693e+00, -4.4975e-02,  5.0161e+00,  ...,  1.4996e-01,\n",
      "             6.9896e+00, -1.6204e+00],\n",
      "           ...,\n",
      "           [-2.1329e+00,  3.4679e+00,  4.4429e+00,  ...,  7.4375e-01,\n",
      "             1.1931e+00, -4.7603e+00],\n",
      "           [-2.0234e+00,  5.7241e+00, -4.2015e+00,  ...,  2.5510e+00,\n",
      "             3.7502e+00,  4.4004e+00],\n",
      "           [-2.9132e+00, -5.4073e+00,  9.9269e-01,  ..., -4.5000e+00,\n",
      "            -9.6780e+00,  1.7727e+00]],\n",
      "\n",
      "          [[ 7.9802e-01,  4.6714e-01, -2.5053e+00,  ..., -6.4036e-02,\n",
      "            -5.1486e+00,  2.4098e+00],\n",
      "           [ 6.2182e+00, -4.4162e+00, -2.8949e+00,  ..., -1.7487e+00,\n",
      "             6.8143e-01,  2.0065e+00],\n",
      "           [ 1.3239e+00, -2.0052e+00,  8.7816e+00,  ...,  7.0604e+00,\n",
      "            -2.5055e+00,  2.3494e+00],\n",
      "           ...,\n",
      "           [-9.4243e-01,  1.1416e+00,  8.6932e-01,  ..., -7.0036e+00,\n",
      "            -6.1832e-01, -1.9459e+00],\n",
      "           [-1.6771e+00, -1.4204e-01,  1.1012e+01,  ..., -5.8366e+00,\n",
      "             1.1024e+00, -2.2164e+00],\n",
      "           [ 2.9606e+00, -9.5240e-01,  8.1036e-01,  ..., -7.2101e+00,\n",
      "            -1.0819e+00,  3.5333e-01]],\n",
      "\n",
      "          [[ 1.1481e+00,  2.8346e+00, -5.6652e+00,  ..., -4.4884e+00,\n",
      "             2.0840e-01, -3.4565e+00],\n",
      "           [ 1.2568e+00, -1.6220e-02,  1.2729e+00,  ...,  2.1886e+00,\n",
      "            -5.9402e-01, -4.0775e+00],\n",
      "           [ 3.4007e+00, -4.5113e+00, -3.3323e+00,  ..., -5.9904e+00,\n",
      "            -3.4556e+00, -3.0548e+00],\n",
      "           ...,\n",
      "           [ 2.9029e+00,  2.9989e+00,  1.3076e+00,  ...,  2.5071e+00,\n",
      "            -2.5871e+00,  1.5426e+00],\n",
      "           [ 1.4349e+00, -3.6666e+00,  5.2980e-01,  ...,  1.6622e+00,\n",
      "             3.1208e+00,  4.3108e+00],\n",
      "           [-1.4156e+00,  3.5257e+00, -2.7027e+00,  ...,  2.7964e-01,\n",
      "            -3.8717e+00, -2.0328e+00]],\n",
      "\n",
      "          ...,\n",
      "\n",
      "          [[ 3.6065e+00, -4.9614e+00, -7.9629e-01,  ...,  9.3490e-01,\n",
      "            -1.5210e+00, -6.9472e+00],\n",
      "           [ 1.2795e+00,  3.7943e+00,  2.3877e+00,  ...,  7.5700e+00,\n",
      "             4.7967e-01, -9.4000e-01],\n",
      "           [ 2.7360e+00,  2.8067e+00,  1.1809e-01,  ...,  3.1247e+00,\n",
      "             7.9536e-01, -1.9691e+00],\n",
      "           ...,\n",
      "           [-7.3443e+00, -6.4673e+00,  4.7676e+00,  ..., -1.2578e-01,\n",
      "             1.5354e+00, -3.5438e+00],\n",
      "           [ 1.5927e+00,  5.1231e+00,  8.2784e-01,  ..., -1.5359e+00,\n",
      "             2.4633e+00,  7.0476e-01],\n",
      "           [-2.1077e-01, -1.1694e+00,  3.8404e-01,  ...,  5.2872e+00,\n",
      "             7.0199e-01, -1.9308e+00]],\n",
      "\n",
      "          [[ 4.0532e+00,  4.2514e-01, -4.3760e-01,  ..., -4.9210e+00,\n",
      "            -1.7302e+00,  7.9251e-02],\n",
      "           [ 2.6197e+00,  1.3461e+00, -2.7661e+00,  ...,  2.1699e+00,\n",
      "            -5.6069e+00, -6.0719e+00],\n",
      "           [-4.7216e+00,  5.4428e+00, -1.5974e+00,  ...,  7.4375e+00,\n",
      "             2.4112e-01, -5.7894e+00],\n",
      "           ...,\n",
      "           [-4.6896e-01,  1.0374e+00,  3.6858e+00,  ...,  2.7687e+00,\n",
      "            -7.9008e-01,  1.3379e+00],\n",
      "           [ 3.1435e-01,  1.3144e+00, -2.3863e-01,  ...,  2.7295e-01,\n",
      "             3.4888e+00,  5.8398e+00],\n",
      "           [-7.7270e+00,  2.8431e+00,  1.8046e+00,  ...,  4.0553e+00,\n",
      "             6.2397e-01, -6.8513e-01]],\n",
      "\n",
      "          [[ 2.4491e+00, -2.5208e+00,  3.0259e+00,  ..., -1.2127e+00,\n",
      "            -1.3721e+00, -1.8206e+00],\n",
      "           [-4.7877e-01,  1.0809e+00, -7.1395e-01,  ..., -2.7078e+00,\n",
      "            -1.8263e+00,  4.5173e+00],\n",
      "           [-1.0934e+00,  1.5899e+00,  3.5903e+00,  ..., -2.5175e+00,\n",
      "            -2.6087e+00, -1.1638e+01],\n",
      "           ...,\n",
      "           [ 4.3559e+00,  1.6235e+00, -3.3910e+00,  ...,  4.8515e+00,\n",
      "             1.4052e+00, -1.0431e+00],\n",
      "           [ 1.1287e+00,  1.1021e+00, -2.3831e+00,  ..., -9.7399e-01,\n",
      "            -2.8190e+00,  1.1159e-01],\n",
      "           [-3.8990e-01, -2.8764e+00, -3.0407e+00,  ...,  1.9881e+00,\n",
      "             8.6719e-02,  3.7640e-01]]],\n",
      "\n",
      "\n",
      "         [[[-5.6863e+00, -6.1494e-01, -1.1159e+00,  ..., -5.9347e+00,\n",
      "             2.1663e+00,  8.6762e+00],\n",
      "           [-4.0775e+00, -5.2501e+00,  2.6662e+00,  ...,  1.4955e+00,\n",
      "             2.9566e+00,  2.9910e-01],\n",
      "           [ 1.3800e+00,  1.3657e+00,  7.4187e+00,  ...,  3.1329e-01,\n",
      "             6.3654e+00,  6.9301e-01],\n",
      "           ...,\n",
      "           [-7.7991e-01,  2.7804e+00,  1.8054e+00,  ...,  1.0423e+00,\n",
      "             6.0493e-01, -3.8295e+00],\n",
      "           [-5.5095e+00,  8.8881e+00,  3.3827e+00,  ..., -8.7055e-01,\n",
      "             5.3075e+00,  2.4028e+00],\n",
      "           [ 7.9135e-01, -5.6532e-01,  4.0289e+00,  ..., -1.1970e+00,\n",
      "            -9.3348e+00,  5.2773e-01]],\n",
      "\n",
      "          [[ 4.0037e+00,  3.6061e+00, -1.8912e+00,  ..., -1.8321e+00,\n",
      "            -5.9617e+00, -1.6888e+00],\n",
      "           [ 2.6146e+00, -1.0828e+01, -9.4382e+00,  ...,  2.5207e+00,\n",
      "             4.5783e+00,  4.9001e+00],\n",
      "           [ 2.5156e+00, -1.1157e+01,  4.1538e+00,  ...,  9.5370e+00,\n",
      "             4.9624e+00, -2.2249e-01],\n",
      "           ...,\n",
      "           [ 1.7528e-02,  5.2609e+00,  1.4958e+00,  ..., -8.9069e+00,\n",
      "             3.8789e+00,  3.3722e-01],\n",
      "           [-2.9092e+00,  1.2700e+00,  7.4265e+00,  ..., -8.4845e+00,\n",
      "             4.8736e-01, -6.8699e+00],\n",
      "           [-1.3992e+00,  1.5696e+00,  9.3242e-01,  ..., -1.0952e+01,\n",
      "            -8.3169e-01,  2.2587e+00]],\n",
      "\n",
      "          [[ 5.0173e+00,  7.2282e+00, -6.3606e+00,  ...,  3.8813e-01,\n",
      "            -1.9973e+00, -3.4170e+00],\n",
      "           [-3.9965e+00, -4.3737e-01, -1.1624e+01,  ..., -6.5013e+00,\n",
      "            -7.0703e-02, -4.0948e+00],\n",
      "           [ 1.8964e+00, -4.8058e+00,  4.7392e+00,  ..., -4.0348e+00,\n",
      "            -4.6169e+00,  2.5539e+00],\n",
      "           ...,\n",
      "           [ 1.0714e+01,  1.0074e+00, -4.6358e+00,  ..., -4.2933e+00,\n",
      "            -2.6472e+00,  9.3940e-01],\n",
      "           [-4.6031e+00,  2.8644e+00,  2.1883e+00,  ...,  3.2996e+00,\n",
      "             4.6279e+00,  4.4285e+00],\n",
      "           [ 1.0010e+00, -1.8216e+00,  1.3753e+00,  ...,  4.2080e+00,\n",
      "            -3.4155e+00, -4.9513e+00]],\n",
      "\n",
      "          ...,\n",
      "\n",
      "          [[-1.2316e-01,  9.4508e-01,  9.6172e-01,  ...,  2.3349e+00,\n",
      "             1.1262e+00,  2.5744e-02],\n",
      "           [ 1.0216e+01,  9.9898e-02,  3.6242e+00,  ..., -3.3746e+00,\n",
      "             1.6384e+00, -6.3621e+00],\n",
      "           [ 7.6918e+00,  2.2242e+00,  1.8970e+00,  ..., -2.5276e+00,\n",
      "            -3.9485e-01,  3.8566e-01],\n",
      "           ...,\n",
      "           [-4.0360e+00, -1.1226e+01,  4.8698e+00,  ..., -1.8303e+00,\n",
      "             6.4589e-01, -6.9807e-01],\n",
      "           [ 2.8127e+00, -1.4468e-01,  3.4416e+00,  ..., -3.1102e+00,\n",
      "             1.4693e+00,  7.8862e+00],\n",
      "           [-8.3683e-01, -3.6294e+00,  3.3675e+00,  ...,  1.6448e+00,\n",
      "             4.2564e+00,  7.7643e+00]],\n",
      "\n",
      "          [[-6.2237e+00,  6.4638e+00, -5.9368e+00,  ..., -9.4620e+00,\n",
      "            -2.0434e-01, -3.3271e+00],\n",
      "           [ 2.3403e+00,  1.3207e+00, -2.2104e+00,  ..., -2.0267e-01,\n",
      "            -1.1840e+00, -5.3126e-01],\n",
      "           [-1.0318e+01, -5.0276e+00, -4.1489e+00,  ...,  3.9317e+00,\n",
      "             4.7781e+00, -1.2488e+01],\n",
      "           ...,\n",
      "           [ 2.7702e+00,  4.1373e+00, -3.5266e-01,  ..., -7.8205e+00,\n",
      "            -3.5155e+00,  5.2806e+00],\n",
      "           [ 5.6261e+00,  6.6746e+00, -2.9160e+00,  ..., -4.2478e+00,\n",
      "            -2.8313e+00,  6.9887e+00],\n",
      "           [-2.4365e+00, -5.6605e-01, -6.2977e-02,  ...,  2.3303e+00,\n",
      "             1.8761e+00,  4.2958e+00]],\n",
      "\n",
      "          [[-9.4034e-01,  6.7128e+00, -7.8617e+00,  ..., -3.6652e+00,\n",
      "            -4.6003e+00,  6.8855e+00],\n",
      "           [-1.3961e-02, -4.8084e+00,  3.9441e+00,  ..., -1.2498e+00,\n",
      "             4.3391e+00,  2.0554e+00],\n",
      "           [ 2.4908e+00,  2.5849e+00, -4.2122e+00,  ..., -6.4722e+00,\n",
      "            -3.4149e+00, -8.6220e+00],\n",
      "           ...,\n",
      "           [ 6.1555e-01, -3.4974e+00, -9.5553e+00,  ...,  2.4195e+00,\n",
      "             5.1751e-01,  2.3284e+00],\n",
      "           [ 6.0833e+00, -4.3153e+00,  1.8232e+00,  ..., -2.8165e+00,\n",
      "             9.2039e-01, -1.4903e+00],\n",
      "           [ 2.3181e+00, -9.3694e+00, -3.7953e+00,  ...,  4.9366e+00,\n",
      "             1.2522e-01,  5.4754e-01]]]],\n",
      "\n",
      "\n",
      "\n",
      "        [[[[ 3.4892e+00,  1.6497e+00, -2.3908e+00,  ...,  4.9115e+00,\n",
      "            -6.0043e+00, -2.2889e+00],\n",
      "           [ 3.5307e+00, -8.0539e-01,  5.4677e-01,  ..., -1.7027e+00,\n",
      "            -3.5478e-01,  4.8190e+00],\n",
      "           [ 1.5152e+00, -9.5590e-01, -4.9656e+00,  ..., -9.2470e-01,\n",
      "             1.4895e+00, -1.4579e+00],\n",
      "           ...,\n",
      "           [-3.0298e+00, -3.3931e+00, -2.7185e+00,  ..., -4.6036e-01,\n",
      "             1.6828e+00, -4.2767e+00],\n",
      "           [-1.6541e+00, -1.2273e+00,  4.2767e+00,  ..., -2.0036e+00,\n",
      "             5.9623e+00,  4.7503e+00],\n",
      "           [ 3.8976e+00,  4.8489e+00,  6.2292e-01,  ..., -3.0253e+00,\n",
      "             1.4621e+00, -2.8636e+00]],\n",
      "\n",
      "          [[ 5.5725e+00, -3.7781e-01, -3.6927e+00,  ..., -9.6797e-01,\n",
      "             1.3154e+00, -1.3077e+00],\n",
      "           [-5.2796e+00,  3.6154e+00, -1.6386e+00,  ...,  6.4821e+00,\n",
      "            -2.1604e+00, -3.3450e-01],\n",
      "           [-3.4163e+00, -2.8887e+00,  3.5055e-01,  ...,  7.4808e+00,\n",
      "            -7.3433e+00, -1.7390e+00],\n",
      "           ...,\n",
      "           [ 5.6655e+00, -7.6098e-01,  5.7793e+00,  ...,  2.5948e+00,\n",
      "            -3.6576e+00, -3.4167e+00],\n",
      "           [-4.5711e+00, -3.9894e+00, -5.3339e-01,  ...,  2.7621e+00,\n",
      "             1.0130e+00,  2.8573e+00],\n",
      "           [-9.1833e-02,  4.4818e+00,  1.2963e+00,  ..., -1.8185e+00,\n",
      "            -1.9703e+00,  1.5694e+00]],\n",
      "\n",
      "          [[-3.2767e+00,  8.3114e-01, -6.3592e-01,  ..., -7.4202e-01,\n",
      "            -7.3832e+00,  1.9364e+00],\n",
      "           [ 3.8473e-01, -3.5467e+00,  4.5119e+00,  ...,  6.6898e+00,\n",
      "            -4.3935e+00, -3.2389e+00],\n",
      "           [ 1.3335e+00,  7.8506e-01, -7.7958e+00,  ...,  7.2138e+00,\n",
      "            -2.2521e-01,  4.4075e-01],\n",
      "           ...,\n",
      "           [ 4.6971e-01, -3.8752e+00, -4.8746e+00,  ..., -1.6807e-03,\n",
      "             3.3359e+00, -1.2263e+00],\n",
      "           [ 2.4505e+00, -2.1465e-01,  2.5395e-01,  ...,  3.7594e+00,\n",
      "             1.6821e-01, -2.8626e+00],\n",
      "           [-2.1250e+00,  2.1289e+00, -2.5041e+00,  ...,  1.0784e+01,\n",
      "             5.4445e-01,  3.0700e+00]],\n",
      "\n",
      "          ...,\n",
      "\n",
      "          [[ 3.0427e+00,  1.7961e+00, -9.9539e-01,  ...,  1.5658e+00,\n",
      "            -4.2822e+00, -4.5995e+00],\n",
      "           [-7.7765e-01,  1.5010e+00, -2.7691e-01,  ...,  6.7114e+00,\n",
      "             9.7549e-01,  5.8907e-01],\n",
      "           [ 1.3062e+00,  1.7109e+00, -2.3822e+00,  ...,  3.1798e+00,\n",
      "            -2.7021e+00,  2.2005e+00],\n",
      "           ...,\n",
      "           [ 4.9502e+00, -1.4873e+00, -6.0916e-01,  ..., -1.8741e+00,\n",
      "            -2.6214e+00, -8.5208e-01],\n",
      "           [-2.5407e+00,  2.1742e+00, -7.4627e+00,  ...,  1.9138e+00,\n",
      "            -2.3346e+00,  7.8554e+00],\n",
      "           [-7.5593e+00, -6.8328e+00,  9.0866e-01,  ...,  5.5045e+00,\n",
      "             1.0458e+00,  1.7774e+00]],\n",
      "\n",
      "          [[-9.6012e-01, -8.1128e-01, -3.7905e-01,  ..., -3.9692e-01,\n",
      "             3.1175e+00,  2.4748e+00],\n",
      "           [-2.0211e+00, -4.5834e+00,  4.0838e-01,  ..., -4.8120e+00,\n",
      "            -5.1111e-01,  9.3171e-02],\n",
      "           [ 3.6935e-01,  5.3803e+00,  1.4435e+00,  ..., -1.4094e+00,\n",
      "             5.6583e+00,  5.7222e-01],\n",
      "           ...,\n",
      "           [-1.8885e+00,  1.7309e+00, -3.9370e+00,  ..., -7.5822e-01,\n",
      "            -1.4390e+00,  1.4076e+00],\n",
      "           [ 2.0549e+00, -1.6966e+00, -2.3711e+00,  ...,  3.4426e-01,\n",
      "            -8.3023e-01,  2.9643e-01],\n",
      "           [ 3.6376e+00, -3.4146e+00, -2.3881e+00,  ...,  1.1814e-01,\n",
      "            -2.0917e+00, -2.9881e+00]],\n",
      "\n",
      "          [[-1.5854e-01,  1.7459e+00,  2.7897e+00,  ...,  8.6414e-01,\n",
      "             4.0809e+00,  5.3146e+00],\n",
      "           [ 2.8396e+00,  1.3292e+00, -2.0220e+00,  ...,  1.2914e+00,\n",
      "            -2.0442e+00, -1.9576e+00],\n",
      "           [ 6.9794e-02, -3.2520e+00,  1.9953e+00,  ..., -4.5987e+00,\n",
      "            -3.5933e+00,  1.0572e+00],\n",
      "           ...,\n",
      "           [ 4.8390e+00, -5.3613e+00,  1.4259e+00,  ..., -8.6496e-01,\n",
      "             2.6252e+00,  3.2467e+00],\n",
      "           [-3.6604e-02,  1.5283e+00, -2.9247e+00,  ...,  5.2979e+00,\n",
      "            -4.9743e-01,  4.2075e-01],\n",
      "           [ 5.4094e+00, -2.8845e+00, -5.7205e-01,  ...,  3.0801e+00,\n",
      "             1.2254e-01, -1.3105e+00]]],\n",
      "\n",
      "\n",
      "         [[[-6.7826e+00, -2.3610e+00, -1.7967e+00,  ..., -8.4161e+00,\n",
      "             5.5482e+00, -6.8231e+00],\n",
      "           [-2.6239e-01,  4.9754e+00, -3.0460e+00,  ...,  1.3580e+00,\n",
      "             4.9698e+00, -8.9521e-01],\n",
      "           [-4.7613e+00, -3.5478e+00,  1.9128e+00,  ..., -1.5000e+00,\n",
      "            -3.4731e-01, -4.5206e+00],\n",
      "           ...,\n",
      "           [ 1.2945e+00, -3.8180e+00, -1.1616e+00,  ...,  1.5775e+00,\n",
      "            -1.5277e+00,  7.7283e+00],\n",
      "           [ 1.8171e+00,  2.3097e-01,  5.9132e+00,  ..., -2.8921e+00,\n",
      "            -3.0959e+00, -2.2037e-01],\n",
      "           [ 1.1868e+00, -6.2138e-01,  1.5182e+00,  ..., -3.2000e+00,\n",
      "             1.9129e+00,  9.3669e-01]],\n",
      "\n",
      "          [[ 9.6597e-01,  3.5915e+00,  8.5781e-01,  ...,  1.8810e-01,\n",
      "            -3.3695e+00,  3.2020e+00],\n",
      "           [-7.0733e+00,  1.0788e+00, -4.9881e+00,  ...,  3.6891e+00,\n",
      "             1.7826e+00,  2.0911e+00],\n",
      "           [ 3.8516e+00, -8.3890e+00, -5.4491e+00,  ..., -1.2354e+01,\n",
      "             2.8882e+00, -1.4015e+00],\n",
      "           ...,\n",
      "           [-2.8718e+00, -2.8551e+00, -7.5265e+00,  ..., -4.4606e-01,\n",
      "             3.0235e+00,  4.3183e+00],\n",
      "           [ 2.7807e+00,  5.1333e+00, -4.6249e+00,  ..., -5.6581e+00,\n",
      "            -5.8598e-01, -9.9916e-01],\n",
      "           [-4.3659e-01,  7.7609e-01, -6.5584e+00,  ...,  9.7357e+00,\n",
      "             3.5287e+00, -3.2233e+00]],\n",
      "\n",
      "          [[ 1.9746e-01,  4.5154e+00,  2.5695e-01,  ...,  5.3513e+00,\n",
      "             3.0819e+00,  2.9761e-01],\n",
      "           [-2.2542e+00,  2.2640e+00, -1.0124e+01,  ..., -3.3186e+00,\n",
      "            -2.8781e+00,  2.3506e+00],\n",
      "           [-1.7888e+00,  7.1693e-01,  2.9131e+00,  ..., -2.9528e+00,\n",
      "            -5.4265e-01,  6.4106e+00],\n",
      "           ...,\n",
      "           [ 6.1706e+00, -6.6666e+00,  4.3544e+00,  ...,  4.1849e+00,\n",
      "            -2.8151e+00,  7.8103e-01],\n",
      "           [-4.0757e+00,  3.7746e+00, -3.3728e+00,  ..., -5.8866e+00,\n",
      "            -1.1587e+00, -1.4515e+00],\n",
      "           [ 3.0361e+00, -7.8109e+00,  4.0276e+00,  ...,  3.6990e+00,\n",
      "            -1.3947e+00,  7.7252e-01]],\n",
      "\n",
      "          ...,\n",
      "\n",
      "          [[ 6.2607e-01, -4.7154e+00,  2.7146e+00,  ..., -4.0238e+00,\n",
      "             1.9565e+00,  1.1083e+01],\n",
      "           [ 1.1214e+00, -6.2892e-01,  2.2604e-01,  ..., -6.7975e+00,\n",
      "            -1.3110e+00, -5.5626e-01],\n",
      "           [-4.3589e+00, -4.8457e+00,  2.1831e+00,  ..., -3.6967e+00,\n",
      "            -4.3408e+00, -5.6276e+00],\n",
      "           ...,\n",
      "           [ 2.1812e+00,  1.1027e+00, -3.6290e+00,  ...,  2.3279e+00,\n",
      "            -7.2017e+00,  1.4498e+00],\n",
      "           [ 7.3216e-01, -1.5232e+00,  2.2134e-01,  ..., -2.6654e+00,\n",
      "            -1.5420e+00,  1.0361e+00],\n",
      "           [ 3.9587e+00,  2.5068e+00,  5.0430e+00,  ..., -5.4952e+00,\n",
      "             4.1127e+00,  4.4042e+00]],\n",
      "\n",
      "          [[-2.6264e+00,  6.4081e+00,  1.7844e+00,  ..., -1.0686e+00,\n",
      "             1.8452e+00,  1.8493e+00],\n",
      "           [ 6.6083e+00,  1.8750e+00, -4.0583e-01,  ...,  4.0956e+00,\n",
      "             1.8769e+00,  8.3298e+00],\n",
      "           [ 4.1402e+00, -6.5263e+00,  2.0471e+00,  ...,  8.9274e-01,\n",
      "             4.5442e+00,  1.1330e+00],\n",
      "           ...,\n",
      "           [ 8.3006e+00, -6.6585e-01, -3.6595e+00,  ...,  7.1156e-01,\n",
      "            -1.1804e+00, -2.5617e+00],\n",
      "           [-5.9633e+00, -1.7721e+00, -5.0955e+00,  ..., -3.9364e+00,\n",
      "            -1.1480e+00, -3.0950e+00],\n",
      "           [ 5.8288e+00, -1.6674e+00, -2.0164e+00,  ..., -5.4381e+00,\n",
      "            -2.9262e-01,  6.6650e+00]],\n",
      "\n",
      "          [[ 9.8070e-01, -2.4737e+00, -7.0822e+00,  ..., -3.1053e-01,\n",
      "            -2.2137e+00,  1.1976e+00],\n",
      "           [-2.6900e+00, -4.9758e+00, -2.2965e+00,  ...,  2.2504e+00,\n",
      "             3.5289e+00, -2.0654e-01],\n",
      "           [ 8.9626e-01,  3.5953e-01, -4.2146e+00,  ...,  3.2079e+00,\n",
      "            -9.1651e-01,  7.4481e+00],\n",
      "           ...,\n",
      "           [-6.1687e+00,  2.5552e+00,  1.6470e+00,  ..., -8.4627e+00,\n",
      "             3.8132e-01,  1.8585e+00],\n",
      "           [ 5.5901e+00, -2.8466e+00,  3.0870e-01,  ...,  1.0300e+00,\n",
      "             6.3341e+00, -6.4800e-01],\n",
      "           [ 7.5568e-01,  2.9556e+00, -2.4681e-02,  ..., -8.2923e-02,\n",
      "             1.7783e+00, -3.7362e+00]]],\n",
      "\n",
      "\n",
      "         [[[-2.7740e+00,  4.7428e+00, -1.0556e+00,  ..., -9.0360e-01,\n",
      "            -3.7857e-01,  4.7916e+00],\n",
      "           [-5.7296e-01, -5.9720e-01,  5.2021e-01,  ...,  4.3913e+00,\n",
      "             1.0487e+00,  4.1548e+00],\n",
      "           [ 5.8292e+00, -1.9372e+00,  2.4807e+00,  ...,  2.4463e+00,\n",
      "             1.4500e-01, -2.2724e+00],\n",
      "           ...,\n",
      "           [ 5.9286e-01, -4.3550e-01,  3.2411e-01,  ..., -7.2085e-01,\n",
      "            -5.5669e+00, -5.0527e-01],\n",
      "           [ 1.3235e+00,  3.4513e+00,  4.4832e-01,  ...,  2.9989e+00,\n",
      "             1.7379e-01,  5.3139e+00],\n",
      "           [ 2.5438e+00, -2.2767e+00, -1.1396e+00,  ..., -4.5442e+00,\n",
      "            -6.7060e+00, -3.0246e+00]],\n",
      "\n",
      "          [[-3.0537e+00,  1.4841e+00,  5.7106e-02,  ...,  5.8731e-01,\n",
      "            -6.1167e+00,  7.3935e+00],\n",
      "           [-1.2764e+00, -2.9481e+00, -2.9678e+00,  ..., -6.4188e+00,\n",
      "             1.9851e+00,  2.5018e+00],\n",
      "           [ 2.8039e+00, -2.0297e+00,  1.1860e+00,  ...,  1.8353e+00,\n",
      "            -3.2448e+00,  2.9063e-01],\n",
      "           ...,\n",
      "           [ 8.4993e-01,  3.3872e+00, -5.7510e+00,  ..., -6.0998e+00,\n",
      "            -6.0952e+00,  1.1025e+00],\n",
      "           [ 1.5318e+00,  2.2854e+00, -5.7577e-01,  ..., -7.5111e+00,\n",
      "            -3.1504e+00, -4.4402e+00],\n",
      "           [ 3.3904e+00,  2.8137e+00, -2.5197e+00,  ..., -2.2730e+00,\n",
      "             3.5116e+00, -1.2828e-01]],\n",
      "\n",
      "          [[-8.0279e-01, -1.6756e+00, -3.4855e+00,  ..., -4.6315e+00,\n",
      "             4.0937e+00, -1.2484e+00],\n",
      "           [ 1.5525e+00, -1.1345e+00, -4.3426e+00,  ..., -2.8036e-01,\n",
      "            -1.3118e+00, -6.6534e+00],\n",
      "           [ 1.0210e+00, -1.1286e+00,  3.6056e+00,  ..., -2.2855e+00,\n",
      "            -4.1689e+00, -1.9575e+00],\n",
      "           ...,\n",
      "           [ 2.6063e+00, -2.0272e+00,  6.6236e+00,  ...,  5.8856e+00,\n",
      "            -2.9311e+00,  4.3901e+00],\n",
      "           [-2.9581e-01, -2.3020e+00, -1.9694e-01,  ...,  2.2766e+00,\n",
      "             2.1378e+00,  1.1447e+00],\n",
      "           [ 2.0828e+00, -2.4680e+00, -4.4079e+00,  ..., -1.2184e+00,\n",
      "            -4.2185e+00, -1.5987e+00]],\n",
      "\n",
      "          ...,\n",
      "\n",
      "          [[ 1.7941e+00, -6.8714e+00,  3.8555e+00,  ...,  1.3315e+00,\n",
      "             1.0219e+00, -6.1651e+00],\n",
      "           [-1.3150e+00, -3.5759e+00,  1.1604e+00,  ...,  1.1020e+00,\n",
      "             8.3268e-01,  9.9498e-01],\n",
      "           [ 3.1617e+00, -3.0500e+00,  1.9274e+00,  ...,  1.5496e+00,\n",
      "             2.1955e-01, -1.9764e+00],\n",
      "           ...,\n",
      "           [-1.3343e+00,  1.0317e+00, -3.2870e-01,  ..., -5.0697e-01,\n",
      "            -3.3517e+00,  5.7984e-01],\n",
      "           [ 3.4864e+00,  3.5294e+00,  5.5597e-01,  ..., -8.0746e-01,\n",
      "             4.2530e-01, -2.3054e+00],\n",
      "           [ 2.7183e+00,  3.4160e+00,  1.8156e+00,  ...,  5.6155e+00,\n",
      "            -2.0788e+00, -2.9397e+00]],\n",
      "\n",
      "          [[ 1.2010e+00, -1.2038e+00, -2.0474e+00,  ..., -9.6454e-01,\n",
      "             3.7274e+00,  4.8844e+00],\n",
      "           [ 8.6246e-01,  5.0578e+00, -2.0557e+00,  ...,  3.0560e-01,\n",
      "            -4.0644e+00, -7.0424e+00],\n",
      "           [-5.5472e-01, -1.8307e+00,  2.3618e+00,  ...,  6.8192e+00,\n",
      "             1.5494e+00, -2.1743e+00],\n",
      "           ...,\n",
      "           [-9.9132e-01,  4.1596e+00, -9.0842e-01,  ..., -1.4911e+00,\n",
      "            -5.0678e+00, -1.5889e+00],\n",
      "           [-3.0712e+00, -2.1254e+00, -2.6188e+00,  ..., -3.7261e+00,\n",
      "            -1.6916e+00, -1.8986e+00],\n",
      "           [-2.5354e+00, -5.2251e-01,  1.5406e+00,  ..., -7.5258e-01,\n",
      "            -2.1125e+00,  1.2010e+00]],\n",
      "\n",
      "          [[-2.5924e+00, -7.5724e+00,  3.8077e+00,  ...,  1.6998e+00,\n",
      "             1.2573e+00, -1.5001e-02],\n",
      "           [-2.7947e+00,  9.3986e-01,  3.8139e+00,  ...,  2.5289e+00,\n",
      "            -3.9662e-01,  5.3778e+00],\n",
      "           [-3.9383e+00, -2.2316e-01,  3.6204e+00,  ..., -2.9154e+00,\n",
      "             9.8118e-02, -4.4860e+00],\n",
      "           ...,\n",
      "           [-1.4801e+00,  2.5024e+00, -4.7308e+00,  ...,  9.1731e+00,\n",
      "             2.2363e+00, -1.5894e+00],\n",
      "           [ 3.0162e-01, -1.3785e+00, -2.7525e+00,  ..., -3.6749e-01,\n",
      "            -9.5827e-01,  4.4858e+00],\n",
      "           [ 1.5898e+00,  1.4982e-01, -1.8519e+00,  ...,  3.8295e-01,\n",
      "            -1.0838e+00,  1.4077e+00]]],\n",
      "\n",
      "\n",
      "         ...,\n",
      "\n",
      "\n",
      "         [[[-1.0386e+00, -5.8441e+00,  2.5916e+00,  ..., -3.6463e+00,\n",
      "            -2.6903e+00, -4.9557e+00],\n",
      "           [-1.0490e+00,  1.7060e+00, -9.4449e-01,  ..., -8.3665e-01,\n",
      "            -4.2645e+00, -6.5349e+00],\n",
      "           [ 2.4982e+00, -6.5914e+00,  4.4108e+00,  ...,  8.0239e-01,\n",
      "            -1.9211e+00,  1.1612e+00],\n",
      "           ...,\n",
      "           [-1.1974e+00, -2.5952e-01,  2.7755e-01,  ...,  5.0624e-01,\n",
      "             4.0790e+00,  3.0698e+00],\n",
      "           [-1.4239e+00,  1.1770e+00,  2.8576e+00,  ..., -3.0808e-01,\n",
      "            -2.9507e+00, -2.9562e+00],\n",
      "           [-1.5664e+00, -1.9912e+00,  5.1740e+00,  ...,  3.1005e+00,\n",
      "             2.1156e+00, -6.9742e-01]],\n",
      "\n",
      "          [[ 3.8626e+00, -4.1533e+00, -4.4252e-01,  ..., -2.0449e+00,\n",
      "             4.1557e+00, -6.8858e+00],\n",
      "           [-1.9541e-01,  3.2007e+00, -2.9441e-01,  ...,  8.7624e-01,\n",
      "            -3.9146e+00, -2.2466e+00],\n",
      "           [-1.9741e+00,  2.1832e+00, -1.6502e+00,  ...,  8.8139e-01,\n",
      "             1.9968e+00, -7.3098e-02],\n",
      "           ...,\n",
      "           [-4.2607e-01, -1.0274e-01,  8.2767e-01,  ...,  5.2720e+00,\n",
      "             2.3272e+00, -1.6258e+00],\n",
      "           [-1.2045e+00, -4.3315e-01, -4.9552e-01,  ...,  5.3108e-01,\n",
      "            -2.6156e+00,  2.3455e+00],\n",
      "           [-1.4512e+00,  3.3068e+00, -1.8213e-01,  ...,  4.5102e+00,\n",
      "             1.0588e+00,  4.5013e-01]],\n",
      "\n",
      "          [[ 4.3539e+00,  6.7039e-02,  1.7466e+00,  ...,  6.1195e+00,\n",
      "            -6.6573e-01,  5.0288e+00],\n",
      "           [-1.7125e+00,  1.5359e+00,  4.0689e+00,  ...,  1.0568e+00,\n",
      "             1.6524e+00,  3.4343e+00],\n",
      "           [ 2.0897e+00, -6.9679e-01,  3.1233e-01,  ..., -1.6125e+00,\n",
      "             3.3997e+00,  1.3227e+00],\n",
      "           ...,\n",
      "           [ 3.7508e-01, -2.8285e-01, -4.8382e+00,  ..., -4.1357e+00,\n",
      "             2.2293e+00, -5.9307e+00],\n",
      "           [-4.1611e+00,  1.9789e+00, -2.3446e+00,  ..., -1.7517e+00,\n",
      "            -1.3228e+00, -3.3685e+00],\n",
      "           [-3.7360e+00,  7.8630e-01,  2.4572e+00,  ...,  8.9274e-01,\n",
      "             3.7963e+00,  3.5679e+00]],\n",
      "\n",
      "          ...,\n",
      "\n",
      "          [[ 7.9808e-01,  1.9939e-02, -4.3550e-01,  ..., -1.5409e+00,\n",
      "             1.5695e+00,  4.4234e+00],\n",
      "           [-5.0062e+00,  3.5589e+00,  4.7220e-01,  ...,  1.7534e+00,\n",
      "             3.3113e-01, -5.1356e+00],\n",
      "           [-3.0566e+00,  9.8189e-01, -3.4710e+00,  ..., -1.9647e+00,\n",
      "             9.7820e-02,  4.4890e-01],\n",
      "           ...,\n",
      "           [-1.6458e+00, -1.6803e+00, -1.6971e+00,  ...,  5.2015e-01,\n",
      "             4.3090e+00,  1.5845e+00],\n",
      "           [ 1.3474e-01, -6.9903e+00, -1.3722e+00,  ..., -5.7555e-01,\n",
      "             2.7788e+00,  6.5874e-01],\n",
      "           [-1.3539e+00, -2.1745e+00, -2.1405e+00,  ..., -4.2045e+00,\n",
      "             1.3479e-01,  2.3836e+00]],\n",
      "\n",
      "          [[-2.6908e+00, -3.1513e+00, -3.5923e+00,  ..., -5.3831e-01,\n",
      "            -7.7768e-01, -2.6022e+00],\n",
      "           [-3.7850e-01, -4.9728e+00,  3.8687e+00,  ...,  2.4282e+00,\n",
      "             3.2276e-01,  7.1279e+00],\n",
      "           [-1.0726e+00, -3.0567e-01, -3.4129e+00,  ..., -4.9980e-01,\n",
      "             4.4226e-01,  2.5581e+00],\n",
      "           ...,\n",
      "           [-6.7544e-01, -8.1888e-01, -2.5250e+00,  ...,  1.1268e+00,\n",
      "             1.0633e+00,  8.1024e-02],\n",
      "           [ 9.7435e-01,  3.2739e+00,  2.0861e+00,  ...,  8.2497e-01,\n",
      "            -1.3701e+00,  2.0429e+00],\n",
      "           [-3.3302e+00,  8.0209e-01,  3.0503e-01,  ...,  2.1016e-01,\n",
      "            -7.9624e-01,  4.0702e+00]],\n",
      "\n",
      "          [[ 9.5311e-01,  6.9690e+00, -1.2271e+00,  ..., -3.3566e+00,\n",
      "             1.4375e+00,  1.7239e-01],\n",
      "           [ 1.2192e+00, -2.6563e+00,  3.1975e+00,  ..., -1.5184e+00,\n",
      "             9.6751e-01, -2.8358e+00],\n",
      "           [ 3.8738e+00,  9.6485e-01, -3.1661e+00,  ...,  8.2178e-01,\n",
      "             2.1000e+00,  2.9983e+00],\n",
      "           ...,\n",
      "           [ 6.1895e-01, -6.5466e-01,  2.9840e+00,  ..., -5.6251e+00,\n",
      "            -7.4038e-01,  3.3572e+00],\n",
      "           [ 5.9134e-01,  9.6423e-01, -4.7683e-01,  ..., -1.9107e+00,\n",
      "             5.8113e-01, -1.1144e+00],\n",
      "           [ 4.1985e-01, -6.8169e-01,  2.0075e+00,  ..., -6.1452e-01,\n",
      "             6.1375e-01,  2.0302e+00]]],\n",
      "\n",
      "\n",
      "         [[[-4.6783e+00, -2.0131e+00,  9.0086e+00,  ..., -7.5089e+00,\n",
      "             4.9102e+00,  8.0275e+00],\n",
      "           [-2.4916e+00, -2.2813e+00,  3.2169e+00,  ..., -4.9069e+00,\n",
      "            -8.3952e-01, -7.3204e-01],\n",
      "           [ 4.5374e-01,  3.3079e+00, -7.8093e-01,  ..., -4.7112e+00,\n",
      "            -4.4312e-01,  1.1643e+00],\n",
      "           ...,\n",
      "           [-1.4810e+00,  6.2000e+00,  1.4542e+01,  ...,  2.8295e+00,\n",
      "             3.0338e+00, -4.9357e+00],\n",
      "           [-2.8345e+00,  5.7845e+00, -4.7208e+00,  ...,  2.0214e+00,\n",
      "             1.1112e+00, -3.0711e-01],\n",
      "           [-5.9583e+00, -2.9037e-01, -1.0997e+00,  ...,  2.5559e+00,\n",
      "            -5.2249e+00,  6.4626e+00]],\n",
      "\n",
      "          [[-1.1581e+00,  1.1709e+00, -3.4554e+00,  ..., -2.6948e+00,\n",
      "             3.2216e+00,  5.6771e+00],\n",
      "           [ 2.7371e+00,  8.0071e-01,  1.7884e+00,  ..., -1.5314e-01,\n",
      "            -9.4518e-01,  4.5846e+00],\n",
      "           [-2.7893e+00,  8.6760e-02,  8.2228e+00,  ...,  3.4344e+00,\n",
      "             3.7968e+00,  1.4662e+00],\n",
      "           ...,\n",
      "           [-5.9267e+00, -5.5966e+00,  3.0646e+00,  ..., -4.4210e+00,\n",
      "             6.1227e+00,  3.3123e+00],\n",
      "           [-1.5491e+00,  1.1110e+00,  7.2725e+00,  ...,  1.6348e+00,\n",
      "             1.2939e+00, -1.6101e+00],\n",
      "           [ 2.2700e+00, -4.6263e+00, -6.1302e-01,  ..., -5.1504e+00,\n",
      "            -7.8459e+00, -4.5507e+00]],\n",
      "\n",
      "          [[-4.4621e-01,  2.6957e+00, -8.5747e+00,  ..., -3.0158e+00,\n",
      "             1.9596e+00, -4.6276e+00],\n",
      "           [ 4.1299e+00,  4.2138e+00,  1.1362e+00,  ...,  1.7342e+00,\n",
      "             2.9772e+00,  1.8810e+00],\n",
      "           [ 1.8200e-01,  7.3289e-01,  3.6571e+00,  ..., -6.3371e+00,\n",
      "             3.6470e+00,  3.8923e-01],\n",
      "           ...,\n",
      "           [ 1.0747e+00,  8.0631e+00,  4.1752e-01,  ...,  3.2873e+00,\n",
      "            -3.0896e+00, -2.9328e+00],\n",
      "           [ 4.6808e+00,  3.7404e+00, -4.8851e-01,  ..., -3.7437e+00,\n",
      "            -3.9686e+00,  3.3070e+00],\n",
      "           [ 2.4471e+00,  2.6476e+00, -4.1644e+00,  ..., -5.1492e+00,\n",
      "            -1.1004e-01,  4.2592e-01]],\n",
      "\n",
      "          ...,\n",
      "\n",
      "          [[-2.5749e-01,  6.8366e+00, -1.1682e+01,  ..., -3.9014e+00,\n",
      "             5.4532e+00,  3.0783e+00],\n",
      "           [ 4.0745e+00,  2.9577e+00,  3.3327e+00,  ...,  2.1911e+00,\n",
      "            -1.5564e+00,  3.8306e-01],\n",
      "           [ 5.2206e+00,  6.2690e+00, -9.3334e-02,  ...,  3.5957e+00,\n",
      "             2.2325e+00, -4.9951e-01],\n",
      "           ...,\n",
      "           [-9.8499e+00, -3.4584e+00,  5.1961e-01,  ...,  2.6481e+00,\n",
      "             2.5079e+00, -2.3539e+00],\n",
      "           [ 7.0676e-01,  2.9488e+00, -2.9695e+00,  ...,  3.5390e+00,\n",
      "             2.1368e+00, -2.2250e+00],\n",
      "           [-1.2385e+00,  7.5035e-01, -2.4536e-01,  ..., -1.0987e+00,\n",
      "             4.9282e+00,  1.6119e+00]],\n",
      "\n",
      "          [[ 6.2720e+00,  6.0733e+00,  2.6792e+00,  ..., -4.5851e+00,\n",
      "            -9.6656e+00, -4.9384e+00],\n",
      "           [-1.4286e+00,  4.4911e-01, -3.9778e+00,  ...,  5.2795e+00,\n",
      "             4.5622e-01,  2.4062e+00],\n",
      "           [ 3.0082e+00,  6.3964e+00,  5.3266e+00,  ...,  1.5107e-01,\n",
      "             3.2374e+00,  2.1569e+00],\n",
      "           ...,\n",
      "           [ 1.8860e+00, -5.0317e+00,  6.0078e+00,  ..., -8.6484e+00,\n",
      "             5.4256e+00,  1.9611e+00],\n",
      "           [-2.1560e+00, -1.4001e+00, -1.5488e+00,  ...,  4.6927e+00,\n",
      "             9.8063e+00, -9.0613e-01],\n",
      "           [ 2.3757e-01,  6.2319e+00, -3.2350e+00,  ...,  7.3746e+00,\n",
      "            -1.8563e+00, -4.1325e+00]],\n",
      "\n",
      "          [[ 1.3752e+00,  2.5778e+00,  2.9597e+00,  ...,  1.3991e+00,\n",
      "            -7.5789e+00, -2.5909e+00],\n",
      "           [ 3.4774e+00,  7.2944e+00, -4.9905e+00,  ..., -9.2472e-01,\n",
      "            -6.0208e+00,  8.9784e-01],\n",
      "           [ 4.9420e+00,  1.6310e+00, -7.0163e-01,  ..., -1.2286e-01,\n",
      "             1.8489e+00, -7.8780e+00],\n",
      "           ...,\n",
      "           [-5.6964e-01,  1.3507e+01, -2.6717e+00,  ...,  2.0894e+00,\n",
      "            -1.8839e+00, -8.2216e+00],\n",
      "           [ 4.6561e+00, -2.7435e-01, -2.9978e+00,  ..., -1.4110e+00,\n",
      "             4.5632e+00, -7.4713e+00],\n",
      "           [-7.6648e-01,  3.4349e+00,  2.8215e+00,  ..., -8.6201e-01,\n",
      "             1.7537e+00,  9.9382e+00]]],\n",
      "\n",
      "\n",
      "         [[[ 5.3735e+00,  5.0763e-01,  3.4588e+00,  ...,  3.7792e+00,\n",
      "            -8.3987e+00, -1.8241e+00],\n",
      "           [ 4.6433e+00,  3.7843e+00, -1.3781e+00,  ..., -1.9946e+00,\n",
      "            -4.0672e+00, -2.2364e-01],\n",
      "           [-8.2286e-01, -2.2638e+00,  3.7151e+00,  ...,  1.7036e+00,\n",
      "            -1.0419e+01, -2.4260e+00],\n",
      "           ...,\n",
      "           [-1.9800e-01, -6.8607e+00, -4.3848e+00,  ..., -2.2565e-01,\n",
      "             1.8714e+00,  1.6129e+00],\n",
      "           [ 1.0378e+00, -5.4450e+00, -3.5544e+00,  ...,  2.6040e+00,\n",
      "            -8.2737e-01, -2.8701e+00],\n",
      "           [ 9.2600e-01, -3.6030e+00, -4.5401e+00,  ..., -1.0802e+00,\n",
      "             8.1270e+00,  4.6738e+00]],\n",
      "\n",
      "          [[-5.1393e+00, -6.4428e+00,  5.0364e+00,  ...,  6.9328e-01,\n",
      "             7.8851e-01,  2.7838e+00],\n",
      "           [-3.9108e+00,  7.8828e+00,  5.6032e+00,  ..., -2.3513e+00,\n",
      "            -5.1178e+00, -6.7015e+00],\n",
      "           [ 9.0200e-01,  1.0986e+01,  8.8877e-01,  ..., -2.9731e+00,\n",
      "            -5.8566e+00,  1.2787e+00],\n",
      "           ...,\n",
      "           [ 3.0768e-01, -3.6179e+00, -3.8287e+00,  ...,  3.7817e+00,\n",
      "            -7.2164e+00, -4.7511e+00],\n",
      "           [ 2.9711e+00,  3.2400e+00, -4.7522e+00,  ...,  5.5477e+00,\n",
      "            -2.8429e+00,  2.2495e+00],\n",
      "           [ 1.6224e+00, -6.8879e+00,  3.9443e+00,  ...,  6.8083e+00,\n",
      "             2.6716e+00, -4.9174e-01]],\n",
      "\n",
      "          [[-2.9232e-01, -4.6554e+00,  3.5012e+00,  ...,  1.0139e+00,\n",
      "             2.3396e+00,  4.5616e+00],\n",
      "           [ 2.4385e+00, -1.0794e+00,  1.0909e+01,  ...,  8.3390e+00,\n",
      "            -3.5536e+00,  1.3871e+00],\n",
      "           [-1.8769e+00,  2.3749e+00, -1.0285e+01,  ..., -1.0451e+00,\n",
      "             5.3823e+00, -6.9396e+00],\n",
      "           ...,\n",
      "           [-1.2920e+01,  6.3019e-01,  3.8516e+00,  ...,  6.0053e-01,\n",
      "             2.2334e+00, -2.2136e+00],\n",
      "           [-1.6416e+00,  1.0727e+00, -3.7038e+00,  ..., -2.5622e+00,\n",
      "            -4.1866e+00, -3.7646e+00],\n",
      "           [-5.0897e+00,  5.8535e+00, -4.4439e-01,  ..., -2.1901e+00,\n",
      "             8.8016e-01,  4.5660e+00]],\n",
      "\n",
      "          ...,\n",
      "\n",
      "          [[ 9.6016e-01, -3.0565e+00,  1.1766e+00,  ..., -2.6833e+00,\n",
      "            -1.4480e+00,  3.3228e-01],\n",
      "           [-7.3611e+00, -3.4905e+00,  1.7667e+00,  ...,  8.5508e+00,\n",
      "             2.4951e+00,  5.2538e+00],\n",
      "           [-7.0307e-01,  1.2402e+00, -2.0751e+00,  ...,  1.4164e+00,\n",
      "            -8.6050e-01,  3.4282e+00],\n",
      "           ...,\n",
      "           [ 7.5929e-01,  3.2347e+00, -2.6275e-01,  ..., -2.7435e+00,\n",
      "            -3.3742e+00, -1.3522e+00],\n",
      "           [ 1.5426e+00, -1.5219e+00, -1.9353e+00,  ...,  4.5697e+00,\n",
      "            -3.7007e-01, -5.7599e+00],\n",
      "           [-2.7666e+00,  5.6187e+00, -6.2189e+00,  ..., -4.2252e+00,\n",
      "            -7.5006e+00, -5.4505e+00]],\n",
      "\n",
      "          [[ 2.3775e+00, -5.1778e+00,  7.6758e+00,  ...,  5.4047e+00,\n",
      "             1.8417e+00,  4.4981e+00],\n",
      "           [ 1.2691e-01,  1.0015e+00, -3.1257e+00,  ..., -3.3922e+00,\n",
      "            -1.8908e-01,  1.6506e+00],\n",
      "           [ 3.8007e+00,  5.2456e+00, -5.5620e-02,  ...,  2.1522e+00,\n",
      "            -5.1948e+00,  9.2417e+00],\n",
      "           ...,\n",
      "           [-5.3191e+00, -1.9531e+00,  8.6040e-01,  ...,  5.9519e+00,\n",
      "             5.1475e-01, -4.6628e+00],\n",
      "           [ 4.7051e+00, -3.1168e+00,  4.8624e+00,  ...,  4.0106e+00,\n",
      "             1.5413e+00, -4.9108e+00],\n",
      "           [-9.8734e+00, -7.2734e-01,  2.1203e-01,  ...,  6.4034e+00,\n",
      "            -3.2805e+00, -2.9129e+00]],\n",
      "\n",
      "          [[ 3.7386e+00, -2.8799e+00,  7.7917e+00,  ...,  1.8453e+00,\n",
      "             5.0369e+00, -5.1377e+00],\n",
      "           [ 4.0567e+00, -2.7372e-01, -3.4713e+00,  ...,  5.2669e+00,\n",
      "            -1.7863e+00, -2.3064e+00],\n",
      "           [-6.9408e+00, -2.5805e+00,  2.2292e+00,  ...,  1.1027e+01,\n",
      "             2.4981e+00,  8.8496e-01],\n",
      "           ...,\n",
      "           [ 5.1831e+00,  2.8841e+00,  1.0853e+01,  ...,  2.8268e+00,\n",
      "            -3.1666e+00,  1.2776e+00],\n",
      "           [-7.5744e+00,  6.4690e+00,  5.8675e-02,  ...,  3.0973e+00,\n",
      "            -6.5569e-01,  4.1949e-01],\n",
      "           [ 4.2227e-01, -3.3968e-01,  5.7144e+00,  ..., -3.0806e+00,\n",
      "             2.2670e+00,  1.5980e-01]]]]])\n"
     ]
    }
   ],
   "source": [
    "print(a)\n",
    "print(b)\n",
    "print(torch.einsum('pqrs,tuqvr->pstuv', [a, b]))"
   ],
   "metadata": {
    "collapsed": false,
    "pycharm": {
     "name": "#%%\n"
    }
   }
  },
  {
   "cell_type": "markdown",
   "source": [
    "# 12 双线性变换"
   ],
   "metadata": {
    "collapsed": false,
    "pycharm": {
     "name": "#%% md\n"
    }
   }
  },
  {
   "cell_type": "code",
   "execution_count": 34,
   "outputs": [
    {
     "data": {
      "image/png": "[encoded data removed]",
      "text/plain": "<IPython.core.display.Image object>"
     },
     "execution_count": 34,
     "metadata": {},
     "output_type": "execute_result"
    }
   ],
   "source": [
    "display.Image('../pics/einsum15.png')"
   ],
   "metadata": {
    "collapsed": false,
    "pycharm": {
     "name": "#%%\n"
    }
   }
  },
  {
   "cell_type": "code",
   "execution_count": 35,
   "outputs": [
    {
     "data": {
      "text/plain": "tensor([[-1.0411, -0.9257, -0.2273,  3.1848, -0.3436],\n        [-1.9731,  0.4220,  3.2177, -1.9372,  2.8153]])"
     },
     "execution_count": 35,
     "metadata": {},
     "output_type": "execute_result"
    }
   ],
   "source": [
    "a = torch.randn(2,3)\n",
    "b = torch.randn(5,3,7)\n",
    "c = torch.randn(2,7)\n",
    "torch.einsum('ik,jkl,il->ij', [a, b, c])"
   ],
   "metadata": {
    "collapsed": false,
    "pycharm": {
     "name": "#%%\n"
    }
   }
  },
  {
   "cell_type": "markdown",
   "source": [
    "# 其他案例"
   ],
   "metadata": {
    "collapsed": false,
    "pycharm": {
     "name": "#%% md\n"
    }
   }
  },
  {
   "cell_type": "markdown",
   "source": [
    "### 1TreeQN"
   ],
   "metadata": {
    "collapsed": false,
    "pycharm": {
     "name": "#%% md\n"
    }
   }
  },
  {
   "cell_type": "code",
   "execution_count": 36,
   "outputs": [
    {
     "data": {
      "image/png": "[encoded data removed]",
      "text/plain": "<IPython.core.display.Image object>"
     },
     "execution_count": 36,
     "metadata": {},
     "output_type": "execute_result"
    }
   ],
   "source": [
    "display.Image('../pics/einsum16.png')"
   ],
   "metadata": {
    "collapsed": false,
    "pycharm": {
     "name": "#%%\n"
    }
   }
  },
  {
   "cell_type": "code",
   "execution_count": 37,
   "outputs": [
    {
     "name": "stdout",
     "output_type": "stream",
     "text": [
      "tensor([[-0.5426,  1.1368, -0.1992],\n",
      "        [-0.5014, -2.2054,  1.0608],\n",
      "        [-0.9334,  2.1414, -1.3026],\n",
      "        [ 0.7785, -0.5098, -0.0147],\n",
      "        [ 0.1172,  0.8308, -0.3981]], requires_grad=True)\n",
      "tensor([[[ 0.0423, -2.5183, -1.7754],\n",
      "         [ 0.2519,  0.3001, -0.9720],\n",
      "         [-1.6496, -0.1412,  0.3735]],\n",
      "\n",
      "        [[ 0.4044, -0.0244,  0.7421],\n",
      "         [ 0.0988,  0.1183, -0.9462],\n",
      "         [ 1.0474, -0.0650,  1.2527]],\n",
      "\n",
      "        [[ 0.7466, -0.6504,  0.2956],\n",
      "         [ 0.6422,  0.2846, -0.9657],\n",
      "         [-1.4987,  0.3439, -1.1111]],\n",
      "\n",
      "        [[-1.5468, -0.9301, -0.4109],\n",
      "         [-2.2095, -1.1450, -1.2434],\n",
      "         [ 2.3392,  1.0539, -0.4120]],\n",
      "\n",
      "        [[-0.3645,  0.4431,  0.1449],\n",
      "         [-2.7522,  1.8604,  0.9688],\n",
      "         [-0.3645, -0.6637, -0.8134]]], requires_grad=True)\n",
      "tensor([[ 0.8550, -0.3328, -1.0981],\n",
      "        [-0.0736,  0.3208,  0.7306]])\n"
     ]
    }
   ],
   "source": [
    "import torch.nn.functional as F\n",
    "\n",
    "def random_tensors(shape, num=1, requires_grad=False):\n",
    "  tensors = [torch.randn(shape, requires_grad=requires_grad) for i in range(0, num)]\n",
    "  return tensors[0] if num == 1 else tensors\n",
    "\n",
    "# 参数\n",
    "# -- [激活数 x 隐藏层维度]\n",
    "b = random_tensors([5, 3], requires_grad=True)\n",
    "# -- [激活数 x 隐藏层维度 x 隐藏层维度]\n",
    "W = random_tensors([5, 3, 3], requires_grad=True)\n",
    "print(b)\n",
    "print(W)\n",
    "zl = random_tensors([2, 3])\n",
    "print(zl)"
   ],
   "metadata": {
    "collapsed": false,
    "pycharm": {
     "name": "#%%\n"
    }
   }
  },
  {
   "cell_type": "code",
   "execution_count": 38,
   "outputs": [
    {
     "data": {
      "text/plain": "torch.Size([2, 5, 3])"
     },
     "execution_count": 38,
     "metadata": {},
     "output_type": "execute_result"
    }
   ],
   "source": [
    "torch.einsum(\"bk,aki->bai\", [zl, W]).shape"
   ],
   "metadata": {
    "collapsed": false,
    "pycharm": {
     "name": "#%%\n"
    }
   }
  },
  {
   "cell_type": "code",
   "execution_count": 39,
   "outputs": [
    {
     "name": "stderr",
     "output_type": "stream",
     "text": [
      "C:\\Users\\lenovo\\.conda\\envs\\CLMLF\\lib\\site-packages\\torch\\nn\\functional.py:1628: UserWarning: nn.functional.tanh is deprecated. Use torch.tanh instead.\n",
      "  warnings.warn(\"nn.functional.tanh is deprecated. Use torch.tanh instead.\")\n"
     ]
    },
    {
     "data": {
      "text/plain": "tensor([[[ 1.6949, -1.0775, -2.0453],\n         [-0.0164, -1.3082, -0.5370],\n         [ 1.6684,  0.4724, -0.6427],\n         [-0.1280, -1.3021, -0.6358],\n         [ 1.6631,  0.5339, -0.8099]],\n\n        [[-1.0051,  1.1864,  0.6234],\n         [ 0.1861, -0.6555,  1.6549],\n         [-1.0278,  1.3083, -0.2545],\n         [ 0.8820,  0.2821,  0.1362],\n         [-0.8374,  1.0421,  0.1312]]], grad_fn=<AddBackward0>)"
     },
     "execution_count": 39,
     "metadata": {},
     "output_type": "execute_result"
    }
   ],
   "source": [
    "\n",
    "def transition(zl):\n",
    "    # -- [batch大小 x 激活数 x 隐藏层维度]\n",
    "    return zl.unsqueeze(1) + F.tanh(torch.einsum(\"bk,aki->bai\", [zl, W]) + b)\n",
    "\n",
    "# 随机取样仿造输入\n",
    "# -- [batch大小 x 隐藏层维度]\n",
    "\n",
    "\n",
    "transition(zl)"
   ],
   "metadata": {
    "collapsed": false,
    "pycharm": {
     "name": "#%%\n"
    }
   }
  },
  {
   "cell_type": "markdown",
   "source": [
    "### 2 Attention"
   ],
   "metadata": {
    "collapsed": false,
    "pycharm": {
     "name": "#%% md\n"
    }
   }
  },
  {
   "cell_type": "code",
   "execution_count": 40,
   "outputs": [
    {
     "data": {
      "image/png": "[encoded data removed]",
      "text/plain": "<IPython.core.display.Image object>"
     },
     "execution_count": 40,
     "metadata": {},
     "output_type": "execute_result"
    }
   ],
   "source": [
    "display.Image('../pics/einsum17.png')"
   ],
   "metadata": {
    "collapsed": false,
    "pycharm": {
     "name": "#%%\n"
    }
   }
  },
  {
   "cell_type": "code",
   "execution_count": 41,
   "outputs": [
    {
     "name": "stderr",
     "output_type": "stream",
     "text": [
      "C:\\Users\\lenovo\\.conda\\envs\\CLMLF\\lib\\site-packages\\ipykernel_launcher.py:13: UserWarning: Implicit dimension choice for softmax has been deprecated. Change the call to include dim=X as an argument.\n",
      "  del sys.path[0]\n"
     ]
    }
   ],
   "source": [
    "# 参数\n",
    "# -- [隐藏层维度]\n",
    "bM, br, w = random_tensors([7], num=3, requires_grad=True)\n",
    "# -- [隐藏层维度 x 隐藏层维度]\n",
    "WY, Wh, Wr, Wt = random_tensors([7, 7], num=4, requires_grad=True)\n",
    "\n",
    "# 注意力机制的单次应用\n",
    "def attention(Y, ht, rt1):\n",
    "    # -- [batch大小 x 隐藏层维度]\n",
    "    tmp = torch.einsum(\"ik,kl->il\", [ht, Wh]) + torch.einsum(\"ik,kl->il\", [rt1, Wr])\n",
    "    Mt = F.tanh(torch.einsum(\"ijk,kl->ijl\", [Y, WY]) + tmp.unsqueeze(1).expand_as(Y) + bM)\n",
    "    # -- [batch大小 x 序列长度]\n",
    "    at = F.softmax(torch.einsum(\"ijk,k->ij\", [Mt, w]))\n",
    "    # -- [batch大小 x 隐藏层维度]\n",
    "    rt = torch.einsum(\"ijk,ij->ik\", [Y, at]) + F.tanh(torch.einsum(\"ij,jk->ik\", [rt1, Wt]) + br)\n",
    "    # -- [batch大小 x 隐藏层维度], [batch大小 x 序列维度]\n",
    "    return rt, at\n",
    "\n",
    "# 取样仿造输入\n",
    "# -- [batch大小 x 序列长度 x 隐藏层维度]\n",
    "Y = random_tensors([3, 5, 7])\n",
    "# -- [batch大小 x 隐藏层维度]\n",
    "ht, rt1 = random_tensors([3, 7], num=2)\n",
    "\n",
    "rt, at = attention(Y, ht, rt1)"
   ],
   "metadata": {
    "collapsed": false,
    "pycharm": {
     "name": "#%%\n"
    }
   }
  },
  {
   "cell_type": "code",
   "execution_count": 41,
   "outputs": [],
   "source": [],
   "metadata": {
    "collapsed": false,
    "pycharm": {
     "name": "#%%\n"
    }
   }
  }
 ],
 "metadata": {
  "kernelspec": {
   "display_name": "Python 3",
   "language": "python",
   "name": "python3"
  },
  "language_info": {
   "codemirror_mode": {
    "name": "ipython",
    "version": 2
   },
   "file_extension": ".py",
   "mimetype": "text/x-python",
   "name": "python",
   "nbconvert_exporter": "python",
   "pygments_lexer": "ipython2",
   "version": "2.7.6"
  }
 },
 "nbformat": 4,
 "nbformat_minor": 0
}