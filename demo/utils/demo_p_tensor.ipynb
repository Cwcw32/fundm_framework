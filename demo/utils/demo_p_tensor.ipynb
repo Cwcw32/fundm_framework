{
 "cells": [
  {
   "cell_type": "code",
   "metadata": {
    "collapsed": true,
    "pycharm": {
     "name": "#%%\n"
    }
   },
   "source": [
    "# [https://zhuanlan.zhihu.com/p/548235865]"
   ],
   "execution_count": 3,
   "outputs": []
  },
  {
   "cell_type": "code",
   "execution_count": null,
   "outputs": [],
   "source": [
    "import torch"
   ],
   "metadata": {
    "collapsed": false,
    "pycharm": {
     "name": "#%%\n"
    }
   }
  },
  {
   "cell_type": "markdown",
   "source": [
    "# 维度转换"
   ],
   "metadata": {
    "collapsed": false,
    "pycharm": {
     "name": "#%% md\n"
    }
   }
  },
  {
   "cell_type": "code",
   "execution_count": null,
   "outputs": [],
   "source": [
    "# torch.view(shape)：新旧张量数据元素相同，但是尺寸不同"
   ],
   "metadata": {
    "collapsed": false,
    "pycharm": {
     "name": "#%%\n"
    }
   }
  },
  {
   "cell_type": "code",
   "execution_count": 2,
   "outputs": [
    {
     "name": "stdout",
     "output_type": "stream",
     "text": [
      "torch.Size([4, 4, 2])\n",
      "torch.Size([2, 16])\n",
      "torch.Size([8, 4])\n"
     ]
    },
    {
     "ename": "RuntimeError",
     "evalue": "shape '[8, 3]' is invalid for input of size 32",
     "output_type": "error",
     "traceback": [
      "\u001B[1;31m---------------------------------------------------------------------------\u001B[0m",
      "\u001B[1;31mRuntimeError\u001B[0m                              Traceback (most recent call last)",
      "\u001B[1;32m<ipython-input-2-867a24a9c959>\u001B[0m in \u001B[0;36m<module>\u001B[1;34m\u001B[0m\n\u001B[0;32m      5\u001B[0m \u001B[0ma\u001B[0m \u001B[1;33m=\u001B[0m \u001B[0ma\u001B[0m\u001B[1;33m.\u001B[0m\u001B[0mview\u001B[0m\u001B[1;33m(\u001B[0m\u001B[1;36m8\u001B[0m\u001B[1;33m,\u001B[0m \u001B[1;33m-\u001B[0m\u001B[1;36m1\u001B[0m\u001B[1;33m)\u001B[0m\u001B[1;33m\u001B[0m\u001B[1;33m\u001B[0m\u001B[0m\n\u001B[0;32m      6\u001B[0m \u001B[0mprint\u001B[0m\u001B[1;33m(\u001B[0m\u001B[0ma\u001B[0m\u001B[1;33m.\u001B[0m\u001B[0msize\u001B[0m\u001B[1;33m(\u001B[0m\u001B[1;33m)\u001B[0m\u001B[1;33m)\u001B[0m     \u001B[1;31m# torch.Size([8, 4])\u001B[0m\u001B[1;33m\u001B[0m\u001B[1;33m\u001B[0m\u001B[0m\n\u001B[1;32m----> 7\u001B[1;33m \u001B[0ma\u001B[0m \u001B[1;33m=\u001B[0m \u001B[0ma\u001B[0m\u001B[1;33m.\u001B[0m\u001B[0mview\u001B[0m\u001B[1;33m(\u001B[0m\u001B[1;36m8\u001B[0m\u001B[1;33m,\u001B[0m \u001B[1;36m3\u001B[0m\u001B[1;33m)\u001B[0m\u001B[1;33m\u001B[0m\u001B[1;33m\u001B[0m\u001B[0m\n\u001B[0m\u001B[0;32m      8\u001B[0m \u001B[0mprint\u001B[0m\u001B[1;33m(\u001B[0m\u001B[0ma\u001B[0m\u001B[1;33m.\u001B[0m\u001B[0msize\u001B[0m\u001B[1;33m(\u001B[0m\u001B[1;33m)\u001B[0m\u001B[1;33m)\u001B[0m     \u001B[1;31m# RuntimeError: shape '[8, 3]' is invalid for input of size 32\u001B[0m\u001B[1;33m\u001B[0m\u001B[1;33m\u001B[0m\u001B[0m\n",
      "\u001B[1;31mRuntimeError\u001B[0m: shape '[8, 3]' is invalid for input of size 32"
     ]
    }
   ],
   "source": [
    "\n",
    "a = torch.randn(4, 4, 2)\n",
    "print(a.size())     # torch.Size([4, 4, 2])\n",
    "a = a.view(2, 16)\n",
    "print(a.size())     # torch.Size([2, 16])\n",
    "a = a.view(8, -1)\n",
    "print(a.size())     # torch.Size([8, 4])\n",
    "a = a.view(8, 3)\n",
    "print(a.size())     # RuntimeError: shape '[8, 3]' is invalid for input of size 32"
   ],
   "metadata": {
    "collapsed": false,
    "pycharm": {
     "name": "#%%\n"
    }
   }
  },
  {
   "cell_type": "markdown",
   "source": [
    "#  维度压缩"
   ],
   "metadata": {
    "collapsed": false,
    "pycharm": {
     "name": "#%% md\n"
    }
   }
  },
  {
   "cell_type": "code",
   "execution_count": null,
   "outputs": [],
   "source": [
    "# input (Tensor) – 输入张量\n",
    "# dim (int, optional) – 如果给定，则只会在给定维度压缩\n",
    "# out (Tensor, optional) – 输出张量"
   ],
   "metadata": {
    "collapsed": false,
    "pycharm": {
     "name": "#%%\n"
    }
   }
  },
  {
   "cell_type": "code",
   "execution_count": 4,
   "outputs": [
    {
     "name": "stdout",
     "output_type": "stream",
     "text": [
      "torch.Size([4, 4, 2])\n",
      "torch.Size([4, 4, 2, 1])\n",
      "torch.Size([4, 4, 1, 2, 1])\n"
     ]
    }
   ],
   "source": [
    "a = torch.randn(4, 4, 1, 2, 1)\n",
    "a = torch.squeeze(a)\n",
    "print(a.size())     # torch.Size([4, 4, 2])\n",
    "\n",
    "a = torch.randn(4, 4, 1, 2, 1)\n",
    "a = torch.squeeze(a, dim=2)\n",
    "print(a.size())     # torch.Size([4, 4, 2, 1])\n",
    "\n",
    "a = torch.randn(4, 4, 1, 2, 1)\n",
    "a = torch.squeeze(a, dim=1)\n",
    "print(a.size())     # torch.Size([4, 4, 1, 2, 1])\n",
    "\n",
    "a = torch.randn(4, 4, 1, 2, 1)\n",
    "a = torch.squeeze(a, dim=0)\n",
    "print(a.size())     # torch.Size([4, 4, 1, 2, 1])"
   ],
   "metadata": {
    "collapsed": false,
    "pycharm": {
     "name": "#%%\n"
    }
   }
  },
  {
   "cell_type": "markdown",
   "source": [
    "# 维度扩展"
   ],
   "metadata": {
    "collapsed": false,
    "pycharm": {
     "name": "#%% md\n"
    }
   }
  },
  {
   "cell_type": "code",
   "execution_count": null,
   "outputs": [],
   "source": [
    "# tensor (Tensor) – 输入张量\n",
    "# dim (int) – 插入维度的索引\n",
    "# out (Tensor, optional) – 输出张量"
   ],
   "metadata": {
    "collapsed": false,
    "pycharm": {
     "name": "#%%\n"
    }
   }
  },
  {
   "cell_type": "code",
   "execution_count": 5,
   "outputs": [
    {
     "name": "stdout",
     "output_type": "stream",
     "text": [
      "torch.Size([4, 4, 2])\n",
      "torch.Size([4, 1, 4, 2])\n"
     ]
    }
   ],
   "source": [
    "a = torch.randn(4, 4, 2)\n",
    "print(a.size())     # torch.Size([4, 4, 2])\n",
    "a = torch.unsqueeze(a, dim=1)\n",
    "print(a.size())     # torch.Size([4, 1, 4, 2])"
   ],
   "metadata": {
    "collapsed": false,
    "pycharm": {
     "name": "#%%\n"
    }
   }
  },
  {
   "cell_type": "markdown",
   "source": [
    "# 维度填充"
   ],
   "metadata": {
    "collapsed": false,
    "pycharm": {
     "name": "#%% md\n"
    }
   }
  },
  {
   "cell_type": "code",
   "execution_count": null,
   "outputs": [],
   "source": [
    "# pad - 扩充维度，预先定义出某维度上的扩充参数（具体见示例）\n",
    "# mode - 扩充方法：'constant', 'reflect' 和 'replicate' 三种模式，分别表示常量，反射，复制\n",
    "# value - 扩充时指定补充值，仅在 mode = 'constant' 时有效"
   ],
   "metadata": {
    "collapsed": false,
    "pycharm": {
     "name": "#%%\n"
    }
   }
  },
  {
   "cell_type": "code",
   "execution_count": 7,
   "outputs": [
    {
     "name": "stdout",
     "output_type": "stream",
     "text": [
      "tensor([[[0.],\n",
      "         [0.]],\n",
      "\n",
      "        [[0.],\n",
      "         [0.]]])\n",
      "torch.Size([2, 2, 1])\n",
      "tensor([[[1., 0., 1., 1.],\n",
      "         [1., 0., 1., 1.]],\n",
      "\n",
      "        [[1., 0., 1., 1.],\n",
      "         [1., 0., 1., 1.]]])\n",
      "torch.Size([2, 2, 4])\n",
      "tensor([[[1., 1., 1., 1.],\n",
      "         [1., 1., 1., 1.],\n",
      "         [1., 0., 1., 1.],\n",
      "         [1., 0., 1., 1.],\n",
      "         [1., 1., 1., 1.]],\n",
      "\n",
      "        [[1., 1., 1., 1.],\n",
      "         [1., 1., 1., 1.],\n",
      "         [1., 0., 1., 1.],\n",
      "         [1., 0., 1., 1.],\n",
      "         [1., 1., 1., 1.]]])\n",
      "torch.Size([2, 5, 4])\n",
      "tensor([[[1., 1., 1., 1.],\n",
      "         [1., 1., 1., 1.],\n",
      "         [1., 1., 1., 1.],\n",
      "         [1., 1., 1., 1.],\n",
      "         [1., 1., 1., 1.]],\n",
      "\n",
      "        [[1., 1., 1., 1.],\n",
      "         [1., 1., 1., 1.],\n",
      "         [1., 0., 1., 1.],\n",
      "         [1., 0., 1., 1.],\n",
      "         [1., 1., 1., 1.]],\n",
      "\n",
      "        [[1., 1., 1., 1.],\n",
      "         [1., 1., 1., 1.],\n",
      "         [1., 0., 1., 1.],\n",
      "         [1., 0., 1., 1.],\n",
      "         [1., 1., 1., 1.]],\n",
      "\n",
      "        [[1., 1., 1., 1.],\n",
      "         [1., 1., 1., 1.],\n",
      "         [1., 1., 1., 1.],\n",
      "         [1., 1., 1., 1.],\n",
      "         [1., 1., 1., 1.]]])\n",
      "torch.Size([4, 5, 4])\n"
     ]
    }
   ],
   "source": [
    "import torch.nn.functional as F\n",
    "\n",
    "a = torch.zeros(2, 2, 1)\n",
    "print(a)\n",
    "# tensor([[[0.],\n",
    "#          [0.]],\n",
    "#         [[0.],\n",
    "#          [0.]]])\n",
    "print(a.size())\n",
    "# torch.Size([2, 2, 1])\n",
    "\n",
    "a = torch.zeros(2, 2, 1)\n",
    "a = F.pad(a, pad=(1, 2), mode='constant', value=1)  # 在倒数第一个维度上，左边填充 1 个维数，右边填充 2 个维数\n",
    "print(a)\n",
    "# tensor([[[1., 0., 1., 1.],\n",
    "#          [1., 0., 1., 1.]],\n",
    "#         [[1., 0., 1., 1.],\n",
    "#          [1., 0., 1., 1.]]])\n",
    "print(a.size())\n",
    "# torch.Size([2, 2, 4])\n",
    "\n",
    "a = torch.zeros(2, 2, 1)\n",
    "a = F.pad(a, pad=(1, 2, 2, 1), mode='constant', value=1)    # 在倒数第一个维度上，左边填充 1 个维数，右边填充 2 个维数；在倒数第二个维度上，左边填充 2 个维数，右边填充 1 个维数\n",
    "print(a)\n",
    "# tensor([[[1., 1., 1., 1.],\n",
    "#          [1., 1., 1., 1.],\n",
    "#          [1., 0., 1., 1.],\n",
    "#          [1., 0., 1., 1.],\n",
    "#          [1., 1., 1., 1.]],\n",
    "#         [[1., 1., 1., 1.],\n",
    "#          [1., 1., 1., 1.],\n",
    "#          [1., 0., 1., 1.],\n",
    "#          [1., 0., 1., 1.],\n",
    "#          [1., 1., 1., 1.]]])\n",
    "print(a.size())\n",
    "# torch.Size([2, 5, 4])\n",
    "\n",
    "a = torch.zeros(2, 2, 1)\n",
    "a = F.pad(a, pad=(1, 2, 2, 1,1,1), mode='constant', value=1)    # 在倒数第一个维度上，左边填充 1 个维数，右边填充 2 个维数；在倒数第二个维度上，左边填充 2 个维数，右边填充 1 个维数\n",
    "# 在倒数第一个维度上，左边填充 1 个维数，右边填充 2 个维数；在倒数第二个维度上，左边填充 2 个维数，右边填充 1 个维数;在倒数第二个维度上，左边填充 1 个维数，右边填充 1 个维数\n",
    "print(a)\n",
    "# tensor([[[1., 1., 1., 1.],\n",
    "#          [1., 1., 1., 1.],\n",
    "#          [1., 1., 1., 1.],\n",
    "#          [1., 1., 1., 1.],\n",
    "#          [1., 1., 1., 1.]],\n",
    "#\n",
    "#         [[1., 1., 1., 1.],\n",
    "#          [1., 1., 1., 1.],\n",
    "#          [1., 0., 1., 1.],\n",
    "#          [1., 0., 1., 1.],\n",
    "#          [1., 1., 1., 1.]],\n",
    "#\n",
    "#         [[1., 1., 1., 1.],\n",
    "#          [1., 1., 1., 1.],\n",
    "#          [1., 0., 1., 1.],\n",
    "#          [1., 0., 1., 1.],\n",
    "#          [1., 1., 1., 1.]],\n",
    "#\n",
    "#         [[1., 1., 1., 1.],\n",
    "#          [1., 1., 1., 1.],\n",
    "#          [1., 1., 1., 1.],\n",
    "#          [1., 1., 1., 1.],\n",
    "#          [1., 1., 1., 1.]]])\n",
    "# torch.Size([4, 5, 4])\n",
    "print(a.size())\n",
    "# torch.Size([4, 5, 4])"
   ],
   "metadata": {
    "collapsed": false,
    "pycharm": {
     "name": "#%%\n"
    }
   }
  },
  {
   "cell_type": "code",
   "execution_count": null,
   "outputs": [],
   "source": [],
   "metadata": {
    "collapsed": false,
    "pycharm": {
     "name": "#%%\n"
    }
   }
  }
 ],
 "metadata": {
  "kernelspec": {
   "display_name": "Python 3",
   "language": "python",
   "name": "python3"
  },
  "language_info": {
   "codemirror_mode": {
    "name": "ipython",
    "version": 2
   },
   "file_extension": ".py",
   "mimetype": "text/x-python",
   "name": "python",
   "nbconvert_exporter": "python",
   "pygments_lexer": "ipython2",
   "version": "2.7.6"
  }
 },
 "nbformat": 4,
 "nbformat_minor": 0
}