{
 "cells": [
  {
   "cell_type": "code",
   "execution_count": 108,
   "metadata": {
    "collapsed": true
   },
   "outputs": [],
   "source": [
    "from sklearn.datasets import load_iris\n",
    "from sklearn.model_selection import train_test_split\n",
    "import numpy as np\n",
    "import matplotlib.pyplot as plt\n",
    "from collections import Counter\n",
    "from math import log"
   ]
  },
  {
   "cell_type": "code",
   "execution_count": 109,
   "outputs": [],
   "source": [
    "iris = load_iris()\n",
    "x = iris.data\n",
    "y = iris.target\n",
    "x_train, x_test, y_train, y_test = train_test_split(x, y, test_size=0.2, random_state=666666)"
   ],
   "metadata": {
    "collapsed": false,
    "pycharm": {
     "name": "#%%\n"
    }
   }
  },
  {
   "cell_type": "code",
   "execution_count": 110,
   "outputs": [
    {
     "data": {
      "text/plain": "{'data': array([[5.1, 3.5, 1.4, 0.2],\n        [4.9, 3. , 1.4, 0.2],\n        [4.7, 3.2, 1.3, 0.2],\n        [4.6, 3.1, 1.5, 0.2],\n        [5. , 3.6, 1.4, 0.2],\n        [5.4, 3.9, 1.7, 0.4],\n        [4.6, 3.4, 1.4, 0.3],\n        [5. , 3.4, 1.5, 0.2],\n        [4.4, 2.9, 1.4, 0.2],\n        [4.9, 3.1, 1.5, 0.1],\n        [5.4, 3.7, 1.5, 0.2],\n        [4.8, 3.4, 1.6, 0.2],\n        [4.8, 3. , 1.4, 0.1],\n        [4.3, 3. , 1.1, 0.1],\n        [5.8, 4. , 1.2, 0.2],\n        [5.7, 4.4, 1.5, 0.4],\n        [5.4, 3.9, 1.3, 0.4],\n        [5.1, 3.5, 1.4, 0.3],\n        [5.7, 3.8, 1.7, 0.3],\n        [5.1, 3.8, 1.5, 0.3],\n        [5.4, 3.4, 1.7, 0.2],\n        [5.1, 3.7, 1.5, 0.4],\n        [4.6, 3.6, 1. , 0.2],\n        [5.1, 3.3, 1.7, 0.5],\n        [4.8, 3.4, 1.9, 0.2],\n        [5. , 3. , 1.6, 0.2],\n        [5. , 3.4, 1.6, 0.4],\n        [5.2, 3.5, 1.5, 0.2],\n        [5.2, 3.4, 1.4, 0.2],\n        [4.7, 3.2, 1.6, 0.2],\n        [4.8, 3.1, 1.6, 0.2],\n        [5.4, 3.4, 1.5, 0.4],\n        [5.2, 4.1, 1.5, 0.1],\n        [5.5, 4.2, 1.4, 0.2],\n        [4.9, 3.1, 1.5, 0.2],\n        [5. , 3.2, 1.2, 0.2],\n        [5.5, 3.5, 1.3, 0.2],\n        [4.9, 3.6, 1.4, 0.1],\n        [4.4, 3. , 1.3, 0.2],\n        [5.1, 3.4, 1.5, 0.2],\n        [5. , 3.5, 1.3, 0.3],\n        [4.5, 2.3, 1.3, 0.3],\n        [4.4, 3.2, 1.3, 0.2],\n        [5. , 3.5, 1.6, 0.6],\n        [5.1, 3.8, 1.9, 0.4],\n        [4.8, 3. , 1.4, 0.3],\n        [5.1, 3.8, 1.6, 0.2],\n        [4.6, 3.2, 1.4, 0.2],\n        [5.3, 3.7, 1.5, 0.2],\n        [5. , 3.3, 1.4, 0.2],\n        [7. , 3.2, 4.7, 1.4],\n        [6.4, 3.2, 4.5, 1.5],\n        [6.9, 3.1, 4.9, 1.5],\n        [5.5, 2.3, 4. , 1.3],\n        [6.5, 2.8, 4.6, 1.5],\n        [5.7, 2.8, 4.5, 1.3],\n        [6.3, 3.3, 4.7, 1.6],\n        [4.9, 2.4, 3.3, 1. ],\n        [6.6, 2.9, 4.6, 1.3],\n        [5.2, 2.7, 3.9, 1.4],\n        [5. , 2. , 3.5, 1. ],\n        [5.9, 3. , 4.2, 1.5],\n        [6. , 2.2, 4. , 1. ],\n        [6.1, 2.9, 4.7, 1.4],\n        [5.6, 2.9, 3.6, 1.3],\n        [6.7, 3.1, 4.4, 1.4],\n        [5.6, 3. , 4.5, 1.5],\n        [5.8, 2.7, 4.1, 1. ],\n        [6.2, 2.2, 4.5, 1.5],\n        [5.6, 2.5, 3.9, 1.1],\n        [5.9, 3.2, 4.8, 1.8],\n        [6.1, 2.8, 4. , 1.3],\n        [6.3, 2.5, 4.9, 1.5],\n        [6.1, 2.8, 4.7, 1.2],\n        [6.4, 2.9, 4.3, 1.3],\n        [6.6, 3. , 4.4, 1.4],\n        [6.8, 2.8, 4.8, 1.4],\n        [6.7, 3. , 5. , 1.7],\n        [6. , 2.9, 4.5, 1.5],\n        [5.7, 2.6, 3.5, 1. ],\n        [5.5, 2.4, 3.8, 1.1],\n        [5.5, 2.4, 3.7, 1. ],\n        [5.8, 2.7, 3.9, 1.2],\n        [6. , 2.7, 5.1, 1.6],\n        [5.4, 3. , 4.5, 1.5],\n        [6. , 3.4, 4.5, 1.6],\n        [6.7, 3.1, 4.7, 1.5],\n        [6.3, 2.3, 4.4, 1.3],\n        [5.6, 3. , 4.1, 1.3],\n        [5.5, 2.5, 4. , 1.3],\n        [5.5, 2.6, 4.4, 1.2],\n        [6.1, 3. , 4.6, 1.4],\n        [5.8, 2.6, 4. , 1.2],\n        [5. , 2.3, 3.3, 1. ],\n        [5.6, 2.7, 4.2, 1.3],\n        [5.7, 3. , 4.2, 1.2],\n        [5.7, 2.9, 4.2, 1.3],\n        [6.2, 2.9, 4.3, 1.3],\n        [5.1, 2.5, 3. , 1.1],\n        [5.7, 2.8, 4.1, 1.3],\n        [6.3, 3.3, 6. , 2.5],\n        [5.8, 2.7, 5.1, 1.9],\n        [7.1, 3. , 5.9, 2.1],\n        [6.3, 2.9, 5.6, 1.8],\n        [6.5, 3. , 5.8, 2.2],\n        [7.6, 3. , 6.6, 2.1],\n        [4.9, 2.5, 4.5, 1.7],\n        [7.3, 2.9, 6.3, 1.8],\n        [6.7, 2.5, 5.8, 1.8],\n        [7.2, 3.6, 6.1, 2.5],\n        [6.5, 3.2, 5.1, 2. ],\n        [6.4, 2.7, 5.3, 1.9],\n        [6.8, 3. , 5.5, 2.1],\n        [5.7, 2.5, 5. , 2. ],\n        [5.8, 2.8, 5.1, 2.4],\n        [6.4, 3.2, 5.3, 2.3],\n        [6.5, 3. , 5.5, 1.8],\n        [7.7, 3.8, 6.7, 2.2],\n        [7.7, 2.6, 6.9, 2.3],\n        [6. , 2.2, 5. , 1.5],\n        [6.9, 3.2, 5.7, 2.3],\n        [5.6, 2.8, 4.9, 2. ],\n        [7.7, 2.8, 6.7, 2. ],\n        [6.3, 2.7, 4.9, 1.8],\n        [6.7, 3.3, 5.7, 2.1],\n        [7.2, 3.2, 6. , 1.8],\n        [6.2, 2.8, 4.8, 1.8],\n        [6.1, 3. , 4.9, 1.8],\n        [6.4, 2.8, 5.6, 2.1],\n        [7.2, 3. , 5.8, 1.6],\n        [7.4, 2.8, 6.1, 1.9],\n        [7.9, 3.8, 6.4, 2. ],\n        [6.4, 2.8, 5.6, 2.2],\n        [6.3, 2.8, 5.1, 1.5],\n        [6.1, 2.6, 5.6, 1.4],\n        [7.7, 3. , 6.1, 2.3],\n        [6.3, 3.4, 5.6, 2.4],\n        [6.4, 3.1, 5.5, 1.8],\n        [6. , 3. , 4.8, 1.8],\n        [6.9, 3.1, 5.4, 2.1],\n        [6.7, 3.1, 5.6, 2.4],\n        [6.9, 3.1, 5.1, 2.3],\n        [5.8, 2.7, 5.1, 1.9],\n        [6.8, 3.2, 5.9, 2.3],\n        [6.7, 3.3, 5.7, 2.5],\n        [6.7, 3. , 5.2, 2.3],\n        [6.3, 2.5, 5. , 1.9],\n        [6.5, 3. , 5.2, 2. ],\n        [6.2, 3.4, 5.4, 2.3],\n        [5.9, 3. , 5.1, 1.8]]),\n 'target': array([0, 0, 0, 0, 0, 0, 0, 0, 0, 0, 0, 0, 0, 0, 0, 0, 0, 0, 0, 0, 0, 0,\n        0, 0, 0, 0, 0, 0, 0, 0, 0, 0, 0, 0, 0, 0, 0, 0, 0, 0, 0, 0, 0, 0,\n        0, 0, 0, 0, 0, 0, 1, 1, 1, 1, 1, 1, 1, 1, 1, 1, 1, 1, 1, 1, 1, 1,\n        1, 1, 1, 1, 1, 1, 1, 1, 1, 1, 1, 1, 1, 1, 1, 1, 1, 1, 1, 1, 1, 1,\n        1, 1, 1, 1, 1, 1, 1, 1, 1, 1, 1, 1, 2, 2, 2, 2, 2, 2, 2, 2, 2, 2,\n        2, 2, 2, 2, 2, 2, 2, 2, 2, 2, 2, 2, 2, 2, 2, 2, 2, 2, 2, 2, 2, 2,\n        2, 2, 2, 2, 2, 2, 2, 2, 2, 2, 2, 2, 2, 2, 2, 2, 2, 2]),\n 'frame': None,\n 'target_names': array(['setosa', 'versicolor', 'virginica'], dtype='<U10'),\n 'DESCR': '.. _iris_dataset:\\n\\nIris plants dataset\\n--------------------\\n\\n**Data Set Characteristics:**\\n\\n    :Number of Instances: 150 (50 in each of three classes)\\n    :Number of Attributes: 4 numeric, predictive attributes and the class\\n    :Attribute Information:\\n        - sepal length in cm\\n        - sepal width in cm\\n        - petal length in cm\\n        - petal width in cm\\n        - class:\\n                - Iris-Setosa\\n                - Iris-Versicolour\\n                - Iris-Virginica\\n                \\n    :Summary Statistics:\\n\\n    ============== ==== ==== ======= ===== ====================\\n                    Min  Max   Mean    SD   Class Correlation\\n    ============== ==== ==== ======= ===== ====================\\n    sepal length:   4.3  7.9   5.84   0.83    0.7826\\n    sepal width:    2.0  4.4   3.05   0.43   -0.4194\\n    petal length:   1.0  6.9   3.76   1.76    0.9490  (high!)\\n    petal width:    0.1  2.5   1.20   0.76    0.9565  (high!)\\n    ============== ==== ==== ======= ===== ====================\\n\\n    :Missing Attribute Values: None\\n    :Class Distribution: 33.3% for each of 3 classes.\\n    :Creator: R.A. Fisher\\n    :Donor: Michael Marshall (MARSHALL%PLU@io.arc.nasa.gov)\\n    :Date: July, 1988\\n\\nThe famous Iris database, first used by Sir R.A. Fisher. The dataset is taken\\nfrom Fisher\\'s paper. Note that it\\'s the same as in R, but not as in the UCI\\nMachine Learning Repository, which has two wrong data points.\\n\\nThis is perhaps the best known database to be found in the\\npattern recognition literature.  Fisher\\'s paper is a classic in the field and\\nis referenced frequently to this day.  (See Duda & Hart, for example.)  The\\ndata set contains 3 classes of 50 instances each, where each class refers to a\\ntype of iris plant.  One class is linearly separable from the other 2; the\\nlatter are NOT linearly separable from each other.\\n\\n.. topic:: References\\n\\n   - Fisher, R.A. \"The use of multiple measurements in taxonomic problems\"\\n     Annual Eugenics, 7, Part II, 179-188 (1936); also in \"Contributions to\\n     Mathematical Statistics\" (John Wiley, NY, 1950).\\n   - Duda, R.O., & Hart, P.E. (1973) Pattern Classification and Scene Analysis.\\n     (Q327.D83) John Wiley & Sons.  ISBN 0-471-22361-1.  See page 218.\\n   - Dasarathy, B.V. (1980) \"Nosing Around the Neighborhood: A New System\\n     Structure and Classification Rule for Recognition in Partially Exposed\\n     Environments\".  IEEE Transactions on Pattern Analysis and Machine\\n     Intelligence, Vol. PAMI-2, No. 1, 67-71.\\n   - Gates, G.W. (1972) \"The Reduced Nearest Neighbor Rule\".  IEEE Transactions\\n     on Information Theory, May 1972, 431-433.\\n   - See also: 1988 MLC Proceedings, 54-64.  Cheeseman et al\"s AUTOCLASS II\\n     conceptual clustering system finds 3 classes in the data.\\n   - Many, many more ...',\n 'feature_names': ['sepal length (cm)',\n  'sepal width (cm)',\n  'petal length (cm)',\n  'petal width (cm)'],\n 'filename': 'f:\\\\anaconda\\\\envs\\\\clm2\\\\lib\\\\site-packages\\\\sklearn\\\\datasets\\\\data\\\\iris.csv'}"
     },
     "execution_count": 110,
     "metadata": {},
     "output_type": "execute_result"
    }
   ],
   "source": [
    "iris"
   ],
   "metadata": {
    "collapsed": false,
    "pycharm": {
     "name": "#%%\n"
    }
   }
  },
  {
   "cell_type": "code",
   "execution_count": 110,
   "outputs": [],
   "source": [],
   "metadata": {
    "collapsed": false,
    "pycharm": {
     "name": "#%%\n"
    }
   }
  },
  {
   "cell_type": "code",
   "execution_count": 110,
   "outputs": [],
   "source": [],
   "metadata": {
    "collapsed": false,
    "pycharm": {
     "name": "#%%\n"
    }
   }
  },
  {
   "cell_type": "code",
   "execution_count": 111,
   "outputs": [],
   "source": [
    "# 决策树算法\n",
    "# 输入 一个例子集（目前不考虑确实某种属性值的问题）-> string （代表的是对应的csv文件的路径）\n",
    "# 输出 对应的决策树（使用ID3算法直接进行构建，所以不用考虑一堆树的情况）\n",
    "# 算法的过程详见书或其他资料\n",
    "import pandas as pd\n",
    "class DecisionTree():\n",
    "    def __init__(self,csv_path):\n",
    "        self.data=pd.read_csv(csv_path)# 保留对应的csv文件（这里要考虑一下格式相关的转化）\n",
    "        \"\"\"\n",
    "        如   a   b      c\n",
    "         1   A1  B1     Y\n",
    "         2   A2  B2     N\n",
    "        \"\"\"\n"
   ],
   "metadata": {
    "collapsed": false,
    "pycharm": {
     "name": "#%%\n"
    }
   }
  },
  {
   "cell_type": "code",
   "execution_count": 112,
   "outputs": [],
   "source": [
    "import pandas as pd\n",
    "data=pd.read_csv('../../dataset/id3_example.csv',encoding='unicode_escape')"
   ],
   "metadata": {
    "collapsed": false,
    "pycharm": {
     "name": "#%%\n"
    }
   }
  },
  {
   "cell_type": "code",
   "execution_count": 113,
   "outputs": [
    {
     "data": {
      "text/plain": "    Day   Outlook Temperature Humidity   Wind Class\n0     1     Sunny         Hot     High  False     N\n1     2     Sunny         Hot     High   True     N\n2     3  Overcast         Hot     High  False     P\n3     4      Rain        Mild     High  False     P\n4     5      Rain        Cool   Normal  False     P\n5     6      Rain        Cool   Normal   True     N\n6     7  Overcast        Cool   Normal   True     P\n7     8     Sunny        Mild     High  False     N\n8     9     Sunny        Cool   Normal  False     P\n9    10      Rain        Mild   Normal  False     P\n10   11     Sunny        Mild   Normal   True     P\n11   12  Overcast        Mild     High   True     P\n12   13  Overcast         Hot   Normal  False     P\n13   14      Rain        Mild     High   True     N",
      "text/html": "<div>\n<style scoped>\n    .dataframe tbody tr th:only-of-type {\n        vertical-align: middle;\n    }\n\n    .dataframe tbody tr th {\n        vertical-align: top;\n    }\n\n    .dataframe thead th {\n        text-align: right;\n    }\n</style>\n<table border=\"1\" class=\"dataframe\">\n  <thead>\n    <tr style=\"text-align: right;\">\n      <th></th>\n      <th>Day</th>\n      <th>Outlook</th>\n      <th>Temperature</th>\n      <th>Humidity</th>\n      <th>Wind</th>\n      <th>Class</th>\n    </tr>\n  </thead>\n  <tbody>\n    <tr>\n      <th>0</th>\n      <td>1</td>\n      <td>Sunny</td>\n      <td>Hot</td>\n      <td>High</td>\n      <td>False</td>\n      <td>N</td>\n    </tr>\n    <tr>\n      <th>1</th>\n      <td>2</td>\n      <td>Sunny</td>\n      <td>Hot</td>\n      <td>High</td>\n      <td>True</td>\n      <td>N</td>\n    </tr>\n    <tr>\n      <th>2</th>\n      <td>3</td>\n      <td>Overcast</td>\n      <td>Hot</td>\n      <td>High</td>\n      <td>False</td>\n      <td>P</td>\n    </tr>\n    <tr>\n      <th>3</th>\n      <td>4</td>\n      <td>Rain</td>\n      <td>Mild</td>\n      <td>High</td>\n      <td>False</td>\n      <td>P</td>\n    </tr>\n    <tr>\n      <th>4</th>\n      <td>5</td>\n      <td>Rain</td>\n      <td>Cool</td>\n      <td>Normal</td>\n      <td>False</td>\n      <td>P</td>\n    </tr>\n    <tr>\n      <th>5</th>\n      <td>6</td>\n      <td>Rain</td>\n      <td>Cool</td>\n      <td>Normal</td>\n      <td>True</td>\n      <td>N</td>\n    </tr>\n    <tr>\n      <th>6</th>\n      <td>7</td>\n      <td>Overcast</td>\n      <td>Cool</td>\n      <td>Normal</td>\n      <td>True</td>\n      <td>P</td>\n    </tr>\n    <tr>\n      <th>7</th>\n      <td>8</td>\n      <td>Sunny</td>\n      <td>Mild</td>\n      <td>High</td>\n      <td>False</td>\n      <td>N</td>\n    </tr>\n    <tr>\n      <th>8</th>\n      <td>9</td>\n      <td>Sunny</td>\n      <td>Cool</td>\n      <td>Normal</td>\n      <td>False</td>\n      <td>P</td>\n    </tr>\n    <tr>\n      <th>9</th>\n      <td>10</td>\n      <td>Rain</td>\n      <td>Mild</td>\n      <td>Normal</td>\n      <td>False</td>\n      <td>P</td>\n    </tr>\n    <tr>\n      <th>10</th>\n      <td>11</td>\n      <td>Sunny</td>\n      <td>Mild</td>\n      <td>Normal</td>\n      <td>True</td>\n      <td>P</td>\n    </tr>\n    <tr>\n      <th>11</th>\n      <td>12</td>\n      <td>Overcast</td>\n      <td>Mild</td>\n      <td>High</td>\n      <td>True</td>\n      <td>P</td>\n    </tr>\n    <tr>\n      <th>12</th>\n      <td>13</td>\n      <td>Overcast</td>\n      <td>Hot</td>\n      <td>Normal</td>\n      <td>False</td>\n      <td>P</td>\n    </tr>\n    <tr>\n      <th>13</th>\n      <td>14</td>\n      <td>Rain</td>\n      <td>Mild</td>\n      <td>High</td>\n      <td>True</td>\n      <td>N</td>\n    </tr>\n  </tbody>\n</table>\n</div>"
     },
     "execution_count": 113,
     "metadata": {},
     "output_type": "execute_result"
    }
   ],
   "source": [
    "data"
   ],
   "metadata": {
    "collapsed": false,
    "pycharm": {
     "name": "#%%\n"
    }
   }
  },
  {
   "cell_type": "code",
   "execution_count": 114,
   "outputs": [],
   "source": [
    "# ① 首先选定哪一个标签为最后的分类，这里我们以最后一个作为例子\n",
    "y_label='Class'"
   ],
   "metadata": {
    "collapsed": false,
    "pycharm": {
     "name": "#%%\n"
    }
   }
  },
  {
   "cell_type": "code",
   "execution_count": 115,
   "outputs": [],
   "source": [
    "from collections import Counter"
   ],
   "metadata": {
    "collapsed": false,
    "pycharm": {
     "name": "#%%\n"
    }
   }
  },
  {
   "cell_type": "code",
   "execution_count": 116,
   "outputs": [
    {
     "data": {
      "text/plain": "Counter({'N': 5, 'P': 9})"
     },
     "execution_count": 116,
     "metadata": {},
     "output_type": "execute_result"
    }
   ],
   "source": [
    "# 看一下对应的分布\n",
    "Counter(data[y_label])"
   ],
   "metadata": {
    "collapsed": false,
    "pycharm": {
     "name": "#%%\n"
    }
   }
  },
  {
   "cell_type": "code",
   "execution_count": 117,
   "outputs": [],
   "source": [
    "# 接着我们先用递归算法进行一个简单的决策树构建\n"
   ],
   "metadata": {
    "collapsed": false,
    "pycharm": {
     "name": "#%%\n"
    }
   }
  },
  {
   "cell_type": "code",
   "execution_count": 118,
   "outputs": [
    {
     "data": {
      "text/plain": "Counter({'Sunny': 5, 'Overcast': 4, 'Rain': 5})"
     },
     "execution_count": 118,
     "metadata": {},
     "output_type": "execute_result"
    }
   ],
   "source": [
    "# 第一步选择outlook\n",
    "labels=Counter(data['Outlook'])\n",
    "labels"
   ],
   "metadata": {
    "collapsed": false,
    "pycharm": {
     "name": "#%%\n"
    }
   }
  },
  {
   "cell_type": "code",
   "execution_count": 119,
   "outputs": [
    {
     "data": {
      "text/plain": "Empty DataFrame\nColumns: [Day, Outlook, Temperature, Humidity, Wind, Class]\nIndex: []",
      "text/html": "<div>\n<style scoped>\n    .dataframe tbody tr th:only-of-type {\n        vertical-align: middle;\n    }\n\n    .dataframe tbody tr th {\n        vertical-align: top;\n    }\n\n    .dataframe thead th {\n        text-align: right;\n    }\n</style>\n<table border=\"1\" class=\"dataframe\">\n  <thead>\n    <tr style=\"text-align: right;\">\n      <th></th>\n      <th>Day</th>\n      <th>Outlook</th>\n      <th>Temperature</th>\n      <th>Humidity</th>\n      <th>Wind</th>\n      <th>Class</th>\n    </tr>\n  </thead>\n  <tbody>\n  </tbody>\n</table>\n</div>"
     },
     "execution_count": 119,
     "metadata": {},
     "output_type": "execute_result"
    }
   ],
   "source": [
    "# 然后通过上面这个进行划分，比如说sunny，我们可以得到下面这些划分\n",
    "data[(data[\"Outlook\"]=='sunny')]"
   ],
   "metadata": {
    "collapsed": false,
    "pycharm": {
     "name": "#%%\n"
    }
   }
  },
  {
   "cell_type": "code",
   "execution_count": 120,
   "outputs": [
    {
     "data": {
      "text/plain": "    Day Outlook Temperature Humidity   Wind Class\n3     4    Rain        Mild     High  False     P\n4     5    Rain        Cool   Normal  False     P\n5     6    Rain        Cool   Normal   True     N\n9    10    Rain        Mild   Normal  False     P\n13   14    Rain        Mild     High   True     N",
      "text/html": "<div>\n<style scoped>\n    .dataframe tbody tr th:only-of-type {\n        vertical-align: middle;\n    }\n\n    .dataframe tbody tr th {\n        vertical-align: top;\n    }\n\n    .dataframe thead th {\n        text-align: right;\n    }\n</style>\n<table border=\"1\" class=\"dataframe\">\n  <thead>\n    <tr style=\"text-align: right;\">\n      <th></th>\n      <th>Day</th>\n      <th>Outlook</th>\n      <th>Temperature</th>\n      <th>Humidity</th>\n      <th>Wind</th>\n      <th>Class</th>\n    </tr>\n  </thead>\n  <tbody>\n    <tr>\n      <th>3</th>\n      <td>4</td>\n      <td>Rain</td>\n      <td>Mild</td>\n      <td>High</td>\n      <td>False</td>\n      <td>P</td>\n    </tr>\n    <tr>\n      <th>4</th>\n      <td>5</td>\n      <td>Rain</td>\n      <td>Cool</td>\n      <td>Normal</td>\n      <td>False</td>\n      <td>P</td>\n    </tr>\n    <tr>\n      <th>5</th>\n      <td>6</td>\n      <td>Rain</td>\n      <td>Cool</td>\n      <td>Normal</td>\n      <td>True</td>\n      <td>N</td>\n    </tr>\n    <tr>\n      <th>9</th>\n      <td>10</td>\n      <td>Rain</td>\n      <td>Mild</td>\n      <td>Normal</td>\n      <td>False</td>\n      <td>P</td>\n    </tr>\n    <tr>\n      <th>13</th>\n      <td>14</td>\n      <td>Rain</td>\n      <td>Mild</td>\n      <td>High</td>\n      <td>True</td>\n      <td>N</td>\n    </tr>\n  </tbody>\n</table>\n</div>"
     },
     "execution_count": 120,
     "metadata": {},
     "output_type": "execute_result"
    }
   ],
   "source": [
    "outlook_huafen=[]\n",
    "for label in labels:\n",
    "    outlook_huafen.append(data[data[\"Outlook\"]==label])\n",
    "outlook_huafen[2]"
   ],
   "metadata": {
    "collapsed": false,
    "pycharm": {
     "name": "#%%\n"
    }
   }
  },
  {
   "cell_type": "code",
   "execution_count": 121,
   "outputs": [],
   "source": [
    "# 如果一直这样看还是有点麻烦，我们写一个韩叔叔直接判断是P还是N\n",
    "def is_all_same_class(data):\n",
    "    \"\"\"\n",
    "    :param data:输入是一个pandas读取的csv文件\n",
    "    :return:Ture 如果已经都是同一类了\n",
    "            False\n",
    "    \"\"\"\n",
    "    if len(Counter(data['Class']))==1:\n",
    "        return True\n",
    "    else:\n",
    "        return False"
   ],
   "metadata": {
    "collapsed": false,
    "pycharm": {
     "name": "#%%\n"
    }
   }
  },
  {
   "cell_type": "code",
   "execution_count": 122,
   "outputs": [
    {
     "data": {
      "text/plain": "False"
     },
     "execution_count": 122,
     "metadata": {},
     "output_type": "execute_result"
    }
   ],
   "source": [
    "is_all_same_class(outlook_huafen[0])"
   ],
   "metadata": {
    "collapsed": false,
    "pycharm": {
     "name": "#%%\n"
    }
   }
  },
  {
   "cell_type": "code",
   "execution_count": 123,
   "outputs": [
    {
     "data": {
      "text/plain": "    Day Outlook Temperature Humidity   Wind Class\n0     1   Sunny         Hot     High  False     N\n1     2   Sunny         Hot     High   True     N\n7     8   Sunny        Mild     High  False     N\n8     9   Sunny        Cool   Normal  False     P\n10   11   Sunny        Mild   Normal   True     P",
      "text/html": "<div>\n<style scoped>\n    .dataframe tbody tr th:only-of-type {\n        vertical-align: middle;\n    }\n\n    .dataframe tbody tr th {\n        vertical-align: top;\n    }\n\n    .dataframe thead th {\n        text-align: right;\n    }\n</style>\n<table border=\"1\" class=\"dataframe\">\n  <thead>\n    <tr style=\"text-align: right;\">\n      <th></th>\n      <th>Day</th>\n      <th>Outlook</th>\n      <th>Temperature</th>\n      <th>Humidity</th>\n      <th>Wind</th>\n      <th>Class</th>\n    </tr>\n  </thead>\n  <tbody>\n    <tr>\n      <th>0</th>\n      <td>1</td>\n      <td>Sunny</td>\n      <td>Hot</td>\n      <td>High</td>\n      <td>False</td>\n      <td>N</td>\n    </tr>\n    <tr>\n      <th>1</th>\n      <td>2</td>\n      <td>Sunny</td>\n      <td>Hot</td>\n      <td>High</td>\n      <td>True</td>\n      <td>N</td>\n    </tr>\n    <tr>\n      <th>7</th>\n      <td>8</td>\n      <td>Sunny</td>\n      <td>Mild</td>\n      <td>High</td>\n      <td>False</td>\n      <td>N</td>\n    </tr>\n    <tr>\n      <th>8</th>\n      <td>9</td>\n      <td>Sunny</td>\n      <td>Cool</td>\n      <td>Normal</td>\n      <td>False</td>\n      <td>P</td>\n    </tr>\n    <tr>\n      <th>10</th>\n      <td>11</td>\n      <td>Sunny</td>\n      <td>Mild</td>\n      <td>Normal</td>\n      <td>True</td>\n      <td>P</td>\n    </tr>\n  </tbody>\n</table>\n</div>"
     },
     "execution_count": 123,
     "metadata": {},
     "output_type": "execute_result"
    }
   ],
   "source": [
    "outlook_huafen[0]"
   ],
   "metadata": {
    "collapsed": false,
    "pycharm": {
     "name": "#%%\n"
    }
   }
  },
  {
   "cell_type": "code",
   "execution_count": 124,
   "outputs": [
    {
     "data": {
      "text/plain": "Counter({'High': 3, 'Normal': 2})"
     },
     "execution_count": 124,
     "metadata": {},
     "output_type": "execute_result"
    }
   ],
   "source": [
    "# 接着用humidity对sunny进行分割\n",
    "labels=Counter(outlook_huafen[0]['Humidity'])\n",
    "labels"
   ],
   "metadata": {
    "collapsed": false,
    "pycharm": {
     "name": "#%%\n"
    }
   }
  },
  {
   "cell_type": "code",
   "execution_count": 125,
   "outputs": [],
   "source": [
    "temp_data=outlook_huafen[0]"
   ],
   "metadata": {
    "collapsed": false,
    "pycharm": {
     "name": "#%%\n"
    }
   }
  },
  {
   "cell_type": "code",
   "execution_count": 126,
   "outputs": [
    {
     "data": {
      "text/plain": "    Day Outlook Temperature Humidity   Wind Class\n8     9   Sunny        Cool   Normal  False     P\n10   11   Sunny        Mild   Normal   True     P",
      "text/html": "<div>\n<style scoped>\n    .dataframe tbody tr th:only-of-type {\n        vertical-align: middle;\n    }\n\n    .dataframe tbody tr th {\n        vertical-align: top;\n    }\n\n    .dataframe thead th {\n        text-align: right;\n    }\n</style>\n<table border=\"1\" class=\"dataframe\">\n  <thead>\n    <tr style=\"text-align: right;\">\n      <th></th>\n      <th>Day</th>\n      <th>Outlook</th>\n      <th>Temperature</th>\n      <th>Humidity</th>\n      <th>Wind</th>\n      <th>Class</th>\n    </tr>\n  </thead>\n  <tbody>\n    <tr>\n      <th>8</th>\n      <td>9</td>\n      <td>Sunny</td>\n      <td>Cool</td>\n      <td>Normal</td>\n      <td>False</td>\n      <td>P</td>\n    </tr>\n    <tr>\n      <th>10</th>\n      <td>11</td>\n      <td>Sunny</td>\n      <td>Mild</td>\n      <td>Normal</td>\n      <td>True</td>\n      <td>P</td>\n    </tr>\n  </tbody>\n</table>\n</div>"
     },
     "execution_count": 126,
     "metadata": {},
     "output_type": "execute_result"
    }
   ],
   "source": [
    "outlook_humid=[]\n",
    "for label in labels:\n",
    "    outlook_humid.append(temp_data[temp_data[\"Humidity\"]==label])\n",
    "outlook_humid[1]"
   ],
   "metadata": {
    "collapsed": false,
    "pycharm": {
     "name": "#%%\n"
    }
   }
  },
  {
   "cell_type": "code",
   "execution_count": 127,
   "outputs": [
    {
     "name": "stdout",
     "output_type": "stream",
     "text": [
      "True\n",
      "True\n"
     ]
    }
   ],
   "source": [
    "for item in outlook_humid:\n",
    "    print(is_all_same_class(item))"
   ],
   "metadata": {
    "collapsed": false,
    "pycharm": {
     "name": "#%%\n"
    }
   }
  },
  {
   "cell_type": "code",
   "execution_count": 128,
   "outputs": [],
   "source": [
    "# 可以看到这样就建立完成了到叶子节点的划分，PPT上其余的同理，这里就不再进行赘述了"
   ],
   "metadata": {
    "collapsed": false,
    "pycharm": {
     "name": "#%%\n"
    }
   }
  },
  {
   "cell_type": "code",
   "execution_count": 129,
   "outputs": [],
   "source": [
    "# 接下来我们进行ID3的编写"
   ],
   "metadata": {
    "collapsed": false,
    "pycharm": {
     "name": "#%%\n"
    }
   }
  },
  {
   "cell_type": "code",
   "execution_count": 130,
   "outputs": [
    {
     "name": "stdout",
     "output_type": "stream",
     "text": [
      "Day\n"
     ]
    }
   ],
   "source": [
    "print(data.columns[0])"
   ],
   "metadata": {
    "collapsed": false,
    "pycharm": {
     "name": "#%%\n"
    }
   }
  },
  {
   "cell_type": "code",
   "execution_count": 131,
   "outputs": [
    {
     "data": {
      "text/plain": "Counter({'Sunny': 5, 'Overcast': 4, 'Rain': 5})"
     },
     "execution_count": 131,
     "metadata": {},
     "output_type": "execute_result"
    }
   ],
   "source": [
    "Counter(data['Outlook'])"
   ],
   "metadata": {
    "collapsed": false,
    "pycharm": {
     "name": "#%%\n"
    }
   }
  },
  {
   "cell_type": "code",
   "execution_count": 132,
   "outputs": [],
   "source": [
    "target_class='Class'\n",
    "target_fenlei=Counter(data[target_class])\n",
    "t=[]\n",
    "for i in target_fenlei:\n",
    "    t.append(i)# 把对应的东西统计出来"
   ],
   "metadata": {
    "collapsed": false,
    "pycharm": {
     "name": "#%%\n"
    }
   }
  },
  {
   "cell_type": "code",
   "execution_count": 138,
   "outputs": [
    {
     "data": {
      "text/plain": "['N', 'P']"
     },
     "execution_count": 138,
     "metadata": {},
     "output_type": "execute_result"
    }
   ],
   "source": [
    "t"
   ],
   "metadata": {
    "collapsed": false,
    "pycharm": {
     "name": "#%%\n"
    }
   }
  },
  {
   "cell_type": "code",
   "execution_count": 164,
   "outputs": [
    {
     "data": {
      "text/plain": "    Day   Outlook Temperature Humidity   Wind Class\n0     1     Sunny         Hot     High  False     N\n1     2     Sunny         Hot     High   True     N\n2     3  Overcast         Hot     High  False     P\n3     4      Rain        Mild     High  False     P\n4     5      Rain        Cool   Normal  False     P\n5     6      Rain        Cool   Normal   True     N\n6     7  Overcast        Cool   Normal   True     P\n7     8     Sunny        Mild     High  False     N\n8     9     Sunny        Cool   Normal  False     P\n9    10      Rain        Mild   Normal  False     P\n10   11     Sunny        Mild   Normal   True     P\n11   12  Overcast        Mild     High   True     P\n12   13  Overcast         Hot   Normal  False     P\n13   14      Rain        Mild     High   True     N",
      "text/html": "<div>\n<style scoped>\n    .dataframe tbody tr th:only-of-type {\n        vertical-align: middle;\n    }\n\n    .dataframe tbody tr th {\n        vertical-align: top;\n    }\n\n    .dataframe thead th {\n        text-align: right;\n    }\n</style>\n<table border=\"1\" class=\"dataframe\">\n  <thead>\n    <tr style=\"text-align: right;\">\n      <th></th>\n      <th>Day</th>\n      <th>Outlook</th>\n      <th>Temperature</th>\n      <th>Humidity</th>\n      <th>Wind</th>\n      <th>Class</th>\n    </tr>\n  </thead>\n  <tbody>\n    <tr>\n      <th>0</th>\n      <td>1</td>\n      <td>Sunny</td>\n      <td>Hot</td>\n      <td>High</td>\n      <td>False</td>\n      <td>N</td>\n    </tr>\n    <tr>\n      <th>1</th>\n      <td>2</td>\n      <td>Sunny</td>\n      <td>Hot</td>\n      <td>High</td>\n      <td>True</td>\n      <td>N</td>\n    </tr>\n    <tr>\n      <th>2</th>\n      <td>3</td>\n      <td>Overcast</td>\n      <td>Hot</td>\n      <td>High</td>\n      <td>False</td>\n      <td>P</td>\n    </tr>\n    <tr>\n      <th>3</th>\n      <td>4</td>\n      <td>Rain</td>\n      <td>Mild</td>\n      <td>High</td>\n      <td>False</td>\n      <td>P</td>\n    </tr>\n    <tr>\n      <th>4</th>\n      <td>5</td>\n      <td>Rain</td>\n      <td>Cool</td>\n      <td>Normal</td>\n      <td>False</td>\n      <td>P</td>\n    </tr>\n    <tr>\n      <th>5</th>\n      <td>6</td>\n      <td>Rain</td>\n      <td>Cool</td>\n      <td>Normal</td>\n      <td>True</td>\n      <td>N</td>\n    </tr>\n    <tr>\n      <th>6</th>\n      <td>7</td>\n      <td>Overcast</td>\n      <td>Cool</td>\n      <td>Normal</td>\n      <td>True</td>\n      <td>P</td>\n    </tr>\n    <tr>\n      <th>7</th>\n      <td>8</td>\n      <td>Sunny</td>\n      <td>Mild</td>\n      <td>High</td>\n      <td>False</td>\n      <td>N</td>\n    </tr>\n    <tr>\n      <th>8</th>\n      <td>9</td>\n      <td>Sunny</td>\n      <td>Cool</td>\n      <td>Normal</td>\n      <td>False</td>\n      <td>P</td>\n    </tr>\n    <tr>\n      <th>9</th>\n      <td>10</td>\n      <td>Rain</td>\n      <td>Mild</td>\n      <td>Normal</td>\n      <td>False</td>\n      <td>P</td>\n    </tr>\n    <tr>\n      <th>10</th>\n      <td>11</td>\n      <td>Sunny</td>\n      <td>Mild</td>\n      <td>Normal</td>\n      <td>True</td>\n      <td>P</td>\n    </tr>\n    <tr>\n      <th>11</th>\n      <td>12</td>\n      <td>Overcast</td>\n      <td>Mild</td>\n      <td>High</td>\n      <td>True</td>\n      <td>P</td>\n    </tr>\n    <tr>\n      <th>12</th>\n      <td>13</td>\n      <td>Overcast</td>\n      <td>Hot</td>\n      <td>Normal</td>\n      <td>False</td>\n      <td>P</td>\n    </tr>\n    <tr>\n      <th>13</th>\n      <td>14</td>\n      <td>Rain</td>\n      <td>Mild</td>\n      <td>High</td>\n      <td>True</td>\n      <td>N</td>\n    </tr>\n  </tbody>\n</table>\n</div>"
     },
     "execution_count": 164,
     "metadata": {},
     "output_type": "execute_result"
    }
   ],
   "source": [
    "data"
   ],
   "metadata": {
    "collapsed": false,
    "pycharm": {
     "name": "#%%\n"
    }
   }
  },
  {
   "cell_type": "code",
   "execution_count": 168,
   "outputs": [],
   "source": [
    "# 怎么计算熵呢\n",
    "from math import log2 as log\n",
    "def entropy(y_label):\n",
    "    \"\"\"\n",
    "    :param y_label:\n",
    "    :return:\n",
    "    \"\"\"\n",
    "    counter = Counter(y_label)\n",
    "    ent = 0.0\n",
    "    for num in counter.values():\n",
    "        p = num / len(y_label)\n",
    "        ent += -p * log(p)\n",
    "    return ent\n",
    "\n",
    "def Ipn(p,n):\n",
    "    \"\"\"\n",
    "    :param p:data中对应为正例的数量\n",
    "    :param n:data中对应为负例的数量\n",
    "    :return:对应的结果\n",
    "    \"\"\"\n",
    "    if p==0 or n==0:\n",
    "        return 0 # 如果有一个是0，那就输出0\n",
    "    result=-p/(p+n)*log(p/(p+n))-n/(p+n)*log(n/(p+n))\n",
    "    return result\n",
    "def E(A):\n",
    "    \"\"\"\n",
    "    :param A: A是一个(p,n)对组成的list，每一对代表对应的属性下面的pn的比例\n",
    "    :return:对应的结果\n",
    "    \"\"\"\n",
    "    result=0\n",
    "    total_num=0\n",
    "    for i in A:\n",
    "        num=sum(i)\n",
    "        total_num+=num\n",
    "    print('total_num:',total_num)\n",
    "    if total_num==0:\n",
    "        return 0 # 代表这表的数量为0，不用继续往下算了？\n",
    "    for pair in A:\n",
    "        #print((num/total_num)*Ipn(pair[0],pair[1]))\n",
    "        result+=(sum(pair)/total_num)*Ipn(pair[0],pair[1])\n",
    "    return result"
   ],
   "metadata": {
    "collapsed": false,
    "pycharm": {
     "name": "#%%\n"
    }
   }
  },
  {
   "cell_type": "code",
   "execution_count": 169,
   "outputs": [
    {
     "name": "stdout",
     "output_type": "stream",
     "text": [
      "[5, 9]\n",
      "0.9402859586706311\n",
      "####\n",
      "[3, 2]\n",
      "[0, 4]\n",
      "[2, 3]\n",
      "total_num: 14\n",
      "Gain(Outlook): 0.24674981977443933\n",
      "[5, 9]\n",
      "0.9402859586706311\n",
      "####\n",
      "[2, 2]\n",
      "[2, 4]\n",
      "[1, 3]\n",
      "total_num: 14\n",
      "Gain(Temperature): 0.02922256565895487\n",
      "[5, 9]\n",
      "0.9402859586706311\n",
      "####\n",
      "[4, 3]\n",
      "[1, 6]\n",
      "total_num: 14\n",
      "Gain(Humidity): 0.15183550136234159\n",
      "[5, 9]\n",
      "0.9402859586706311\n",
      "####\n",
      "[2, 6]\n",
      "[3, 3]\n",
      "total_num: 14\n",
      "Gain(Wind): 0.04812703040826949\n"
     ]
    }
   ],
   "source": [
    "shuxing_class=[item for item in data.columns if item !=target_class] # 对应的属性值列表\n",
    "for shuxing in shuxing_class:# 对每一种属性\n",
    "    # 计算对应的熵增\n",
    "    shangzeng=[] # 保存各个属性的熵增\n",
    "    if shuxing !='Day': # Day肯定不用来做啊\n",
    "        # 先计算当前节点的I(p,n)\n",
    "        temp_data=data\n",
    "        d1=[] #\n",
    "        for cla in t:\n",
    "            d1.append(len(temp_data[temp_data[target_class]==cla]))\n",
    "        print(d1)\n",
    "        I_this=Ipn(d1[0],d1[1])\n",
    "        print(I_this)\n",
    "        temp_c=Counter(data[shuxing])\n",
    "        #print(temp_c)\n",
    "        print('####')\n",
    "        #print(data[shuxing])\n",
    "        A=[]\n",
    "        # 之后计算所有属性对应的E\n",
    "        for temp_zi_c in temp_c:\n",
    "            temp_data=data[data[shuxing]==temp_zi_c]\n",
    "            #print(temp_data)\n",
    "            d=[] #\n",
    "            for cla in t:\n",
    "                d.append(len(temp_data[temp_data[target_class]==cla]))\n",
    "            print(d)\n",
    "            A.append(d)\n",
    "        #print(A)\n",
    "        E2=E(A)\n",
    "        print('Gain('+shuxing+'):',I_this-E2)"
   ],
   "metadata": {
    "collapsed": false,
    "pycharm": {
     "name": "#%%\n"
    }
   }
  },
  {
   "cell_type": "code",
   "execution_count": null,
   "outputs": [],
   "source": [
    "temp_data"
   ],
   "metadata": {
    "collapsed": false,
    "pycharm": {
     "name": "#%%\n"
    }
   }
  },
  {
   "cell_type": "code",
   "execution_count": null,
   "outputs": [],
   "source": [
    "temp_data[temp_data[target_class]=='N']"
   ],
   "metadata": {
    "collapsed": false,
    "pycharm": {
     "name": "#%%\n"
    }
   }
  },
  {
   "cell_type": "code",
   "execution_count": null,
   "outputs": [],
   "source": [
    "len(temp_data[temp_data[target_class]=='N'])"
   ],
   "metadata": {
    "collapsed": false,
    "pycharm": {
     "name": "#%%\n"
    }
   }
  },
  {
   "cell_type": "code",
   "execution_count": null,
   "outputs": [],
   "source": [
    "shuxing_class"
   ],
   "metadata": {
    "collapsed": false,
    "pycharm": {
     "name": "#%%\n"
    }
   }
  },
  {
   "cell_type": "code",
   "execution_count": null,
   "outputs": [],
   "source": [
    "def id3(data_path=None,target_class=None):\n",
    "    \"\"\"\n",
    "    :param data_path: 原始的CSV文件\n",
    "    :param target_class: 最后分类时候用的class的名称\n",
    "    :return:\n",
    "    # 对应的算法流程是这样的\n",
    "    # 首先记录对应分类的class，之后对每一种属性，计算他的信息增益\n",
    "    \"\"\"\n",
    "    # 这里先直接写了\n",
    "    data=pd.read_csv(data_path,encoding='unicode_escape')\n",
    "    target_class='Class'\n",
    "    target_fenlei=Counter(data[target_class])\n",
    "    t=[]\n",
    "    for i in target_fenlei:\n",
    "        t.append(i)# 把对应的东西统计出来\n",
    "    shuxing_class=[item for item in data.columns if item !=target_class] # 对应的属性值列表\n",
    "    for shuxing in shuxing_class:\n",
    "        # 计算对应的熵增\n",
    "        temp_c=Counter(data[shuxing])\n",
    "        for temp_zi_c in temp_c:\n",
    "            A=[]\n",
    "\n",
    "\n",
    "\n"
   ],
   "metadata": {
    "collapsed": false,
    "pycharm": {
     "name": "#%%\n"
    }
   }
  },
  {
   "cell_type": "code",
   "execution_count": 137,
   "outputs": [],
   "source": [],
   "metadata": {
    "collapsed": false,
    "pycharm": {
     "name": "#%%\n"
    }
   }
  },
  {
   "cell_type": "code",
   "execution_count": null,
   "outputs": [],
   "source": [],
   "metadata": {
    "collapsed": false,
    "pycharm": {
     "name": "#%%\n"
    }
   }
  },
  {
   "cell_type": "markdown",
   "source": [],
   "metadata": {
    "collapsed": false
   }
  },
  {
   "cell_type": "markdown",
   "source": [],
   "metadata": {
    "collapsed": false
   }
  }
 ],
 "metadata": {
  "kernelspec": {
   "display_name": "Python 3",
   "language": "python",
   "name": "python3"
  },
  "language_info": {
   "codemirror_mode": {
    "name": "ipython",
    "version": 2
   },
   "file_extension": ".py",
   "mimetype": "text/x-python",
   "name": "python",
   "nbconvert_exporter": "python",
   "pygments_lexer": "ipython2",
   "version": "2.7.6"
  }
 },
 "nbformat": 4,
 "nbformat_minor": 0
}